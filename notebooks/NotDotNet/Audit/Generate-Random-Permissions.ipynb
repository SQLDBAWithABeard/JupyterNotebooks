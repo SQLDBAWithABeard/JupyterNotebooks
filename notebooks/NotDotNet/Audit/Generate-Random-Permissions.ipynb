{
    "metadata": {
        "kernelspec": {
            "name": "powershell",
            "display_name": "PowerShell",
            "language": "powershell"
        },
        "language_info": {
            "name": "powershell",
            "codemirror_mode": "shell",
            "mimetype": "text/x-sh",
            "file_extension": ".ps1"
        }
    },
    "nbformat_minor": 2,
    "nbformat": 4,
    "cells": [
        {
            "cell_type": "markdown",
            "source": [
                "# Generate some dummy databases and random permissions\r\n",
                "\r\n",
                "Just a little Notebook to generate some random permissions for the Permissions Excel Noteboook\r\n",
                "\r\n",
                "Enter the Instance and credential"
            ],
            "metadata": {
                "azdata_cell_guid": "e60c0ba0-7ff4-44c5-9f87-f114d2baca56"
            }
        },
        {
            "cell_type": "code",
            "source": [
                "# Set Variables\r\n",
                "\r\n",
                "$InstanceName = '192.168.2.61,32711' # Enter the Instance here\r\n",
                "$sqlcredential = New-Object System.Management.Automation.PSCredential ((Get-Secret -Name beardmi-benadmin-user -AsPlainText), (Get-Secret -Name beardmi-benadmin-pwd))\r\n",
                "\r\n",
                "Write-Output \"Make a connection\"\r\n",
                "$SqlInstance = Connect-DbaInstance -SqlInstance $InstanceName -SqlCredential $sqlcredential\r\n",
                "$DatabaseNames = 'SockFactory','CarFactory','KittenFactory','FlowerFactory','FactoryReporting','FactoryAudit'\r\n",
                "$UserNames = 'benji', 'bweissman','akamman', 'alevy', 'beardapp1', 'beardapp2', 'beardapp3', 'beardapp4', 'beardapp5', 'beardapp6', 'beardapp7', 'beardapp8', 'clemaire', 'csilva', 'fatherjack', 'gsartori', 'jamrtin', 'Reporting1', 'Reporting2', 'Reporting3', 'Reporting4', 'smelton', 'SockFactoryApp_User', 'soneill', 'sqladmin', 'Support1', 'Support2', 'Support3', 'Support4', 'Support5', 'Support6', 'tboggiano', 'thebeard', 'wdurkin','Argenis_Fernandez','MrsFatherJack','Cathrine_Wilhelmsen','Rie_Irish','Monica_Rathbun','Benji_BenWeissman','Joey_Dantoni', 'John_Morehouse', 'Bob_Facts_Pusatari','Containers_Nocentino','Andrew_Pruski','Matt_Gordon','Thomas_Grohser','Dirk_Hondong','Father_Johan_Brattas','Drew_FurggerwellyIgiveuptryingtospellit'\r\n",
                "$roles = 'db_accessadmin', 'db_backupoperator', 'db_datareader', 'db_datawriter', 'db_ddladmin', 'db_denydatareader', 'db_denydatawriter', 'db_owner', 'db_securityadmin'\r\n",
                ""
            ],
            "metadata": {
                "azdata_cell_guid": "55e3b775-177e-4bc4-9b67-c71ad6fcd745"
            },
            "outputs": [
                {
                    "output_type": "stream",
                    "name": "stdout",
                    "text": "Make a connection\n"
                },
                {
                    "output_type": "stream",
                    "name": "stdout",
                    "text": ""
                }
            ],
            "execution_count": 1
        },
        {
            "cell_type": "markdown",
            "source": [
                "Add databases, logins, users, and random roles"
            ],
            "metadata": {
                "azdata_cell_guid": "ba1a4d31-d3a6-46d7-baa1-d550d44c0150"
            }
        },
        {
            "cell_type": "code",
            "source": [
                "Write-Output \"Create the databases\"\r\n",
                "$null = New-DbaDatabase -SqlInstance $SqlInstance -Name $DatabaseNames \r\n",
                "\r\n",
                "Write-Output \"Remove the users\"\r\n",
                "foreach($db in $DatabaseNames){\r\n",
                "    Remove-DbaDbUser -SqlInstance $SqlInstance -Database $db -User $UserNames -Force\r\n",
                "}\r\n",
                "\r\n",
                "Write-Output \"Remove the logins\"\r\n",
                "\r\n",
                "$RemoveLogins = Remove-DbaLogin -SqlInstance $SqlInstance -Login $UserNames -Force\r\n",
                "# $RemoveLogins | Format-Table\r\n",
                "\r\n",
                "Write-Output \"Create the Logins\"\r\n",
                "\r\n",
                "$pwd = 'Flint-sleuth-rainbow99-evenSong'\r\n",
                "$secpwd = ConvertTo-SecureString $pwd -AsPlainText -Force\r\n",
                "foreach ($login in $UserNames) {\r\n",
                "    $null = New-DbaLogin -SqlInstance $SqlInstance -Login $login -SecurePassword $secpwd -Force\r\n",
                "    Write-Output \"       Created $login\"\r\n",
                "}\r\n",
                "\r\n",
                "Write-Output \"Randomly assign users and roles to databases\"\r\n",
                "\r\n",
                "foreach ($login in $UserNames) {\r\n",
                "    $DbNumber = Get-Random -Minimum 2 -Maximum $DatabaseNames.Count\r\n",
                "    $Dbs = Get-Random $DatabaseNames -Count $DbNumber\r\n",
                "    foreach ($db in $dbs) {\r\n",
                "        $rolenumber = Get-Random -Minimum 1 -Maximum $roles.Count\r\n",
                "        $rolestoadd = Get-Random $roles -Count $rolenumber\r\n",
                "        $Null = New-DbaDbUser -SqlInstance $SqlInstance -Database $db -Login $login \r\n",
                "        $Null = Add-DbaDbRoleMember -SqlInstance $SqlInstance -Database $db -Role $rolestoadd -User $login -Confirm:$false\r\n",
                "        Write-Output \"       Added $login to Roles $RolestoAdd in Database $db\"\r\n",
                "    }\r\n",
                "}\r\n",
                "\r\n",
                "\r\n",
                "Write-Output \"Finished\""
            ],
            "metadata": {
                "azdata_cell_guid": "4046ceae-43d6-4508-9e5f-0dd0a3b0fbd0",
                "tags": [
                    "hide_input"
                ]
            },
            "outputs": [
                {
                    "output_type": "stream",
                    "name": "stdout",
                    "text": "Create the databases\n"
                },
                {
                    "output_type": "stream",
                    "name": "stdout",
                    "text": "Remove the users\n"
                },
                {
                    "output_type": "stream",
                    "name": "stdout",
                    "text": "Remove the logins\n"
                },
                {
                    "output_type": "stream",
                    "name": "stdout",
                    "text": "Create the Logins\n"
                },
                {
                    "output_type": "stream",
                    "name": "stdout",
                    "text": "       Created benji\n"
                },
                {
                    "output_type": "stream",
                    "name": "stdout",
                    "text": "       Created bweissman\n       Created akamman\n"
                },
                {
                    "output_type": "stream",
                    "name": "stdout",
                    "text": "       Created alevy\n       Created beardapp1\n"
                },
                {
                    "output_type": "stream",
                    "name": "stdout",
                    "text": "       Created beardapp2\n"
                },
                {
                    "output_type": "stream",
                    "name": "stdout",
                    "text": "       Created beardapp3\n       Created beardapp4\n"
                },
                {
                    "output_type": "stream",
                    "name": "stdout",
                    "text": "       Created beardapp5\n       Created beardapp6\n"
                },
                {
                    "output_type": "stream",
                    "name": "stdout",
                    "text": "       Created beardapp7\n"
                },
                {
                    "output_type": "stream",
                    "name": "stdout",
                    "text": "       Created beardapp8\n       Created clemaire\n"
                },
                {
                    "output_type": "stream",
                    "name": "stdout",
                    "text": "       Created csilva\n       Created fatherjack\n"
                },
                {
                    "output_type": "stream",
                    "name": "stdout",
                    "text": "       Created gsartori\n       Created jamrtin\n"
                },
                {
                    "output_type": "stream",
                    "name": "stdout",
                    "text": "       Created Reporting1\n       Created Reporting2\n"
                },
                {
                    "output_type": "stream",
                    "name": "stdout",
                    "text": "       Created Reporting3\n"
                },
                {
                    "output_type": "stream",
                    "name": "stdout",
                    "text": "       Created Reporting4\n       Created smelton\n"
                },
                {
                    "output_type": "stream",
                    "name": "stdout",
                    "text": "       Created SockFactoryApp_User\n       Created soneill\n"
                },
                {
                    "output_type": "stream",
                    "name": "stdout",
                    "text": "       Created sqladmin\n       Created Support1\n"
                },
                {
                    "output_type": "stream",
                    "name": "stdout",
                    "text": "       Created Support2\n       Created Support3\n"
                },
                {
                    "output_type": "stream",
                    "name": "stdout",
                    "text": "       Created Support4\n"
                },
                {
                    "output_type": "stream",
                    "name": "stdout",
                    "text": "       Created Support5\n       Created Support6\n"
                },
                {
                    "output_type": "stream",
                    "name": "stdout",
                    "text": "       Created tboggiano\n       Created thebeard\n"
                },
                {
                    "output_type": "stream",
                    "name": "stdout",
                    "text": "       Created wdurkin\n       Created Argenis_Fernandez\n"
                },
                {
                    "output_type": "stream",
                    "name": "stdout",
                    "text": "       Created MrsFatherJack\n       Created Cathrine_Wilhelmsen\n"
                },
                {
                    "output_type": "stream",
                    "name": "stdout",
                    "text": "       Created Rie_Irish\n"
                },
                {
                    "output_type": "stream",
                    "name": "stdout",
                    "text": "       Created Monica_Rathbun\n       Created Benji_BenWeissman\n"
                },
                {
                    "output_type": "stream",
                    "name": "stdout",
                    "text": "       Created Joey_Dantoni\n       Created John_Morehouse\n"
                },
                {
                    "output_type": "stream",
                    "name": "stdout",
                    "text": "       Created Bob_Facts_Pusatari\n"
                },
                {
                    "output_type": "stream",
                    "name": "stdout",
                    "text": "       Created Containers_Nocentino\n       Created Andrew_Pruski\n"
                },
                {
                    "output_type": "stream",
                    "name": "stdout",
                    "text": "       Created Matt_Gordon\n       Created Thomas_Grohser\n       Created Dirk_Hondong\n"
                },
                {
                    "output_type": "stream",
                    "name": "stdout",
                    "text": "       Created Father_Johan_Brattas\n"
                },
                {
                    "output_type": "stream",
                    "name": "stdout",
                    "text": "       Created Drew_FurggerwellyIgiveuptryingtospellit\nRandomly assign users and roles to databases\n"
                },
                {
                    "output_type": "stream",
                    "name": "stdout",
                    "text": "       Added benji to Roles db_datareader db_backupoperator db_ddladmin db_owner db_denydatareader db_accessadmin in Database KittenFactory\n"
                },
                {
                    "output_type": "stream",
                    "name": "stdout",
                    "text": "       Added benji to Roles db_securityadmin db_backupoperator db_denydatareader db_ddladmin db_accessadmin db_datareader in Database CarFactory\n"
                },
                {
                    "output_type": "stream",
                    "name": "stdout",
                    "text": "       Added benji to Roles db_owner db_securityadmin db_accessadmin db_denydatareader db_ddladmin in Database FlowerFactory\n"
                },
                {
                    "output_type": "stream",
                    "name": "stdout",
                    "text": "       Added bweissman to Roles db_securityadmin in Database FactoryAudit\n"
                },
                {
                    "output_type": "stream",
                    "name": "stdout",
                    "text": "       Added bweissman to Roles db_securityadmin db_denydatawriter db_backupoperator db_accessadmin db_denydatareader db_owner db_ddladmin in Database FlowerFactory\n"
                },
                {
                    "output_type": "stream",
                    "name": "stdout",
                    "text": "       Added bweissman to Roles db_backupoperator db_denydatawriter db_datareader in Database KittenFactory\n"
                },
                {
                    "output_type": "stream",
                    "name": "stdout",
                    "text": "       Added akamman to Roles db_denydatawriter db_datawriter db_datareader in Database KittenFactory\n"
                },
                {
                    "output_type": "stream",
                    "name": "stdout",
                    "text": "       Added akamman to Roles db_owner in Database CarFactory\n"
                },
                {
                    "output_type": "stream",
                    "name": "stdout",
                    "text": "       Added akamman to Roles db_datareader db_securityadmin db_accessadmin db_ddladmin db_denydatareader in Database FlowerFactory\n"
                },
                {
                    "output_type": "stream",
                    "name": "stdout",
                    "text": "       Added akamman to Roles db_ddladmin db_datareader in Database SockFactory\n"
                },
                {
                    "output_type": "stream",
                    "name": "stdout",
                    "text": "       Added akamman to Roles db_datawriter db_backupoperator db_ddladmin db_datareader db_denydatawriter db_denydatareader db_owner db_securityadmin in Database FactoryAudit\n"
                },
                {
                    "output_type": "stream",
                    "name": "stdout",
                    "text": "       Added alevy to Roles db_denydatareader in Database SockFactory\n"
                },
                {
                    "output_type": "stream",
                    "name": "stdout",
                    "text": "       Added alevy to Roles db_datareader db_denydatawriter db_denydatareader db_backupoperator in Database KittenFactory\n"
                },
                {
                    "output_type": "stream",
                    "name": "stdout",
                    "text": "       Added alevy to Roles db_denydatawriter db_backupoperator db_securityadmin db_owner db_ddladmin in Database FactoryAudit\n"
                },
                {
                    "output_type": "stream",
                    "name": "stdout",
                    "text": "       Added alevy to Roles db_denydatawriter db_denydatareader db_accessadmin db_owner db_ddladmin db_datawriter db_backupoperator db_securityadmin in Database FactoryReporting\n"
                },
                {
                    "output_type": "stream",
                    "name": "stdout",
                    "text": "       Added alevy to Roles db_securityadmin db_backupoperator db_denydatawriter db_datareader db_owner in Database FlowerFactory\n       Added beardapp1 to Roles db_ddladmin in Database FactoryAudit\n"
                },
                {
                    "output_type": "stream",
                    "name": "stdout",
                    "text": "       Added beardapp1 to Roles db_datareader db_securityadmin db_datawriter in Database KittenFactory\n"
                },
                {
                    "output_type": "stream",
                    "name": "stdout",
                    "text": "       Added beardapp2 to Roles db_accessadmin db_datareader db_denydatareader in Database KittenFactory\n"
                },
                {
                    "output_type": "stream",
                    "name": "stdout",
                    "text": "       Added beardapp2 to Roles db_securityadmin db_datawriter db_owner db_datareader db_ddladmin db_denydatawriter db_accessadmin in Database FlowerFactory\n"
                },
                {
                    "output_type": "stream",
                    "name": "stdout",
                    "text": "       Added beardapp3 to Roles db_denydatawriter db_denydatareader db_accessadmin in Database KittenFactory\n"
                },
                {
                    "output_type": "stream",
                    "name": "stdout",
                    "text": "       Added beardapp3 to Roles db_backupoperator db_denydatareader db_denydatawriter db_datareader db_accessadmin db_owner db_securityadmin db_datawriter in Database FactoryReporting\n"
                },
                {
                    "output_type": "stream",
                    "name": "stdout",
                    "text": "       Added beardapp3 to Roles db_denydatareader db_accessadmin in Database CarFactory\n       Added beardapp3 to Roles db_denydatareader db_datawriter db_ddladmin in Database SockFactory\n"
                },
                {
                    "output_type": "stream",
                    "name": "stdout",
                    "text": "       Added beardapp4 to Roles db_denydatareader db_owner db_accessadmin in Database FactoryAudit\n"
                },
                {
                    "output_type": "stream",
                    "name": "stdout",
                    "text": "       Added beardapp4 to Roles db_owner db_denydatawriter db_securityadmin db_denydatareader in Database FactoryReporting\n"
                },
                {
                    "output_type": "stream",
                    "name": "stdout",
                    "text": "       Added beardapp4 to Roles db_datareader db_securityadmin db_backupoperator db_denydatareader in Database SockFactory\n"
                },
                {
                    "output_type": "stream",
                    "name": "stdout",
                    "text": "       Added beardapp4 to Roles db_datareader db_datawriter db_ddladmin db_denydatareader db_accessadmin db_denydatawriter db_owner db_backupoperator in Database FlowerFactory\n       Added beardapp4 to Roles db_datawriter db_denydatareader db_accessadmin db_owner db_ddladmin in Database KittenFactory\n"
                },
                {
                    "output_type": "stream",
                    "name": "stdout",
                    "text": "       Added beardapp5 to Roles db_backupoperator db_datawriter in Database FlowerFactory\n"
                },
                {
                    "output_type": "stream",
                    "name": "stdout",
                    "text": "       Added beardapp5 to Roles db_ddladmin db_owner db_accessadmin db_denydatareader db_securityadmin db_denydatawriter db_backupoperator db_datawriter in Database KittenFactory\n"
                },
                {
                    "output_type": "stream",
                    "name": "stdout",
                    "text": "       Added beardapp5 to Roles db_accessadmin db_denydatawriter db_owner db_ddladmin in Database FactoryReporting\n"
                },
                {
                    "output_type": "stream",
                    "name": "stdout",
                    "text": "       Added beardapp5 to Roles db_datawriter db_denydatawriter db_securityadmin in Database SockFactory\n       Added beardapp6 to Roles db_datareader in Database FactoryReporting"
                },
                {
                    "output_type": "stream",
                    "name": "stdout",
                    "text": "\n"
                },
                {
                    "output_type": "stream",
                    "name": "stdout",
                    "text": "       Added beardapp6 to Roles db_datareader db_securityadmin db_owner db_denydatareader in Database KittenFactory\n"
                },
                {
                    "output_type": "stream",
                    "name": "stdout",
                    "text": "       Added beardapp6 to Roles db_ddladmin db_datawriter db_denydatawriter in Database CarFactory\n"
                },
                {
                    "output_type": "stream",
                    "name": "stdout",
                    "text": "       Added beardapp7 to Roles db_owner db_securityadmin db_datawriter db_ddladmin db_backupoperator in Database FactoryReporting\n"
                },
                {
                    "output_type": "stream",
                    "name": "stdout",
                    "text": "       Added beardapp7 to Roles db_securityadmin db_datawriter db_datareader db_owner db_accessadmin in Database CarFactory\n"
                },
                {
                    "output_type": "stream",
                    "name": "stdout",
                    "text": "       Added beardapp8 to Roles db_owner db_datareader db_securityadmin db_ddladmin db_accessadmin db_backupoperator db_denydatawriter in Database FlowerFactory\n"
                },
                {
                    "output_type": "stream",
                    "name": "stdout",
                    "text": "       Added beardapp8 to Roles db_denydatareader db_datawriter in Database SockFactory\n"
                },
                {
                    "output_type": "stream",
                    "name": "stdout",
                    "text": "       Added beardapp8 to Roles db_denydatareader db_accessadmin db_owner db_datawriter db_denydatawriter db_backupoperator db_datareader in Database FactoryAudit\n"
                },
                {
                    "output_type": "stream",
                    "name": "stdout",
                    "text": "       Added beardapp8 to Roles db_accessadmin db_denydatawriter db_datareader in Database KittenFactory\n"
                },
                {
                    "output_type": "stream",
                    "name": "stdout",
                    "text": "       Added beardapp8 to Roles db_owner db_ddladmin db_securityadmin db_denydatawriter db_accessadmin in Database CarFactory\n"
                },
                {
                    "output_type": "stream",
                    "name": "stdout",
                    "text": "       Added clemaire to Roles db_denydatareader db_datareader db_backupoperator db_accessadmin db_owner db_securityadmin db_denydatawriter in Database FlowerFactory\n"
                },
                {
                    "output_type": "stream",
                    "name": "stdout",
                    "text": "       Added clemaire to Roles db_accessadmin db_denydatawriter db_backupoperator db_securityadmin in Database FactoryAudit\n"
                },
                {
                    "output_type": "stream",
                    "name": "stdout",
                    "text": "       Added csilva to Roles db_owner db_securityadmin db_backupoperator db_denydatawriter db_accessadmin db_denydatareader db_datareader in Database FlowerFactory\n"
                },
                {
                    "output_type": "stream",
                    "name": "stdout",
                    "text": "       Added csilva to Roles db_datawriter db_owner db_denydatareader db_securityadmin db_ddladmin db_datareader db_backupoperator db_denydatawriter in Database CarFactory\n"
                },
                {
                    "output_type": "stream",
                    "name": "stdout",
                    "text": "       Added fatherjack to Roles db_denydatareader db_datawriter db_securityadmin db_owner db_datareader db_backupoperator db_accessadmin db_ddladmin in Database FactoryAudit\n"
                },
                {
                    "output_type": "stream",
                    "name": "stdout",
                    "text": "       Added fatherjack to Roles db_denydatareader db_owner db_datareader in Database FactoryReporting\n"
                },
                {
                    "output_type": "stream",
                    "name": "stdout",
                    "text": "       Added fatherjack to Roles db_datareader db_securityadmin db_owner db_accessadmin db_ddladmin in Database FlowerFactory\n"
                },
                {
                    "output_type": "stream",
                    "name": "stdout",
                    "text": "       Added fatherjack to Roles db_datawriter db_ddladmin db_owner in Database CarFactory\n"
                },
                {
                    "output_type": "stream",
                    "name": "stdout",
                    "text": "       Added gsartori to Roles db_accessadmin db_denydatareader db_backupoperator db_ddladmin db_securityadmin db_owner in Database SockFactory\n"
                },
                {
                    "output_type": "stream",
                    "name": "stdout",
                    "text": "       Added gsartori to Roles db_denydatareader db_datawriter db_datareader db_securityadmin db_ddladmin db_owner in Database FactoryReporting\n"
                },
                {
                    "output_type": "stream",
                    "name": "stdout",
                    "text": "       Added gsartori to Roles db_datareader db_denydatawriter db_owner db_securityadmin in Database CarFactory\n"
                },
                {
                    "output_type": "stream",
                    "name": "stdout",
                    "text": "       Added gsartori to Roles db_securityadmin db_datawriter db_denydatawriter db_accessadmin db_datareader in Database FlowerFactory\n"
                },
                {
                    "output_type": "stream",
                    "name": "stdout",
                    "text": "       Added gsartori to Roles db_denydatawriter db_datareader in Database FactoryAudit\n"
                },
                {
                    "output_type": "stream",
                    "name": "stdout",
                    "text": "       Added jamrtin to Roles db_accessadmin db_denydatareader in Database FlowerFactory\n"
                },
                {
                    "output_type": "stream",
                    "name": "stdout",
                    "text": "       Added jamrtin to Roles db_securityadmin db_datareader db_denydatawriter db_accessadmin db_denydatareader db_datawriter db_owner in Database KittenFactory\n"
                },
                {
                    "output_type": "stream",
                    "name": "stdout",
                    "text": "       Added Reporting1 to Roles db_datawriter db_datareader db_ddladmin db_owner in Database FactoryAudit\n"
                },
                {
                    "output_type": "stream",
                    "name": "stdout",
                    "text": "       Added Reporting1 to Roles db_owner db_denydatareader db_accessadmin db_ddladmin db_securityadmin in Database FactoryReporting\n"
                },
                {
                    "output_type": "stream",
                    "name": "stdout",
                    "text": "       Added Reporting1 to Roles db_denydatareader db_securityadmin db_datawriter db_datareader db_ddladmin db_denydatawriter db_backupoperator db_accessadmin in Database SockFactory\n"
                },
                {
                    "output_type": "stream",
                    "name": "stdout",
                    "text": "       Added Reporting2 to Roles db_securityadmin db_denydatawriter db_accessadmin db_backupoperator db_ddladmin db_owner in Database SockFactory\n"
                },
                {
                    "output_type": "stream",
                    "name": "stdout",
                    "text": "       Added Reporting2 to Roles db_denydatareader db_owner in Database KittenFactory\n"
                },
                {
                    "output_type": "stream",
                    "name": "stdout",
                    "text": "       Added Reporting3 to Roles db_ddladmin db_backupoperator db_securityadmin in Database KittenFactory\n"
                },
                {
                    "output_type": "stream",
                    "name": "stdout",
                    "text": "       Added Reporting3 to Roles db_denydatareader db_accessadmin in Database SockFactory\n"
                },
                {
                    "output_type": "stream",
                    "name": "stdout",
                    "text": "       Added Reporting3 to Roles db_denydatareader db_datawriter in Database CarFactory\n"
                },
                {
                    "output_type": "stream",
                    "name": "stdout",
                    "text": "       Added Reporting3 to Roles db_backupoperator db_denydatareader db_datawriter in Database FactoryAudit\n"
                },
                {
                    "output_type": "stream",
                    "name": "stdout",
                    "text": "       Added Reporting4 to Roles db_denydatawriter db_datawriter in Database FactoryReporting\n"
                },
                {
                    "output_type": "stream",
                    "name": "stdout",
                    "text": "       Added Reporting4 to Roles db_ddladmin db_owner db_datareader db_datawriter db_backupoperator db_denydatareader db_accessadmin in Database SockFactory\n"
                },
                {
                    "output_type": "stream",
                    "name": "stdout",
                    "text": "       Added Reporting4 to Roles db_denydatawriter db_accessadmin db_securityadmin db_ddladmin db_datawriter db_denydatareader in Database KittenFactory\n"
                },
                {
                    "output_type": "stream",
                    "name": "stdout",
                    "text": "       Added Reporting4 to Roles db_backupoperator db_datawriter db_owner db_denydatareader in Database FlowerFactory\n"
                },
                {
                    "output_type": "stream",
                    "name": "stdout",
                    "text": "       Added Reporting4 to Roles db_owner db_denydatareader db_backupoperator db_ddladmin db_datawriter db_datareader in Database FactoryAudit\n"
                },
                {
                    "output_type": "stream",
                    "name": "stdout",
                    "text": "       Added smelton to Roles db_owner db_datareader db_backupoperator db_denydatareader db_denydatawriter db_datawriter db_ddladmin db_securityadmin in Database FactoryAudit\n"
                },
                {
                    "output_type": "stream",
                    "name": "stdout",
                    "text": "       Added smelton to Roles db_datareader db_owner db_denydatawriter db_accessadmin db_backupoperator in Database FlowerFactory\n"
                },
                {
                    "output_type": "stream",
                    "name": "stdout",
                    "text": "       Added smelton to Roles db_denydatawriter db_backupoperator db_datareader db_securityadmin db_datawriter in Database SockFactory\n"
                },
                {
                    "output_type": "stream",
                    "name": "stdout",
                    "text": "       Added smelton to Roles db_datawriter db_denydatawriter db_datareader in Database CarFactory\n"
                },
                {
                    "output_type": "stream",
                    "name": "stdout",
                    "text": "       Added smelton to Roles db_securityadmin db_backupoperator db_accessadmin in Database KittenFactory\n"
                },
                {
                    "output_type": "stream",
                    "name": "stdout",
                    "text": "       Added SockFactoryApp_User to Roles db_denydatawriter db_datareader db_accessadmin db_securityadmin in Database KittenFactory\n"
                },
                {
                    "output_type": "stream",
                    "name": "stdout",
                    "text": "       Added SockFactoryApp_User to Roles db_datawriter db_accessadmin db_backupoperator db_owner db_securityadmin db_denydatawriter db_ddladmin in Database FlowerFactory\n"
                },
                {
                    "output_type": "stream",
                    "name": "stdout",
                    "text": "       Added soneill to Roles db_owner db_denydatawriter db_accessadmin in Database KittenFactory\n"
                },
                {
                    "output_type": "stream",
                    "name": "stdout",
                    "text": "       Added soneill to Roles db_datareader db_securityadmin db_ddladmin db_denydatareader db_owner db_datawriter in Database FactoryAudit\n"
                },
                {
                    "output_type": "stream",
                    "name": "stdout",
                    "text": "       Added soneill to Roles db_datareader db_accessadmin db_ddladmin in Database FactoryReporting\n"
                },
                {
                    "output_type": "stream",
                    "name": "stdout",
                    "text": "       Added soneill to Roles db_denydatareader db_securityadmin db_owner in Database FlowerFactory\n"
                },
                {
                    "output_type": "stream",
                    "name": "stdout",
                    "text": "       Added sqladmin to Roles db_backupoperator db_owner db_denydatawriter db_datawriter db_accessadmin in Database CarFactory\n"
                },
                {
                    "output_type": "stream",
                    "name": "stdout",
                    "text": "       Added sqladmin to Roles db_securityadmin db_datawriter db_accessadmin in Database SockFactory\n"
                },
                {
                    "output_type": "stream",
                    "name": "stdout",
                    "text": "       Added sqladmin to Roles db_accessadmin db_datareader db_datawriter in Database FlowerFactory\n"
                },
                {
                    "output_type": "stream",
                    "name": "stdout",
                    "text": "       Added sqladmin to Roles db_backupoperator in Database FactoryReporting\n"
                },
                {
                    "output_type": "stream",
                    "name": "stdout",
                    "text": "       Added Support1 to Roles db_datareader db_denydatawriter db_denydatareader in Database KittenFactory\n"
                },
                {
                    "output_type": "stream",
                    "name": "stdout",
                    "text": "       Added Support1 to Roles db_datareader db_denydatawriter db_denydatareader db_owner db_securityadmin db_backupoperator in Database CarFactory\n"
                },
                {
                    "output_type": "stream",
                    "name": "stdout",
                    "text": "       Added Support1 to Roles db_backupoperator db_denydatawriter db_datawriter db_accessadmin db_datareader db_ddladmin db_owner db_securityadmin in Database SockFactory\n"
                },
                {
                    "output_type": "stream",
                    "name": "stdout",
                    "text": "       Added Support1 to Roles db_datareader db_denydatawriter db_ddladmin db_accessadmin db_denydatareader db_backupoperator db_datawriter db_owner in Database FactoryAudit\n"
                },
                {
                    "output_type": "stream",
                    "name": "stdout",
                    "text": "       Added Support2 to Roles db_ddladmin db_backupoperator db_securityadmin db_denydatareader db_accessadmin db_datawriter in Database SockFactory\n"
                },
                {
                    "output_type": "stream",
                    "name": "stdout",
                    "text": "       Added Support2 to Roles db_datawriter in Database FactoryAudit\n"
                },
                {
                    "output_type": "stream",
                    "name": "stdout",
                    "text": "       Added Support2 to Roles db_backupoperator db_accessadmin db_datareader db_denydatareader db_ddladmin in Database FactoryReporting\n       Added Support2 to Roles db_securityadmin db_datawriter in Database KittenFactory\n"
                },
                {
                    "output_type": "stream",
                    "name": "stdout",
                    "text": "       Added Support3 to Roles db_backupoperator db_accessadmin db_datareader in Database FactoryAudit\n"
                },
                {
                    "output_type": "stream",
                    "name": "stdout",
                    "text": "       Added Support3 to Roles db_datawriter db_ddladmin db_datareader db_accessadmin db_securityadmin db_denydatawriter db_backupoperator in Database FlowerFactory\n"
                },
                {
                    "output_type": "stream",
                    "name": "stdout",
                    "text": "       Added Support4 to Roles db_owner db_denydatareader db_denydatawriter db_datareader db_securityadmin db_backupoperator db_accessadmin in Database FlowerFactory\n"
                },
                {
                    "output_type": "stream",
                    "name": "stdout",
                    "text": "       Added Support4 to Roles db_backupoperator db_denydatareader db_accessadmin in Database CarFactory\n"
                },
                {
                    "output_type": "stream",
                    "name": "stdout",
                    "text": "       Added Support4 to Roles db_denydatareader db_securityadmin in Database SockFactory\n"
                },
                {
                    "output_type": "stream",
                    "name": "stdout",
                    "text": "       Added Support4 to Roles db_denydatawriter db_securityadmin db_ddladmin db_backupoperator db_owner db_datareader db_denydatareader db_accessadmin in Database FactoryAudit\n"
                },
                {
                    "output_type": "stream",
                    "name": "stdout",
                    "text": "       Added Support5 to Roles db_owner db_securityadmin db_ddladmin in Database CarFactory\n"
                },
                {
                    "output_type": "stream",
                    "name": "stdout",
                    "text": "       Added Support5 to Roles db_denydatawriter db_ddladmin db_datareader db_datawriter db_securityadmin db_backupoperator db_denydatareader in Database FlowerFactory\n"
                },
                {
                    "output_type": "stream",
                    "name": "stdout",
                    "text": "       Added Support5 to Roles db_datawriter db_owner db_datareader db_accessadmin db_ddladmin db_denydatawriter in Database FactoryReporting\n"
                },
                {
                    "output_type": "stream",
                    "name": "stdout",
                    "text": "       Added Support6 to Roles db_datareader db_datawriter db_denydatawriter db_owner in Database FactoryAudit\n"
                },
                {
                    "output_type": "stream",
                    "name": "stdout",
                    "text": "       Added Support6 to Roles db_backupoperator db_ddladmin in Database FlowerFactory\n"
                },
                {
                    "output_type": "stream",
                    "name": "stdout",
                    "text": "       Added Support6 to Roles db_securityadmin db_datareader db_accessadmin db_denydatawriter in Database CarFactory\n"
                },
                {
                    "output_type": "stream",
                    "name": "stdout",
                    "text": "       Added Support6 to Roles db_accessadmin db_datareader db_owner db_backupoperator in Database FactoryReporting\n"
                },
                {
                    "output_type": "stream",
                    "name": "stdout",
                    "text": "       Added tboggiano to Roles db_denydatawriter db_ddladmin db_datawriter db_accessadmin db_denydatareader in Database FactoryReporting\n"
                },
                {
                    "output_type": "stream",
                    "name": "stdout",
                    "text": "       Added tboggiano to Roles db_backupoperator db_accessadmin db_datareader db_denydatawriter db_ddladmin db_denydatareader in Database SockFactory\n"
                },
                {
                    "output_type": "stream",
                    "name": "stdout",
                    "text": "       Added thebeard to Roles db_backupoperator db_owner db_datareader db_denydatawriter db_ddladmin in Database SockFactory\n"
                },
                {
                    "output_type": "stream",
                    "name": "stdout",
                    "text": "       Added thebeard to Roles db_backupoperator db_denydatawriter db_denydatareader db_securityadmin db_ddladmin db_datareader db_datawriter db_owner in Database FlowerFactory\n"
                },
                {
                    "output_type": "stream",
                    "name": "stdout",
                    "text": "       Added thebeard to Roles db_accessadmin db_datareader db_securityadmin db_ddladmin db_owner in Database FactoryReporting\n"
                },
                {
                    "output_type": "stream",
                    "name": "stdout",
                    "text": "       Added thebeard to Roles db_datawriter db_securityadmin db_owner db_datareader db_ddladmin db_denydatareader db_accessadmin in Database CarFactory\n"
                },
                {
                    "output_type": "stream",
                    "name": "stdout",
                    "text": "       Added wdurkin to Roles db_denydatawriter in Database FactoryReporting\n"
                },
                {
                    "output_type": "stream",
                    "name": "stdout",
                    "text": "       Added wdurkin to Roles db_accessadmin db_securityadmin db_backupoperator in Database FlowerFactory\n"
                },
                {
                    "output_type": "stream",
                    "name": "stdout",
                    "text": "       Added wdurkin to Roles db_denydatawriter db_ddladmin in Database SockFactory\n"
                },
                {
                    "output_type": "stream",
                    "name": "stdout",
                    "text": "       Added wdurkin to Roles db_securityadmin db_datawriter db_accessadmin in Database FactoryAudit\n"
                },
                {
                    "output_type": "stream",
                    "name": "stdout",
                    "text": "       Added wdurkin to Roles db_securityadmin db_denydatareader in Database CarFactory\n"
                },
                {
                    "output_type": "stream",
                    "name": "stdout",
                    "text": "       Added Argenis_Fernandez to Roles db_ddladmin db_datareader db_datawriter db_backupoperator in Database FlowerFactory\n"
                },
                {
                    "output_type": "stream",
                    "name": "stdout",
                    "text": "       Added Argenis_Fernandez to Roles db_datareader db_accessadmin in Database FactoryAudit\n"
                },
                {
                    "output_type": "stream",
                    "name": "stdout",
                    "text": "       Added Argenis_Fernandez to Roles db_denydatawriter db_datareader db_accessadmin db_securityadmin db_owner db_denydatareader db_ddladmin in Database CarFactory\n"
                },
                {
                    "output_type": "stream",
                    "name": "stdout",
                    "text": "       Added Argenis_Fernandez to Roles db_denydatawriter db_denydatareader db_datawriter db_securityadmin in Database SockFactory\n"
                },
                {
                    "output_type": "stream",
                    "name": "stdout",
                    "text": "       Added Argenis_Fernandez to Roles db_datawriter db_accessadmin db_denydatawriter db_owner db_securityadmin db_denydatareader db_datareader in Database KittenFactory\n"
                },
                {
                    "output_type": "stream",
                    "name": "stdout",
                    "text": "       Added MrsFatherJack to Roles db_securityadmin db_owner db_denydatareader db_ddladmin db_datawriter db_denydatawriter db_datareader db_accessadmin in Database KittenFactory\n"
                },
                {
                    "output_type": "stream",
                    "name": "stdout",
                    "text": "       Added MrsFatherJack to Roles db_backupoperator db_denydatareader in Database FlowerFactory\n"
                },
                {
                    "output_type": "stream",
                    "name": "stdout",
                    "text": "       Added MrsFatherJack to Roles db_datareader db_ddladmin db_owner db_accessadmin db_backupoperator db_datawriter in Database CarFactory\n"
                },
                {
                    "output_type": "stream",
                    "name": "stdout",
                    "text": "       Added MrsFatherJack to Roles db_datawriter db_datareader db_ddladmin db_accessadmin db_denydatawriter in Database FactoryAudit\n"
                },
                {
                    "output_type": "stream",
                    "name": "stdout",
                    "text": "       Added MrsFatherJack to Roles db_denydatareader db_denydatawriter db_datawriter db_datareader db_securityadmin db_ddladmin db_backupoperator db_accessadmin in Database SockFactory\n"
                },
                {
                    "output_type": "stream",
                    "name": "stdout",
                    "text": "       Added Cathrine_Wilhelmsen to Roles db_datawriter db_accessadmin db_denydatawriter db_datareader db_ddladmin db_backupoperator db_securityadmin in Database FactoryAudit\n"
                },
                {
                    "output_type": "stream",
                    "name": "stdout",
                    "text": "       Added Cathrine_Wilhelmsen to Roles db_backupoperator db_owner db_datawriter db_securityadmin db_ddladmin db_datareader in Database SockFactory\n"
                },
                {
                    "output_type": "stream",
                    "name": "stdout",
                    "text": "       Added Cathrine_Wilhelmsen to Roles db_backupoperator db_accessadmin db_datawriter db_denydatareader db_datareader db_denydatawriter db_ddladmin in Database FactoryReporting\n"
                },
                {
                    "output_type": "stream",
                    "name": "stdout",
                    "text": "       Added Cathrine_Wilhelmsen to Roles db_datareader db_owner db_ddladmin db_backupoperator in Database CarFactory\n"
                },
                {
                    "output_type": "stream",
                    "name": "stdout",
                    "text": "       Added Cathrine_Wilhelmsen to Roles db_denydatawriter db_datawriter db_owner db_securityadmin in Database FlowerFactory\n"
                },
                {
                    "output_type": "stream",
                    "name": "stdout",
                    "text": "       Added Rie_Irish to Roles db_backupoperator db_ddladmin in Database FactoryAudit\n"
                },
                {
                    "output_type": "stream",
                    "name": "stdout",
                    "text": "       Added Rie_Irish to Roles db_denydatareader db_owner db_denydatawriter db_accessadmin db_datawriter db_backupoperator db_ddladmin db_securityadmin in Database SockFactory\n"
                },
                {
                    "output_type": "stream",
                    "name": "stdout",
                    "text": "       Added Monica_Rathbun to Roles db_owner db_ddladmin db_accessadmin db_securityadmin in Database FlowerFactory\n"
                },
                {
                    "output_type": "stream",
                    "name": "stdout",
                    "text": "       Added Monica_Rathbun to Roles db_datawriter db_backupoperator db_owner db_ddladmin in Database FactoryReporting\n"
                },
                {
                    "output_type": "stream",
                    "name": "stdout",
                    "text": "       Added Monica_Rathbun to Roles db_denydatawriter db_denydatareader db_accessadmin db_securityadmin db_datawriter db_datareader in Database CarFactory\n"
                },
                {
                    "output_type": "stream",
                    "name": "stdout",
                    "text": "       Added Benji_BenWeissman to Roles db_securityadmin db_ddladmin db_datareader db_datawriter db_accessadmin in Database SockFactory\n"
                },
                {
                    "output_type": "stream",
                    "name": "stdout",
                    "text": "       Added Benji_BenWeissman to Roles db_denydatareader db_datareader db_backupoperator db_accessadmin db_securityadmin in Database KittenFactory\n"
                },
                {
                    "output_type": "stream",
                    "name": "stdout",
                    "text": "       Added Benji_BenWeissman to Roles db_ddladmin db_denydatareader db_accessadmin db_denydatawriter db_securityadmin db_backupoperator in Database FactoryAudit\n"
                },
                {
                    "output_type": "stream",
                    "name": "stdout",
                    "text": "       Added Joey_Dantoni to Roles db_backupoperator in Database CarFactory\n"
                },
                {
                    "output_type": "stream",
                    "name": "stdout",
                    "text": "       Added Joey_Dantoni to Roles db_ddladmin db_backupoperator in Database FactoryReporting\n"
                },
                {
                    "output_type": "stream",
                    "name": "stdout",
                    "text": "       Added Joey_Dantoni to Roles db_ddladmin in Database SockFactory\n"
                },
                {
                    "output_type": "stream",
                    "name": "stdout",
                    "text": "       Added Joey_Dantoni to Roles db_owner db_datareader in Database FactoryAudit\n"
                },
                {
                    "output_type": "stream",
                    "name": "stdout",
                    "text": "       Added Joey_Dantoni to Roles db_denydatawriter db_ddladmin db_datawriter db_owner db_securityadmin db_accessadmin in Database FlowerFactory\n"
                },
                {
                    "output_type": "stream",
                    "name": "stdout",
                    "text": "       Added John_Morehouse to Roles db_ddladmin db_datawriter db_backupoperator db_denydatawriter db_denydatareader db_owner db_datareader db_securityadmin in Database FlowerFactory\n"
                },
                {
                    "output_type": "stream",
                    "name": "stdout",
                    "text": "       Added John_Morehouse to Roles db_ddladmin db_backupoperator db_accessadmin in Database CarFactory\n"
                },
                {
                    "output_type": "stream",
                    "name": "stdout",
                    "text": "       Added Bob_Facts_Pusatari to Roles db_denydatareader db_backupoperator db_accessadmin db_ddladmin db_datareader in Database FactoryAudit\n"
                },
                {
                    "output_type": "stream",
                    "name": "stdout",
                    "text": "       Added Bob_Facts_Pusatari to Roles db_backupoperator db_datareader db_ddladmin in Database CarFactory\n"
                },
                {
                    "output_type": "stream",
                    "name": "stdout",
                    "text": "       Added Bob_Facts_Pusatari to Roles db_securityadmin db_datareader db_ddladmin in Database FactoryReporting\n"
                },
                {
                    "output_type": "stream",
                    "name": "stdout",
                    "text": "       Added Bob_Facts_Pusatari to Roles db_datawriter db_datareader db_owner db_securityadmin db_denydatawriter db_ddladmin in Database SockFactory\n"
                },
                {
                    "output_type": "stream",
                    "name": "stdout",
                    "text": "       Added Containers_Nocentino to Roles db_denydatawriter db_denydatareader db_securityadmin in Database FactoryReporting\n"
                },
                {
                    "output_type": "stream",
                    "name": "stdout",
                    "text": "       Added Containers_Nocentino to Roles db_denydatareader db_backupoperator db_owner in Database SockFactory\n"
                },
                {
                    "output_type": "stream",
                    "name": "stdout",
                    "text": "       Added Containers_Nocentino to Roles db_securityadmin db_datawriter in Database FactoryAudit\n"
                },
                {
                    "output_type": "stream",
                    "name": "stdout",
                    "text": "       Added Andrew_Pruski to Roles db_ddladmin db_datawriter db_backupoperator in Database FlowerFactory\n"
                },
                {
                    "output_type": "stream",
                    "name": "stdout",
                    "text": "       Added Andrew_Pruski to Roles db_backupoperator db_datawriter db_datareader db_owner db_denydatawriter db_ddladmin in Database KittenFactory\n"
                },
                {
                    "output_type": "stream",
                    "name": "stdout",
                    "text": "       Added Andrew_Pruski to Roles db_securityadmin db_accessadmin db_ddladmin db_datareader in Database CarFactory\n"
                },
                {
                    "output_type": "stream",
                    "name": "stdout",
                    "text": "       Added Andrew_Pruski to Roles db_backupoperator db_accessadmin db_securityadmin db_denydatawriter db_datareader db_owner db_denydatareader in Database SockFactory\n       Added Matt_Gordon to Roles db_datawriter in Database SockFactory\n"
                },
                {
                    "output_type": "stream",
                    "name": "stdout",
                    "text": "       Added Matt_Gordon to Roles db_securityadmin db_owner db_denydatareader db_datawriter in Database FactoryAudit\n"
                },
                {
                    "output_type": "stream",
                    "name": "stdout",
                    "text": "       Added Thomas_Grohser to Roles db_denydatareader db_datareader db_denydatawriter db_securityadmin db_accessadmin db_ddladmin db_owner db_datawriter in Database FactoryReporting\n"
                },
                {
                    "output_type": "stream",
                    "name": "stdout",
                    "text": "       Added Thomas_Grohser to Roles db_securityadmin db_accessadmin db_ddladmin db_denydatawriter db_datawriter db_denydatareader db_datareader in Database FlowerFactory\n"
                },
                {
                    "output_type": "stream",
                    "name": "stdout",
                    "text": "       Added Thomas_Grohser to Roles db_denydatareader db_accessadmin db_denydatawriter db_backupoperator db_ddladmin db_datareader db_datawriter in Database KittenFactory\n"
                },
                {
                    "output_type": "stream",
                    "name": "stdout",
                    "text": "       Added Thomas_Grohser to Roles db_backupoperator db_ddladmin db_denydatawriter db_owner db_accessadmin db_securityadmin in Database CarFactory\n"
                },
                {
                    "output_type": "stream",
                    "name": "stdout",
                    "text": "       Added Thomas_Grohser to Roles db_denydatareader db_ddladmin db_owner db_securityadmin in Database SockFactory\n"
                },
                {
                    "output_type": "stream",
                    "name": "stdout",
                    "text": "       Added Dirk_Hondong to Roles db_securityadmin db_backupoperator db_datareader db_accessadmin in Database FlowerFactory\n"
                },
                {
                    "output_type": "stream",
                    "name": "stdout",
                    "text": "       Added Dirk_Hondong to Roles db_datawriter db_securityadmin db_backupoperator db_datareader db_denydatawriter db_denydatareader in Database CarFactory\n"
                },
                {
                    "output_type": "stream",
                    "name": "stdout",
                    "text": "       Added Dirk_Hondong to Roles db_datareader in Database KittenFactory\n"
                },
                {
                    "output_type": "stream",
                    "name": "stdout",
                    "text": "       Added Father_Johan_Brattas to Roles db_denydatawriter db_ddladmin db_denydatareader db_datareader db_accessadmin in Database CarFactory\n"
                },
                {
                    "output_type": "stream",
                    "name": "stdout",
                    "text": "       Added Father_Johan_Brattas to Roles db_denydatareader db_backupoperator db_owner db_accessadmin db_securityadmin in Database KittenFactory\n"
                },
                {
                    "output_type": "stream",
                    "name": "stdout",
                    "text": "       Added Father_Johan_Brattas to Roles db_denydatawriter db_ddladmin db_datawriter db_owner in Database SockFactory\n"
                },
                {
                    "output_type": "stream",
                    "name": "stdout",
                    "text": "       Added Drew_FurggerwellyIgiveuptryingtospellit to Roles db_ddladmin db_accessadmin in Database SockFactory\n"
                },
                {
                    "output_type": "stream",
                    "name": "stdout",
                    "text": "       Added Drew_FurggerwellyIgiveuptryingtospellit to Roles db_datareader in Database KittenFactory\n"
                },
                {
                    "output_type": "stream",
                    "name": "stdout",
                    "text": "       Added Drew_FurggerwellyIgiveuptryingtospellit to Roles db_denydatawriter db_datawriter in Database FactoryReporting\nFinished\n"
                }
            ],
            "execution_count": 2
        },
        {
            "cell_type": "markdown",
            "source": [
                "Clean Up"
            ],
            "metadata": {
                "azdata_cell_guid": "cb65abdb-ca98-4b6e-a3c5-4b89ea146512"
            }
        },
        {
            "cell_type": "code",
            "source": [
                "Write-Output \"Remove the users\"\r\n",
                "foreach($db in $DatabaseNames){\r\n",
                "    $Null = Remove-DbaDbUser -SqlInstance $SqlInstance -Database $db -User $UserNames -Force\r\n",
                "}\r\n",
                "\r\n",
                "Write-Output \"Remove the logins\"\r\n",
                "\r\n",
                "$Null = Remove-DbaLogin -SqlInstance $SqlInstance -Login $UserNames -Force\r\n",
                "\r\n",
                "Write-Output \"Remove Databases\"\r\n",
                "\r\n",
                "$Null = Remove-DbaDatabase -SqlInstance $SqlInstance -Database $DatabaseNames -Confirm:$false\r\n",
                ""
            ],
            "metadata": {
                "azdata_cell_guid": "498e314a-fdd4-4ee0-8f6a-e7a3e504dd34"
            },
            "outputs": [
                {
                    "output_type": "stream",
                    "name": "stdout",
                    "text": "Remove the users\nRemove the logins\nRemove Databases\n"
                }
            ],
            "execution_count": 9
        }
    ]
}