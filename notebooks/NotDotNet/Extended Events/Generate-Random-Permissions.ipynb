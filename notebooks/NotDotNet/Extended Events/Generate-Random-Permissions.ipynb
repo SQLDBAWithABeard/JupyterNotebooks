{
    "metadata": {
        "kernelspec": {
            "name": "powershell",
            "display_name": "PowerShell",
            "language": "powershell"
        },
        "language_info": {
            "name": "powershell",
            "codemirror_mode": "shell",
            "mimetype": "text/x-sh",
            "file_extension": ".ps1"
        }
    },
    "nbformat_minor": 2,
    "nbformat": 4,
    "cells": [
        {
            "cell_type": "markdown",
            "source": [
                "# Generate some random Users\r\n",
                "\r\n",
                "Just a little Notebook to generate some random users and run a workload\r\n",
                "\r\n",
                ""
            ],
            "metadata": {
                "azdata_cell_guid": "e60c0ba0-7ff4-44c5-9f87-f114d2baca56"
            }
        },
        {
            "cell_type": "code",
            "source": [
                "# Set Variables\r\n",
                "\r\n",
                "$InstanceName = '192.168.2.61,32711' # Enter the Instance here\r\n",
                "$sqlcredential = New-Object System.Management.Automation.PSCredential ((Get-Secret -Name beardmi-benadmin-user -AsPlainText), (Get-Secret -Name beardmi-benadmin-pwd))\r\n",
                "\r\n",
                "Write-Output \"Make a connection\"\r\n",
                "$SqlInstance = Connect-DbaInstance -SqlInstance $InstanceName -SqlCredential $sqlcredential\r\n",
                "$UserNames = 'benji', 'bweissman','akamman', 'alevy', 'beardapp1', 'beardapp2', 'beardapp3', 'beardapp4', 'beardapp5', 'beardapp6', 'beardapp7', 'beardapp8', 'clemaire', 'csilva', 'fatherjack', 'gsartori', 'jamrtin', 'Reporting1', 'Reporting2', 'Reporting3', 'Reporting4', 'smelton', 'SockFactoryApp_User', 'soneill', 'sqladmin', 'Support1', 'Support2', 'Support3', 'Support4', 'Support5', 'Support6', 'tboggiano', 'thebeard', 'wdurkin','Argenis_Fernandez','MrsFatherJack','Cathrine_Wilhelmsen','Rie_Irish','Monica_Rathbun','Benji_BenWeissman','Joey_Dantoni', 'John_Morehouse', 'Bob_Facts_Pusatari','Containers_Nocentino','Andrew_Pruski','Matt_Gordon','Thomas_Grohser','Dirk_Hondong','Father_Johan_Brattas','Drew_FurggerwellyIgiveuptryingtospellit'\r\n",
                "$db = 'AdventureWorks2017'\r\n",
                ""
            ],
            "metadata": {
                "azdata_cell_guid": "55e3b775-177e-4bc4-9b67-c71ad6fcd745"
            },
            "outputs": [
                {
                    "output_type": "stream",
                    "name": "stdout",
                    "text": "Make a connection\n"
                },
                {
                    "output_type": "stream",
                    "name": "stdout",
                    "text": ""
                }
            ],
            "execution_count": 3
        },
        {
            "cell_type": "markdown",
            "source": [
                "Add logins, users, roles"
            ],
            "metadata": {
                "azdata_cell_guid": "ba1a4d31-d3a6-46d7-baa1-d550d44c0150"
            }
        },
        {
            "cell_type": "code",
            "source": [
                "Write-Output \"Create the Logins\"\r\n",
                "\r\n",
                "$secpwd = Get-Secret -Name beardmi-demo-users-pwd\r\n",
                "foreach ($login in $UserNames) {\r\n",
                "    $null = New-DbaLogin -SqlInstance $SqlInstance -Login $login -SecurePassword $secpwd -Force\r\n",
                "}\r\n",
                "\r\n",
                "Write-Output \"assign roles\"\r\n",
                "\r\n",
                "foreach ($login in $UserNames) {\r\n",
                "\r\n",
                "        $Null = New-DbaDbUser -SqlInstance $SqlInstance -Database $db -Login $login  -Force\r\n",
                "        $Null = Add-DbaDbRoleMember -SqlInstance $SqlInstance -Database $db -Role db_owner -User $login -Confirm:$false\r\n",
                "}\r\n",
                "\r\n",
                "\r\n",
                "Write-Output \"Finished\""
            ],
            "metadata": {
                "azdata_cell_guid": "4046ceae-43d6-4508-9e5f-0dd0a3b0fbd0",
                "tags": []
            },
            "outputs": [
                {
                    "output_type": "stream",
                    "name": "stdout",
                    "text": ". {\n>> Write-Output \"Create the Logins\"\n>> \n>> $secpwd = Get-Secret -Name beardmi-demo-users-pwd\n>> foreach ($login in $UserNames) {\n>>     $null = New-DbaLogin -SqlInstance $SqlInstance -Login $login -SecurePassword $secpwd -Force\n>> }\n>> \n>> Write-Output \"assign roles\"\n>> \n"
                },
                {
                    "output_type": "stream",
                    "name": "stdout",
                    "text": ">> foreach ($login in $UserNames) {\n>> \n>>         $Null = New-DbaDbUser -SqlInstance $SqlInstance -Database $db -Login $login  -Force\n>>         $Null = Add-DbaDbRoleMember -SqlInstance $SqlInstance -Database $db -Role db_owner -User $login -Confirm:$false\n>> }\n>> \n>> \n>> Write-Output \"Finished\"\n>> }\n>> \nCreate the Logins\n"
                },
                {
                    "output_type": "stream",
                    "name": "stdout",
                    "text": "WARNING: [23:29:12][New-DbaLogin] Could not remove existing login beardapp2 on 192.168.2.61,31779, skipping.\n"
                },
                {
                    "output_type": "stream",
                    "name": "stdout",
                    "text": "assign roles\n"
                },
                {
                    "output_type": "stream",
                    "name": "stdout",
                    "text": "Finished\n"
                }
            ],
            "execution_count": 4
        },
        {
            "cell_type": "markdown",
            "source": [
                "Clean Up"
            ],
            "metadata": {
                "azdata_cell_guid": "cb65abdb-ca98-4b6e-a3c5-4b89ea146512"
            }
        },
        {
            "cell_type": "code",
            "source": [
                "Write-Output \"Remove the users\"\r\n",
                "\r\n",
                "$Null = Remove-DbaDbUser -SqlInstance $SqlInstance -Database $db -User $UserNames -Force\r\n",
                "\r\n",
                "\r\n",
                ""
            ],
            "metadata": {
                "azdata_cell_guid": "498e314a-fdd4-4ee0-8f6a-e7a3e504dd34"
            },
            "outputs": [
                {
                    "output_type": "stream",
                    "name": "stdout",
                    "text": "Remove the users\n"
                },
                {
                    "output_type": "stream",
                    "name": "stdout",
                    "text": ""
                }
            ],
            "execution_count": 5
        }
    ]
}