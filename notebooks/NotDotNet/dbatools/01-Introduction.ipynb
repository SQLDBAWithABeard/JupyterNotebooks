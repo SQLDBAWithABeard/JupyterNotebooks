{
    "metadata": {
        "kernelspec": {
            "name": "powershell",
            "display_name": "PowerShell",
            "language": "powershell"
        },
        "language_info": {
            "name": "powershell",
            "codemirror_mode": "shell",
            "mimetype": "text/x-sh",
            "file_extension": ".ps1"
        }
    },
    "nbformat_minor": 2,
    "nbformat": 4,
    "cells": [
        {
            "cell_type": "markdown",
            "source": [
                "# Introduction\n",
                "\n",
                "How do you start with dbatools?\n",
                "\n",
                "Lets look at how you can begin and how you can help your self to be able to use dbatools\n",
                "\n",
                "***You will need to have followed the steps in the 00-CreateContainers notebook to use this notebook***\n",
                "\n",
                "We have written a book which will give you a brilliant introduction to dbatools. It's called dbatools in a Month of Lunches and you can find it at https://beard.media/book"
            ],
            "metadata": {
                "azdata_cell_guid": "c2e1450c-7c7f-4400-b427-e77c8afbc967"
            }
        },
        {
            "cell_type": "code",
            "source": [
                "## Lets look at the commands\n",
                "Get-Command -Module dbatools "
            ],
            "metadata": {
                "azdata_cell_guid": "4c5d55a6-203d-4a4f-9f3d-e4c21b4d6070"
            },
            "outputs": [],
            "execution_count": null
        },
        {
            "cell_type": "code",
            "source": [
                "## How many commands?\n",
                "(Get-Command -Module dbatools -CommandType Function ).Count"
            ],
            "metadata": {
                "azdata_cell_guid": "0c674263-5c7d-4ebc-9718-1f18922635a4"
            },
            "outputs": [],
            "execution_count": null
        },
        {
            "cell_type": "markdown",
            "source": [
                "## How do we find commands ?\n",
                "\n",
                "With that many commands even Chrissy can't remember them all !\n",
                "\n",
                "So there is a command to find commands"
            ],
            "metadata": {
                "azdata_cell_guid": "9373b8e2-d16b-4e15-b119-f8aa36585f61"
            }
        },
        {
            "cell_type": "code",
            "source": [
                "Find-DbaCommand -Tag Backup"
            ],
            "metadata": {
                "azdata_cell_guid": "e80e58a9-2e60-4048-bb32-62dbd60702e7"
            },
            "outputs": [],
            "execution_count": null
        },
        {
            "cell_type": "code",
            "source": [
                "Find-DbaCommand -Tag Restore"
            ],
            "metadata": {
                "azdata_cell_guid": "983a8d9f-7666-41b2-8255-3e914a9972d3"
            },
            "outputs": [],
            "execution_count": null
        },
        {
            "cell_type": "code",
            "source": [
                "Find-DbaCommand -Tag Migration"
            ],
            "metadata": {
                "azdata_cell_guid": "352839bb-0f45-44f8-8596-18bf8cbb7f46"
            },
            "outputs": [],
            "execution_count": null
        },
        {
            "cell_type": "code",
            "source": [
                "Find-DbaCommand -Tag Agent"
            ],
            "metadata": {
                "azdata_cell_guid": "b074e028-7872-4cf6-b89d-0822760a897a"
            },
            "outputs": [],
            "execution_count": null
        },
        {
            "cell_type": "code",
            "source": [
                "Find-DbaCommand -Pattern User "
            ],
            "metadata": {
                "azdata_cell_guid": "7196cfef-4f9c-4aab-9ae4-45779205f4d1"
            },
            "outputs": [],
            "execution_count": null
        },
        {
            "cell_type": "code",
            "source": [
                "Find-DbaCommand -Pattern linked"
            ],
            "metadata": {
                "azdata_cell_guid": "c06460e7-12b5-4c19-a26e-f7aab540dd9c"
            },
            "outputs": [],
            "execution_count": null
        },
        {
            "cell_type": "markdown",
            "source": [
                "## You can also use native PowerShell \n",
                "\n",
                "This can be used with any module"
            ],
            "metadata": {
                "azdata_cell_guid": "23e63ec8-b5be-4260-a71a-c2c8e23efb9d"
            }
        },
        {
            "cell_type": "code",
            "source": [
                "Get-Command -Module dbatools -Name *linked*"
            ],
            "metadata": {
                "azdata_cell_guid": "84d6ffe1-2a6d-47bf-8358-bd52c5cf2a1c"
            },
            "outputs": [],
            "execution_count": null
        },
        {
            "cell_type": "markdown",
            "source": [
                "# How to use commands ?\n",
                "\n",
                "**ALWAYS ALWAYS ALWAYS use `Get-Help`**"
            ],
            "metadata": {
                "azdata_cell_guid": "8dc7d4ec-8021-4b19-a58c-8b3b1ee91acc"
            }
        },
        {
            "cell_type": "code",
            "source": [
                "Get-Help Test-DbaLinkedServerConnection -Full"
            ],
            "metadata": {
                "azdata_cell_guid": "046a7638-acb4-4d01-a2fc-e051e90f451f"
            },
            "outputs": [],
            "execution_count": null
        },
        {
            "cell_type": "code",
            "source": [
                "## Here a neat trick which you can use in PowerShell or pwsh but not in a notebook!\n",
                "## When PowerShell opens - right click to paste the command\n",
                "#      Find-DbaCommand -Pattern linked | Out-GridView -PassThru | Get-Help -Full \n",
                "\"Find-DbaCommand -Pattern linked | Out-GridView -PassThru | Get-Help -Full \" | clip\n",
                "# If you have PowerShell 7\n",
                " Start-Process 'C:\\Program Files\\PowerShell\\7-preview\\pwsh.exe'\n",
                "\n",
                "# if you dont have PowerShell 7 then you can uncomment (remove the #) from the line below and comment (add a # to the beginning) of the line above\n",
                "# Start-Process 'C:\\Windows\\system32\\WindowsPowerShell\\v1.0\\powershell.exe'"
            ],
            "metadata": {
                "azdata_cell_guid": "1112a493-763f-487b-b040-1c9757b03034"
            },
            "outputs": [],
            "execution_count": null
        },
        {
            "cell_type": "markdown",
            "source": [
                "# Clean Up\n",
                "\n",
                "The 99-CleanUpContainers notebook will remove the containers, files and directory - it will leave the image so you do not have to download it again!"
            ],
            "metadata": {
                "azdata_cell_guid": "57b0d390-ffdf-4079-8c1d-0f5b96aa501b"
            }
        }
    ]
}