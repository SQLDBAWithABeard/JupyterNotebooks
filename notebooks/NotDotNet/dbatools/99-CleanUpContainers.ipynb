{
    "metadata": {
        "kernelspec": {
            "name": "powershell",
            "display_name": "PowerShell",
            "language": "powershell"
        },
        "language_info": {
            "name": "powershell",
            "codemirror_mode": "shell",
            "mimetype": "text/x-sh",
            "file_extension": ".ps1"
        }
    },
    "nbformat_minor": 2,
    "nbformat": 4,
    "cells": [
        {
            "cell_type": "markdown",
            "source": [
                "# Cleaning up the containers and directories and files\n",
                "\n",
                "The code below will clean up the files that have been created and remove the docker containers but not the image so that you can run the notebooks again without having to download the image again"
            ],
            "metadata": {
                "azdata_cell_guid": "bf39922e-c732-4c24-8630-1694d703c50e"
            },
            "attachments": {}
        },
        {
            "cell_type": "code",
            "source": [
                "$NotebookDir = '' # add the directory that the notebook is in here \n",
                "if ($NotebookDir -eq '') {\n",
                "    try {\n",
                "        $NotebookDir = Read-Host \"Please enter path to the notebook. Azure Data Studio doesnt know where it is\" -ErrorAction Stop\n",
                "    }\n",
                "    catch {\n",
                "        Write-Warning \"UH-OH - You have not set the `$NotebookDir variable to a directory we can find - Set it in the code please\"\n",
                "        Break\n",
                "    }\n",
                "}\n",
                "if (-not (Test-Path $NotebookDir -ErrorAction SilentlyContinue)) {\n",
                "    Write-Warning \"UH-OH - You have not set the `$NotebookDir variable to a directory we can find  - Set it in the code please\"\n",
                "    Break\n",
                "}\n",
                "$FolderPath = $Env:USERPROFILE + '\\Documents\\dbatoolsdemo'\n",
                "Write-Output \"Removing containers\"\n",
                "\n",
                "Set-Location $NotebookDir\n",
                "docker-compose down \n",
                "\n",
                "\n",
                "Write-Output \"Removing directories and files\"\n",
                "Remove-Item $FolderPath -Recurse -Force\n",
                "Write-Output \"Removed everything\"\n",
                ""
            ],
            "metadata": {
                "azdata_cell_guid": "45750e3c-b1a5-430f-b79c-d85430564841",
                "tags": [
                    "hide_input"
                ]
            },
            "outputs": [
                {
                    "name": "stdout",
                    "text": "\u001b[1A\u001b[2KStopping beardsql02 ... \u001b[32mdone\u001b[0m\u001b[1B",
                    "output_type": "stream"
                },
                {
                    "name": "stdout",
                    "text": "\u001b[2A\u001b[2KStopping beardsql01 ... \u001b[32mdone\u001b[0m\u001b[2BRemoving beardsql01 ... \nRemoving beardsql02 ... \n",
                    "output_type": "stream"
                },
                {
                    "name": "stdout",
                    "text": "\u001b[1A\u001b[2KRemoving beardsql02 ... \u001b[32mdone\u001b[0m\u001b[1B\u001b[2A\u001b[2KRemoving beardsql01 ... \u001b[32mdone\u001b[0m\u001b[2BRemoving network dbatools_BeardsMagicNetwork\n",
                    "output_type": "stream"
                },
                {
                    "name": "stdout",
                    "text": "Removing directories and files\nRemoved everything\n",
                    "output_type": "stream"
                }
            ],
            "execution_count": 1
        },
        {
            "cell_type": "code",
            "source": [
                "docker ps -a"
            ],
            "metadata": {
                "azdata_cell_guid": "06243d1c-1e53-4a2a-9cae-47c6934eb20c"
            },
            "outputs": [],
            "execution_count": null
        }
    ]
}