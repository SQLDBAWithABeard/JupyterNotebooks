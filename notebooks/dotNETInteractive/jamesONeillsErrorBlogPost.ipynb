{
 "cells": [
  {
   "cell_type": "markdown",
   "metadata": {},
   "source": [
    "# The 'definitive' Terminating and Non-Terminating errors in PowerShell. \n",
    "by James O'Neill\n",
    "\n",
    "The code from the wonderful blog post which can be found at \n",
    "\n",
    "https://jhoneill.github.io/powershell/2022/06/13/Errors.html\n",
    "\n",
    "I converted it into a notebook so that I could run and read at the same time\n"
   ]
  },
  {
   "cell_type": "markdown",
   "metadata": {},
   "source": [
    "In something else I’m working on, I started to write\n",
    "\n",
    ">There are half a dozen kinds of exceptions in PowerShell, and they are usually called “terminating and non-terminating errors.”\n",
    "\n",
    "That wasn’t a proof-reading mistake!\n",
    "I’ve read a lot things which glide over the many _“ifs , buts, and excepts”_, needed to explain why a PowerShell command might run after one error, but not another, or why some attempts to control messages don’t work as expected. Or why this is a terminating error, and that is also a terminating error but they act differently. Or even what “terminating” means technically and practically in PowerShell, or the role of error _handling_ is.\n",
    "These aren’t just in random writings on the net either - the examples in this post show a couple of things don’t do what PowerShell’s help says they should… Usage of “error” and “exception” has grown to treating the two as synonyms, and I’m not going try to undo that, although I have some sympathy for people who will read something and say “That’s not an error, it’s an exception!” or vice versa.\n",
    "\n",
    "In this post I’ve set out to collect and illustrate the different situations - setting myself up as the one totally complete, 100% accurate source would mean I’m bound to miss something crucial - hence the quotes around ‘definitive’ in the title. But the piece has become a bit of an epic."
   ]
  },
  {
   "cell_type": "markdown",
   "metadata": {},
   "source": [
    "## 1 Abnormal end – “abend” or [Goodnight Vienna](https://www.phrases.org.uk/meanings/goodnight-vienna.html) from an external program\n",
    "Some systems use “Abend” (“evening” if you speak German) for a system crash. I remember Novell NetWare used it instead of “panic” or “blue screen of death”. In other places, it’s used (as here) for any “didn’t run to successful completion”.\n",
    "The following two lines give the same result in a PowerShell Script, a Unix shell script, or a steam-driven batch file:\n",
    "\n",
    "    ping -z localhost  \n",
    "    ping -z www.github.com\n"
   ]
  },
  {
   "cell_type": "code",
   "execution_count": 3,
   "metadata": {
    "dotnet_interactive": {
     "language": "pwsh"
    },
    "vscode": {
     "languageId": "powershell"
    }
   },
   "outputs": [
    {
     "name": "stdout",
     "output_type": "stream",
     "text": [
      "Bad option -z.\n",
      "\n",
      "Usage: ping [-t] [-a] [-n count] [-l size] [-f] [-i TTL] [-v TOS]\n",
      "            [-r count] [-s count] [[-j host-list] | [-k host-list]]\n",
      "            [-w timeout] [-R] [-S srcaddr] [-c compartment] [-p]\n",
      "            [-4] [-6] target_name\n",
      "\n",
      "Options:\n",
      "    -t             Ping the specified host until stopped.\n",
      "                   To see statistics and continue - type Control-Break;\n",
      "                   To stop - type Control-C.\n",
      "    -a             Resolve addresses to hostnames.\n",
      "    -n count       Number of echo requests to send.\n",
      "    -l size        Send buffer size.\n",
      "    -f             Set Don't Fragment flag in packet (IPv4-only).\n",
      "    -i TTL         Time To Live.\n",
      "    -v TOS         Type Of Service (IPv4-only. This setting has been deprecated\n",
      "                   and has no effect on the type of service field in the IP\n",
      "                   Header).\n",
      "    -r count       Record route for count hops (IPv4-only).\n",
      "    -s count       Timestamp for count hops (IPv4-only).\n",
      "    -j host-list   Loose source route along host-list (IPv4-only).\n",
      "    -k host-list   Strict source route along host-list (IPv4-only).\n",
      "    -w timeout     Timeout in milliseconds to wait for each reply.\n",
      "    -R             Use routing header to test reverse route also (IPv6-only).\n",
      "                   Per RFC 5095 the use of this routing header has been\n",
      "                   deprecated. Some systems may drop echo requests if\n",
      "                   this header is used.\n",
      "    -S srcaddr     Source address to use.\n",
      "    -c compartment Routing compartment identifier.\n",
      "    -p             Ping a Hyper-V Network Virtualization provider address.\n",
      "    -4             Force using IPv4.\n",
      "    -6             Force using IPv6.\n",
      "\n",
      "Bad option -z.\n",
      "\n",
      "Usage: ping [-t] [-a] [-n count] [-l size] [-f] [-i TTL] [-v TOS]\n",
      "            [-r count] [-s count] [[-j host-list] | [-k host-list]]\n",
      "            [-w timeout] [-R] [-S srcaddr] [-c compartment] [-p]\n",
      "            [-4] [-6] target_name\n",
      "\n",
      "Options:\n",
      "    -t             Ping the specified host until stopped.\n",
      "                   To see statistics and continue - type Control-Break;\n",
      "                   To stop - type Control-C.\n",
      "    -a             Resolve addresses to hostnames.\n",
      "    -n count       Number of echo requests to send.\n",
      "    -l size        Send buffer size.\n",
      "    -f             Set Don't Fragment flag in packet (IPv4-only).\n",
      "    -i TTL         Time To Live.\n",
      "    -v TOS         Type Of Service (IPv4-only. This setting has been deprecated\n",
      "                   and has no effect on the type of service field in the IP\n",
      "                   Header).\n",
      "    -r count       Record route for count hops (IPv4-only).\n",
      "    -s count       Timestamp for count hops (IPv4-only).\n",
      "    -j host-list   Loose source route along host-list (IPv4-only).\n",
      "    -k host-list   Strict source route along host-list (IPv4-only).\n",
      "    -w timeout     Timeout in milliseconds to wait for each reply.\n",
      "    -R             Use routing header to test reverse route also (IPv6-only).\n",
      "                   Per RFC 5095 the use of this routing header has been\n",
      "                   deprecated. Some systems may drop echo requests if\n",
      "                   this header is used.\n",
      "    -S srcaddr     Source address to use.\n",
      "    -c compartment Routing compartment identifier.\n",
      "    -p             Ping a Hyper-V Network Virtualization provider address.\n",
      "    -4             Force using IPv4.\n",
      "    -6             Force using IPv6.\n",
      "\n"
     ]
    }
   ],
   "source": [
    "ping -z localhost  \n",
    "ping -z www.github.com"
   ]
  },
  {
   "cell_type": "markdown",
   "metadata": {},
   "source": [
    "\n",
    "When the first ping runs it sees -z as an invalid switch, prints a message, sets an exit-code to say things ended badly and quits.\n",
    "Control returns to the script that called it, which runs the next command: the first ping has no way to prevent it.\n",
    "Whatever calls ping can check the exit-code (sometimes called ErrorLevel) before continuing, but most scripts leave most things unchecked.\n",
    "Generally, zero on exit indicates success, but non-zero values may be informational rather than indicating a failure. On Linux, ping writes to standard error to say “-z” is not valid, but on Windows ping writes the error message to standard output (other commands, like `nslookup` write to standard error on both OSes). PowerShell provides two automatic variables, `$LASTEXITCODE` to get the exit-code of the last external program or script, and the Boolean `$?` to answer “was the last command error-free?”; but if the external command is wrapped in `try / catch` the catch will *not* be triggered by `$?` holding false or by messages going to standard error.\n",
    "\n",
    "For the rest of the post the focus is within PowerShell; I mentioned `try / catch`, *which treats the whole try block as one*, the catch block can’t return execution to the next step, the older (but now little used) trap statement can do that."
   ]
  },
  {
   "cell_type": "markdown",
   "metadata": {},
   "source": [
    "## 2 Just a warning\n",
    "When something is not processed as expected, but the command can still get to the desired conclusion, that is the place for PowerShell to send a warning. Again this isn’t (normally) caught by `try / catch`: it is just a message sent to a specific output stream."
   ]
  },
  {
   "cell_type": "markdown",
   "metadata": {},
   "source": [
    "# 3 Like a warning, but worse\n",
    "If you run `Get-Item \"NonExistentName\"`, the cmdlet reports that it can’t process the item, which could, almost, be a warning, but it doesn’t pass the test of getting to the right conclusion, so it is classified as an error. (Attempting to delete a non-existent item would be a more arguable case, but the boundaries between informational, warning, and error can be fuzzy).\n",
    "`Get-Item` reports the error by writing an object to the error stream (where 2 used the warning stream), but that doesn’t mean that it must exit.\n",
    "\n",
    "`Get-Item \"NonExistentName\", \".\"` will produce an error and then get the current directory; if this is in the middle of a pipeline, the rest of the pipeline will run normally. So this:\n",
    "\n",
    "    \"NonExistent\", \".\" | Get-Item | % -Process {$_.name} -End {\"Finish\"}\n"
   ]
  },
  {
   "cell_type": "code",
   "execution_count": 4,
   "metadata": {
    "vscode": {
     "languageId": "powershell"
    }
   },
   "outputs": [
    {
     "name": "stdout",
     "output_type": "stream",
     "text": [
      "\u001b[91mGet-Item: \u001b[91mCannot find path 'C:\\Users\\mrrob\\NonExistent' because it does not exist.\u001b[0m\n",
      "mrrob\n",
      "Finish\n"
     ]
    }
   ],
   "source": [
    "\"NonExistent\", \".\" | Get-Item | % -Process {$_.name} -End {\"Finish\"}"
   ]
  },
  {
   "cell_type": "markdown",
   "metadata": {},
   "source": [
    "    \n",
    "will output the error message for the first item, then the name of the second item, and finally run the end block and output “Finish”.\n",
    "\n",
    "As with the external program, `$?` indicates “error free”. This pipeline completed with errors so `$?` is false, but because it is an internal command there is no exit code and `$LASTEXITCODE` is unchanged.\n",
    "\n",
    "Internally, `Get-Item` calls the equivalent of $PSCmdlet.WriteError() and passes it an exception object which contains the message, information to classify the error, and contextual information about where it occurred. PowerShell’s `Write-Error` cmdlet acts a wrapper for that method, and can build the object, given just the message text. When objects arrive in the error stream, PowerShell adds them to the $error automatic variable and applies appropriate formatting to display them (“appropriate” varies - PowerShell 7 has a concise view which Windows PowerShell 5 doesn’t).\n",
    "Like the previous examples, by default `try / catch` doesn’t see anything to do when an object is written to the error stream: the two following examples will print the original error without running their catch block:\n",
    "\n",
    "    try {Write-Error \"Oh dear\" } catch {\"Caught\"}\n",
    "    \n",
    "    try {Get-Item \"NonExistent\"} catch {\"Caught\"}\n"
   ]
  },
  {
   "cell_type": "code",
   "execution_count": 5,
   "metadata": {
    "vscode": {
     "languageId": "powershell"
    }
   },
   "outputs": [
    {
     "name": "stdout",
     "output_type": "stream",
     "text": [
      "\u001b[91mWrite-Error: \u001b[91mOh dear\u001b[0m\n",
      "\u001b[91mGet-Item: \n",
      "\u001b[96mLine |\n",
      "\u001b[96m   3 | \u001b[0m try {\u001b[96mGet-Item \"NonExistent\"\u001b[0m} catch {\"Caught\"}\n",
      "\u001b[96m     | \u001b[91m      ~~~~~~~~~~~~~~~~~~~~~~\n",
      "\u001b[91m\u001b[96m     | \u001b[91mCannot find path 'C:\\Users\\mrrob\\NonExistent' because it does not exist.\u001b[0m\n"
     ]
    }
   ],
   "source": [
    "try {Write-Error \"Oh dear\" } catch {\"Caught\"}\n",
    "    \n",
    "try {Get-Item \"NonExistent\"} catch {\"Caught\"}"
   ]
  },
  {
   "cell_type": "markdown",
   "metadata": {},
   "source": [
    "    \n",
    "Parameters and preference variables can tell PowerShell to adopt non-default behaviours when things are written to the error, warning, debug and verbose streams. Changing `$ErrorActionPreference` would change the behaviour of the two lines above.\n",
    "The rest of this post concentrates on the `-ErrorActio`n parameter and its associated preference variable, but `-WarningAction` would have the same effect in many places."
   ]
  },
  {
   "cell_type": "markdown",
   "metadata": {},
   "source": [
    "## 4 “I can’t go on”, “That’s just you - I can”\n",
    "The `WriteError()` method discussed in the previous section is available to PowerShell cmdlets (including advanced functions), but some internal errors in PowerShell don’t come from commands. For example. 2/0 will say that you can’t divide by zero, or `[regex]::new(\"(\")` will report that an unclosed bracket won’t parse. These are operations which can’t continue - terminating errors and `try / catch` is there to handle them. This contrasts with messages sent with `Write-Error()` which are non-terminating by default and ignored by `try / catch`.\n",
    "\n",
    "_Outside of scripting languages_, something reporting “I needed to terminate” means whatever called it must terminate in the same way unless it can handle the error; whatever called that must handle or terminate and so on.\n",
    "But the very first example in this post showed that scripting languages don’t stop when there is an error in an external command, and the default approach to all errors is the same. Like the first example, the following lines would illustrate the point in a Unix shell script, a Windows (or DOS!) batch file or PowerShell Script.\n",
    "\n",
    "    eco \"Hello!\"\n",
    "    echo \" 'eco' was a typing error.\"\n"
   ]
  },
  {
   "cell_type": "code",
   "execution_count": 6,
   "metadata": {
    "vscode": {
     "languageId": "powershell"
    }
   },
   "outputs": [
    {
     "name": "stdout",
     "output_type": "stream",
     "text": [
      "\u001b[91meco: \u001b[91mThe term 'eco' is not recognized as the name of a cmdlet, function, script file, or operable program.\n",
      "Check the spelling of the name, or if a path was included, verify that the path is correct and try again.\u001b[0m\n",
      " 'eco' was a typing error.\n"
     ]
    }
   ],
   "source": [
    "eco \"Hello!\"\n",
    "echo \" 'eco' was a typing error.\""
   ]
  },
  {
   "cell_type": "markdown",
   "metadata": {},
   "source": [
    "    \n",
    "All three will say “there is no such command as eco” and then run the echo command.\n",
    "\n",
    "Hopefully, some code will clarify what happens in different situations; I’ll start with 4 functions named one, two, three and four.\n",
    "Function four runs a pipeline: `one | two | three` and will do so in slightly different ways for different examples.\n",
    "Function one puts some data into the pipeline, two processes it and demonstrates different types of errors, three receives the output from two and all 4 functions print progress information. Depending on what happens in function two, and on how four runs the pipeline we may see pipeline code run in one, two and three (or not), and we may see post-pipeline code run in four (or not).\n",
    "I recommend copying and pasting the code into a PowerShell session to do additional experiments.\n",
    ">Note: To make the code visible without scrolling, some lines have been combined in a way they wouldn’t be in typical code and I’ve omitted `[cmdletbinding()]` in two and three where `[param()]` attributes mean it is assumed - that way it all fits on one screen.\n",
    "\n",
    "Rob - we are in a notebook which may make it easier though ;-)"
   ]
  },
  {
   "cell_type": "code",
   "execution_count": 7,
   "metadata": {
    "vscode": {
     "languageId": "powershell"
    }
   },
   "outputs": [
    {
     "name": "stdout",
     "output_type": "stream",
     "text": [
      "four begins\n",
      "one begins\n",
      "two begins\n",
      "three begins\n",
      "three Processed 1\n",
      "\u001b[91mRuntimeException: \n",
      "\u001b[96mLine |\n",
      "\u001b[96m   8 | \u001b[0m         if ($p -eq 2) {\u001b[96m$p / 0\u001b[0m } # cause a division by zero error\n",
      "\u001b[96m     | \u001b[91m                        ~~~~~~\n",
      "\u001b[91m\u001b[96m     | \u001b[91mAttempted to divide by zero.\u001b[0m\n",
      "three Processed 2\n",
      "three Processed 3\n",
      "one ends\n",
      "two ends\n",
      "three ends\n",
      "And the result is \n",
      "1\n",
      "2\n",
      "3\n",
      "four ends\n"
     ]
    }
   ],
   "source": [
    "function one {[cmdletbinding()]param()\n",
    "    begin {Write-Host \"one begins\"}   end {Write-host \"one ends\"}\n",
    "    process {1,2,3}\n",
    "}\n",
    "function two {param ([parameter(ValueFromPipeline)]$p)\n",
    "    begin {Write-Host \"two begins\"}   end {Write-host \"two ends\"}\n",
    "    process {\n",
    "        if ($p -eq 2) {$p / 0 } # cause a division by zero error\n",
    "\n",
    "        $p\n",
    "    }\n",
    "}\n",
    "function three {param ([parameter(ValueFromPipeline)]$p)\n",
    "    begin {Write-Host \"three begins\"} end {Write-host \"three ends\"}\n",
    "    process {\n",
    "        Write-host \"three Processed $p\"\n",
    "        $p\n",
    "    }\n",
    "}\n",
    "function four {[cmdletbinding()]param()\n",
    "    begin {Write-Host \"four begins\"}  end {Write-host \"four ends\"}\n",
    "    process {\n",
    "        $result = one | two | three\n",
    "        Write-host \"And the result is \"\n",
    "        $result\n",
    "    }\n",
    "}\n",
    "four"
   ]
  },
  {
   "cell_type": "markdown",
   "metadata": {},
   "source": [
    "Above is the result of running `four` with the first version of the functions:\n",
    "\n",
    "\n",
    "The `begin` blocks run, the value 1 is is processed, then the error occurs. The message is displayed, and the very next command - function `two` outputting 2 - runs as if no error had happened; the pipeline and the function which called it both continue normally, with `three` and `four` receiving 2 and any subsequent value(s). All the end blocks run to complete the process. Later I’ll refer back to this “write message and carry on” behaviour as “a”.\n",
    "\n",
    "This behaviour _might look_ like a non-terminating error, but in fact PowerShell is printing the message from a terminating error *and treating it as handled*. The error can be handled with `try / catch` and the first variation is to change function `four` to show that.\n"
   ]
  },
  {
   "cell_type": "code",
   "execution_count": 8,
   "metadata": {
    "vscode": {
     "languageId": "powershell"
    }
   },
   "outputs": [
    {
     "name": "stdout",
     "output_type": "stream",
     "text": [
      "four begins\n",
      "one begins\n",
      "two begins\n",
      "three begins\n",
      "three Processed 1\n",
      "Error in the pipeline\n",
      "And the result is \n",
      "four ends\n"
     ]
    }
   ],
   "source": [
    "function four {[cmdletbinding()]param()\n",
    "    begin {Write-Host \"four begins\"}  end {Write-host \"four ends\"}\n",
    "    process {   # Add try {} Catch {}\n",
    "\n",
    "            try { $result = one | two | three} catch {Write-Host \"Error in the pipeline\"}\n",
    "            Write-host \"And the result is \"\n",
    "            $result\n",
    "    }\n",
    "}\n",
    "four"
   ]
  },
  {
   "cell_type": "markdown",
   "metadata": {},
   "source": [
    "Now the result of running four is quite different:\n",
    "\n",
    "Catching the error meant that the message “Error in the pipeline” was printed. I said above that “the whole try block runs as one”, so we shouldn’t expect the pipeline to resume, and it doesn’t.\n",
    "The statement in the `try` block said _assign the pipeline result(s) to a variable_, so, although function `three` processed the first value, nothing will go into `$Result` until the pipeline has completed. Non-completion means that no assignment happens and function `four` has no values to output. Running\n",
    "\n",
    "    ps> try {  one | two | three} catch {Write-Host \"Error in the pipeline\"}  "
   ]
  },
  {
   "cell_type": "code",
   "execution_count": 9,
   "metadata": {
    "vscode": {
     "languageId": "powershell"
    }
   },
   "outputs": [
    {
     "name": "stdout",
     "output_type": "stream",
     "text": [
      "one begins\n",
      "two begins\n",
      "three begins\n",
      "three Processed 1\n",
      "1\n",
      "Error in the pipeline\n"
     ]
    }
   ],
   "source": [
    "try {  one | two | three} catch {Write-Host \"Error in the pipeline\"}  "
   ]
  },
  {
   "cell_type": "markdown",
   "metadata": {},
   "source": [
    "doesn’t queue the output to go into a variable so it _is_ displayed.\n",
    "Function `four` continues normally after handling the error, but the pipeline terminated, so the functions in the pipeline do not run their `end` blocks.\n",
    "\n",
    "I’ll label ths behaviour “b” - the calling function did not stop but the pipeline did.\n"
   ]
  },
  {
   "cell_type": "markdown",
   "metadata": {},
   "source": [
    "## Try _really_ tries\n",
    "The example above shows that try catches a terminating error in something which it calls - and this can be be multiple calls deep\n"
   ]
  },
  {
   "cell_type": "code",
   "execution_count": 10,
   "metadata": {
    "vscode": {
     "languageId": "powershell"
    }
   },
   "outputs": [
    {
     "name": "stdout",
     "output_type": "stream",
     "text": [
      "two begins\n",
      "error happened\n"
     ]
    }
   ],
   "source": [
    "function five {param ($p) two  $P}\n",
    "function six  {param ($p) five $P}\n",
    "try {six 2} catch {\"error happened\"}"
   ]
  },
  {
   "cell_type": "markdown",
   "metadata": {},
   "source": [
    "So the `try` block calls `six`, `six` calls `five`, `five` calls `two`, an error occurs in `two` and it is caught.\n",
    "\n",
    "## Changing the error action\n",
    "If the pipeline command is run with `-ErrorAction Stop` (or `ErrorActionPreference` has been set to stop in any other way), that can also produce behaviour “b”, abandoning the pipeline, and continuing from the next line in the function that called it. But we will see different results of `-ErrorAction Stop` later.\n"
   ]
  },
  {
   "cell_type": "code",
   "execution_count": 12,
   "metadata": {
    "vscode": {
     "languageId": "powershell"
    }
   },
   "outputs": [
    {
     "name": "stdout",
     "output_type": "stream",
     "text": [
      "four begins\n",
      "Error action preference in four is Continue\n",
      "one begins\n",
      "two begins\n",
      "three begins\n",
      "three Processed 1\n",
      "\u001b[91mtwo: \n",
      "\u001b[96mLine |\n",
      "\u001b[96m   6 | \u001b[0m             $result = one | \u001b[96mtwo -ErrorAction Stop\u001b[0m | three\n",
      "\u001b[96m     | \u001b[91m                             ~~~~~~~~~~~~~~~~~~~~~\n",
      "\u001b[91m\u001b[96m     | \u001b[91mAttempted to divide by zero.\u001b[0m\n",
      "And the result is \n",
      "four ends\n"
     ]
    }
   ],
   "source": [
    "function four {[cmdletbinding()]param()\n",
    "    begin {Write-Host \"four begins\"}  end {Write-host \"four ends\"}\n",
    "    process { #remove try {} / catch and use -ErrorAction Stop\n",
    "\n",
    "            Write-Host \"Error action preference in four is $errorActionPreference\"\n",
    "            $result = one | two -ErrorAction Stop | three  \n",
    "            Write-host \"And the result is \"\n",
    "            $result\n",
    "    }\n",
    "}\n",
    "four"
   ]
  },
  {
   "cell_type": "markdown",
   "metadata": {},
   "source": [
    "The inclusion of the error message is the only change to see between the version above setting `error action` and the version before it using `try / catch`. The division-by-zero error itself can’t change, *PowerShell is changing the way it is handled* inside function `two`. We can see the effect with the updated version of `four` (above):\n",
    "\n",
    "\n",
    "The error is now shown as “the call to function two returned a divide-by-zero error”. When `two` continued it was shown as “there was a divide-by-zero error at _this line._”\n",
    "\n",
    "Function `four` prints the message, considers it handled, and continues because that is what the local error action preference set as the default for terminating errors - it imposed a different terminating-error behaviour (stop) on `two`\n",
    "Running `four` with `-ErrorAction SilentlyContinue` changes what it does when `two` sends back an error:\n"
   ]
  },
  {
   "cell_type": "code",
   "execution_count": 13,
   "metadata": {
    "vscode": {
     "languageId": "powershell"
    }
   },
   "outputs": [
    {
     "name": "stdout",
     "output_type": "stream",
     "text": [
      "four begins\n",
      "Error action preference in four is SilentlyContinue\n",
      "one begins\n",
      "two begins\n",
      "three begins\n",
      "three Processed 1\n",
      "And the result is \n",
      "four ends\n"
     ]
    }
   ],
   "source": [
    "four -ErrorAction SilentlyContinue"
   ]
  },
  {
   "cell_type": "markdown",
   "metadata": {},
   "source": [
    "The pipeline end blocks did not run, nor did 2 or 3 get processed by function `three`, so we can see that *Stop still applied to `two`* in the pipeline but when the error came back to `four`, it was handled silently and execution continued.\n",
    "And if we run `four -errorAction Stop`, `four` doesn’t run its final steps, like this:\n"
   ]
  },
  {
   "cell_type": "code",
   "execution_count": 14,
   "metadata": {
    "vscode": {
     "languageId": "powershell"
    }
   },
   "outputs": [
    {
     "name": "stdout",
     "output_type": "stream",
     "text": [
      "four begins\n",
      "Error action preference in four is Stop\n",
      "one begins\n",
      "two begins\n",
      "three begins\n",
      "three Processed 1\n",
      "\u001b[91mtwo: \n",
      "\u001b[96mLine |\n",
      "\u001b[96m   6 | \u001b[0m             $result = one | \u001b[96mtwo -ErrorAction Stop\u001b[0m | three\n",
      "\u001b[96m     | \u001b[91m                             ~~~~~~~~~~~~~~~~~~~~~\n",
      "\u001b[91m\u001b[96m     | \u001b[91mAttempted to divide by zero.\u001b[0m\n"
     ]
    }
   ],
   "source": [
    "four -ErrorAction Stop"
   ]
  },
  {
   "cell_type": "markdown",
   "metadata": {},
   "source": [
    "\n",
    "This is a new behaviour, which I’ll call “c” - it stopped the pipeline, and _it stopped the calling function_, because, that’s what the error action in the calling function said it should do for a terminating error.\n",
    "\n",
    "## Catch me if you can…\n",
    "In 2 we saw that `Get-Item` can continue after an `Item Not Found` error, it just writes something to the error channel. But in other cases cmdlets *must* terminate in the same way that a mathematical operation must after a divide-by-zero.\n",
    "I’m working with the preview of PowerShell 7.3 where `Start-Sleep` can be given a `[TimeSpan]` to wait; but a time-span can be _years_ and the wait-time in milliseconds is a signed 32-bit integer setting a limit of about 25 days. [The source code on github](https://github.com/PowerShell/PowerShell/blob/master/src/Microsoft.PowerShell.Commands.Utility/commands/utility/StartSleepCommand.cs) shows (at line 126 in the version I’m looking at) that `Start-Sleep` calls `ThrowTerminatingError()` which we see’ll in *(4)*. This gives three different things to test in `try / catch`\n"
   ]
  },
  {
   "cell_type": "code",
   "execution_count": 16,
   "metadata": {
    "vscode": {
     "languageId": "powershell"
    }
   },
   "outputs": [
    {
     "name": "stdout",
     "output_type": "stream",
     "text": [
      "Bad calculation\n",
      "\u001b[91mGet-Item: \n",
      "\u001b[96mLine |\n",
      "\u001b[96m   4 | \u001b[0m try {\u001b[96mGet-Item \"Nonexistent\"\u001b[0m }                  catch {\"Bad item\"}\n",
      "\u001b[96m     | \u001b[91m      ~~~~~~~~~~~~~~~~~~~~~~\n",
      "\u001b[91m\u001b[96m     | \u001b[91mCannot find path 'C:\\Users\\mrrob\\Nonexistent' because it does not exist.\u001b[0m\n"
     ]
    }
   ],
   "source": [
    "try {2/0}\n",
    "                               catch {\"Bad calculation\"}\n",
    "# try {Start-Sleep ([timespan]::FromDays(30)) }  catch {\"Bad timespan\"}    # not in 7.2.x or earlier\n",
    "\n",
    "try {Get-Item \"Nonexistent\" }                  catch {\"Bad item\"}"
   ]
  },
  {
   "cell_type": "markdown",
   "metadata": {},
   "source": [
    "The code above gives the following:\n",
    "\n",
    "    Bad calculation    \n",
    "    Bad timespan\n",
    "    Get-Item: Cannot find path ...\n",
    "\n",
    "The _item not found error_ from `Get-Item` is is just a _non-terminating message_ to the error channel (by default) so it is *non-catchable*. So, if `Get-Item` is in the `try block`, or in something that is called from `try block`, (like function `two` in these examples) the catch won’t run. But the behaviour can be changed, like this:\n"
   ]
  },
  {
   "cell_type": "code",
   "execution_count": 17,
   "metadata": {
    "vscode": {
     "languageId": "powershell"
    }
   },
   "outputs": [
    {
     "name": "stdout",
     "output_type": "stream",
     "text": [
      "Bad item\n"
     ]
    }
   ],
   "source": [
    "try {Get-Item \"Nonexistent\" -ErrorAction Stop} catch {\"Bad item\"}"
   ]
  },
  {
   "cell_type": "markdown",
   "metadata": {},
   "source": [
    "The call made by `Get-Item` to say the error occurred _doesn’t_ change, but that call acts _differently_ when `Error Action` is set to `Stop` (either using a parameter, or by setting `$ErrorActionPreference`). You might think it makes the item not found error act like a over-long TimeSpan or dividing by zero - but terminating errors can have have different behaviours…\n",
    "\n",
    "The next example changes function `four` back to its original form. Originally, function `two` continued at the line after the divide-by-zero, and the pipeline completed all its stages if error action was continue. Swapping the divide-by-zero to the bad `Start-Sleep` command gives the same result.\n",
    "The next example modifies function `two` to use `Get-Item -ErrorAction Stop` instead (the effect on `Get-Item` would be the same if `$ErrorActionPreference` were set to `Stop` or the pipeline contained `two -ErrorAction Stop`).\n"
   ]
  },
  {
   "cell_type": "code",
   "execution_count": 18,
   "metadata": {
    "vscode": {
     "languageId": "powershell"
    }
   },
   "outputs": [
    {
     "name": "stdout",
     "output_type": "stream",
     "text": [
      "four begins\n",
      "Error action preference in four is Continue\n",
      "one begins\n",
      "two begins\n",
      "three begins\n",
      "three Processed 1\n",
      "\u001b[91mGet-Item: \n",
      "\u001b[96mLine |\n",
      "\u001b[96m   5 | \u001b[0m         if ($p -eq 2) {\u001b[96mGet-Item \"NonExistent\" -ErrorAction Stop\u001b[0m}\n",
      "\u001b[96m     | \u001b[91m                        ~~~~~~~~~~~~~~~~~~~~~~~~~~~~~~~~~~~~~~~~\n",
      "\u001b[91m\u001b[96m     | \u001b[91mCannot find path 'C:\\Users\\mrrob\\NonExistent' because it does not exist.\u001b[0m\n"
     ]
    }
   ],
   "source": [
    "function two {param ([parameter(ValueFromPipeline)]$p )\n",
    "    begin {Write-Host \"two begins\"}   end {Write-host \"two ends\"}\n",
    "    process { # change the cause of the error\n",
    "\n",
    "        if ($p -eq 2) {Get-Item \"NonExistent\" -ErrorAction Stop}\n",
    "        $p\n",
    "    }\n",
    "}\n",
    "function four {[cmdletbinding()]param()\n",
    "    begin {Write-Host \"four begins\"}  end {Write-host \"four ends\"}\n",
    "    process { # back to no error action or try/catch\n",
    "\n",
    "        Write-host \"Error action preference in four is $ErrorActionPreference\"\n",
    "        $result = one | two | three\n",
    "        Write-host \"And the result is \"\n",
    "        $result\n",
    "    }\n",
    "}\n",
    "four"
   ]
  },
  {
   "cell_type": "markdown",
   "metadata": {},
   "source": [
    "Running `four` with this version shows the effect of `-ErrorAction stop` on writing what would otherwise be a non-terminating error:\n",
    "\n",
    "This is behaviour “c” again: stopping both the pipeline and the calling function. But there is a *key difference* here. The error action preference says that `four` should _continue_ on a terminating error, yet it *stops*. I said above that changing error action didn’t make a non-terminating _item not found error_ act like dividing by zero. If it did, then the default error action preference of `continue` would mean that this\n"
   ]
  },
  {
   "cell_type": "code",
   "execution_count": 19,
   "metadata": {
    "vscode": {
     "languageId": "powershell"
    }
   },
   "outputs": [
    {
     "name": "stdout",
     "output_type": "stream",
     "text": [
      "\u001b[91mGet-Item: \u001b[91mCannot find path 'C:\\Users\\mrrob\\NonExistent' because it does not exist.\u001b[0m\n"
     ]
    }
   ],
   "source": [
    "Get-Item \"NonExistent\" -ErrorAction Stop; Write-host \"boo\""
   ]
  },
  {
   "cell_type": "markdown",
   "metadata": {},
   "source": [
    "would change `Get-item`’s error to a terminating one which would then be treated as _handled_ by printing it, meaning execution would continue into `Write-Host`. In other words `-Stop` wouldn’t change the outward behaviour.\n",
    "So things don’t work that way: to ensure that `Stop` means *STOP*, when a `WriteError()` converts the error type because of the Error Action Preference, the resulting error _ignores Error Action Preference values_. If we run this version of `four` with `-ErrorAction SilentlyContinue / Continue / Ignore` they have no effect.\n",
    "\n",
    "I said above that it doesn’t matter _where_ `Error Action` is set to `Stop`. Changing `four` back to its configuration before the last change - where running `two -ErrorAction Stop` gave behaviour “b” with a terminating error caused by divide-by-zero - will yield behaviour “c” with an error from `Get-Item` that is upgraded to a stopping one. The following code produces the same output as the code above.\n"
   ]
  },
  {
   "cell_type": "code",
   "execution_count": 20,
   "metadata": {
    "vscode": {
     "languageId": "powershell"
    }
   },
   "outputs": [
    {
     "name": "stdout",
     "output_type": "stream",
     "text": [
      "four begins\n",
      "Error action preference in four is Continue\n",
      "one begins\n",
      "two begins\n",
      "three begins\n",
      "three Processed 1\n",
      "\u001b[91mGet-Item: \n",
      "\u001b[96mLine |\n",
      "\u001b[96m   5 | \u001b[0m         if ($p -eq 2) {\u001b[96mGet-Item \"NonExistent\"\u001b[0m}\n",
      "\u001b[96m     | \u001b[91m                        ~~~~~~~~~~~~~~~~~~~~~~\n",
      "\u001b[91m\u001b[96m     | \u001b[91mCannot find path 'C:\\Users\\mrrob\\NonExistent' because it does not exist.\u001b[0m\n"
     ]
    }
   ],
   "source": [
    "function two {param ([parameter(ValueFromPipeline)]$p )\n",
    "    begin {Write-Host \"two begins\"}   end {Write-host \"two ends\"}\n",
    "    process { # remove -ErrorAction stop \n",
    "\n",
    "        if ($p -eq 2) {Get-Item \"NonExistent\"}\n",
    "        $p\n",
    "    }\n",
    "}\n",
    "function four {[cmdletbinding()]param()\n",
    "    begin {Write-Host \"four begins\"}  end {Write-host \"four ends\"}\n",
    "    process { #  use -ErrorAction Stop\n",
    "\n",
    "            Write-host \"Error action preference in four is $ErrorActionPreference\"\n",
    "            $result = one | two -ErrorAction Stop | three  \n",
    "            Write-host \"And the result is \"\n",
    "            $result\n",
    "    }\n",
    "}\n",
    "four"
   ]
  },
  {
   "cell_type": "markdown",
   "metadata": {},
   "source": [
    "## 5 Stop the pipeline, C# style - _pipeline_ terminating errors\n",
    "The functions `one` `two` and `three` interact in the pipeline: function `one` does some work, then functions `two` and `three`, before `one` does some more. This means PowerShell needs a mechanism for a fatal error in part of the pipeline to halt other cmdlets or functions, because simply writing an error and returning from `two` won’t stop `one` sending further data.\n",
    "\n",
    "I referred earlier to compiled cmdlets calling `ThrowTerminatingError()`, which stops the cmdlet and any pipeline it is part of. In advanced functions, `$PSCmdlet` gives access to `ThrowTerminatingError()`, the next two examples show it stopping just the function it is in, and stopping a pipeline:\n"
   ]
  },
  {
   "cell_type": "code",
   "execution_count": 21,
   "metadata": {
    "vscode": {
     "languageId": "powershell"
    }
   },
   "outputs": [
    {
     "name": "stdout",
     "output_type": "stream",
     "text": [
      "four begins\n",
      "Error action preference in four is Continue\n",
      "one begins\n",
      "two begins\n",
      "three begins\n",
      "three Processed 1\n",
      "seven begins\n",
      "\u001b[91mseven: \n",
      "\u001b[96mLine |\n",
      "\u001b[96m  24 | \u001b[0m         if ($P -eq 2) {\u001b[96mseven\u001b[0m}\n",
      "\u001b[96m     | \u001b[91m                        ~~~~~\n",
      "\u001b[91m\u001b[96m     | \u001b[91mThis is not the result you are looking for\u001b[0m\n",
      "three Processed 2\n",
      "three Processed 3\n",
      "one ends\n",
      "two ends\n",
      "three ends\n",
      "And the result is \n",
      "1\n",
      "2\n",
      "3\n",
      "four ends\n"
     ]
    }
   ],
   "source": [
    "function seven {[cmdletbinding()]param()\n",
    "    begin {Write-Host \"seven begins\"}  end {Write-host \"seven ends\"}\n",
    "    process { # create an error record, which contains an exception, then throw it.\n",
    "\n",
    "        $ex = [System.Exception]::new(\"This is not the result you are looking for\")\n",
    "        $er = [System.Management.Automation.ErrorRecord]::new(\n",
    "            $ex, \"42\", [System.Management.Automation.ErrorCategory]::OperationStopped, $null) \n",
    "        $PSCmdlet.ThrowTerminatingError($er)\n",
    "    }\n",
    "}\n",
    "function four {[cmdletbinding()]param()\n",
    "    begin {Write-Host \"four begins\"}  end {Write-host \"four ends\"}\n",
    "    process { # back to no error action or try/catch\n",
    "\n",
    "        Write-host \"Error action preference in four is $ErrorActionPreference\"\n",
    "        $result = one | two | three\n",
    "        Write-host \"And the result is \"\n",
    "        $result\n",
    "    }\n",
    "}\n",
    "function two { param ([parameter(ValueFromPipeline)]$p )\n",
    "    begin {Write-Host \"two begins\"}   end {Write-host \"two ends\"}\n",
    "    process {\n",
    "        if ($P -eq 2) {seven}\n",
    "        $p\n",
    "    }\n",
    "}\n",
    "four"
   ]
  },
  {
   "cell_type": "markdown",
   "metadata": {},
   "source": [
    "The code above defines a new function named `seven` which is called in function `two` - `two` is called from the original version of `four`.\n",
    "When `$PSCmdlet.ThrowTerminatingError()` is called, only `seven` is affected - everything runs except for `seven`'s end block, as seen above:\n",
    "\n",
    "This is behaviour “a” (everything runs). Inside function `two` the error “This is not the result you are looking for” could be handled with `try / catch` or `trap` but, as in the divide-by-zero case, printing the messages is deemed to be sufficient handling when these aren’t used and error action preference is `continue`.\n",
    "\n",
    "Modifying function `two` to contain `ThrowTerminatingError()` - instead of calling something which contains it - usually results in pipeline ending behaviour “b”:\n"
   ]
  },
  {
   "cell_type": "code",
   "execution_count": 22,
   "metadata": {
    "vscode": {
     "languageId": "powershell"
    }
   },
   "outputs": [
    {
     "name": "stdout",
     "output_type": "stream",
     "text": [
      "four begins\n",
      "Error action preference in four is Continue\n",
      "one begins\n",
      "two begins\n",
      "three begins\n",
      "three Processed 1\n",
      "\u001b[91mtwo: \n",
      "\u001b[96mLine |\n",
      "\u001b[96m  16 | \u001b[0m         $result = one | \u001b[96mtwo\u001b[0m | three\n",
      "\u001b[96m     | \u001b[91m                         ~~~\n",
      "\u001b[91m\u001b[96m     | \u001b[91mA different error\u001b[0m\n",
      "And the result is \n",
      "four ends\n"
     ]
    }
   ],
   "source": [
    "function two { param( [parameter(ValueFromPipeline)]$p )\n",
    "    begin {Write-Host \"two begins\"}   end {Write-host \"two ends\"}\n",
    "    process {\n",
    "        if ($p -eq 2) {\n",
    "            $ex = [System.Exception]::new(\"A different error\")\n",
    "            $er = [System.Management.Automation.ErrorRecord]::new($ex, \"42\",\n",
    "                [System.Management.Automation.ErrorCategory]::OperationStopped, $null)\n",
    "            $PSCmdlet.ThrowTerminatingError($er)\n",
    "            }\n",
    "            $p\n",
    "    }\n",
    "}\n",
    "four"
   ]
  },
  {
   "cell_type": "markdown",
   "metadata": {},
   "source": [
    "The pipeline terminates, and again a `try/catch `or `trap` would handle the error, and as before, printing the message is deemed to be sufficient handling, so `four` isn’t stopped.\n",
    "    \n",
    "The examples so far have shown that if anything except `Stop` changing the behaviour of `WriteError()` leads to a terminating error, then when that error is received, if there is no `try / catch` or `trap` to handle it, the behaviour is determined by local value of error action and default setting of `continue` makes the printing of the error message sufficient “handling”.\n",
    "But there is one major case we haven’t reached yet and I hope you are asking\n",
    "*Isn’t PowerShell’s `throw` statement the same as the `ThrowTerminatingError()` method?*\n",
    "\n",
    "## 6 Throwing spanners in the works\n",
    "The answer to the previous question is that the terminating errors thrown in the two ways are different. The `throw` statement _doesn’t need any arguments_, but it can take an `[ErrorRecord]` object or take a string and convert it into an error record - the next example replaces the method in the previous one with the `throw` statement and sends an error record:\n"
   ]
  },
  {
   "cell_type": "code",
   "execution_count": 23,
   "metadata": {
    "vscode": {
     "languageId": "powershell"
    }
   },
   "outputs": [
    {
     "name": "stdout",
     "output_type": "stream",
     "text": [
      "four begins\n",
      "Error action preference in four is Continue\n",
      "one begins\n",
      "two begins\n",
      "three begins\n",
      "three Processed 1\n",
      "\u001b[91mOperationStopped: \n",
      "\u001b[96mLine |\n",
      "\u001b[96m   8 | \u001b[0m             \u001b[96mthrow $er\u001b[0m\n",
      "\u001b[96m     | \u001b[91m             ~~~~~~~~~\n",
      "\u001b[91m\u001b[96m     | \u001b[91mA different error\u001b[0m\n"
     ]
    }
   ],
   "source": [
    "function two { param( [parameter(ValueFromPipeline)]$p )\n",
    "    begin {Write-Host \"two begins\"}   end {Write-host \"two ends\"}\n",
    "    process {\n",
    "        if ($p -eq 2) {\n",
    "            $ex = [System.Exception]::new(\"A different error\")\n",
    "            $er = [System.Management.Automation.ErrorRecord]::new($ex, \"42\",\n",
    "                [System.Management.Automation.ErrorCategory]::OperationStopped, $null)\n",
    "            throw $er\n",
    "        }\n",
    "        $p\n",
    "    }\n",
    "}\n",
    "four"
   ]
  },
  {
   "cell_type": "markdown",
   "metadata": {},
   "source": [
    "Before this change, the `method` stopped the pipeline but not its caller (a.k.a behaviour “b”) because printing the error was sufficient handling in function `four`. But now that the `throw` _statement_ is used in something called from function `four`, the behaviour changes to “c” - stopping both pipeline and caller - printing the message is not enough.\n",
    "\n",
    "A bit like upgrading `WriteError()`, if `throw` just sent a standard terminating error, the default error action preference of `continue` would mean the `error` was considered to be _handled_ by printing the message, so `throw` wouldn’t stop anything. Instead, errors from the `throw` statement treat `Continue` as `stop`. By default, the block containing the statement stops, passing the error to its caller, if the error is not handled there that block stops, passing the error… and so on until either the error is handled or the whole stack is unwound, which is what happened in the example above. But passing the error up can mean it is processed with a different error action preference. We can see this by re-using function five from earlier\n"
   ]
  },
  {
   "cell_type": "code",
   "execution_count": 26,
   "metadata": {
    "vscode": {
     "languageId": "powershell"
    }
   },
   "outputs": [
    {
     "name": "stdout",
     "output_type": "stream",
     "text": [
      "Error action preference in five is Continue\n",
      "two begins\n",
      "\u001b[91mOperationStopped: \n",
      "\u001b[96mLine |\n",
      "\u001b[96m   8 | \u001b[0m             \u001b[96mthrow $er\u001b[0m\n",
      "\u001b[96m     | \u001b[91m             ~~~~~~~~~\n",
      "\u001b[91m\u001b[96m     | \u001b[91mA different error\u001b[0m\n"
     ]
    }
   ],
   "source": [
    "function five {[cmdletbinding()] param ($p) \n",
    "    Write-host \"Error action preference in five is $ErrorActionPreference\"\n",
    "    Two  $P -ErrorAction continue ; \n",
    "    \"Five done\"\n",
    "}\n",
    "five 2"
   ]
  },
  {
   "cell_type": "code",
   "execution_count": 27,
   "metadata": {
    "vscode": {
     "languageId": "powershell"
    }
   },
   "outputs": [
    {
     "name": "stdout",
     "output_type": "stream",
     "text": [
      "Error action preference in five is SilentlyContinue\n",
      "two begins\n",
      "Five done\n"
     ]
    }
   ],
   "source": [
    "five 2 -ErrorAction SilentlyContinue"
   ]
  },
  {
   "cell_type": "markdown",
   "metadata": {},
   "source": [
    "In the first of the two examples above `five` stopped because there was an unhandled error from `throw`, that error has a special handling of `continue = stop` so we get behaviour “c”.\n",
    "In the second example, error action preference in `two` and `five` were different, so `two` stopped but when the error was handed up to `five` `silentlyContinue` took effect and `five` finished - behaviour b.\n",
    "So: errors from the `throw` statement have special behaviour, but it only applies to `continue` where `WriteError()` switching to a terminating error also affected `SilentlyContinue` and `Ignore`\n",
    "\n",
    "You might wonder why I set the error action explicitly when calling `two` from `five` in those two examples. There are three places to set the Error action."
   ]
  },
  {
   "cell_type": "code",
   "execution_count": 31,
   "metadata": {
    "vscode": {
     "languageId": "powershell"
    }
   },
   "outputs": [
    {
     "name": "stdout",
     "output_type": "stream",
     "text": [
      "two begins\n",
      "two ends\n",
      "Five Done\n",
      "or\n",
      "two begins\n",
      "two ends\n",
      "Five Done\n",
      "or\n",
      "\u001b[91mfive: \n",
      "\u001b[96mLine |\n",
      "\u001b[96m   9 | \u001b[0m \u001b[96mfive\u001b[0m\n",
      "\u001b[96m     | \u001b[91m ~~~~\n",
      "\u001b[91m\u001b[96m     | \u001b[91mA positional parameter cannot be found that accepts argument 'Five Done'.\u001b[0m\n"
     ]
    }
   ],
   "source": [
    "function five {[cmdletbinding()] param ($P)  two $P -ErrorAction continue ; \"Five Done\"} \n",
    "five  \n",
    "\"or\"\n",
    "function five {[cmdletbinding()] param ($P)  two $P; \"Five Done\"}\n",
    "Five -ErrorAction stop\n",
    "\"or\"\n",
    "function five { [cmdletBinding()] param($P)  two $p \"Five Done\"}\n",
    "$ErrorActionPreference = \"Stop\"\n",
    "five"
   ]
  },
  {
   "cell_type": "markdown",
   "metadata": {},
   "source": [
    "In the second and third `two` inherits the Error Action Preference set in `five` - which can have side effects and `-ErrorAction` can cause other unexpected results.\n"
   ]
  },
  {
   "cell_type": "code",
   "execution_count": 32,
   "metadata": {
    "vscode": {
     "languageId": "powershell"
    }
   },
   "outputs": [
    {
     "name": "stdout",
     "output_type": "stream",
     "text": [
      "\n",
      "\n",
      "    Directory: C:\\Users\n",
      "\n",
      "Mode                 LastWriteTime         Length Name\n",
      "----                 -------------         ------ ----\n",
      "d----          16/06/2022    12:59                mrrob\n",
      "\n"
     ]
    }
   ],
   "source": [
    "Get-Item \"NonExistent\",\".\" -ErrorAction SilentlyContinue"
   ]
  },
  {
   "cell_type": "markdown",
   "metadata": {},
   "source": [
    "Outputs the items it can get, and the messages written to the error channel are silenced.\n",
    "But `ThrowTerminatingError()` doesn’t write messages to the error channel in the same way, and so\n"
   ]
  },
  {
   "cell_type": "code",
   "execution_count": 33,
   "metadata": {
    "vscode": {
     "languageId": "powershell"
    }
   },
   "outputs": [
    {
     "name": "stdout",
     "output_type": "stream",
     "text": [
      "seven begins\n",
      "\u001b[91mseven: \u001b[91mThis is not the result you are looking for\u001b[0m\n"
     ]
    }
   ],
   "source": [
    "seven -ErrorAction SilentlyContinue"
   ]
  },
  {
   "cell_type": "markdown",
   "metadata": {},
   "source": [
    "still outputs the error message.\n",
    "This can be frustrating, I remember complaining that _“Active directory cmdlets don’t respect error action”_. On closer inspection, the commands are terminating when it is impossible for them to continue, and _that style of termination_ can be handled with `try / catch` even if the catch block is empty to have the same effect as `SilentlyContinue`. Functions which upgrade `WriteError()` also need `try / catch`\n",
    "\n",
    "The `-ErrorAction` parameter does not affect function `seven`, because it doesn’t receive terminating errors from anything it calls, and it doesn’t call `WriteError()` - but it does affect whatever calls `seven`. Setting the global preference `$ErrorActionPreference = \"SilentlyContinue\"` has no effect on `seven’s` call to `$PSCmdlet.ThrowTerminatingError()` which still exits the function sending an error back, but whatever receives that error continues silently.\n",
    "\n",
    "When the pipeline was told to run\n"
   ]
  },
  {
   "cell_type": "code",
   "execution_count": 34,
   "metadata": {
    "vscode": {
     "languageId": "powershell"
    }
   },
   "outputs": [
    {
     "name": "stdout",
     "output_type": "stream",
     "text": [
      "one begins\n",
      "two begins\n",
      "three begins\n",
      "three Processed 1\n",
      "1\n",
      "\u001b[91mOperationStopped: \n",
      "\u001b[96mLine |\n",
      "\u001b[96m   8 | \u001b[0m             \u001b[96mthrow $er\u001b[0m\n",
      "\u001b[96m     | \u001b[91m             ~~~~~~~~~\n",
      "\u001b[91m\u001b[96m     | \u001b[91mA different error\u001b[0m\n"
     ]
    }
   ],
   "source": [
    "one | two -ErrorAction Stop | three"
   ]
  },
  {
   "cell_type": "markdown",
   "metadata": {},
   "source": [
    "the `ErrorAction` parameter set the value `$ErrorActionPreference` inside two to jointly say two things: “In _your scope_ the action for unhandled terminating errors (like divide-by-zero) is `stop` and if anything called from you writes an error message, make a terminating error which ignores `Continue / SilentlyContinue` and `Ignore`.\n",
    "On one occasion above, function `two` was told this with divide-by-zero - giving behaviour “b” when the ‘normal’ terminating error was processed under a preference of `continue`. On another occasion it was told this with `Get-Item` writing an error - resulting in behaviour “c” with the ‘special’ terminating error.\n",
    "\n",
    "This brings us back to `WriteError()` combined with `Stop` producing errors which can’t be silenced, where errors from the `throw` statement can be. Some people see this as a design flaw, but fixing it would create problems for existing scripts.\n",
    "The last version of `two` uses the `throw` statement, and error action (even when inherited) can change what `throw` does. If the author of `two` assumes that use of `throw` means the function will _always send back an error_, the result of the next command might be a surprise.\n"
   ]
  },
  {
   "cell_type": "code",
   "execution_count": 35,
   "metadata": {
    "vscode": {
     "languageId": "powershell"
    }
   },
   "outputs": [
    {
     "name": "stdout",
     "output_type": "stream",
     "text": [
      "one begins\n",
      "two begins\n",
      "three begins\n",
      "three Processed 1\n",
      "three Processed 2\n",
      "three Processed 3\n",
      "one ends\n",
      "two ends\n",
      "three ends\n"
     ]
    }
   ],
   "source": [
    "$x = one | two -ErrorAction SilentlyContinue | three"
   ]
  },
  {
   "cell_type": "markdown",
   "metadata": {},
   "source": [
    "Setting `SilentlyContinue` means the `throw` statement has no effect - if `throw` is there to prevent execution continuing into something which might be harmful, it is a good idea to use `throw... ; return` so if the command is told to silently continue, execution still goes back to whatever called it.\n",
    "\n",
    "In the same way, code which assumes that it wil be able to run something after an error has occurred may not clean up properly if it is run with `-ErrorAction Stop`.\n",
    "\n",
    "## 7 Break - which breaks stuff, and exit\n",
    "For completeness the `break` statement is designed for flow control statements where it means “stop processing this item, and don’t process any further items”. And the PowerShell help has a warning not to use it elsewhere because:\n",
    "\n",
    ">PowerShell looks up the call stack for an enclosing construct. If it can’t find [one] the current runspace is quietly terminated. [meaning functions and scripts ] can inadvertently terminate their callers.\n",
    "\n",
    "The `throw` statement terminates callers by default, but provides a message to say why and can it be handled with `try / catch` or `trap` or some values of `$ErrorActionPreference`. By contrast `break` doesn’t explain itself - and is either inside a construct which handles it or stops everything.\n",
    "To see this we can create a function which contains a `break` statement and use it with the `foreach` _statement_ - which handles `break`, and the `ForEach-Object` _cmdlet_ - which doesn’t.\n"
   ]
  },
  {
   "cell_type": "code",
   "execution_count": 36,
   "metadata": {
    "vscode": {
     "languageId": "powershell"
    }
   },
   "outputs": [
    {
     "name": "stdout",
     "output_type": "stream",
     "text": [
      "1 a\n",
      "2 a\n",
      "3 a\n",
      "Finished\n"
     ]
    }
   ],
   "source": [
    "function eight {param ($p) $p ; break }  \n",
    "\n",
    "foreach ($x in @(1..3)) { foreach ($y in @('a','b')) { eight \"$x $y\"  }} ; \"Finished\"\n"
   ]
  },
  {
   "cell_type": "code",
   "execution_count": 37,
   "metadata": {
    "vscode": {
     "languageId": "powershell"
    }
   },
   "outputs": [
    {
     "name": "stdout",
     "output_type": "stream",
     "text": [
      "1 a\n"
     ]
    }
   ],
   "source": [
    "1..3 | ForEach-Object -Process { \"$_ a\",\"$_ b\" | ForEach-Object { eight $_ } } -End {\"Ending\"} ; \"Finished\""
   ]
  },
  {
   "cell_type": "markdown",
   "metadata": {},
   "source": [
    "The version using the foreach statement is the first example\n",
    "\n",
    "The `break` in the inner loop causes it to exit after processing the value for “a” but the outer loop continues with item 2 and 3, and “Finished” is printed.\n",
    "\n",
    "The second version with the cmdlet self-destructs when it it reaches `break` and only outputs 1 a.\n",
    "If `eight` is a private function which will only be used in a `foreach` or similar statement this design might be useful, but if `eight` _is available anywhere_ using `break` is reckless.\n",
    "\n",
    "`Exit` is the only PowerShell statement I can think of which behaves differently in a script file to a function. (Spoiling my usual description that a script is a script block in a file, and a function is a script block in special-purpose variable.)\n",
    "\n",
    "I’ve [written about `exit` (and `break`) before](https://jhoneill.github.io/powershell/2019/08/21/ExitThrowReturnEtc.html). The `exit` statement takes an optional value for the exit code, which defaults to zero, and can be a negative number on Windows, but must be positive on Linux. If a _script_ ends with `exit 123` then running the script from within PowerShell will leave the 123 in `$LastExitCode`. If PowerShell is run with `-File script.ps1`, it exits with an exit code of `123`. But if it is run with `-Command script.ps1` or `-command \"& 'path with spaces.ps1'\"` then it runs the script, has nothing else to run and exits with an error code of 0 indicating “all commands ran”.\n",
    "\n",
    "`Exit 123` at the PowerShell prompt closes that instance of PowerShell returning an exit code of 123, as does `Exit 123` in a _function_ - so in a function it is “close PowerShell”, in a script it is “return with an exit code”. And that’s where this post started, so time for me to exit.\n",
    "\n",
    "## Finally {}\n",
    "A summary\n",
    "\n",
    "- We have errors - which divide into non-terminating and terminating - warnings and exits.\n",
    "- Non-terminating errors can printed, silenced, drop into the debugger or ask the user what to do next; they can also be upgraded to terminating errors but without doing that, they cannot be trapped or - caught.\n",
    "- Terminating errors can be handled with `trap` or `try / catch` or treated as “handled” just by printing them, handled silently, drop into the debugger or ask the user what to do next, or simply stop.\n",
    "- Some terminating errors disallow some options - in particular those from upgraded non-terminating errors and those generated by the throw statement.\n",
    "- The preference variable `$ErrorActionPreference` sets the behaviour for both terminating and non terminating errors, and the `-ErrorAction` common parameter sets it for a single cmdlet/ Advanced-function\n",
    "- Problems arise when functions assume they will only be run with `$ErrorActionPreference` set to particular values, or assume that they will only see errors which have been generated in particular ways."
   ]
  }
 ],
 "metadata": {
  "kernelspec": {
   "display_name": ".NET (PowerShell)",
   "language": "PowerShell",
   "name": ".net-powershell"
  },
  "language_info": {
   "file_extension": ".ps1",
   "mimetype": "text/x-powershell",
   "name": "PowerShell",
   "pygments_lexer": "powershell",
   "version": "7.0"
  }
 },
 "nbformat": 4,
 "nbformat_minor": 2
}
