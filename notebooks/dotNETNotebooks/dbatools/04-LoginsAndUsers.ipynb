{
    "metadata": {
        "kernelspec": {
            "name": ".net-powershell",
            "display_name": ".NET (PowerShell)",
            "language": "PowerShell"
        },
        "language_info": {
            "name": "PowerShell",
            "version": "7.0",
            "mimetype": "text/x-powershell",
            "file_extension": ".ps1",
            "pygments_lexer": "powershell"
        }
    },
    "nbformat_minor": 2,
    "nbformat": 4,
    "cells": [
        {
            "cell_type": "markdown",
            "source": [
                "# Logins and users\n",
                "\n",
                "***You will need to have followed the steps in the 00-CreateContainers notebook to use this notebook***\n",
                "\n",
                "We have written a book which will give you a brilliant introduction to dbatools. It's called dbatools in a Month of Lunches and you can find it at https://beard.media/book\n",
                "\n",
                "dbatools is **awesome** with Logins and Users\n",
                "\n",
                "First we will set up the variables and connections to the containers"
            ],
            "metadata": {
                "azdata_cell_guid": "75593120-caf9-4598-9669-8967d50eeeb5"
            }
        },
        {
            "cell_type": "code",
            "source": [
                "$FolderPath = $Env:USERPROFILE + '\\Documents\\dbatoolsdemo'\n",
                "$SqlInstances = 'localhost,15592', 'localhost,15593'\n",
                "$SqlCredential = Import-Clixml -Path $FolderPath\\sqladmin.cred\n",
                "Write-Output \" Creating connection to the containers\"\n",
                "try {\n",
                "    $SQL1 = Connect-DbaInstance -SqlInstance $SqlInstances[0] -SqlCredential $SqlCredential \n",
                "    $SQL2 = Connect-DbaInstance -SqlInstance $SqlInstances[1] -SqlCredential $SqlCredential\n",
                "    Write-Output \"We have a connection to the containers\"\n",
                "\n",
                "}\n",
                "catch {\n",
                "    Write-Output \"You haven't got a connection to the containers - Either they are still upgrading in which case try again in 30 seconds or the containers have not come up correctly\"\n",
                "    Write-Output \"Make sure the containers are running - the code is below in a block for you\"\n",
                "    Write-Output \"docker ps -a\"\n",
                "    Write-Output \"If they are read the logs - the code is below in a block for you\"\n",
                "    Write-Output \"docker logs dbatools_SQL2019_1\"\n",
                "    Write-Output \"docker logs dbatools_SQL2019-1_1\"\n",
                "}\n",
                "# Run this first to make sure output width does not mess with output - Update output buffer size to prevent clipping in Visual Studio output window.\n",
                "if( $Host -and $Host.UI -and $Host.UI.RawUI ) {\n",
                "    $rawUI = $Host.UI.RawUI\n",
                "    $oldSize = $rawUI.BufferSize\n",
                "    $typeName = $oldSize.GetType( ).FullName\n",
                "    $newSize = New-Object $typeName (500, $oldSize.Height)\n",
                "    $rawUI.BufferSize = $newSize\n",
                "  }"
            ],
            "metadata": {
                "azdata_cell_guid": "0ecd5f61-b39c-491f-a810-2d37ddb298ed",
                "jupyter": {
                    "source_hidden": true
                },
                "tags": [
                    "hide_input"
                ]
            },
            "outputs": [
                {
                    "name": "stdout",
                    "text": " Creating connection to the containers\r\n",
                    "output_type": "stream"
                },
                {
                    "name": "stdout",
                    "text": "We have a connection to the containers\r\n",
                    "output_type": "stream"
                }
            ],
            "execution_count": 5
        },
        {
            "cell_type": "markdown",
            "source": [
                "## A story of a login\n",
                "\n",
                "Run this cell below to set up the start"
            ],
            "metadata": {
                "azdata_cell_guid": "72973d14-0778-48c1-b7e0-2486168cedca"
            }
        },
        {
            "cell_type": "code",
            "source": [
                "New-DbaDatabase -SqlInstance $SQL1 -Name SockFactoryApp | Out-Null\n",
                "$Password = ConvertTo-SecureString SockFactoryApp_User -AsPlainText\n",
                "New-DbaLogin -SqlInstance $Sql1 -Login SockFactoryApp_User -SecurePassword $Password |Out-Null\n",
                "New-DbaDbUser -SqlInstance $SQL1 -Database SockFactoryApp -Login SockFactoryApp_User -Username SockFactoryApp_User  | Out-Null\n",
                "Remove-DbaLogin -SqlInstance $SQL1 -Login SockFactoryApp_User -Force   | Out-Null\n",
                "$sqladminPassword = ConvertTo-SecureString 'dbatools.IO' -AsPlainText -Force \n",
                "$cred = New-Object System.Management.Automation.PSCredential ('SockFactory_App', $sqladminpassword)\n",
                "Invoke-DbaQuery -SqlInstance $SqlInstances[0] -SqlCredential $cred -Query \"SELECT @@SERVER\" -WarningAction SilentlyContinue\n",
                "Invoke-DbaQuery -SqlInstance $SqlInstances[0] -SqlCredential $cred -Query \"SELECT @@SERVER\" -WarningAction SilentlyContinue\n",
                "Invoke-DbaQuery -SqlInstance $SqlInstances[0] -SqlCredential $cred -Query \"SELECT @@SERVER\" -WarningAction SilentlyContinue\n",
                "Invoke-DbaQuery -SqlInstance $SqlInstances[0] -SqlCredential $cred -Query \"SELECT @@SERVER\" -WarningAction SilentlyContinue\n",
                "\n",
                "\n",
                "Write-Output \"Setup finished\""
            ],
            "metadata": {
                "azdata_cell_guid": "555e1f39-f285-4a25-b09c-b57bbbccc5ad",
                "jupyter": {
                    "source_hidden": true
                }
            },
            "outputs": [
                {
                    "name": "stdout",
                    "text": "Setup finished\r\n",
                    "output_type": "stream"
                }
            ],
            "execution_count": 3
        },
        {
            "cell_type": "markdown",
            "source": [
                "# 3am Tuesday Morning\n",
                "\n",
                "You receive a call out because the Sock Factory has shut down and \n",
                "\n",
                "> It's the database's fault  \n",
                "The connection is failing\n",
                "\n",
                "Amongst your troubleshooting steps (perhaps they could/should be in a notebook so the results get saved?) \n",
                "You look in the error log for failed logins\n",
                "\n",
                "You can do this with dbatools "
            ],
            "metadata": {
                "azdata_cell_guid": "50bda2b4-5133-4cc9-becd-497204c4be9f"
            }
        },
        {
            "cell_type": "code",
            "source": [
                "Get-DbaErrorLog -SqlInstance $sql1 -Text  Login | Select LogDate,Source,Text  "
            ],
            "metadata": {
                "azdata_cell_guid": "48a7389f-257a-48ca-80d1-961cd03caed6"
            },
            "outputs": [
                {
                    "name": "stdout",
                    "text": "\r\n",
                    "output_type": "stream"
                },
                {
                    "name": "stdout",
                    "text": "LogDate             Source  Text\r\n",
                    "output_type": "stream"
                },
                {
                    "name": "stdout",
                    "text": "-------             ------  ----\r\n",
                    "output_type": "stream"
                },
                {
                    "name": "stdout",
                    "text": "06/08/2021 09:44:12 spid12s SQL Trace ID 1 was started by login \"sa\".\r\n",
                    "output_type": "stream"
                },
                {
                    "name": "stdout",
                    "text": "06/08/2021 09:44:27 Logon   Login failed for user 'sqladmin'. Reason: Could not find a login matching the name provided. [CLIENT: 172.17.0.1]\r\n",
                    "output_type": "stream"
                },
                {
                    "name": "stdout",
                    "text": "06/08/2021 09:44:35 Logon   Login failed for user 'sa'. Reason: Password did not match that for the login provided. [CLIENT: 172.17.0.1]\r\n",
                    "output_type": "stream"
                },
                {
                    "name": "stdout",
                    "text": "06/08/2021 09:44:42 Logon   Login failed for user 'sa'. Reason: Password did not match that for the login provided. [CLIENT: 172.17.0.1]\r\n",
                    "output_type": "stream"
                },
                {
                    "name": "stdout",
                    "text": "06/08/2021 09:45:23 Logon   Login failed for user 'sqladmin'. Reason: Password did not match that for the login provided. [CLIENT: 172.17.0.1]\r\n",
                    "output_type": "stream"
                },
                {
                    "name": "stdout",
                    "text": "06/08/2021 09:45:53 Logon   Login failed for user 'sqladmin'. Reason: Password did not match that for the login provided. [CLIENT: 172.17.0.1]\r\n",
                    "output_type": "stream"
                },
                {
                    "name": "stdout",
                    "text": "06/08/2021 11:14:20 spid11s SQL Trace ID 1 was started by login \"sa\".\r\n",
                    "output_type": "stream"
                },
                {
                    "name": "stdout",
                    "text": "06/08/2021 11:20:30 Logon   Login failed for user 'SockFactory_App'. Reason: Could not find a login matching the name provided. [CLIENT: 192.168.80.1]…\r\n",
                    "output_type": "stream"
                },
                {
                    "name": "stdout",
                    "text": "\r\n",
                    "output_type": "stream"
                }
            ],
            "execution_count": 6
        },
        {
            "cell_type": "markdown",
            "source": [
                "No login?\n",
                "Interesting.  \n",
                "\n",
                "Then you remember a new replica was added to the Availability Group at the weekend. \n",
                "\n",
                "Maybe the DBA did not add the logins correctly\n",
                "\n",
                "You need to check for the login"
            ],
            "metadata": {
                "azdata_cell_guid": "fcca16b8-f202-427b-a691-44427fe54cc6"
            }
        },
        {
            "cell_type": "code",
            "source": [
                "Get-DbaLogin -SqlInstance $SQL1 -Login SockFactoryApp_User"
            ],
            "metadata": {
                "azdata_cell_guid": "fa824c81-3687-4e70-a023-20ffda18b31d"
            },
            "outputs": [],
            "execution_count": 8
        },
        {
            "cell_type": "markdown",
            "source": [
                "No response means no login :-(\n",
                "\n",
                "It's ok, just create a new login using the password from the secure password vault"
            ],
            "metadata": {
                "azdata_cell_guid": "41c0980c-69c7-4b11-9094-15bab4caf185"
            }
        },
        {
            "cell_type": "code",
            "source": [
                "$Password = ConvertTo-SecureString SockFactoryApp_User -AsPlainText\n",
                "New-DbaLogin -SqlInstance $Sql1 -Login SockFactoryApp_User -SecurePassword $Password"
            ],
            "metadata": {
                "azdata_cell_guid": "d16c00a0-0bb0-4948-8ee6-9dbd7df85c6c"
            },
            "outputs": [
                {
                    "name": "stdout",
                    "text": "\r\n",
                    "output_type": "stream"
                },
                {
                    "name": "stdout",
                    "text": "ComputerName       : localhost\r\n",
                    "output_type": "stream"
                },
                {
                    "name": "stdout",
                    "text": "InstanceName       : MSSQLSERVER\r\n",
                    "output_type": "stream"
                },
                {
                    "name": "stdout",
                    "text": "SqlInstance        : beardsql01\r\n",
                    "output_type": "stream"
                },
                {
                    "name": "stdout",
                    "text": "Name               : SockFactoryApp_User\r\n",
                    "output_type": "stream"
                },
                {
                    "name": "stdout",
                    "text": "LoginType          : SqlLogin\r\n",
                    "output_type": "stream"
                },
                {
                    "name": "stdout",
                    "text": "CreateDate         : 06/08/2021 11:21:50\r\n",
                    "output_type": "stream"
                },
                {
                    "name": "stdout",
                    "text": "LastLogin          : \r\n",
                    "output_type": "stream"
                },
                {
                    "name": "stdout",
                    "text": "HasAccess          : True\r\n",
                    "output_type": "stream"
                },
                {
                    "name": "stdout",
                    "text": "IsLocked           : False\r\n",
                    "output_type": "stream"
                },
                {
                    "name": "stdout",
                    "text": "IsDisabled         : False\r\n",
                    "output_type": "stream"
                },
                {
                    "name": "stdout",
                    "text": "MustChangePassword : False\r\n",
                    "output_type": "stream"
                },
                {
                    "name": "stdout",
                    "text": "\r\n",
                    "output_type": "stream"
                },
                {
                    "name": "stdout",
                    "text": "\r\n",
                    "output_type": "stream"
                }
            ],
            "execution_count": 9
        },
        {
            "cell_type": "markdown",
            "source": [
                "and check that it exists"
            ],
            "metadata": {
                "azdata_cell_guid": "6fc85661-9edb-44ff-8ca8-4e3f0a8661d7"
            }
        },
        {
            "cell_type": "code",
            "source": [
                "Get-DbaLogin -SqlInstance $SQL1 -Login SockFactoryApp_User"
            ],
            "metadata": {
                "azdata_cell_guid": "aeb8d421-6959-43fb-855b-f646e547298b"
            },
            "outputs": [
                {
                    "name": "stdout",
                    "text": "\r\n",
                    "output_type": "stream"
                },
                {
                    "name": "stdout",
                    "text": "ComputerName       : localhost\r\n",
                    "output_type": "stream"
                },
                {
                    "name": "stdout",
                    "text": "InstanceName       : MSSQLSERVER\r\n",
                    "output_type": "stream"
                },
                {
                    "name": "stdout",
                    "text": "SqlInstance        : beardsql01\r\n",
                    "output_type": "stream"
                },
                {
                    "name": "stdout",
                    "text": "Name               : SockFactoryApp_User\r\n",
                    "output_type": "stream"
                },
                {
                    "name": "stdout",
                    "text": "LoginType          : SqlLogin\r\n",
                    "output_type": "stream"
                },
                {
                    "name": "stdout",
                    "text": "CreateDate         : 06/08/2021 11:21:50\r\n",
                    "output_type": "stream"
                },
                {
                    "name": "stdout",
                    "text": "LastLogin          : \r\n",
                    "output_type": "stream"
                },
                {
                    "name": "stdout",
                    "text": "HasAccess          : True\r\n",
                    "output_type": "stream"
                },
                {
                    "name": "stdout",
                    "text": "IsLocked           : False\r\n",
                    "output_type": "stream"
                },
                {
                    "name": "stdout",
                    "text": "IsDisabled         : False\r\n",
                    "output_type": "stream"
                },
                {
                    "name": "stdout",
                    "text": "MustChangePassword : False\r\n",
                    "output_type": "stream"
                },
                {
                    "name": "stdout",
                    "text": "\r\n",
                    "output_type": "stream"
                },
                {
                    "name": "stdout",
                    "text": "\r\n",
                    "output_type": "stream"
                }
            ],
            "execution_count": 10
        },
        {
            "cell_type": "markdown",
            "source": [
                "A quick email to the users to test and all will be well :-)"
            ],
            "metadata": {
                "azdata_cell_guid": "75fc03f8-2553-4ad2-83d0-7050d099c464"
            }
        },
        {
            "cell_type": "markdown",
            "source": [
                "## Its not always that easy\n",
                "\n",
                "The Users come back saying no socks are being made and it is still the database\n",
                "\n",
                "You have a look in the error log (we will just simulate the error first)"
            ],
            "metadata": {
                "azdata_cell_guid": "14886bce-7b6e-48f4-9b2b-a913d1b04549"
            }
        },
        {
            "cell_type": "code",
            "source": [
                "$sqladminPassword = ConvertTo-SecureString 'SockFactoryApp_User' -AsPlainText -Force \n",
                "$cred = New-Object System.Management.Automation.PSCredential ('SockFactoryApp_User', $sqladminpassword)\n",
                "Invoke-DbaQuery -SqlInstance $SqlInstances[0] -SqlCredential $cred -Database SockFactoryApp -Query \"PRINT 'All is Well'\" -WarningAction SilentlyContinue"
            ],
            "metadata": {
                "azdata_cell_guid": "6bce949e-2b2e-4ebd-8164-231e056e25c0"
            },
            "outputs": [],
            "execution_count": 11
        },
        {
            "cell_type": "code",
            "source": [
                "Get-DbaErrorLog -SqlInstance $sql1 -Text  Login | Select LogDate,Source,Text  | Format-List"
            ],
            "metadata": {
                "azdata_cell_guid": "289653d6-cc56-4b43-8e2d-d308acc65858"
            },
            "outputs": [
                {
                    "name": "stdout",
                    "text": "\r\n",
                    "output_type": "stream"
                },
                {
                    "name": "stdout",
                    "text": "LogDate : 06/08/2021 09:44:12\r\n",
                    "output_type": "stream"
                },
                {
                    "name": "stdout",
                    "text": "Source  : spid12s\r\n",
                    "output_type": "stream"
                },
                {
                    "name": "stdout",
                    "text": "Text    : SQL Trace ID 1 was started by login \"sa\".\r\n",
                    "output_type": "stream"
                },
                {
                    "name": "stdout",
                    "text": "\r\n",
                    "output_type": "stream"
                },
                {
                    "name": "stdout",
                    "text": "LogDate : 06/08/2021 09:44:27\r\n",
                    "output_type": "stream"
                },
                {
                    "name": "stdout",
                    "text": "Source  : Logon\r\n",
                    "output_type": "stream"
                },
                {
                    "name": "stdout",
                    "text": "Text    : Login failed for user 'sqladmin'. Reason: Could not find a login matching the name provided. [CLIENT: 172.17.0.1]\r\n",
                    "output_type": "stream"
                },
                {
                    "name": "stdout",
                    "text": "\r\n",
                    "output_type": "stream"
                },
                {
                    "name": "stdout",
                    "text": "LogDate : 06/08/2021 09:44:35\r\n",
                    "output_type": "stream"
                },
                {
                    "name": "stdout",
                    "text": "Source  : Logon\r\n",
                    "output_type": "stream"
                },
                {
                    "name": "stdout",
                    "text": "Text    : Login failed for user 'sa'. Reason: Password did not match that for the login provided. [CLIENT: 172.17.0.1]\r\n",
                    "output_type": "stream"
                },
                {
                    "name": "stdout",
                    "text": "\r\n",
                    "output_type": "stream"
                },
                {
                    "name": "stdout",
                    "text": "LogDate : 06/08/2021 09:44:42\r\n",
                    "output_type": "stream"
                },
                {
                    "name": "stdout",
                    "text": "Source  : Logon\r\n",
                    "output_type": "stream"
                },
                {
                    "name": "stdout",
                    "text": "Text    : Login failed for user 'sa'. Reason: Password did not match that for the login provided. [CLIENT: 172.17.0.1]\r\n",
                    "output_type": "stream"
                },
                {
                    "name": "stdout",
                    "text": "\r\n",
                    "output_type": "stream"
                },
                {
                    "name": "stdout",
                    "text": "LogDate : 06/08/2021 09:45:23\r\n",
                    "output_type": "stream"
                },
                {
                    "name": "stdout",
                    "text": "Source  : Logon\r\n",
                    "output_type": "stream"
                },
                {
                    "name": "stdout",
                    "text": "Text    : Login failed for user 'sqladmin'. Reason: Password did not match that for the login provided. [CLIENT: 172.17.0.1]\r\n",
                    "output_type": "stream"
                },
                {
                    "name": "stdout",
                    "text": "\r\n",
                    "output_type": "stream"
                },
                {
                    "name": "stdout",
                    "text": "LogDate : 06/08/2021 09:45:53\r\n",
                    "output_type": "stream"
                },
                {
                    "name": "stdout",
                    "text": "Source  : Logon\r\n",
                    "output_type": "stream"
                },
                {
                    "name": "stdout",
                    "text": "Text    : Login failed for user 'sqladmin'. Reason: Password did not match that for the login provided. [CLIENT: 172.17.0.1]\r\n",
                    "output_type": "stream"
                },
                {
                    "name": "stdout",
                    "text": "\r\n",
                    "output_type": "stream"
                },
                {
                    "name": "stdout",
                    "text": "LogDate : 06/08/2021 11:14:20\r\n",
                    "output_type": "stream"
                },
                {
                    "name": "stdout",
                    "text": "Source  : spid11s\r\n",
                    "output_type": "stream"
                },
                {
                    "name": "stdout",
                    "text": "Text    : SQL Trace ID 1 was started by login \"sa\".\r\n",
                    "output_type": "stream"
                },
                {
                    "name": "stdout",
                    "text": "\r\n",
                    "output_type": "stream"
                },
                {
                    "name": "stdout",
                    "text": "LogDate : 06/08/2021 11:20:30\r\n",
                    "output_type": "stream"
                },
                {
                    "name": "stdout",
                    "text": "Source  : Logon\r\n",
                    "output_type": "stream"
                },
                {
                    "name": "stdout",
                    "text": "Text    : Login failed for user 'SockFactory_App'. Reason: Could not find a login matching the name provided. [CLIENT: 192.168.80.1]\r\n",
                    "output_type": "stream"
                },
                {
                    "name": "stdout",
                    "text": "\r\n",
                    "output_type": "stream"
                },
                {
                    "name": "stdout",
                    "text": "LogDate : 06/08/2021 11:21:59\r\n",
                    "output_type": "stream"
                },
                {
                    "name": "stdout",
                    "text": "Source  : Logon\r\n",
                    "output_type": "stream"
                },
                {
                    "name": "stdout",
                    "text": "Text    : Login failed for user 'SockFactoryApp_User'. Reason: Failed to open the explicitly specified database 'SockFactoryApp'. [CLIENT: 192.168.80.1]\r\n",
                    "output_type": "stream"
                },
                {
                    "name": "stdout",
                    "text": "\r\n",
                    "output_type": "stream"
                },
                {
                    "name": "stdout",
                    "text": "LogDate : 06/08/2021 11:22:09\r\n",
                    "output_type": "stream"
                },
                {
                    "name": "stdout",
                    "text": "Source  : Logon\r\n",
                    "output_type": "stream"
                },
                {
                    "name": "stdout",
                    "text": "Text    : Login failed for user 'SockFactoryApp_User'. Reason: Failed to open the explicitly specified database 'SockFactoryApp'. [CLIENT: 192.168.80.1]\r\n",
                    "output_type": "stream"
                },
                {
                    "name": "stdout",
                    "text": "          \r\n",
                    "output_type": "stream"
                },
                {
                    "name": "stdout",
                    "text": "\r\n",
                    "output_type": "stream"
                },
                {
                    "name": "stdout",
                    "text": "\r\n",
                    "output_type": "stream"
                }
            ],
            "execution_count": 12
        },
        {
            "cell_type": "markdown",
            "source": [
                "Hmmm \n",
                "\n",
                "> Failed to open the explicitly specified database 'SockFactoryApp'\n",
                "\n",
                "Does the user exist?"
            ],
            "metadata": {
                "azdata_cell_guid": "0c85391f-adf0-4327-a747-168ded022b7f"
            }
        },
        {
            "cell_type": "code",
            "source": [
                "Get-DbaDbUser -SqlInstance $SQL1 -Database SockFactoryApp -ExcludeSystemUser"
            ],
            "metadata": {
                "azdata_cell_guid": "75a45676-f25a-419c-b292-dfbddc525ddf"
            },
            "outputs": [
                {
                    "name": "stdout",
                    "text": "\r\n",
                    "output_type": "stream"
                },
                {
                    "name": "stdout",
                    "text": "ComputerName       : localhost\r\n",
                    "output_type": "stream"
                },
                {
                    "name": "stdout",
                    "text": "InstanceName       : MSSQLSERVER\r\n",
                    "output_type": "stream"
                },
                {
                    "name": "stdout",
                    "text": "SqlInstance        : beardsql01\r\n",
                    "output_type": "stream"
                },
                {
                    "name": "stdout",
                    "text": "Database           : SockFactoryApp\r\n",
                    "output_type": "stream"
                },
                {
                    "name": "stdout",
                    "text": "CreateDate         : 06/08/2021 11:20:29\r\n",
                    "output_type": "stream"
                },
                {
                    "name": "stdout",
                    "text": "DateLastModified   : 06/08/2021 11:20:29\r\n",
                    "output_type": "stream"
                },
                {
                    "name": "stdout",
                    "text": "Name               : SockFactoryApp_User\r\n",
                    "output_type": "stream"
                },
                {
                    "name": "stdout",
                    "text": "Login              : \r\n",
                    "output_type": "stream"
                },
                {
                    "name": "stdout",
                    "text": "LoginType          : SqlLogin\r\n",
                    "output_type": "stream"
                },
                {
                    "name": "stdout",
                    "text": "AuthenticationType : Instance\r\n",
                    "output_type": "stream"
                },
                {
                    "name": "stdout",
                    "text": "State              : Existing\r\n",
                    "output_type": "stream"
                },
                {
                    "name": "stdout",
                    "text": "HasDbAccess        : True\r\n",
                    "output_type": "stream"
                },
                {
                    "name": "stdout",
                    "text": "DefaultSchema      : dbo\r\n",
                    "output_type": "stream"
                },
                {
                    "name": "stdout",
                    "text": "\r\n",
                    "output_type": "stream"
                },
                {
                    "name": "stdout",
                    "text": "\r\n",
                    "output_type": "stream"
                }
            ],
            "execution_count": 13
        },
        {
            "cell_type": "markdown",
            "source": [
                "So the user exists but we can't login\n",
                "\n",
                "Whats going on ?\n",
                ".  \n",
                ".  \n",
                ".  \n",
                ".  \n",
                ".  \n",
                ".  \n",
                ".  \n",
                ".  \n",
                ".  \n",
                ".  \n",
                ".  \n",
                ".  \n",
                "  \n",
                "  \n",
                "    \n",
                "     \n",
                "       \n",
                "         \n",
                "           \n",
                "             \n",
                "\n",
                "\n",
                "\n",
                "\n",
                "\n",
                "\n",
                "\n"
            ],
            "metadata": {
                "azdata_cell_guid": "f7ab4fd9-d02b-431f-8b7c-1144b2014e24"
            }
        },
        {
            "cell_type": "markdown",
            "source": [
                "If you guessed Orphaned user \n",
                "  \n",
                "Let's check that"
            ],
            "metadata": {
                "azdata_cell_guid": "601bbee5-cfe1-4fc4-aa5b-267864877533"
            }
        },
        {
            "cell_type": "code",
            "source": [
                "Get-DbaDbOrphanUser -SqlInstance $sql1"
            ],
            "metadata": {
                "azdata_cell_guid": "7f35a047-4169-46f3-ab0b-0ffdda1ada5c"
            },
            "outputs": [
                {
                    "name": "stdout",
                    "text": "\r\n",
                    "output_type": "stream"
                },
                {
                    "name": "stdout",
                    "text": "ComputerName : localhost\r\n",
                    "output_type": "stream"
                },
                {
                    "name": "stdout",
                    "text": "InstanceName : MSSQLSERVER\r\n",
                    "output_type": "stream"
                },
                {
                    "name": "stdout",
                    "text": "SqlInstance  : beardsql01\r\n",
                    "output_type": "stream"
                },
                {
                    "name": "stdout",
                    "text": "DatabaseName : SockFactoryApp\r\n",
                    "output_type": "stream"
                },
                {
                    "name": "stdout",
                    "text": "User         : SockFactoryApp_User\r\n",
                    "output_type": "stream"
                },
                {
                    "name": "stdout",
                    "text": "\r\n",
                    "output_type": "stream"
                },
                {
                    "name": "stdout",
                    "text": "\r\n",
                    "output_type": "stream"
                }
            ],
            "execution_count": 14
        },
        {
            "cell_type": "markdown",
            "source": [
                "We have an orphaned user :-(   \n",
                "  \n",
                "We can fix that  "
            ],
            "metadata": {
                "azdata_cell_guid": "feff9a88-ddda-4855-b6d0-7c5ee74d1a08"
            }
        },
        {
            "cell_type": "code",
            "source": [
                "Repair-DbaDbOrphanUser -SqlInstance $sql1"
            ],
            "metadata": {
                "azdata_cell_guid": "c6046f4c-a9c6-459f-9f2d-8905e82c4bb8"
            },
            "outputs": [
                {
                    "name": "stdout",
                    "text": "\r\n",
                    "output_type": "stream"
                },
                {
                    "name": "stdout",
                    "text": "ComputerName : localhost\r\n",
                    "output_type": "stream"
                },
                {
                    "name": "stdout",
                    "text": "InstanceName : MSSQLSERVER\r\n",
                    "output_type": "stream"
                },
                {
                    "name": "stdout",
                    "text": "SqlInstance  : beardsql01\r\n",
                    "output_type": "stream"
                },
                {
                    "name": "stdout",
                    "text": "DatabaseName : SockFactoryApp\r\n",
                    "output_type": "stream"
                },
                {
                    "name": "stdout",
                    "text": "User         : SockFactoryApp_User\r\n",
                    "output_type": "stream"
                },
                {
                    "name": "stdout",
                    "text": "Status       : Success\r\n",
                    "output_type": "stream"
                },
                {
                    "name": "stdout",
                    "text": "\r\n",
                    "output_type": "stream"
                },
                {
                    "name": "stdout",
                    "text": "\r\n",
                    "output_type": "stream"
                }
            ],
            "execution_count": 15
        },
        {
            "cell_type": "markdown",
            "source": [
                "Lets just a run a query as the user to make sure "
            ],
            "metadata": {
                "azdata_cell_guid": "91a053d4-622c-47ec-be3b-c9468211e158"
            }
        },
        {
            "cell_type": "code",
            "source": [
                "$sqladminPassword = ConvertTo-SecureString 'SockFactoryApp_User' -AsPlainText -Force \n",
                "$cred = New-Object System.Management.Automation.PSCredential ('SockFactoryApp_User', $sqladminpassword)\n",
                "Invoke-DbaQuery -SqlInstance $SqlInstances[0] -SqlCredential $cred -Database SockFactoryApp -Query \"PRINT 'All is Well'\" -MessagesToOutput"
            ],
            "metadata": {
                "azdata_cell_guid": "ea7d6df1-1608-4648-96bb-6a0942727de8"
            },
            "outputs": [
                {
                    "name": "stdout",
                    "text": "All is Well\r\n",
                    "output_type": "stream"
                }
            ],
            "execution_count": 16
        },
        {
            "cell_type": "markdown",
            "source": [
                "## Wash Up Meeting\n",
                "\n",
                "The next day there was a wash-up meeting to find out why the outage happened and how to avoid it happening again.\n",
                "\n",
                "The DBA mentions that dbatools has a command called `Copy-DbaLogins` which can be used to ensure that all logins are synced across instances.\n",
                "\n",
                "Using a script like\n",
                "\n",
                "````\n",
                "try {\n",
                "    $replicas = (Get-DbaAgReplica -SqlInstance $ENV:ComputerName).name -EnableException\n",
                "}\n",
                "catch {\n",
                "    [System.Environment]::Exit(1)\n",
                "}\n",
                "\n",
                "foreach ($replica in $replicas) {\n",
                "    Write-Output \"For this replica $replica\"\n",
                "    $replicastocopy = $replicas | Where-Object { $_ -ne $replica }\n",
                "    foreach ($Replicatocopy in $replicastocopy) {\n",
                "        Write-Output \"We will copy logins from $replica to $Replicatocopy\"\n",
                "        try {\n",
                "          $output =  Copy-DbaLogin -Source $replica -Destination $replicatocopy -ExcludeSystemLogins -EnableException\n",
                "        }\n",
                "        catch {\n",
                "            $error[0..5] | Format-List -Force | Out-String\n",
                "            [System.Environment]::Exit(1)\n",
                "        }\n",
                "        if ($output.Status -contains 'Failed') {\n",
                "            $error[0..5] | Format-List -Force | Out-String\n",
                "            [System.Environment]::Exit(1)\n",
                "            }\n",
                "    }\n",
                "}\n",
                "````\n",
                "In an agent job following the instructions at https://dbatools.io/agent will ensure that all logins are created on all replicas of an Availability Group"
            ],
            "metadata": {
                "azdata_cell_guid": "96cfe27f-d13b-486e-a73b-75fdf9f6a2e0"
            }
        },
        {
            "cell_type": "markdown",
            "source": [
                "We don't have an Availability Group here but we can see what `Copy-DBaLogin` can do.\n",
                "\n",
                "If we look at the logins on SQL2, we can see that SockFactoryApp_User does not exist"
            ],
            "metadata": {
                "azdata_cell_guid": "140a5fa8-39ff-465d-9524-62e7196c9ea6"
            }
        },
        {
            "cell_type": "code",
            "source": [
                "Get-DbaLogin -SqlInstance $SQL2 | Select Name"
            ],
            "metadata": {
                "azdata_cell_guid": "b5faf40d-908e-41e9-95a9-bcabf7974178"
            },
            "outputs": [
                {
                    "name": "stdout",
                    "text": "\r\n",
                    "output_type": "stream"
                },
                {
                    "name": "stdout",
                    "text": "Name\r\n",
                    "output_type": "stream"
                },
                {
                    "name": "stdout",
                    "text": "----\r\n",
                    "output_type": "stream"
                },
                {
                    "name": "stdout",
                    "text": "##MS_PolicyEventProcessingLogin##\r\n",
                    "output_type": "stream"
                },
                {
                    "name": "stdout",
                    "text": "##MS_PolicyTsqlExecutionLogin##\r\n",
                    "output_type": "stream"
                },
                {
                    "name": "stdout",
                    "text": "BUILTIN\\Administrators\r\n",
                    "output_type": "stream"
                },
                {
                    "name": "stdout",
                    "text": "NT AUTHORITY\\NETWORK SERVICE\r\n",
                    "output_type": "stream"
                },
                {
                    "name": "stdout",
                    "text": "NT AUTHORITY\\SYSTEM\r\n",
                    "output_type": "stream"
                },
                {
                    "name": "stdout",
                    "text": "sa\r\n",
                    "output_type": "stream"
                },
                {
                    "name": "stdout",
                    "text": "sqladmin\r\n",
                    "output_type": "stream"
                },
                {
                    "name": "stdout",
                    "text": "\r\n",
                    "output_type": "stream"
                }
            ],
            "execution_count": 17
        },
        {
            "cell_type": "markdown",
            "source": [
                "We can run `Copy-DbaLogin` to copy the logins that do not exist from SQL1 to SQL2 (To drop and recreate logins you cna use the `-Force` parameter"
            ],
            "metadata": {
                "azdata_cell_guid": "ef403429-dcab-4749-9ac9-a84fcf55e167"
            }
        },
        {
            "cell_type": "code",
            "source": [
                "Copy-DbaLogin -Source $sql1 -Destination $SQL2 -ExcludeSystemLogins "
            ],
            "metadata": {
                "azdata_cell_guid": "890d63e8-79cd-4b9f-b370-384e24ea282b"
            },
            "outputs": [
                {
                    "name": "stdout",
                    "text": "\r\n",
                    "output_type": "stream"
                },
                {
                    "name": "stdout",
                    "text": "Type                 Name                         Status     Notes\r\n",
                    "output_type": "stream"
                },
                {
                    "name": "stdout",
                    "text": "----                 ----                         ------     -----\r\n",
                    "output_type": "stream"
                },
                {
                    "name": "stdout",
                    "text": "Login - WindowsGroup BUILTIN\\Administrators       Skipped    Already exists on destination\r\n",
                    "output_type": "stream"
                },
                {
                    "name": "stdout",
                    "text": "Login - WindowsUser  NT AUTHORITY\\NETWORK SERVICE Skipped    System login\r\n",
                    "output_type": "stream"
                },
                {
                    "name": "stdout",
                    "text": "Login - WindowsUser  NT AUTHORITY\\SYSTEM          Skipped    System login\r\n",
                    "output_type": "stream"
                },
                {
                    "name": "stdout",
                    "text": "Login - SqlLogin     SockFactoryApp_User          Successful \r\n",
                    "output_type": "stream"
                },
                {
                    "name": "stdout",
                    "text": "Login - SqlLogin     sqladmin                     Skipped    Already exists on destination\r\n",
                    "output_type": "stream"
                },
                {
                    "name": "stdout",
                    "text": "\r\n",
                    "output_type": "stream"
                }
            ],
            "execution_count": 18
        },
        {
            "cell_type": "markdown",
            "source": [
                "And when we check SQL2, we cna see the user"
            ],
            "metadata": {
                "azdata_cell_guid": "96b69dc7-1672-4f31-a756-daa6eff4c9e8"
            }
        },
        {
            "cell_type": "code",
            "source": [
                "Get-DbaLogin -SqlInstance $SQL2 | Select Name"
            ],
            "metadata": {
                "azdata_cell_guid": "6532a666-7093-42b0-bf93-f6e81ea69688"
            },
            "outputs": [
                {
                    "name": "stdout",
                    "text": "\r\n",
                    "output_type": "stream"
                },
                {
                    "name": "stdout",
                    "text": "Name\r\n",
                    "output_type": "stream"
                },
                {
                    "name": "stdout",
                    "text": "----\r\n",
                    "output_type": "stream"
                },
                {
                    "name": "stdout",
                    "text": "##MS_PolicyEventProcessingLogin##\r\n",
                    "output_type": "stream"
                },
                {
                    "name": "stdout",
                    "text": "##MS_PolicyTsqlExecutionLogin##\r\n",
                    "output_type": "stream"
                },
                {
                    "name": "stdout",
                    "text": "BUILTIN\\Administrators\r\n",
                    "output_type": "stream"
                },
                {
                    "name": "stdout",
                    "text": "NT AUTHORITY\\NETWORK SERVICE\r\n",
                    "output_type": "stream"
                },
                {
                    "name": "stdout",
                    "text": "NT AUTHORITY\\SYSTEM\r\n",
                    "output_type": "stream"
                },
                {
                    "name": "stdout",
                    "text": "sa\r\n",
                    "output_type": "stream"
                },
                {
                    "name": "stdout",
                    "text": "SockFactoryApp_User\r\n",
                    "output_type": "stream"
                },
                {
                    "name": "stdout",
                    "text": "sqladmin\r\n",
                    "output_type": "stream"
                },
                {
                    "name": "stdout",
                    "text": "\r\n",
                    "output_type": "stream"
                }
            ],
            "execution_count": 19
        },
        {
            "cell_type": "markdown",
            "source": [
                "# Exporting Users and Permissions to Excel\n",
                "\n",
                "Making use of another PowerShell module `ImportExcel` we cna dynamically create Excel workbooks and format them.\n",
                "\n",
                "To create an Excel workbook showing all of the users, logins and permissions on an instance - this code can be used. There is also an Azure Data Studio Notebook that will do this in my Notebooks Repo at [beard.media/Notebooks](beard.media/Notebooks)\n",
                "\n",
                "Lets check for the required modules and install if needed"
            ],
            "metadata": {
                "azdata_cell_guid": "31405518-ebcb-4b45-88ec-17ae03ec92d1"
            }
        },
        {
            "cell_type": "code",
            "source": [
                "#Check for modules and install\n",
                "$Modules = 'dbatools', 'ImportExcel'\n",
                "\n",
                "if ((Get-PsRepository -Name PSGallery).InstallationPolicy -ne 'Trusted') {\n",
                "    Write-Output \"The PowerShell Gallery is not trusted so I will trust it so that we can install the modules without interaction\"\n",
                "    try {\n",
                "        Set-PsRepository -Name PSGallery -InstallationPolicy Trusted\n",
                "    }\n",
                "    catch {\n",
                "        Write-Output \" Failed to trust the gallery, trying to force it and also add package provider\"\n",
                "        Install-PackageProvider NuGet -Force\n",
                "        Import-PackageProvider NuGet -Force\n",
                "        Set-PSRepository -Name PSGallery -InstallationPolicy Trusted\n",
                "    }\n",
                "    \n",
                "}\n",
                "else {\n",
                "    Write-Output \"The PowerShell Gallery is trusted I will continue\"\n",
                "}\n",
                "$Modules.ForEach{\n",
                "    If (-not(Get-Module $psitem -ListAvailable)) {\n",
                "        Write-Output \"We don't have the $psitem module so we will install it\"\n",
                "        Install-Module $psitem -Scope CurrentUser -Force\n",
                "    }\n",
                "    else {\n",
                "        Write-Output \"We have the $psitem module already\"\n",
                "    }\n",
                "}"
            ],
            "metadata": {
                "azdata_cell_guid": "9297e758-5a82-4077-82e3-d5b681e3d23e"
            },
            "outputs": [
                {
                    "output_type": "stream",
                    "name": "stdout",
                    "text": "The PowerShell Gallery is trusted I will continue\r\n"
                },
                {
                    "output_type": "stream",
                    "name": "stdout",
                    "text": "We have the dbatools module already\r\n"
                },
                {
                    "output_type": "stream",
                    "name": "stdout",
                    "text": "We have the ImportExcel module already\r\n"
                }
            ],
            "execution_count": 32
        },
        {
            "cell_type": "code",
            "source": [
                "$ExcelDirectory = 'c:\\temp\\' # Alter this to the directory you want the file created\n",
                "$SQlinstance = $SqlInstances[0]  # Alter this for the SQL Instance you want to get permissions for\n",
                "$SqlCredential = $SqlCredential ## if you need a credential\n",
                "Write-Output \"Processing $sqlinstance\"\n",
                "\n",
                "$InstanceName = $SQlinstance.Split('\\').Split('.').Split('\\').Split(',') -join '_'\n",
                "$ExcelFile = $ExcelDirectory + '\\' + $InstanceName + '_Permssions_OneTab_' + (Get-Date).ToString('yyyy-MM-dd') + '.xlsx'\n",
                "\n",
                "Write-Output \"    FileName is $ExcelFile\"\n",
                "\n",
                "$WorkSheetName = \"Permissions\"\n",
                "\n",
                "    $excel = Get-DbaUserPermission -SqlInstance $sqlinstance -SqlCredential $SqlCredential | Export-Excel -Path $ExcelFile -WorksheetName $WorkSheetName -AutoSize -FreezeTopRow -AutoFilter -PassThru\n",
                "  \n",
                "    $rulesparam = @{\n",
                "        Address   = $excel.Workbook.Worksheets[$WorkSheetName].Dimension.Address\n",
                "        WorkSheet = $excel.Workbook.Worksheets[$WorkSheetName] \n",
                "        RuleType  = 'Expression'      \n",
                "    }\n",
                "\n",
                "    Add-ConditionalFormatting @rulesparam -ConditionValue 'NOT(ISERROR(FIND(\"sysadmin\",$G1)))' -BackgroundColor Yellow -StopIfTrue\n",
                "    Add-ConditionalFormatting @rulesparam -ConditionValue 'NOT(ISERROR(FIND(\"db_owner\",$G1)))' -BackgroundColor Yellow -StopIfTrue\n",
                "    Add-ConditionalFormatting @rulesparam -ConditionValue 'NOT(ISERROR(FIND(\"SERVER LOGINS\",$E1)))' -BackgroundColor PaleGreen \n",
                "    Add-ConditionalFormatting @rulesparam -ConditionValue 'NOT(ISERROR(FIND(\"SERVER SECURABLES\",$E1)))' -BackgroundColor PowderBlue \n",
                "    Add-ConditionalFormatting @rulesparam -ConditionValue 'NOT(ISERROR(FIND(\"DB ROLE MEMBERS\",$E1)))' -BackgroundColor GoldenRod \n",
                "    Add-ConditionalFormatting @rulesparam -ConditionValue 'NOT(ISERROR(FIND(\"DB SECURABLES\",$E1)))' -BackgroundColor BurlyWood \n",
                "\n",
                "    Close-ExcelPackage $excel\n",
                "\n",
                "\n",
                "Write-Output \"\"\n",
                "Write-Output \"Finished Processing $sqlinstance\"\n",
                "\n",
                "$Excel = Open-ExcelPackage -Path $ExcelFile\n",
                "Add-Worksheet -ExcelPackage $Excel -WorksheetName 'Title' -MoveToStart | Out-Null\n",
                "\n",
                "$TitleSheet = $excel.Workbook.Worksheets['Title']\n",
                "$Date = (Get-Date).ToLongDateString()\n",
                "$TitleSheet.Cells[\"A1\"].value = \"This Worksheet shows the User Permissions for each database on $sqlinstance at $Date \"\n",
                "Set-ExcelRange -Worksheet $TitleSheet -Range \"A:1\" -Bold -FontSize 22 -Underline -UnderLineType Double\n",
                "\n",
                "$TitleSheet.Cells[\"B3\"].Value = \"The Cells are colour coded as follows :-\"\n",
                "Set-ExcelRange -Worksheet $TitleSheet -Range \"B3\" -Bold -FontSize 18 \n",
                "$TitleSheet.Cells[\"E5\"].Value = \"The Yellow Cells show members of the sysadmin role who have permission to do and access anything on the instance \"\n",
                "$TitleSheet.Cells[\"E6\"].Value = \"The Green Cells show the logins on the server\"\n",
                "$TitleSheet.Cells[\"E7\"].Value = \"The Blue Cells show the instance level permissions that have been granted to the logins\"\n",
                "$TitleSheet.Cells[\"E8\"].Value = \"The Orange Cells show the database role membership for the login\"\n",
                "$TitleSheet.Cells[\"E9\"].Value = \"The Brown Cells show specific database permissions that have been granted for the logins\"\n",
                "\n",
                "$TitleSheet.Cells[\"B11\"].Value = \"You can filter by Database on the Object column\"\n",
                "Set-ExcelRange -Worksheet $TitleSheet -Range \"C11\" -FontSize 18\n",
                "\n",
                "$TitleSheet.Cells[\"B12\"].Value = \"You can filter by User/Group/Login on the Member column\"\n",
                "Set-ExcelRange -Worksheet $TitleSheet -Range \"C12\" -FontSize 18\n",
                "\n",
                "Set-ExcelRange -Worksheet $TitleSheet -Range  \"C5\" -BackgroundColor Yellow\n",
                "Set-ExcelRange -Worksheet $TitleSheet -Range  \"C6\" -BackgroundColor PaleGreen\n",
                "Set-ExcelRange -Worksheet $TitleSheet -Range  \"C7\" -BackgroundColor PowderBlue \n",
                "Set-ExcelRange -Worksheet $TitleSheet -Range  \"C8\" -BackgroundColor GoldenRod \n",
                "Set-ExcelRange -Worksheet $TitleSheet -Range  \"C9\" -BackgroundColor BurlyWood \n",
                "\n",
                "Close-ExcelPackage $excel\n",
                "\n",
                "\n",
                "Write-Output \"                ###############                  \"\n",
                "Write-Output \"        FileName is $ExcelFile            \"\n",
                "Write-Output \"                ###############                  \"\n",
                "Write-Output \"\"\n",
                "\n",
                "Invoke-Item $ExcelFile"
            ],
            "metadata": {
                "azdata_cell_guid": "8615a490-e2e6-44e6-8be9-24f2ee127604"
            },
            "outputs": [
                {
                    "name": "stdout",
                    "text": "Processing localhost,15592\r\n",
                    "output_type": "stream"
                },
                {
                    "name": "stdout",
                    "text": "    FileName is c:\\temp\\\\localhost_15592_Permssions_OneTab_2021-08-06.xlsx\r\n",
                    "output_type": "stream"
                },
                {
                    "name": "stdout",
                    "text": "\u001b[91mMethodInvocationException: \u001b[0mG:\\OneDrive\\Documents\\PowerShell\\Modules\\dbatools\\1.1.7\\allcommands.ps1:37646\r\n",
                    "output_type": "stream"
                },
                {
                    "name": "stdout",
                    "text": "\u001b[96m Line |\r\n",
                    "output_type": "stream"
                },
                {
                    "name": "stdout",
                    "text": "\u001b[96m37646 | \u001b[0m                 \u001b[96m$db.ExecuteNonQuery($endSQL)\u001b[0m\r\n",
                    "output_type": "stream"
                },
                {
                    "name": "stdout",
                    "text": "\u001b[96m      | \u001b[91m                 ~~~~~~~~~~~~~~~~~~~~~~~~~~~~\r\n",
                    "output_type": "stream"
                },
                {
                    "name": "stdout",
                    "text": "\u001b[91m\u001b[96m      | \u001b[91mException calling \"ExecuteNonQuery\" with \"1\" argument(s): \"ExecuteNonQuery failed for Database 'AdventureWorks2017'. \"\r\n",
                    "output_type": "stream"
                },
                {
                    "name": "stdout",
                    "text": "\u001b[0m\r\n",
                    "output_type": "stream"
                },
                {
                    "name": "stdout",
                    "text": "\u001b[93mWARNING: [12:23:39][Get-DbaUserPermission] The database [AdventureWorks2017] is not accessible\u001b[0m\r\n",
                    "output_type": "stream"
                },
                {
                    "name": "stdout",
                    "text": "\u001b[91mMethodInvocationException: \u001b[0mG:\\OneDrive\\Documents\\PowerShell\\Modules\\dbatools\\1.1.7\\allcommands.ps1:37646\r\n",
                    "output_type": "stream"
                },
                {
                    "name": "stdout",
                    "text": "\u001b[96m Line |\r\n",
                    "output_type": "stream"
                },
                {
                    "name": "stdout",
                    "text": "\u001b[96m37646 | \u001b[0m                 \u001b[96m$db.ExecuteNonQuery($endSQL)\u001b[0m\r\n",
                    "output_type": "stream"
                },
                {
                    "name": "stdout",
                    "text": "\u001b[96m      | \u001b[91m                 ~~~~~~~~~~~~~~~~~~~~~~~~~~~~\r\n",
                    "output_type": "stream"
                },
                {
                    "name": "stdout",
                    "text": "\u001b[91m\u001b[96m      | \u001b[91mException calling \"ExecuteNonQuery\" with \"1\" argument(s): \"ExecuteNonQuery failed for Database 'Northwind'. \"\r\n",
                    "output_type": "stream"
                },
                {
                    "name": "stdout",
                    "text": "\u001b[0m\r\n",
                    "output_type": "stream"
                },
                {
                    "name": "stdout",
                    "text": "\u001b[93mWARNING: [12:23:41][Get-DbaUserPermission] The database [Northwind] is not accessible\u001b[0m\r\n",
                    "output_type": "stream"
                },
                {
                    "name": "stdout",
                    "text": "\u001b[93mWARNING: Failed autosizing columns of worksheet 'Permissions': Exception calling \"AutoFitColumns\" with \"0\" argument(s): \"Could not load file or assembly 'System.Drawing.Common, Version=4.0.2.1, Culture=neutral, PublicKeyToken=cc7b13ffcd2ddd51'. The system cannot find the file specified.\"\u001b[0m\r\n",
                    "output_type": "stream"
                },
                {
                    "name": "stdout",
                    "text": "\r\n",
                    "output_type": "stream"
                },
                {
                    "name": "stdout",
                    "text": "Finished Processing localhost,15592\r\n",
                    "output_type": "stream"
                },
                {
                    "name": "stdout",
                    "text": "                ###############                  \r\n",
                    "output_type": "stream"
                },
                {
                    "name": "stdout",
                    "text": "        FileName is c:\\temp\\\\localhost_15592_Permssions_OneTab_2021-08-06.xlsx            \r\n",
                    "output_type": "stream"
                },
                {
                    "name": "stdout",
                    "text": "                ###############                  \r\n",
                    "output_type": "stream"
                },
                {
                    "name": "stdout",
                    "text": "\r\n",
                    "output_type": "stream"
                }
            ],
            "execution_count": 20
        },
        {
            "cell_type": "markdown",
            "source": [
                "# Imagine that you want to be able to recreate your logins\n",
                "\n",
                "All you need to do is regularly run the below script to create a T-SQL file with all that is required for the login creation"
            ],
            "metadata": {
                "azdata_cell_guid": "66ac3597-076c-44b7-9a10-f3e7f258920c"
            }
        },
        {
            "cell_type": "code",
            "source": [
                "Export-dbalogin -SqlInstance $SQL1 -Path $FolderPath "
            ],
            "metadata": {
                "azdata_cell_guid": "f86b471d-0e3c-473c-ade8-4393a242a705"
            },
            "outputs": [
                {
                    "name": "stdout",
                    "text": "\u001b[93mWARNING: [12:24:11][Export-DbaLogin] Skipping ##MS_PolicyEventProcessingLogin##\u001b[0m\r\n",
                    "output_type": "stream"
                },
                {
                    "name": "stdout",
                    "text": "\u001b[93mWARNING: [12:24:11][Export-DbaLogin] Skipping ##MS_PolicyTsqlExecutionLogin##\u001b[0m\r\n",
                    "output_type": "stream"
                },
                {
                    "name": "stdout",
                    "text": "\u001b[93mWARNING: [12:24:11][Export-DbaLogin] NT AUTHORITY\\NETWORK SERVICE is skipped because it is a local machine name\u001b[0m\r\n",
                    "output_type": "stream"
                },
                {
                    "name": "stdout",
                    "text": "\u001b[93mWARNING: [12:24:11][Export-DbaLogin] NT AUTHORITY\\SYSTEM is skipped because it is a local machine name\u001b[0m\r\n",
                    "output_type": "stream"
                },
                {
                    "name": "stdout",
                    "text": "\u001b[93mWARNING: [12:24:11][Export-DbaLogin] Skipping sa\u001b[0m\r\n",
                    "output_type": "stream"
                },
                {
                    "name": "stdout",
                    "text": "\r\n",
                    "output_type": "stream"
                },
                {
                    "name": "stdout",
                    "text": "\r\n",
                    "output_type": "stream"
                },
                {
                    "name": "stdout",
                    "text": "    Directory: C:\\Users\\mrrob\\Documents\\dbatoolsdemo\r\n",
                    "output_type": "stream"
                },
                {
                    "name": "stdout",
                    "text": "\r\n",
                    "output_type": "stream"
                },
                {
                    "name": "stdout",
                    "text": "Mode                 LastWriteTime         Length Name\r\n",
                    "output_type": "stream"
                },
                {
                    "name": "stdout",
                    "text": "----                 -------------         ------ ----\r\n",
                    "output_type": "stream"
                },
                {
                    "name": "stdout",
                    "text": "-a---          06/08/2021    12:24            580 localhost,15592-20210806122411-login.sql\r\n",
                    "output_type": "stream"
                },
                {
                    "name": "stdout",
                    "text": "\r\n",
                    "output_type": "stream"
                }
            ],
            "execution_count": 21
        },
        {
            "cell_type": "markdown",
            "source": [
                "# Clean Up\n",
                "\n",
                "The 99-CleanUpContainers notebook will remove the containers, files and directory - it will leave the image so you do not have to download it again!"
            ],
            "metadata": {
                "azdata_cell_guid": "220087fc-8ab2-4144-85f1-4e83e98e8a80"
            }
        },
        {
            "cell_type": "code",
            "source": [],
            "metadata": {
                "azdata_cell_guid": "c8a12a3e-8d54-4f84-86e0-4945ffe8180e"
            },
            "outputs": [],
            "execution_count": null
        }
    ]
}