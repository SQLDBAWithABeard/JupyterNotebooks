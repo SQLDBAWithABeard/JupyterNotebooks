{
    "metadata": {
        "kernelspec": {
            "name": ".net-powershell",
            "display_name": ".NET (PowerShell)",
            "language": "PowerShell"
        },
        "language_info": {
            "name": "PowerShell",
            "version": "7.0",
            "mimetype": "text/x-powershell",
            "file_extension": ".ps1",
            "pygments_lexer": "powershell"
        }
    },
    "nbformat_minor": 2,
    "nbformat": 4,
    "cells": [
        {
            "cell_type": "markdown",
            "source": [
                "# Creating the containers for .NET notebooks for exploring dbatools\n",
                "\n",
                "To run these notebooks, you will first have to have set up Jupyter Notebooks following the information here https://sqldbawithabeard.com/2020/02/07/new-net-notebooks-are-here-powershell-7-notebooks-are-here/\n",
                "\n",
                "![dbatools](.\\images\\dbatools.png )\n",
                "\n",
                "We have written a book which will give you a brilliant introduction to dbatools. It's called dbatools in a Month of Lunches and you can find it at https://beard.media/book\n",
                "\n",
                "# Setting up the containers for the rest of the dbachecks notebooks\n",
                "\n",
                "To be able to follow along with the rest of the notebooks, you will need to set up two containers. \n",
                "\n",
                "This notebook will enable you to do that.\n",
                "\n",
                "You will need to have Docker installed. The image is based on the SQL Server 2019 image so you will need to have docker set to use Linux Containers. Right click on the Docker icon in the notification area and if it says \"Switch to Linux Containers\" click to switch and wait for Docker to restart.  \n",
                "\n",
                "![Switch To Linux Containers](.\\images\\switchtolinuxcontainers.png )\n",
                "\n",
                "You will be able to run all of the code in the notebooks by creating the folder, credential and containers in this notebook and then you can click on the play button in each code block to run the code. Note - There are a few code blocks with the results already included which should not be run. They are to show you the results of a command that cannot be run against containers (setting up configuration for domain accounts for example)\n",
                "\n",
                "**You can also navigate through the Notebook using the arrow keys and press SHIFT + ENTER to run a cell**"
            ],
            "metadata": {
                "azdata_cell_guid": "e7503606-32c6-4685-84a5-99cda6387fce"
            }
        },
        {
            "cell_type": "markdown",
            "source": [
                "## Create the folders and the credential\n",
                "\n",
                "The code below will create a directory called dbatools-demo in your Documents folder and save a credential file for logging into the containers. You can alter the directory created by altering the `$FolderPath`  \n",
                "\n",
                "The code has been collapsed but you can view it using the view menu in the lab or by clicking the 3 ellipses"
            ],
            "metadata": {
                "azdata_cell_guid": "9a602f20-4924-490a-a025-1aa03bb4f4b4"
            }
        },
        {
            "cell_type": "code",
            "source": [
                "$FolderPath = $Env:USERPROFILE + '\\Documents\\dbatoolsdemo'\n",
                "\n",
                "########################################################\n",
                "Write-Output \"Creating Directory $FolderPath\"\n",
                "if(Test-Path $FolderPath){\n",
                "    Write-Output \"Path $FolderPath exists already\"\n",
                "}else {\n",
                " $null =    New-Item $FolderPath -ItemType Directory\n",
                "}\n",
                "\n",
                "Write-Output \"Creating Directory $FolderPath\\SQL1\"\n",
                "if(Test-Path \"$FolderPath\\SQL1\"){\n",
                "    Write-Output \"Directory SQL1 exists already\"\n",
                "    Get-ChildItem \"$FolderPath\\SQL1\" -Recurse| Remove-Item -Recurse -Force\n",
                "}else {\n",
                "$null = New-Item \"$FolderPath\\SQL1\"-ItemType Directory\n",
                "}\n",
                "Write-Output \"Creating File $FolderPath\\SQL1\\dummyfile.txt\"\n",
                "if(Test-Path \"$FolderPath\\SQL1\\dummyfile.txt\"){\n",
                "    Write-Output \"dummyfile.txt exists already\"\n",
                "}else {\n",
                "$null =  New-Item \"$FolderPath\\SQL1\\dummyfile.txt\" -ItemType file\n",
                "}\n",
                "\n",
                "Write-Output \"Creating Directory $FolderPath\\SQL2\"\n",
                "if(Test-Path \"$FolderPath\\SQL2\"){\n",
                "    Write-Output \"Directory SQL2 exists already\"\n",
                "    Get-ChildItem \"$FolderPath\\SQL2\" -Recurse| Remove-Item -Recurse -Force\n",
                "}else {\n",
                " $null =    New-Item \"$FolderPath\\SQL2\"-ItemType Directory\n",
                "}\n",
                "Write-Output \"Creating File $FolderPath\\SQL2\\dummyfile.txt\"\n",
                "if(Test-Path \"$FolderPath\\SQL2\\dummyfile.txt\"){\n",
                "    Write-Output \"dummyfile.txt exists already\"\n",
                "}else {\n",
                "$null =  New-Item \"$FolderPath\\SQL2\\dummyfile.txt\" -ItemType file\n",
                "}\n",
                "\n",
                "Write-Output \"Creating a credential file for the containers - Please don't do this in production\"\n",
                "\n",
                "$sqladminPassword = ConvertTo-SecureString 'dbatools.IO' -AsPlainText -Force \n",
                "$cred = New-Object System.Management.Automation.PSCredential ('sqladmin', $sqladminpassword)\n",
                "$Cred | Export-Clixml -Path $FolderPath\\sqladmin.cred\n",
                "Write-Output \"Credential file created\"\n",
                "\n",
                "Write-Output \"Setting the docker-compose files values\"\n",
                "try {\n",
                "    $dockercompose = (Get-Content .\\dockercompose.yml -ErrorAction Stop) -replace '__ReplaceME__' , $FolderPath\n",
                "    # $dockercompose\n",
                "    $dockercompose | Set-Content .\\docker-compose.yml\n",
                "}\n",
                "catch {\n",
                "    $NotebookDir = Read-Host \"Please enter path to the notebook. Azure Data Studio doesnt know where it is\"\n",
                "    $dockercompose = (Get-Content $NotebookDir\\\\dockercompose.yml -ErrorAction Stop) -replace '__ReplaceME__' , $FolderPath\n",
                "    # $dockercompose\n",
                "    $dockercompose | Set-Content $NotebookDir\\\\docker-compose.yml\n",
                "    Set-Location $NotebookDir\n",
                "}\n",
                "\n",
                "Write-Output \"Finished\""
            ],
            "metadata": {
                "azdata_cell_guid": "da2a1233-6845-4031-b5dd-fc65263cc832",
                "tags": [
                    "hide_input"
                ]
            },
            "outputs": [
                {
                    "output_type": "stream",
                    "name": "stdout",
                    "text": "Creating Directory C:\\Users\\mrrob\\Documents\\dbatoolsdemo\r\n"
                },
                {
                    "output_type": "stream",
                    "name": "stdout",
                    "text": "Creating Directory C:\\Users\\mrrob\\Documents\\dbatoolsdemo\\SQL1\r\n"
                },
                {
                    "output_type": "stream",
                    "name": "stdout",
                    "text": "Creating File C:\\Users\\mrrob\\Documents\\dbatoolsdemo\\SQL1\\dummyfile.txt\r\n"
                },
                {
                    "output_type": "stream",
                    "name": "stdout",
                    "text": "Creating Directory C:\\Users\\mrrob\\Documents\\dbatoolsdemo\\SQL2\r\n"
                },
                {
                    "output_type": "stream",
                    "name": "stdout",
                    "text": "Creating File C:\\Users\\mrrob\\Documents\\dbatoolsdemo\\SQL2\\dummyfile.txt\r\n"
                },
                {
                    "output_type": "stream",
                    "name": "stdout",
                    "text": "Creating a credential file for the containers - Please don't do this in production\r\n"
                },
                {
                    "output_type": "stream",
                    "name": "stdout",
                    "text": "Credential file created\r\n"
                },
                {
                    "output_type": "stream",
                    "name": "stdout",
                    "text": "Setting the docker-compose files values\r\n"
                },
                {
                    "output_type": "stream",
                    "name": "stdout",
                    "text": "Finished\r\n"
                }
            ],
            "execution_count": 1
        },
        {
            "cell_type": "markdown",
            "source": [
                "## Containers\n",
                "\n",
                "We are going to create two SQL 2019 containers using the sqldbawithabeard\\dbatoolsbeardsql01 [image from the Docker Hub](https://hub.docker.com/repository/docker/sqldbawithabeard/dbatoolsbeardsql01) and sqldbawithabeard\\dbatoolsbeardsql02 [image from the Docker Hub](https://hub.docker.com/repository/docker/sqldbawithabeard/dbatoolsbeardsql02)\n",
                "\n",
                "The first time it is going to pull the images from the Docker Hub. If you wish to do this first, you can run the cell below\n",
                "\n",
                ""
            ],
            "metadata": {
                "azdata_cell_guid": "82e68f8a-0aa6-4f70-a781-7e511c1a762f"
            }
        },
        {
            "cell_type": "code",
            "source": [
                "docker pull sqldbawithabeard/dbatoolsbeardsql01:v1\r\n",
                "docker pull sqldbawithabeard/dbatoolsbeardsql02:v1"
            ],
            "metadata": {
                "azdata_cell_guid": "689caa3f-e974-41ad-a35b-8c2e1f609386"
            },
            "outputs": [
                {
                    "output_type": "stream",
                    "name": "stdout",
                    "text": "v1: Pulling from sqldbawithabeard/dbatoolsbeardsql01\r\n"
                },
                {
                    "output_type": "stream",
                    "name": "stdout",
                    "text": "Digest: sha256:33feca7141acba3ba61dd1d44a823fd3689487533d539cbbbd9be755908b78af\r\n"
                },
                {
                    "output_type": "stream",
                    "name": "stdout",
                    "text": "Status: Image is up to date for sqldbawithabeard/dbatoolsbeardsql01:v1\r\n"
                },
                {
                    "output_type": "stream",
                    "name": "stdout",
                    "text": "docker.io/sqldbawithabeard/dbatoolsbeardsql01:v1\r\n"
                },
                {
                    "output_type": "stream",
                    "name": "stdout",
                    "text": "v1: Pulling from sqldbawithabeard/dbatoolsbeardsql02\r\n"
                },
                {
                    "output_type": "stream",
                    "name": "stdout",
                    "text": "Digest: sha256:b3a6f73910245bcb5857b03246e032188fc24bc44407ace89e4a97355247ad3d\r\n"
                },
                {
                    "output_type": "stream",
                    "name": "stdout",
                    "text": "Status: Image is up to date for sqldbawithabeard/dbatoolsbeardsql02:v1\r\n"
                },
                {
                    "output_type": "stream",
                    "name": "stdout",
                    "text": "docker.io/sqldbawithabeard/dbatoolsbeardsql02:v1\r\n"
                }
            ],
            "execution_count": 8
        },
        {
            "cell_type": "markdown",
            "source": [
                "Now we can start the containers with the code below"
            ],
            "metadata": {
                "azdata_cell_guid": "1771c1c6-4dbb-46e5-b0ad-d66cd66e855e"
            }
        },
        {
            "cell_type": "code",
            "source": [
                "docker-compose up -d"
            ],
            "metadata": {
                "azdata_cell_guid": "d05505a2-c39e-4402-93cd-059430df01a3"
            },
            "outputs": [
                {
                    "output_type": "stream",
                    "name": "stdout",
                    "text": "Creating network \"dbatools_BeardsMagicNetwork\" with the default driver\r\n"
                },
                {
                    "output_type": "stream",
                    "name": "stdout",
                    "text": "Creating beardsql01 ... \r\n"
                },
                {
                    "output_type": "stream",
                    "name": "stdout",
                    "text": "\r\n"
                },
                {
                    "output_type": "stream",
                    "name": "stdout",
                    "text": "Creating beardsql02 ... \r\n"
                },
                {
                    "output_type": "stream",
                    "name": "stdout",
                    "text": "\r\n"
                },
                {
                    "output_type": "stream",
                    "name": "stdout",
                    "text": "\u001b[1A\u001b[2K\r\n"
                },
                {
                    "output_type": "stream",
                    "name": "stdout",
                    "text": "Creating beardsql02 ... \u001b[32mdone\u001b[0m\r\n"
                },
                {
                    "output_type": "stream",
                    "name": "stdout",
                    "text": "\u001b[1B\u001b[2A\u001b[2K\r\n"
                },
                {
                    "output_type": "stream",
                    "name": "stdout",
                    "text": "Creating beardsql01 ... \u001b[32mdone\u001b[0m\r\n"
                },
                {
                    "output_type": "stream",
                    "name": "stdout",
                    "text": "\u001b[2B\r\n"
                }
            ],
            "execution_count": 2
        },
        {
            "cell_type": "markdown",
            "source": [
                "All being well, you wil have something that looks like\n",
                "\n",
                "\n",
                "![DockerCompose](.\\images\\containers.png )\n",
                "\n",
                "If you get an error you might need to add the user you have shared your drives with Docker modify permissions to the \\Documents\\ directory in your user profile   \n",
                "More details https://docs.docker.com/docker-for-windows/ or troubleshoot in the normal way\n",
                "\n",
                "\n",
                "Now we can start exploring with dbatools :-)\n",
                "\n",
                "If you have not installed dbatools, it can be got from the PowerShell Gallery using `Install-Module dbatools` the code below will check for the module and either install it in your user profile or update it and Import it"
            ],
            "metadata": {
                "azdata_cell_guid": "6eeea37c-830b-4a3c-9355-db07601ab47b"
            }
        },
        {
            "cell_type": "code",
            "source": [
                "if(Get-Module dbatools -ListAvailable){\n",
                "Write-Output \"Updating dbatools\"\n",
                "Update-Module dbatools\n",
                "}else {\n",
                "Write-Output \"Installing dbatools in your user profile\"\n",
                "Install-Module dbatools -Scope CurrentUser\n",
                "}\n",
                "Import-Module dbatools"
            ],
            "metadata": {
                "azdata_cell_guid": "ddff53ab-f6d0-4c74-abc6-f79487d77f19"
            },
            "outputs": [
                {
                    "output_type": "stream",
                    "name": "stdout",
                    "text": "Installing dbatools in your user profile\n"
                },
                {
                    "output_type": "display_data",
                    "data": {
                        "text/plain": "\u001b[30;43m                                                                                                    \n Installing package 'dbatools'                                                                      \n                                                                                                    \n    [                                                                                        ]      \n                                                                                                    \u001b[0m"
                    },
                    "metadata": {}
                },
                {
                    "output_type": "display_data",
                    "data": {
                        "text/plain": "\u001b[30;43m                                                                                                    \n Installing package 'dbatools'                                                                      \n    Downloaded 0.00 MB out of 24.91 MB.                                                             \n    [                                                                                        ]      \n                                                                                                    \u001b[0m"
                    },
                    "metadata": {}
                },
                {
                    "output_type": "display_data",
                    "data": {
                        "text/plain": "\u001b[30;43m                                                                                                    \n Installing package 'dbatools'                                                                      \n    Downloaded 15.00 MB out of 24.91 MB.                                                            \n    [oooooooooooooooooooooooooooooooooooo                                                    ]      \n                                                                                                    \u001b[0m"
                    },
                    "metadata": {}
                },
                {
                    "output_type": "display_data",
                    "data": {
                        "text/plain": "\u001b[30;43m                                                                                                    \n Installing package 'dbatools'                                                                      \n    Unzipping                                                                                       \n    [ooooooooooooooooooooooooooooooooooooooooooooooooooooooooooooo                           ]      \n                                                                                                    \u001b[0m"
                    },
                    "metadata": {}
                },
                {
                    "output_type": "display_data",
                    "data": {
                        "text/plain": "\u001b[30;43m                                                                                                    \n Installing package 'dbatools'                                                                      \n    Copying unzipped package to 'C:\\Users\\mrrob\\AppData\\Local\\Temp\\1865382987\\dbatools.1.0.113'     \n    [oooooooooooooooooooooooooooooooooooooooooooooooooooooooooooooooooooooooooooooooo        ]      \n                                                                                                    \u001b[0m"
                    },
                    "metadata": {}
                },
                {
                    "output_type": "display_data",
                    "data": {
                        "text/plain": "\u001b[30;43m                                                                                                    \n Installing package 'dbatools'                                                                      \n    Process Package Manifest                                                                        \n    [ooooooooooooooooooooooooooooooooooooooooooooooooooooooooooooooooooooooooooooooooooo     ]      \n                                                                                                    \u001b[0m"
                    },
                    "metadata": {}
                },
                {
                    "output_type": "display_data",
                    "data": {
                        "text/plain": ""
                    },
                    "metadata": {}
                },
                {
                    "output_type": "stream",
                    "name": "stdout",
                    "text": "\u001b[91mImport-Module: \n\u001b[96mLine |\n\u001b[96m   8 | \u001b[0m \u001b[96mImport-Module dbatools\u001b[0m\n\u001b[96m     | \u001b[91m ~~~~~~~~~~~~~~~~~~~~~~\n\u001b[91m\u001b[96m     | \u001b[91mCould not find a part of the path 'C:\\Users\\mrrob\\OneDrive\\Documents\\PowerShell\\Modules\\dbatools\\1.0.108\\xml\\dbatools.Format.ps1xml'.\u001b[0m\n"
                },
                {
                    "output_type": "display_data",
                    "data": {
                        "text/plain": ""
                    },
                    "metadata": {}
                }
            ],
            "execution_count": 2
        },
        {
            "cell_type": "markdown",
            "source": [
                "## Check connection\n",
                "Now that is done, we can make a connection to our instances and see if we can connect to them.\n",
                "\n",
                "We are going to use `Connect-DBaInstance` to do this and we will use the containers that we have created and because we need to use SQL Authentication, we will use a credential that we have saved to disk using `Export-CliXML` in one of the celss above.\n",
                "\n",
                "It is **Important** to state that this is not a production secure solution and should not be used as a means of accessing any secure system."
            ],
            "metadata": {
                "azdata_cell_guid": "c6cfbe4c-5e3b-4312-ab12-91416a3cc02d"
            }
        },
        {
            "cell_type": "code",
            "source": [
                "$FolderPath = $Env:USERPROFILE + '\\Documents\\dbatoolsdemo'\n",
                "$SqlInstances = 'localhost,15592', 'localhost,15593'\n",
                "$SqlCredential = Import-Clixml -Path $FolderPath\\sqladmin.cred\n",
                "Write-Output \" Creating connection to the containers\"\n",
                "try {\n",
                "    $SQL1 = Connect-DbaInstance -SqlInstance $SqlInstances[0] -SqlCredential $SqlCredential \n",
                "    $SQL2 = Connect-DbaInstance -SqlInstance $SqlInstances[1] -SqlCredential $SqlCredential\n",
                "    Write-Output \"We have a connection to the containers\"\n",
                "\n",
                "}\n",
                "catch {\n",
                "    Write-Output \"You haven't got a connection to the containers - Either they are still upgrading in which case try again in 30 seconds or the containers have not come up correctly\"\n",
                "    Write-Output \"Make sure the containers are running - the code is below in a block for you\"\n",
                "    Write-Output \"docker ps -a\"\n",
                "    Write-Output \"If they are read the logs - the code is below in a block for you\"\n",
                "    Write-Output \"docker logs dbatools_SQL2019_1\"\n",
                "    Write-Output \"docker logs dbatools_SQL2019-1_1\"\n",
                "}"
            ],
            "metadata": {
                "azdata_cell_guid": "e8e0f4c0-9328-42f4-b328-6cca11d2ad54",
                "jupyter": {
                    "source_hidden": true
                }
            },
            "outputs": [
                {
                    "output_type": "stream",
                    "name": "stdout",
                    "text": "\u001b[91mImport-Clixml: \r\n"
                },
                {
                    "output_type": "stream",
                    "name": "stdout",
                    "text": "\u001b[96mLine |\r\n"
                },
                {
                    "output_type": "stream",
                    "name": "stdout",
                    "text": "\u001b[96m   3 | \u001b[0m $SqlCredential = \u001b[96mImport-Clixml -Path $FolderPath\\sqladmin.cred\u001b[0m\r\n"
                },
                {
                    "output_type": "stream",
                    "name": "stdout",
                    "text": "\u001b[96m     | \u001b[91m                  ~~~~~~~~~~~~~~~~~~~~~~~~~~~~~~~~~~~~~~~~~~~~~\r\n"
                },
                {
                    "output_type": "stream",
                    "name": "stdout",
                    "text": "\u001b[91m\u001b[96m     | \u001b[91mCould not find a part of the path 'C:\\Users\\mrrob\\Documents\\dbatoolsdemo\\sqladmin.cred'.\u001b[0m\r\n"
                },
                {
                    "output_type": "stream",
                    "name": "stdout",
                    "text": " Creating connection to the containers\r\n"
                }
            ],
            "execution_count": null
        },
        {
            "cell_type": "markdown",
            "source": [
                "If there are warnings above - Check the containers are running - Look at the status column"
            ],
            "metadata": {
                "azdata_cell_guid": "ec7b3d4b-e1a3-4668-ac40-a89a064d74e2"
            }
        },
        {
            "cell_type": "code",
            "source": [
                "docker ps -a"
            ],
            "metadata": {
                "azdata_cell_guid": "6ab5d62d-2069-4206-b555-b3c1a76a7f1d"
            },
            "outputs": [
                {
                    "output_type": "stream",
                    "name": "stdout",
                    "text": "CONTAINER ID        IMAGE                              COMMAND                  CREATED             STATUS                     PORTS                                                                                    NAMES\r\n"
                },
                {
                    "output_type": "stream",
                    "name": "stdout",
                    "text": "b0d18d09e3de        sqldbawithabeard/dbachecksdemo     \"/opt/mssql/bin/perm…\"   54 seconds ago      Up 48 seconds              0.0.0.0:5022->5022/tcp, :::5022->5022/tcp, 0.0.0.0:15592->1433/tcp, :::15592->1433/tcp   dbatools_SQL2019_1\r\n"
                },
                {
                    "output_type": "stream",
                    "name": "stdout",
                    "text": "92fb189db4b9        sqldbawithabeard/dbachecksdemo     \"/opt/mssql/bin/perm…\"   54 seconds ago      Up 48 seconds              0.0.0.0:5023->5023/tcp, :::5023->5023/tcp, 0.0.0.0:15593->1433/tcp, :::15593->1433/tcp   dbatools_SQL2019-1_1\r\n"
                },
                {
                    "output_type": "stream",
                    "name": "stdout",
                    "text": "b746ed44faf2        sqldbawithabeard/pwshdbatools:v1   \"pwsh\"                   12 days ago         Exited (0) 12 days ago                                                                                              vibrant_feistel\r\n"
                },
                {
                    "output_type": "stream",
                    "name": "stdout",
                    "text": "5a29c6514f4b        sqldbawithabeard/pwshdbatools:v1   \"pwsh\"                   12 days ago         Exited (0) 12 days ago                                                                                              frosty_carson\r\n"
                },
                {
                    "output_type": "stream",
                    "name": "stdout",
                    "text": "a54110819a3f        sqldbawithabeard/pwshdbatools:v1   \"pwsh\"                   12 days ago         Exited (0) 12 days ago                                                                                              gifted_elion\r\n"
                },
                {
                    "output_type": "stream",
                    "name": "stdout",
                    "text": "153c30cb1841        mcr.microsoft.com/powershell       \"pwsh\"                   12 days ago         Exited (143) 12 days ago                                                                                            pensive_zhukovsky\r\n"
                },
                {
                    "output_type": "stream",
                    "name": "stdout",
                    "text": "ad3e8b0db7c5        jekyll/jekyll:3.8.6                \"/usr/jekyll/bin/ent…\"   3 months ago        Exited (0) 3 months ago                                                                                             musing_hellman\r\n"
                }
            ],
            "execution_count": 5
        },
        {
            "cell_type": "markdown",
            "source": [
                "If there are warnings above and the containers are running - check the logs"
            ],
            "metadata": {
                "azdata_cell_guid": "a6ed4b0c-37e0-4a79-a63f-bd35616df3ea"
            }
        },
        {
            "cell_type": "code",
            "source": [
                "docker logs dbatools_SQL2019_1"
            ],
            "metadata": {
                "azdata_cell_guid": "67480623-8a3f-4236-8a69-21438c35d90a"
            },
            "outputs": [
                {
                    "output_type": "stream",
                    "name": "stdout",
                    "text": "SQL Server 2019 will run as non-root by default.\r\n"
                },
                {
                    "output_type": "stream",
                    "name": "stdout",
                    "text": "This container is running as user mssql.\r\n"
                },
                {
                    "output_type": "stream",
                    "name": "stdout",
                    "text": "Your master database file is owned by mssql.\r\n"
                },
                {
                    "output_type": "stream",
                    "name": "stdout",
                    "text": "To learn more visit https://go.microsoft.com/fwlink/?linkid=2099216.\r\n"
                },
                {
                    "output_type": "stream",
                    "name": "stdout",
                    "text": "2021-08-06 06:23:27.63 Server      Microsoft SQL Server 2019 (RTM) - 15.0.2000.5 (X64) \r\n"
                },
                {
                    "output_type": "stream",
                    "name": "stdout",
                    "text": "\r\n"
                },
                {
                    "output_type": "stream",
                    "name": "stdout",
                    "text": "\tSep 24 2019 13:48:23 \r\n"
                },
                {
                    "output_type": "stream",
                    "name": "stdout",
                    "text": "\r\n"
                },
                {
                    "output_type": "stream",
                    "name": "stdout",
                    "text": "\tCopyright (C) 2019 Microsoft Corporation\r\n"
                },
                {
                    "output_type": "stream",
                    "name": "stdout",
                    "text": "\r\n"
                },
                {
                    "output_type": "stream",
                    "name": "stdout",
                    "text": "\tDeveloper Edition (64-bit) on Linux (Ubuntu 16.04.6 LTS) <X64>\r\n"
                },
                {
                    "output_type": "stream",
                    "name": "stdout",
                    "text": "\r\n"
                },
                {
                    "output_type": "stream",
                    "name": "stdout",
                    "text": "2021-08-06 06:23:27.63 Server      UTC adjustment: 0:00\r\n"
                },
                {
                    "output_type": "stream",
                    "name": "stdout",
                    "text": "\r\n"
                },
                {
                    "output_type": "stream",
                    "name": "stdout",
                    "text": "2021-08-06 06:23:27.63 Server      (c) Microsoft Corporation.\r\n"
                },
                {
                    "output_type": "stream",
                    "name": "stdout",
                    "text": "\r\n"
                },
                {
                    "output_type": "stream",
                    "name": "stdout",
                    "text": "2021-08-06 06:23:27.63 Server      All rights reserved.\r\n"
                },
                {
                    "output_type": "stream",
                    "name": "stdout",
                    "text": "\r\n"
                },
                {
                    "output_type": "stream",
                    "name": "stdout",
                    "text": "2021-08-06 06:23:27.63 Server      Server process ID is 32.\r\n"
                },
                {
                    "output_type": "stream",
                    "name": "stdout",
                    "text": "\r\n"
                },
                {
                    "output_type": "stream",
                    "name": "stdout",
                    "text": "2021-08-06 06:23:27.63 Server      Logging SQL Server messages in file '/var/opt/mssql/log/errorlog'.\r\n"
                },
                {
                    "output_type": "stream",
                    "name": "stdout",
                    "text": "\r\n"
                },
                {
                    "output_type": "stream",
                    "name": "stdout",
                    "text": "2021-08-06 06:23:27.63 Server      Registry startup parameters: \r\n"
                },
                {
                    "output_type": "stream",
                    "name": "stdout",
                    "text": "\r\n"
                },
                {
                    "output_type": "stream",
                    "name": "stdout",
                    "text": "\t -d /var/opt/mssql/data/master.mdf\r\n"
                },
                {
                    "output_type": "stream",
                    "name": "stdout",
                    "text": "\r\n"
                },
                {
                    "output_type": "stream",
                    "name": "stdout",
                    "text": "\t -l /var/opt/mssql/data/mastlog.ldf\r\n"
                },
                {
                    "output_type": "stream",
                    "name": "stdout",
                    "text": "\r\n"
                },
                {
                    "output_type": "stream",
                    "name": "stdout",
                    "text": "\t -e /var/opt/mssql/log/errorlog\r\n"
                },
                {
                    "output_type": "stream",
                    "name": "stdout",
                    "text": "\r\n"
                },
                {
                    "output_type": "stream",
                    "name": "stdout",
                    "text": "2021-08-06 06:23:27.64 Server      SQL Server detected 1 sockets with 12 cores per socket and 24 logical processors per socket, 24 total logical processors; using 24 logical processors based on SQL Server licensing. This is an informational message; no user action is required.\r\n"
                },
                {
                    "output_type": "stream",
                    "name": "stdout",
                    "text": "\r\n"
                },
                {
                    "output_type": "stream",
                    "name": "stdout",
                    "text": "2021-08-06 06:23:27.64 Server      SQL Server is starting at normal priority base (=7). This is an informational message only. No user action is required.\r\n"
                },
                {
                    "output_type": "stream",
                    "name": "stdout",
                    "text": "\r\n"
                },
                {
                    "output_type": "stream",
                    "name": "stdout",
                    "text": "2021-08-06 06:23:27.64 Server      Detected 41077 MB of RAM. This is an informational message; no user action is required.\r\n"
                },
                {
                    "output_type": "stream",
                    "name": "stdout",
                    "text": "\r\n"
                },
                {
                    "output_type": "stream",
                    "name": "stdout",
                    "text": "2021-08-06 06:23:27.64 Server      Using conventional memory in the memory manager.\r\n"
                },
                {
                    "output_type": "stream",
                    "name": "stdout",
                    "text": "\r\n"
                },
                {
                    "output_type": "stream",
                    "name": "stdout",
                    "text": "2021-08-06 06:23:27.65 Server      Page exclusion bitmap is enabled.\r\n"
                },
                {
                    "output_type": "stream",
                    "name": "stdout",
                    "text": "\r\n"
                },
                {
                    "output_type": "stream",
                    "name": "stdout",
                    "text": "2021-08-06 06:23:27.73 Server      Buffer pool extension is not supported on Linux platform.\r\n"
                },
                {
                    "output_type": "stream",
                    "name": "stdout",
                    "text": "\r\n"
                },
                {
                    "output_type": "stream",
                    "name": "stdout",
                    "text": "2021-08-06 06:23:27.73 Server      Buffer Pool: Allocating 8388608 bytes for 6430720 hashPages.\r\n"
                },
                {
                    "output_type": "stream",
                    "name": "stdout",
                    "text": "\r\n"
                },
                {
                    "output_type": "stream",
                    "name": "stdout",
                    "text": "2021-08-06 06:23:27.81 Server      Automatic soft-NUMA was enabled because SQL Server has detected hardware NUMA nodes with greater than 8 physical cores.\r\n"
                },
                {
                    "output_type": "stream",
                    "name": "stdout",
                    "text": "\r\n"
                },
                {
                    "output_type": "stream",
                    "name": "stdout",
                    "text": "2021-08-06 06:23:27.93 Server      Buffer pool extension is already disabled. No action is necessary.\r\n"
                },
                {
                    "output_type": "stream",
                    "name": "stdout",
                    "text": "\r\n"
                },
                {
                    "output_type": "stream",
                    "name": "stdout",
                    "text": "2021-08-06 06:23:28.08 Server      Successfully initialized the TLS configuration. Allowed TLS protocol versions are ['1.0 1.1 1.2']. Allowed TLS ciphers are ['ECDHE-ECDSA-AES128-GCM-SHA256:ECDHE-ECDSA-AES256-GCM-SHA384:ECDHE-RSA-AES128-GCM-SHA256:ECDHE-RSA-AES256-GCM-SHA384:ECDHE-ECDSA-AES128-SHA256:ECDHE-ECDSA-AES256-SHA384:ECDHE-ECDSA-AES256-SHA:ECDHE-ECDSA-AES128-SHA:AES256-GCM-SHA384:AES128-GCM-SHA256:AES256-SHA256:AES128-SHA256:AES256-SHA:AES128-SHA:!DHE-RSA-AES256-GCM-SHA384:!DHE-RSA-AES128-GCM-SHA256:!DHE-RSA-AES256-SHA:!DHE-RSA-AES128-SHA'].\r\n"
                },
                {
                    "output_type": "stream",
                    "name": "stdout",
                    "text": "\r\n"
                },
                {
                    "output_type": "stream",
                    "name": "stdout",
                    "text": "2021-08-06 06:23:28.10 Server      Query Store settings initialized with enabled = 1, \r\n"
                },
                {
                    "output_type": "stream",
                    "name": "stdout",
                    "text": "\r\n"
                },
                {
                    "output_type": "stream",
                    "name": "stdout",
                    "text": "2021-08-06 06:23:28.12 Server      The maximum number of dedicated administrator connections for this instance is '1'\r\n"
                },
                {
                    "output_type": "stream",
                    "name": "stdout",
                    "text": "\r\n"
                },
                {
                    "output_type": "stream",
                    "name": "stdout",
                    "text": "2021-08-06 06:23:28.12 Server      Node configuration: node 0: CPU mask: 0x0000000000555555:0 Active CPU mask: 0x0000000000555555:0. This message provides a description of the NUMA configuration for this computer. This is an informational message only. No user action is required.\r\n"
                },
                {
                    "output_type": "stream",
                    "name": "stdout",
                    "text": "\r\n"
                },
                {
                    "output_type": "stream",
                    "name": "stdout",
                    "text": "2021-08-06 06:23:28.13 Server      Node configuration: node 1: CPU mask: 0x0000000000aaaaaa:0 Active CPU mask: 0x0000000000aaaaaa:0. This message provides a description of the NUMA configuration for this computer. This is an informational message only. No user action is required.\r\n"
                },
                {
                    "output_type": "stream",
                    "name": "stdout",
                    "text": "\r\n"
                },
                {
                    "output_type": "stream",
                    "name": "stdout",
                    "text": "2021-08-06 06:23:28.17 Server      Using dynamic lock allocation.  Initial allocation of 2500 Lock blocks and 5000 Lock Owner blocks per node.  This is an informational message only.  No user action is required.\r\n"
                },
                {
                    "output_type": "stream",
                    "name": "stdout",
                    "text": "\r\n"
                },
                {
                    "output_type": "stream",
                    "name": "stdout",
                    "text": "2021-08-06 06:23:28.17 Server      Lock partitioning is enabled.  This is an informational message only. No user action is required.\r\n"
                },
                {
                    "output_type": "stream",
                    "name": "stdout",
                    "text": "\r\n"
                },
                {
                    "output_type": "stream",
                    "name": "stdout",
                    "text": "2021-08-06 06:23:28.18 Server      In-Memory OLTP initialized on standard machine.\r\n"
                },
                {
                    "output_type": "stream",
                    "name": "stdout",
                    "text": "\r\n"
                },
                {
                    "output_type": "stream",
                    "name": "stdout",
                    "text": "2021-08-06 06:23:28.24 Server      [INFO] Created Extended Events session 'hkenginexesession'\r\n"
                },
                {
                    "output_type": "stream",
                    "name": "stdout",
                    "text": "\r\n"
                },
                {
                    "output_type": "stream",
                    "name": "stdout",
                    "text": "\r\n"
                },
                {
                    "output_type": "stream",
                    "name": "stdout",
                    "text": "\r\n"
                },
                {
                    "output_type": "stream",
                    "name": "stdout",
                    "text": "2021-08-06 06:23:28.24 Server      Database Instant File Initialization: enabled. For security and performance considerations see the topic 'Database Instant File Initialization' in SQL Server Books Online. This is an informational message only. No user action is required.\r\n"
                },
                {
                    "output_type": "stream",
                    "name": "stdout",
                    "text": "\r\n"
                },
                {
                    "output_type": "stream",
                    "name": "stdout",
                    "text": "ForceFlush is enabled for this instance. \r\n"
                },
                {
                    "output_type": "stream",
                    "name": "stdout",
                    "text": "\r\n"
                },
                {
                    "output_type": "stream",
                    "name": "stdout",
                    "text": "2021-08-06 06:23:28.26 Server      Total Log Writer threads: 4. This is an informational message; no user action is required.\r\n"
                },
                {
                    "output_type": "stream",
                    "name": "stdout",
                    "text": "\r\n"
                },
                {
                    "output_type": "stream",
                    "name": "stdout",
                    "text": "2021-08-06 06:23:28.27 Server      clwb is selected for pmem flush operation.\r\n"
                },
                {
                    "output_type": "stream",
                    "name": "stdout",
                    "text": "\r\n"
                },
                {
                    "output_type": "stream",
                    "name": "stdout",
                    "text": "2021-08-06 06:23:28.27 Server      Software Usage Metrics is disabled.\r\n"
                },
                {
                    "output_type": "stream",
                    "name": "stdout",
                    "text": "\r\n"
                },
                {
                    "output_type": "stream",
                    "name": "stdout",
                    "text": "2021-08-06 06:23:28.29 Server      CLR version v4.0.30319 loaded.\r\n"
                },
                {
                    "output_type": "stream",
                    "name": "stdout",
                    "text": "\r\n"
                },
                {
                    "output_type": "stream",
                    "name": "stdout",
                    "text": "2021-08-06 06:23:28.29 spid12s     [1]. Feature Status: PVS: 0. CTR: 0. ConcurrentPFSUpdate: 1.\r\n"
                },
                {
                    "output_type": "stream",
                    "name": "stdout",
                    "text": "\r\n"
                },
                {
                    "output_type": "stream",
                    "name": "stdout",
                    "text": "2021-08-06 06:23:28.29 spid12s     Starting up database 'master'.\r\n"
                },
                {
                    "output_type": "stream",
                    "name": "stdout",
                    "text": "\r\n"
                },
                {
                    "output_type": "stream",
                    "name": "stdout",
                    "text": "ForceFlush feature is enabled for log durability.\r\n"
                },
                {
                    "output_type": "stream",
                    "name": "stdout",
                    "text": "\r\n"
                },
                {
                    "output_type": "stream",
                    "name": "stdout",
                    "text": "2021-08-06 06:23:28.61 spid12s     CHECKDB for database 'master' finished without errors on 2019-12-21 14:41:58.023 (local time). This is an informational message only; no user action is required.\r\n"
                },
                {
                    "output_type": "stream",
                    "name": "stdout",
                    "text": "\r\n"
                },
                {
                    "output_type": "stream",
                    "name": "stdout",
                    "text": "2021-08-06 06:23:28.64 spid12s     Resource governor reconfiguration succeeded.\r\n"
                },
                {
                    "output_type": "stream",
                    "name": "stdout",
                    "text": "\r\n"
                },
                {
                    "output_type": "stream",
                    "name": "stdout",
                    "text": "2021-08-06 06:23:28.64 spid12s     SQL Server Audit is starting the audits. This is an informational message. No user action is required.\r\n"
                },
                {
                    "output_type": "stream",
                    "name": "stdout",
                    "text": "\r\n"
                },
                {
                    "output_type": "stream",
                    "name": "stdout",
                    "text": "2021-08-06 06:23:28.64 spid12s     SQL Server Audit has started the audits. This is an informational message. No user action is required.\r\n"
                },
                {
                    "output_type": "stream",
                    "name": "stdout",
                    "text": "\r\n"
                },
                {
                    "output_type": "stream",
                    "name": "stdout",
                    "text": "2021-08-06 06:23:28.71 Server      Common language runtime (CLR) functionality initialized.\r\n"
                },
                {
                    "output_type": "stream",
                    "name": "stdout",
                    "text": "\r\n"
                },
                {
                    "output_type": "stream",
                    "name": "stdout",
                    "text": "2021-08-06 06:23:28.90 spid12s     SQL Trace ID 1 was started by login \"sa\".\r\n"
                },
                {
                    "output_type": "stream",
                    "name": "stdout",
                    "text": "\r\n"
                },
                {
                    "output_type": "stream",
                    "name": "stdout",
                    "text": "2021-08-06 06:23:28.93 spid12s     Server name is 'b0d18d09e3de'. This is an informational message only. No user action is required.\r\n"
                },
                {
                    "output_type": "stream",
                    "name": "stdout",
                    "text": "\r\n"
                },
                {
                    "output_type": "stream",
                    "name": "stdout",
                    "text": "2021-08-06 06:23:28.95 spid27s     Always On: The availability replica manager is starting. This is an informational message only. No user action is required.\r\n"
                },
                {
                    "output_type": "stream",
                    "name": "stdout",
                    "text": "\r\n"
                },
                {
                    "output_type": "stream",
                    "name": "stdout",
                    "text": "2021-08-06 06:23:28.95 spid27s     Always On: The availability replica manager is waiting for the instance of SQL Server to allow client connections. This is an informational message only. No user action is required.\r\n"
                },
                {
                    "output_type": "stream",
                    "name": "stdout",
                    "text": "\r\n"
                },
                {
                    "output_type": "stream",
                    "name": "stdout",
                    "text": "2021-08-06 06:23:28.96 spid14s     [32767]. Feature Status: PVS: 0. CTR: 0. ConcurrentPFSUpdate: 1.\r\n"
                },
                {
                    "output_type": "stream",
                    "name": "stdout",
                    "text": "\r\n"
                },
                {
                    "output_type": "stream",
                    "name": "stdout",
                    "text": "2021-08-06 06:23:28.96 spid32s     [5]. Feature Status: PVS: 0. CTR: 0. ConcurrentPFSUpdate: 1.\r\n"
                },
                {
                    "output_type": "stream",
                    "name": "stdout",
                    "text": "\r\n"
                },
                {
                    "output_type": "stream",
                    "name": "stdout",
                    "text": "2021-08-06 06:23:28.96 spid31s     [7]. Feature Status: PVS: 0. CTR: 0. ConcurrentPFSUpdate: 1.\r\n"
                },
                {
                    "output_type": "stream",
                    "name": "stdout",
                    "text": "\r\n"
                },
                {
                    "output_type": "stream",
                    "name": "stdout",
                    "text": "2021-08-06 06:23:28.96 spid30s     [4]. Feature Status: PVS: 0. CTR: 0. ConcurrentPFSUpdate: 1.\r\n"
                },
                {
                    "output_type": "stream",
                    "name": "stdout",
                    "text": "\r\n"
                },
                {
                    "output_type": "stream",
                    "name": "stdout",
                    "text": "2021-08-06 06:23:28.96 spid33s     [8]. Feature Status: PVS: 0. CTR: 0. ConcurrentPFSUpdate: 1.\r\n"
                },
                {
                    "output_type": "stream",
                    "name": "stdout",
                    "text": "\r\n"
                },
                {
                    "output_type": "stream",
                    "name": "stdout",
                    "text": "2021-08-06 06:23:28.96 spid14s     Starting up database 'mssqlsystemresource'.\r\n"
                },
                {
                    "output_type": "stream",
                    "name": "stdout",
                    "text": "\r\n"
                },
                {
                    "output_type": "stream",
                    "name": "stdout",
                    "text": "2021-08-06 06:23:28.96 spid32s     Starting up database 'AdventureWorks2017'.\r\n"
                },
                {
                    "output_type": "stream",
                    "name": "stdout",
                    "text": "\r\n"
                },
                {
                    "output_type": "stream",
                    "name": "stdout",
                    "text": "2021-08-06 06:23:28.96 spid31s     Starting up database 'Northwind'.\r\n"
                },
                {
                    "output_type": "stream",
                    "name": "stdout",
                    "text": "\r\n"
                },
                {
                    "output_type": "stream",
                    "name": "stdout",
                    "text": "2021-08-06 06:23:28.97 spid30s     Starting up database 'msdb'.\r\n"
                },
                {
                    "output_type": "stream",
                    "name": "stdout",
                    "text": "\r\n"
                },
                {
                    "output_type": "stream",
                    "name": "stdout",
                    "text": "2021-08-06 06:23:28.97 spid33s     Starting up database 'pubs'.\r\n"
                },
                {
                    "output_type": "stream",
                    "name": "stdout",
                    "text": "\r\n"
                },
                {
                    "output_type": "stream",
                    "name": "stdout",
                    "text": "2021-08-06 06:23:28.97 spid14s     The resource database build version is 15.00.2000. This is an informational message only. No user action is required.\r\n"
                },
                {
                    "output_type": "stream",
                    "name": "stdout",
                    "text": "\r\n"
                },
                {
                    "output_type": "stream",
                    "name": "stdout",
                    "text": "2021-08-06 06:23:29.00 spid14s     [3]. Feature Status: PVS: 0. CTR: 0. ConcurrentPFSUpdate: 1.\r\n"
                },
                {
                    "output_type": "stream",
                    "name": "stdout",
                    "text": "\r\n"
                },
                {
                    "output_type": "stream",
                    "name": "stdout",
                    "text": "2021-08-06 06:23:29.00 spid14s     Starting up database 'model'.\r\n"
                },
                {
                    "output_type": "stream",
                    "name": "stdout",
                    "text": "\r\n"
                },
                {
                    "output_type": "stream",
                    "name": "stdout",
                    "text": "2021-08-06 06:23:29.03 spid26s     A self-generated certificate was successfully loaded for encryption.\r\n"
                },
                {
                    "output_type": "stream",
                    "name": "stdout",
                    "text": "\r\n"
                },
                {
                    "output_type": "stream",
                    "name": "stdout",
                    "text": "2021-08-06 06:23:29.04 spid26s     Server is listening on [ 'any' <ipv6> 1433].\r\n"
                },
                {
                    "output_type": "stream",
                    "name": "stdout",
                    "text": "\r\n"
                },
                {
                    "output_type": "stream",
                    "name": "stdout",
                    "text": "2021-08-06 06:23:29.04 spid26s     Server is listening on [ 'any' <ipv4> 1433].\r\n"
                },
                {
                    "output_type": "stream",
                    "name": "stdout",
                    "text": "\r\n"
                },
                {
                    "output_type": "stream",
                    "name": "stdout",
                    "text": "2021-08-06 06:23:29.05 Server      Server is listening on [ 'any' <ipv6> 1434].\r\n"
                },
                {
                    "output_type": "stream",
                    "name": "stdout",
                    "text": "\r\n"
                },
                {
                    "output_type": "stream",
                    "name": "stdout",
                    "text": "2021-08-06 06:23:29.05 Server      Server is listening on [ 'any' <ipv4> 1434].\r\n"
                },
                {
                    "output_type": "stream",
                    "name": "stdout",
                    "text": "\r\n"
                },
                {
                    "output_type": "stream",
                    "name": "stdout",
                    "text": "2021-08-06 06:23:29.05 Server      Dedicated admin connection support was established for listening remotely on port 1434.\r\n"
                },
                {
                    "output_type": "stream",
                    "name": "stdout",
                    "text": "\r\n"
                },
                {
                    "output_type": "stream",
                    "name": "stdout",
                    "text": "2021-08-06 06:23:29.06 spid26s     Error: 39002, Severity: 16, State: 1.\r\n"
                },
                {
                    "output_type": "stream",
                    "name": "stdout",
                    "text": "\r\n"
                },
                {
                    "output_type": "stream",
                    "name": "stdout",
                    "text": "2021-08-06 06:23:29.06 spid26s     SQL failed to boot extensibility for error code 0x80070005.\r\n"
                },
                {
                    "output_type": "stream",
                    "name": "stdout",
                    "text": "\r\n"
                },
                {
                    "output_type": "stream",
                    "name": "stdout",
                    "text": "2021-08-06 06:23:29.06 spid26s     InitializeXdbPkgLauncher failed. ErrorCode: 0x80004005.\r\n"
                },
                {
                    "output_type": "stream",
                    "name": "stdout",
                    "text": "\r\n"
                },
                {
                    "output_type": "stream",
                    "name": "stdout",
                    "text": "2021-08-06 06:23:29.07 spid26s     SQL Server is now ready for client connections. This is an informational message; no user action is required.\r\n"
                },
                {
                    "output_type": "stream",
                    "name": "stdout",
                    "text": "\r\n"
                },
                {
                    "output_type": "stream",
                    "name": "stdout",
                    "text": "2021-08-06 06:23:29.12 Server      Failed to verify the Authenticode signature of 'C:\\binn\\msoledbsql.dll'. Signature verification of SQL Server DLLs will be skipped. Genuine copies of SQL Server are signed. Failure to verify the Authenticode signature might indicate that this is not an authentic release of SQL Server. Install a genuine copy of SQL Server or contact customer support.\r\n"
                },
                {
                    "output_type": "stream",
                    "name": "stdout",
                    "text": "\r\n"
                },
                {
                    "output_type": "stream",
                    "name": "stdout",
                    "text": "2021-08-06 06:23:29.36 spid14s     CHECKDB for database 'model' finished without errors on 2019-12-21 14:41:58.610 (local time). This is an informational message only; no user action is required.\r\n"
                },
                {
                    "output_type": "stream",
                    "name": "stdout",
                    "text": "\r\n"
                },
                {
                    "output_type": "stream",
                    "name": "stdout",
                    "text": "2021-08-06 06:23:29.36 spid14s     Clearing tempdb database.\r\n"
                },
                {
                    "output_type": "stream",
                    "name": "stdout",
                    "text": "\r\n"
                },
                {
                    "output_type": "stream",
                    "name": "stdout",
                    "text": "2021-08-06 06:23:29.37 spid31s     Parallel redo is started for database 'Northwind' with worker pool size [12].\r\n"
                },
                {
                    "output_type": "stream",
                    "name": "stdout",
                    "text": "\r\n"
                },
                {
                    "output_type": "stream",
                    "name": "stdout",
                    "text": "2021-08-06 06:23:29.37 spid33s     Parallel redo is started for database 'pubs' with worker pool size [12].\r\n"
                },
                {
                    "output_type": "stream",
                    "name": "stdout",
                    "text": "\r\n"
                },
                {
                    "output_type": "stream",
                    "name": "stdout",
                    "text": "2021-08-06 06:23:29.42 spid31s     CHECKDB for database 'Northwind' finished without errors on 2019-12-21 14:42:06.193 (local time). This is an informational message only; no user action is required.\r\n"
                },
                {
                    "output_type": "stream",
                    "name": "stdout",
                    "text": "\r\n"
                },
                {
                    "output_type": "stream",
                    "name": "stdout",
                    "text": "2021-08-06 06:23:29.42 spid31s     Recovery is writing a checkpoint in database 'msdb' (4). This is an informational message only. No user action is required.\r\n"
                },
                {
                    "output_type": "stream",
                    "name": "stdout",
                    "text": "\r\n"
                },
                {
                    "output_type": "stream",
                    "name": "stdout",
                    "text": "2021-08-06 06:23:29.42 spid33s     CHECKDB for database 'pubs' finished without errors on 2019-12-21 14:42:06.563 (local time). This is an informational message only; no user action is required.\r\n"
                },
                {
                    "output_type": "stream",
                    "name": "stdout",
                    "text": "\r\n"
                },
                {
                    "output_type": "stream",
                    "name": "stdout",
                    "text": "2021-08-06 06:23:29.43 spid33s     Parallel redo is shutdown for database 'Northwind' with worker pool size [12].\r\n"
                },
                {
                    "output_type": "stream",
                    "name": "stdout",
                    "text": "\r\n"
                },
                {
                    "output_type": "stream",
                    "name": "stdout",
                    "text": "2021-08-06 06:23:29.43 spid33s     Parallel redo is shutdown for database 'pubs' with worker pool size [12].\r\n"
                },
                {
                    "output_type": "stream",
                    "name": "stdout",
                    "text": "\r\n"
                },
                {
                    "output_type": "stream",
                    "name": "stdout",
                    "text": "2021-08-06 06:23:29.44 spid30s     CHECKDB for database 'msdb' finished without errors on 2019-12-21 14:41:59.007 (local time). This is an informational message only; no user action is required.\r\n"
                },
                {
                    "output_type": "stream",
                    "name": "stdout",
                    "text": "\r\n"
                },
                {
                    "output_type": "stream",
                    "name": "stdout",
                    "text": "2021-08-06 06:23:29.78 spid14s     [2]. Feature Status: PVS: 0. CTR: 0. ConcurrentPFSUpdate: 1.\r\n"
                },
                {
                    "output_type": "stream",
                    "name": "stdout",
                    "text": "\r\n"
                },
                {
                    "output_type": "stream",
                    "name": "stdout",
                    "text": "2021-08-06 06:23:29.78 spid14s     Starting up database 'tempdb'.\r\n"
                },
                {
                    "output_type": "stream",
                    "name": "stdout",
                    "text": "\r\n"
                },
                {
                    "output_type": "stream",
                    "name": "stdout",
                    "text": "2021-08-06 06:23:30.41 spid32s     Parallel redo is started for database 'AdventureWorks2017' with worker pool size [12].\r\n"
                },
                {
                    "output_type": "stream",
                    "name": "stdout",
                    "text": "\r\n"
                },
                {
                    "output_type": "stream",
                    "name": "stdout",
                    "text": "2021-08-06 06:23:30.45 spid32s     CHECKDB for database 'AdventureWorks2017' finished without errors on 2019-12-21 14:42:03.403 (local time). This is an informational message only; no user action is required.\r\n"
                },
                {
                    "output_type": "stream",
                    "name": "stdout",
                    "text": "\r\n"
                },
                {
                    "output_type": "stream",
                    "name": "stdout",
                    "text": "2021-08-06 06:23:30.47 spid12s     Parallel redo is shutdown for database 'AdventureWorks2017' with worker pool size [12].\r\n"
                },
                {
                    "output_type": "stream",
                    "name": "stdout",
                    "text": "\r\n"
                },
                {
                    "output_type": "stream",
                    "name": "stdout",
                    "text": "2021-08-06 06:23:30.65 spid14s     The tempdb database has 4 data file(s).\r\n"
                },
                {
                    "output_type": "stream",
                    "name": "stdout",
                    "text": "\r\n"
                },
                {
                    "output_type": "stream",
                    "name": "stdout",
                    "text": "2021-08-06 06:23:30.66 spid27s     The Service Broker endpoint is in disabled or stopped state.\r\n"
                },
                {
                    "output_type": "stream",
                    "name": "stdout",
                    "text": "\r\n"
                },
                {
                    "output_type": "stream",
                    "name": "stdout",
                    "text": "2021-08-06 06:23:30.66 spid27s     The Database Mirroring endpoint is in disabled or stopped state.\r\n"
                },
                {
                    "output_type": "stream",
                    "name": "stdout",
                    "text": "\r\n"
                },
                {
                    "output_type": "stream",
                    "name": "stdout",
                    "text": "2021-08-06 06:23:30.67 spid27s     Service Broker manager has started.\r\n"
                },
                {
                    "output_type": "stream",
                    "name": "stdout",
                    "text": "\r\n"
                },
                {
                    "output_type": "stream",
                    "name": "stdout",
                    "text": "2021-08-06 06:23:30.67 spid12s     Recovery is complete. This is an informational message only. No user action is required.\r\n"
                },
                {
                    "output_type": "stream",
                    "name": "stdout",
                    "text": "\r\n"
                },
                {
                    "output_type": "stream",
                    "name": "stdout",
                    "text": "2021-08-06 06:23:31.00 spid51      Attempting to load library 'xpsqlbot.dll' into memory. This is an informational message only. No user action is required.\r\n"
                },
                {
                    "output_type": "stream",
                    "name": "stdout",
                    "text": "\r\n"
                },
                {
                    "output_type": "stream",
                    "name": "stdout",
                    "text": "2021-08-06 06:23:31.00 spid51      Using 'xpsqlbot.dll' version '2019.150.2000' to execute extended stored procedure 'xp_qv'. This is an informational message only; no user action is required.\r\n"
                },
                {
                    "output_type": "stream",
                    "name": "stdout",
                    "text": "\r\n"
                },
                {
                    "output_type": "stream",
                    "name": "stdout",
                    "text": "2021-08-06 06:23:31.04 spid51      Attempting to load library 'xpstar.dll' into memory. This is an informational message only. No user action is required.\r\n"
                },
                {
                    "output_type": "stream",
                    "name": "stdout",
                    "text": "\r\n"
                },
                {
                    "output_type": "stream",
                    "name": "stdout",
                    "text": "2021-08-06 06:23:31.07 spid51      Using 'xpstar.dll' version '2019.150.2000' to execute extended stored procedure 'xp_sqlagent_notify'. This is an informational message only; no user action is required.\r\n"
                },
                {
                    "output_type": "stream",
                    "name": "stdout",
                    "text": "\r\n"
                },
                {
                    "output_type": "stream",
                    "name": "stdout",
                    "text": "2021-08-06 06:24:08.31 spid52      Attempting to load library 'xplog70.dll' into memory. This is an informational message only. No user action is required.\r\n"
                },
                {
                    "output_type": "stream",
                    "name": "stdout",
                    "text": "\r\n"
                },
                {
                    "output_type": "stream",
                    "name": "stdout",
                    "text": "2021-08-06 06:24:08.34 spid52      Using 'xplog70.dll' version '2019.150.2000' to execute extended stored procedure 'xp_msver'. This is an informational message only; no user action is required.\r\n"
                }
            ],
            "execution_count": 6
        },
        {
            "cell_type": "markdown",
            "source": [
                "If there are warnings above and the containers are running - check the logs"
            ],
            "metadata": {
                "azdata_cell_guid": "93044e3d-d9d1-4b03-aab6-0438eb3d9fb9"
            }
        },
        {
            "cell_type": "code",
            "source": [
                "docker logs dbatools_SQL2019_1"
            ],
            "metadata": {
                "azdata_cell_guid": "00d631fb-0dc2-421b-bdd3-fb6ec20c1c5b"
            },
            "outputs": [],
            "execution_count": null
        },
        {
            "cell_type": "markdown",
            "source": [
                "Now you can use these containers to run the rest of the notebooks - Don't forget to run the Clean Up Containers Notebook at the end to clean up"
            ],
            "metadata": {
                "azdata_cell_guid": "51f09646-69f5-46a7-acf0-33d227489314"
            }
        },
        {
            "cell_type": "code",
            "source": [],
            "metadata": {
                "azdata_cell_guid": "f023eb88-1e69-49c5-8bd1-55b6de9e45f5"
            },
            "outputs": [
                {
                    "output_type": "display_data",
                    "data": {
                        "text/html": "<script type=\"text/javascript\">#!javascript\r\nif ((typeof(requirejs) !==  typeof(Function)) || (typeof(requirejs.config) !== typeof(Function))) { \r\n    let script = document.createElement(\"script\"); \r\n    script.setAttribute(\"src\", \"https://cdnjs.cloudflare.com/ajax/libs/require.js/2.3.6/require.min.js\"); \r\n    script.onload = function(){\r\n        loadDotnetInteractiveApi();\r\n    };\r\n    document.getElementsByTagName(\"head\")[0].appendChild(script); \r\n}\r\nelse {\r\n    loadDotnetInteractiveApi();\r\n}\r\n\r\nfunction loadDotnetInteractiveApi(){\r\n    let apiRequire = requirejs.config({context:\"dotnet-interactive.22480.58172\",paths:{dotnetInteractive:\"http://localhost:58172/resources/dotnet-interactive\"}});\r\n    apiRequire(['dotnetInteractive'], \r\n    function(api) {       \r\n        api.createDotnetInteractiveClient(\"http://localhost:58172/\", window);\r\n    },\r\n    function(error){\r\n        console.log(error);\r\n    });\r\n}</script>"
                    },
                    "metadata": {}
                }
            ],
            "execution_count": null
        },
        {
            "cell_type": "code",
            "source": [],
            "metadata": {
                "azdata_cell_guid": "35a7c0e9-2679-43b5-accc-22ea39181f09"
            },
            "outputs": [],
            "execution_count": null
        }
    ]
}