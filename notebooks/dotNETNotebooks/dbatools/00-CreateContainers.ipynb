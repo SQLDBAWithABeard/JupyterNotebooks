{
    "metadata": {
        "kernelspec": {
            "name": ".net-powershell",
            "display_name": ".NET (PowerShell)",
            "language": "PowerShell"
        },
        "language_info": {
            "name": "PowerShell",
            "version": "7.0",
            "mimetype": "text/x-powershell",
            "file_extension": ".ps1",
            "pygments_lexer": "powershell"
        }
    },
    "nbformat_minor": 2,
    "nbformat": 4,
    "cells": [
        {
            "cell_type": "markdown",
            "source": [
                "# Creating the containers for .NET notebooks for exploring dbatools\n",
                "\n",
                "To run these notebooks, you will first have to have set up Jupyter Notebooks following the information here [https://sqldbawithabeard.com/2020/02/07/new-net-notebooks-are-here-powershell-7-notebooks-are-here/](https://sqldbawithabeard.com/2020/02/07/new-net-notebooks-are-here-powershell-7-notebooks-are-here/)\n",
                "\n",
                "![dbatools](.\\images\\dbatools.png)\n",
                "\n",
                "We have written a book which will give you a brilliant introduction to dbatools. It's called dbatools in a Month of Lunches and you can find it at [https://beard.media/book](https://beard.media/book)\n",
                "\n",
                "# Setting up the containers for the rest of the dbatools notebooks\n",
                "\n",
                "To be able to follow along with the rest of the notebooks, you will need to set up two containers.\n",
                "\n",
                "This notebook will enable you to do that.\n",
                "\n",
                "You will need to have Docker installed [Install Docker Desktop on Windows | Docker Documentation](https://docs.docker.com/docker-for-windows/install/). The image is based on the SQL Server 2019 image so you will need to have docker set to use Linux Containers. Right click on the Docker icon in the notification area and if it says \"Switch to Linux Containers\" click to switch and wait for Docker to restart. \n",
                "\n",
                "![Switch To Linux Containers](.\\images\\switchtolinuxcontainers.png)\n",
                "\n",
                "You will be able to run all of the code in the notebooks by creating the folder, credential and containers in this notebook and then you can click on the play button in each code block to run the code. Note - There are a few code blocks with the results already included which should not be run. They are to show you the results of a command that cannot be run against containers (setting up configuration for domain accounts for example)\n",
                "\n",
                "**You can also navigate through the Notebook using the arrow keys and press SHIFT + ENTER to run a cell**"
            ],
            "metadata": {
                "azdata_cell_guid": "e7503606-32c6-4685-84a5-99cda6387fce"
            },
            "attachments": {}
        },
        {
            "cell_type": "markdown",
            "source": [
                "## Create the folders and the credential\n",
                "\n",
                "The code below will create a directory called dbatools-demo in your Documents folder and save a credential file for logging into the containers. You can alter the directory created by altering the `$FolderPath`  \n",
                "\n",
                "The code has been collapsed but you can view it using the view menu in the lab or by clicking the 3 ellipses"
            ],
            "metadata": {
                "azdata_cell_guid": "9a602f20-4924-490a-a025-1aa03bb4f4b4"
            }
        },
        {
            "cell_type": "code",
            "source": [
                "$NotebookDir = '' # add the directory that the notebook is in here \n",
                "$FolderPath = $Env:USERPROFILE + '\\Documents\\dbatoolsdemo'\n",
                "\n",
                "########################################################\n",
                "Write-Output \"Creating Directory $FolderPath\"\n",
                "if (Test-Path $FolderPath) {\n",
                "    Write-Output \"Path $FolderPath exists already\"\n",
                "}\n",
                "else {\n",
                "    $null = New-Item $FolderPath -ItemType Directory\n",
                "}\n",
                "\n",
                "Write-Output \"Creating Directory $FolderPath\\SQL1\"\n",
                "if (Test-Path \"$FolderPath\\SQL1\") {\n",
                "    Write-Output \"Directory SQL1 exists already\"\n",
                "    Get-ChildItem \"$FolderPath\\SQL1\" -Recurse | Remove-Item -Recurse -Force\n",
                "}\n",
                "else {\n",
                "    $null = New-Item \"$FolderPath\\SQL1\"-ItemType Directory\n",
                "}\n",
                "Write-Output \"Creating File $FolderPath\\SQL1\\dummyfile.txt\"\n",
                "if (Test-Path \"$FolderPath\\SQL1\\dummyfile.txt\") {\n",
                "    Write-Output \"dummyfile.txt exists already\"\n",
                "}\n",
                "else {\n",
                "    $null = New-Item \"$FolderPath\\SQL1\\dummyfile.txt\" -ItemType file\n",
                "}\n",
                "\n",
                "Write-Output \"Creating Directory $FolderPath\\SQL2\"\n",
                "if (Test-Path \"$FolderPath\\SQL2\") {\n",
                "    Write-Output \"Directory SQL2 exists already\"\n",
                "    Get-ChildItem \"$FolderPath\\SQL2\" -Recurse | Remove-Item -Recurse -Force\n",
                "}\n",
                "else {\n",
                "    $null = New-Item \"$FolderPath\\SQL2\"-ItemType Directory\n",
                "}\n",
                "Write-Output \"Creating File $FolderPath\\SQL2\\dummyfile.txt\"\n",
                "if (Test-Path \"$FolderPath\\SQL2\\dummyfile.txt\") {\n",
                "    Write-Output \"dummyfile.txt exists already\"\n",
                "}\n",
                "else {\n",
                "    $null = New-Item \"$FolderPath\\SQL2\\dummyfile.txt\" -ItemType file\n",
                "}\n",
                "\n",
                "Write-Output \"Creating a credential file for the containers - Please don't do this in production\"\n",
                "\n",
                "$sqladminPassword = ConvertTo-SecureString 'dbatools.IO' -AsPlainText -Force \n",
                "$cred = New-Object System.Management.Automation.PSCredential ('sqladmin', $sqladminpassword)\n",
                "$Cred | Export-Clixml -Path $FolderPath\\sqladmin.cred\n",
                "Write-Output \"Credential file created\"\n",
                "\n",
                "Write-Output \"Setting the docker-compose files values\"\n",
                "\n",
                "if ($NotebookDir -eq '') {\n",
                "    try {\n",
                "        $NotebookDir = Read-Host \"Please enter path to the notebook. Azure Data Studio doesnt know where it is\" -ErrorAction Stop\n",
                "    }\n",
                "    catch {\n",
                "        Write-Warning \"UH-OH - You have not set the `$NotebookDir variable to a directory we can find - Set it in the code please\"\n",
                "        Break\n",
                "    }\n",
                "}\n",
                "if (-not (Test-Path $NotebookDir -ErrorAction SilentlyContinue)) {\n",
                "    Write-Warning \"UH-OH - You have not set the `$NotebookDir variable to a directory we can find  - Set it in the code please\"\n",
                "    Break\n",
                "}\n",
                "\n",
                "$dockercompose = (Get-Content $NotebookDir\\\\dockercompose.yml -ErrorAction Stop) -replace '__ReplaceME__' , $FolderPath\n",
                "# $dockercompose\n",
                "$dockercompose | Set-Content $NotebookDir\\\\docker-compose.yml\n",
                "Set-Location $NotebookDir\n",
                "\n",
                "Write-Output \"Finished\""
            ],
            "metadata": {
                "azdata_cell_guid": "da2a1233-6845-4031-b5dd-fc65263cc832",
                "tags": [
                    "hide_input"
                ]
            },
            "outputs": [],
            "execution_count": null
        },
        {
            "cell_type": "markdown",
            "source": [
                "## Containers\n",
                "\n",
                "We are going to create two SQL 2019 containers using the sqldbawithabeard\\dbatoolsbeardsql01 [image from the Docker Hub](https://hub.docker.com/repository/docker/sqldbawithabeard/dbatoolsbeardsql01) and sqldbawithabeard\\dbatoolsbeardsql02 [image from the Docker Hub](https://hub.docker.com/repository/docker/sqldbawithabeard/dbatoolsbeardsql02)\n",
                "\n",
                "The first time it is going to pull the images from the Docker Hub. If you wish to do this first, you can run the cell below\n",
                "\n",
                ""
            ],
            "metadata": {
                "azdata_cell_guid": "82e68f8a-0aa6-4f70-a781-7e511c1a762f"
            }
        },
        {
            "cell_type": "code",
            "source": [
                "docker pull sqldbawithabeard/dbatoolsbeardsql01:v1\r\n",
                "docker pull sqldbawithabeard/dbatoolsbeardsql02:v1"
            ],
            "metadata": {
                "azdata_cell_guid": "689caa3f-e974-41ad-a35b-8c2e1f609386"
            },
            "outputs": [],
            "execution_count": null
        },
        {
            "cell_type": "markdown",
            "source": [
                "Now we can start the containers with the code below"
            ],
            "metadata": {
                "azdata_cell_guid": "1771c1c6-4dbb-46e5-b0ad-d66cd66e855e"
            }
        },
        {
            "cell_type": "code",
            "source": [
                "docker-compose up -d"
            ],
            "metadata": {
                "azdata_cell_guid": "d05505a2-c39e-4402-93cd-059430df01a3"
            },
            "outputs": [],
            "execution_count": null
        },
        {
            "cell_type": "markdown",
            "source": [
                "All being well, you wil have something that looks like\n",
                "\n",
                "\n",
                "![DockerCompose](.\\images\\containers.png )\n",
                "\n",
                "If you get an error you might need to add the user you have shared your drives with Docker modify permissions to the \\Documents\\ directory in your user profile   \n",
                "More details https://docs.docker.com/docker-for-windows/ or troubleshoot in the normal way\n",
                "\n",
                "\n",
                "Now we can start exploring with dbatools :-)\n",
                "\n",
                "If you have not installed dbatools, it can be got from the PowerShell Gallery using `Install-Module dbatools` the code below will check for the module and either install it in your user profile or update it and Import it"
            ],
            "metadata": {
                "azdata_cell_guid": "6eeea37c-830b-4a3c-9355-db07601ab47b"
            }
        },
        {
            "cell_type": "code",
            "source": [
                "if(Get-Module dbatools -ListAvailable){\n",
                "Write-Output \"Updating dbatools\"\n",
                "Update-Module dbatools\n",
                "}else {\n",
                "Write-Output \"Installing dbatools in your user profile\"\n",
                "Install-Module dbatools -Scope CurrentUser\n",
                "}\n",
                "Import-Module dbatools"
            ],
            "metadata": {
                "azdata_cell_guid": "ddff53ab-f6d0-4c74-abc6-f79487d77f19"
            },
            "outputs": [],
            "execution_count": null
        },
        {
            "cell_type": "markdown",
            "source": [
                "## Check connection\n",
                "Now that is done, we can make a connection to our instances and see if we can connect to them.\n",
                "\n",
                "We are going to use `Connect-DBaInstance` to do this and we will use the containers that we have created and because we need to use SQL Authentication, we will use a credential that we have saved to disk using `Export-CliXML` in one of the celss above.\n",
                "\n",
                "It is **Important** to state that this is not a production secure solution and should not be used as a means of accessing any secure system."
            ],
            "metadata": {
                "azdata_cell_guid": "c6cfbe4c-5e3b-4312-ab12-91416a3cc02d"
            }
        },
        {
            "cell_type": "code",
            "source": [
                "$FolderPath = $Env:USERPROFILE + '\\Documents\\dbatoolsdemo'\n",
                "$SqlInstances = 'localhost,15592', 'localhost,15593'\n",
                "$SqlCredential = Import-Clixml -Path $FolderPath\\sqladmin.cred\n",
                "Write-Output \" Creating connection to the containers\"\n",
                "try {\n",
                "    $SQL1 = Connect-DbaInstance -SqlInstance $SqlInstances[0] -SqlCredential $SqlCredential \n",
                "    $SQL2 = Connect-DbaInstance -SqlInstance $SqlInstances[1] -SqlCredential $SqlCredential\n",
                "    Write-Output \"We have a connection to the containers\"\n",
                "\n",
                "}\n",
                "catch {\n",
                "    Write-Output \"You haven't got a connection to the containers - Either they are still upgrading in which case try again in 30 seconds or the containers have not come up correctly\"\n",
                "    Write-Output \"Make sure the containers are running - the code is below in a block for you\"\n",
                "    Write-Output \"docker ps -a\"\n",
                "    Write-Output \"If they are read the logs - the code is below in a block for you\"\n",
                "    Write-Output \"docker logs dbatools_SQL2019_1\"\n",
                "    Write-Output \"docker logs dbatools_SQL2019-1_1\"\n",
                "}"
            ],
            "metadata": {
                "azdata_cell_guid": "e8e0f4c0-9328-42f4-b328-6cca11d2ad54",
                "jupyter": {
                    "source_hidden": true
                }
            },
            "outputs": [],
            "execution_count": null
        },
        {
            "cell_type": "markdown",
            "source": [
                "If there are warnings above - Check the containers are running - Look at the status column"
            ],
            "metadata": {
                "azdata_cell_guid": "ec7b3d4b-e1a3-4668-ac40-a89a064d74e2"
            }
        },
        {
            "cell_type": "code",
            "source": [
                "docker ps -a"
            ],
            "metadata": {
                "azdata_cell_guid": "6ab5d62d-2069-4206-b555-b3c1a76a7f1d"
            },
            "outputs": [],
            "execution_count": null
        },
        {
            "cell_type": "markdown",
            "source": [
                "If there are warnings above and the containers are running - check the logs"
            ],
            "metadata": {
                "azdata_cell_guid": "a6ed4b0c-37e0-4a79-a63f-bd35616df3ea"
            }
        },
        {
            "cell_type": "code",
            "source": [
                "docker logs dbatools_SQL2019_1"
            ],
            "metadata": {
                "azdata_cell_guid": "67480623-8a3f-4236-8a69-21438c35d90a"
            },
            "outputs": [],
            "execution_count": null
        },
        {
            "cell_type": "markdown",
            "source": [
                "If there are warnings above and the containers are running - check the logs"
            ],
            "metadata": {
                "azdata_cell_guid": "93044e3d-d9d1-4b03-aab6-0438eb3d9fb9"
            }
        },
        {
            "cell_type": "code",
            "source": [
                "docker logs dbatools_SQL2019_1"
            ],
            "metadata": {
                "azdata_cell_guid": "00d631fb-0dc2-421b-bdd3-fb6ec20c1c5b"
            },
            "outputs": [],
            "execution_count": null
        },
        {
            "cell_type": "markdown",
            "source": [
                "Now you can use these containers to run the rest of the notebooks - Don't forget to run the Clean Up Containers Notebook at the end to clean up"
            ],
            "metadata": {
                "azdata_cell_guid": "51f09646-69f5-46a7-acf0-33d227489314"
            }
        }
    ]
}