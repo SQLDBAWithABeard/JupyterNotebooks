{
    "metadata": {
        "kernelspec": {
            "name": ".net-powershell",
            "display_name": ".NET (PowerShell)",
            "language": "PowerShell"
        },
        "language_info": {
            "name": "PowerShell",
            "version": "7.0",
            "mimetype": "text/x-powershell",
            "file_extension": ".ps1",
            "pygments_lexer": "powershell"
        }
    },
    "nbformat_minor": 2,
    "nbformat": 4,
    "cells": [
        {
            "cell_type": "markdown",
            "source": [
                "# Introduction\n",
                "\n",
                "How do you start with dbatools?\n",
                "\n",
                "Lets look at how you can begin and how you can help your self to be able to use dbatools\n",
                "\n",
                "***You will need to have followed the steps in the 00-CreateContainers notebook to use this notebook***\n",
                "\n",
                "We have written a book which will give you a brilliant introduction to dbatools. It's called dbatools in a Month of Lunches and you can find it at https://beard.media/book"
            ],
            "metadata": {
                "azdata_cell_guid": "c2e1450c-7c7f-4400-b427-e77c8afbc967"
            }
        },
        {
            "cell_type": "code",
            "source": [
                "## Lets look at the commands\n",
                "Get-Command -Module dbatools "
            ],
            "metadata": {
                "azdata_cell_guid": "4c5d55a6-203d-4a4f-9f3d-e4c21b4d6070"
            },
            "outputs": [
                {
                    "name": "stdout",
                    "text": "\r\n",
                    "output_type": "stream"
                },
                {
                    "name": "stdout",
                    "text": "CommandType     Name                                               Version    Source\r\n",
                    "output_type": "stream"
                },
                {
                    "name": "stdout",
                    "text": "-----------     ----                                               -------    ------\r\n",
                    "output_type": "stream"
                },
                {
                    "name": "stdout",
                    "text": "Alias           Attach-DbaDatabase                                 1.1.7      dbatools\r\n",
                    "output_type": "stream"
                },
                {
                    "name": "stdout",
                    "text": "Alias           Detach-DbaDatabase                                 1.1.7      dbatools\r\n",
                    "output_type": "stream"
                },
                {
                    "name": "stdout",
                    "text": "Alias           Get-DbaBuildReference                              1.1.7      dbatools\r\n",
                    "output_type": "stream"
                },
                {
                    "name": "stdout",
                    "text": "Alias           Get-DbaDbModule                                    1.1.7      dbatools\r\n",
                    "output_type": "stream"
                },
                {
                    "name": "stdout",
                    "text": "Alias           Get-DbaRegisteredServer                            1.1.7      dbatools\r\n",
                    "output_type": "stream"
                },
                {
                    "name": "stdout",
                    "text": "Alias           Start-SqlMigration                                 1.1.7      dbatools\r\n",
                    "output_type": "stream"
                },
                {
                    "name": "stdout",
                    "text": "Alias           Write-DbaDataTable                                 1.1.7      dbatools\r\n",
                    "output_type": "stream"
                },
                {
                    "name": "stdout",
                    "text": "Function        Add-DbaAgDatabase                                  1.1.7      dbatools\r\n",
                    "output_type": "stream"
                },
                {
                    "name": "stdout",
                    "text": "Function        Add-DbaAgListener                                  1.1.7      dbatools\r\n",
                    "output_type": "stream"
                },
                {
                    "name": "stdout",
                    "text": "Function        Add-DbaAgReplica                                   1.1.7      dbatools\r\n",
                    "output_type": "stream"
                },
                {
                    "name": "stdout",
                    "text": "Function        Add-DbaComputerCertificate                         1.1.7      dbatools\r\n",
                    "output_type": "stream"
                },
                {
                    "name": "stdout",
                    "text": "Function        Add-DbaDbMirrorMonitor                             1.1.7      dbatools\r\n",
                    "output_type": "stream"
                },
                {
                    "name": "stdout",
                    "text": "Function        Add-DbaDbRoleMember                                1.1.7      dbatools\r\n",
                    "output_type": "stream"
                },
                {
                    "name": "stdout",
                    "text": "Function        Add-DbaExtendedProperty                            1.1.7      dbatools\r\n",
                    "output_type": "stream"
                },
                {
                    "name": "stdout",
                    "text": "Function        Add-DbaPfDataCollectorCounter                      1.1.7      dbatools\r\n",
                    "output_type": "stream"
                },
                {
                    "name": "stdout",
                    "text": "Function        Add-DbaRegServer                                   1.1.7      dbatools\r\n",
                    "output_type": "stream"
                },
                {
                    "name": "stdout",
                    "text": "Function        Add-DbaRegServerGroup                              1.1.7      dbatools\r\n",
                    "output_type": "stream"
                },
                {
                    "name": "stdout",
                    "text": "Function        Add-DbaServerRoleMember                            1.1.7      dbatools\r\n",
                    "output_type": "stream"
                },
                {
                    "name": "stdout",
                    "text": "Function        Backup-DbaComputerCertificate                      1.1.7      dbatools\r\n",
                    "output_type": "stream"
                },
                {
                    "name": "stdout",
                    "text": "Function        Backup-DbaDatabase                                 1.1.7      dbatools\r\n",
                    "output_type": "stream"
                },
                {
                    "name": "stdout",
                    "text": "Function        Backup-DbaDbCertificate                            1.1.7      dbatools\r\n",
                    "output_type": "stream"
                },
                {
                    "name": "stdout",
                    "text": "Function        Backup-DbaDbMasterKey                              1.1.7      dbatools\r\n",
                    "output_type": "stream"
                },
                {
                    "name": "stdout",
                    "text": "Function        Backup-DbaServiceMasterKey                         1.1.7      dbatools\r\n",
                    "output_type": "stream"
                },
                {
                    "name": "stdout",
                    "text": "Function        Clear-DbaConnectionPool                            1.1.7      dbatools\r\n",
                    "output_type": "stream"
                },
                {
                    "name": "stdout",
                    "text": "Function        Clear-DbaLatchStatistics                           1.1.7      dbatools\r\n",
                    "output_type": "stream"
                },
                {
                    "name": "stdout",
                    "text": "Function        Clear-DbaPlanCache                                 1.1.7      dbatools\r\n",
                    "output_type": "stream"
                },
                {
                    "name": "stdout",
                    "text": "Function        Clear-DbaWaitStatistics                            1.1.7      dbatools\r\n",
                    "output_type": "stream"
                },
                {
                    "name": "stdout",
                    "text": "Function        Connect-DbaInstance                                1.1.7      dbatools\r\n",
                    "output_type": "stream"
                },
                {
                    "name": "stdout",
                    "text": "Function        ConvertTo-DbaDataTable                             1.1.7      dbatools\r\n",
                    "output_type": "stream"
                },
                {
                    "name": "stdout",
                    "text": "Function        ConvertTo-DbaTimeline                              1.1.7      dbatools\r\n",
                    "output_type": "stream"
                },
                {
                    "name": "stdout",
                    "text": "Function        ConvertTo-DbaXESession                             1.1.7      dbatools\r\n",
                    "output_type": "stream"
                },
                {
                    "name": "stdout",
                    "text": "Function        Copy-DbaAgentAlert                                 1.1.7      dbatools\r\n",
                    "output_type": "stream"
                },
                {
                    "name": "stdout",
                    "text": "Function        Copy-DbaAgentJob                                   1.1.7      dbatools\r\n",
                    "output_type": "stream"
                },
                {
                    "name": "stdout",
                    "text": "Function        Copy-DbaAgentJobCategory                           1.1.7      dbatools\r\n",
                    "output_type": "stream"
                },
                {
                    "name": "stdout",
                    "text": "Function        Copy-DbaAgentOperator                              1.1.7      dbatools\r\n",
                    "output_type": "stream"
                },
                {
                    "name": "stdout",
                    "text": "Function        Copy-DbaAgentProxy                                 1.1.7      dbatools\r\n",
                    "output_type": "stream"
                },
                {
                    "name": "stdout",
                    "text": "Function        Copy-DbaAgentSchedule                              1.1.7      dbatools\r\n",
                    "output_type": "stream"
                },
                {
                    "name": "stdout",
                    "text": "Function        Copy-DbaAgentServer                                1.1.7      dbatools\r\n",
                    "output_type": "stream"
                },
                {
                    "name": "stdout",
                    "text": "Function        Copy-DbaBackupDevice                               1.1.7      dbatools\r\n",
                    "output_type": "stream"
                },
                {
                    "name": "stdout",
                    "text": "Function        Copy-DbaCredential                                 1.1.7      dbatools\r\n",
                    "output_type": "stream"
                },
                {
                    "name": "stdout",
                    "text": "Function        Copy-DbaCustomError                                1.1.7      dbatools\r\n",
                    "output_type": "stream"
                },
                {
                    "name": "stdout",
                    "text": "Function        Copy-DbaDatabase                                   1.1.7      dbatools\r\n",
                    "output_type": "stream"
                },
                {
                    "name": "stdout",
                    "text": "Function        Copy-DbaDbAssembly                                 1.1.7      dbatools\r\n",
                    "output_type": "stream"
                },
                {
                    "name": "stdout",
                    "text": "Function        Copy-DbaDbMail                                     1.1.7      dbatools\r\n",
                    "output_type": "stream"
                },
                {
                    "name": "stdout",
                    "text": "Function        Copy-DbaDbQueryStoreOption                         1.1.7      dbatools\r\n",
                    "output_type": "stream"
                },
                {
                    "name": "stdout",
                    "text": "Function        Copy-DbaDbTableData                                1.1.7      dbatools\r\n",
                    "output_type": "stream"
                },
                {
                    "name": "stdout",
                    "text": "Function        Copy-DbaDbViewData                                 1.1.7      dbatools\r\n",
                    "output_type": "stream"
                },
                {
                    "name": "stdout",
                    "text": "Function        Copy-DbaEndpoint                                   1.1.7      dbatools\r\n",
                    "output_type": "stream"
                },
                {
                    "name": "stdout",
                    "text": "Function        Copy-DbaInstanceAudit                              1.1.7      dbatools\r\n",
                    "output_type": "stream"
                },
                {
                    "name": "stdout",
                    "text": "Function        Copy-DbaInstanceAuditSpecification                 1.1.7      dbatools\r\n",
                    "output_type": "stream"
                },
                {
                    "name": "stdout",
                    "text": "Function        Copy-DbaInstanceTrigger                            1.1.7      dbatools\r\n",
                    "output_type": "stream"
                },
                {
                    "name": "stdout",
                    "text": "Function        Copy-DbaLinkedServer                               1.1.7      dbatools\r\n",
                    "output_type": "stream"
                },
                {
                    "name": "stdout",
                    "text": "Function        Copy-DbaLogin                                      1.1.7      dbatools\r\n",
                    "output_type": "stream"
                },
                {
                    "name": "stdout",
                    "text": "Function        Copy-DbaRegServer                                  1.1.7      dbatools\r\n",
                    "output_type": "stream"
                },
                {
                    "name": "stdout",
                    "text": "Function        Copy-DbaResourceGovernor                           1.1.7      dbatools\r\n",
                    "output_type": "stream"
                },
                {
                    "name": "stdout",
                    "text": "Function        Copy-DbaSpConfigure                                1.1.7      dbatools\r\n",
                    "output_type": "stream"
                },
                {
                    "name": "stdout",
                    "text": "Function        Copy-DbaStartupProcedure                           1.1.7      dbatools\r\n",
                    "output_type": "stream"
                },
                {
                    "name": "stdout",
                    "text": "Function        Copy-DbaSysDbUserObject                            1.1.7      dbatools\r\n",
                    "output_type": "stream"
                },
                {
                    "name": "stdout",
                    "text": "Function        Copy-DbaXESession                                  1.1.7      dbatools\r\n",
                    "output_type": "stream"
                },
                {
                    "name": "stdout",
                    "text": "Function        Copy-DbaXESessionTemplate                          1.1.7      dbatools\r\n",
                    "output_type": "stream"
                },
                {
                    "name": "stdout",
                    "text": "Function        Disable-DbaAgHadr                                  1.1.7      dbatools\r\n",
                    "output_type": "stream"
                },
                {
                    "name": "stdout",
                    "text": "Function        Disable-DbaFilestream                              1.1.7      dbatools\r\n",
                    "output_type": "stream"
                },
                {
                    "name": "stdout",
                    "text": "Function        Disable-DbaForceNetworkEncryption                  1.1.7      dbatools\r\n",
                    "output_type": "stream"
                },
                {
                    "name": "stdout",
                    "text": "Function        Disable-DbaHideInstance                            1.1.7      dbatools\r\n",
                    "output_type": "stream"
                },
                {
                    "name": "stdout",
                    "text": "Function        Disable-DbaStartupProcedure                        1.1.7      dbatools\r\n",
                    "output_type": "stream"
                },
                {
                    "name": "stdout",
                    "text": "Function        Disable-DbaTraceFlag                               1.1.7      dbatools\r\n",
                    "output_type": "stream"
                },
                {
                    "name": "stdout",
                    "text": "Function        Disconnect-DbaInstance                             1.1.7      dbatools\r\n",
                    "output_type": "stream"
                },
                {
                    "name": "stdout",
                    "text": "Function        Dismount-DbaDatabase                               1.1.7      dbatools\r\n",
                    "output_type": "stream"
                },
                {
                    "name": "stdout",
                    "text": "Function        Enable-DbaAgHadr                                   1.1.7      dbatools\r\n",
                    "output_type": "stream"
                },
                {
                    "name": "stdout",
                    "text": "Function        Enable-DbaFilestream                               1.1.7      dbatools\r\n",
                    "output_type": "stream"
                },
                {
                    "name": "stdout",
                    "text": "Function        Enable-DbaForceNetworkEncryption                   1.1.7      dbatools\r\n",
                    "output_type": "stream"
                },
                {
                    "name": "stdout",
                    "text": "Function        Enable-DbaHideInstance                             1.1.7      dbatools\r\n",
                    "output_type": "stream"
                },
                {
                    "name": "stdout",
                    "text": "Function        Enable-DbaStartupProcedure                         1.1.7      dbatools\r\n",
                    "output_type": "stream"
                },
                {
                    "name": "stdout",
                    "text": "Function        Enable-DbaTraceFlag                                1.1.7      dbatools\r\n",
                    "output_type": "stream"
                },
                {
                    "name": "stdout",
                    "text": "Function        Expand-DbaDbLogFile                                1.1.7      dbatools\r\n",
                    "output_type": "stream"
                },
                {
                    "name": "stdout",
                    "text": "Function        Export-DbaCredential                               1.1.7      dbatools\r\n",
                    "output_type": "stream"
                },
                {
                    "name": "stdout",
                    "text": "Function        Export-DbaDacPackage                               1.1.7      dbatools\r\n",
                    "output_type": "stream"
                },
                {
                    "name": "stdout",
                    "text": "Function        Export-DbaDbRole                                   1.1.7      dbatools\r\n",
                    "output_type": "stream"
                },
                {
                    "name": "stdout",
                    "text": "Function        Export-DbaDbTableData                              1.1.7      dbatools\r\n",
                    "output_type": "stream"
                },
                {
                    "name": "stdout",
                    "text": "Function        Export-DbaDiagnosticQuery                          1.1.7      dbatools\r\n",
                    "output_type": "stream"
                },
                {
                    "name": "stdout",
                    "text": "Function        Export-DbaExecutionPlan                            1.1.7      dbatools\r\n",
                    "output_type": "stream"
                },
                {
                    "name": "stdout",
                    "text": "Function        Export-DbaInstance                                 1.1.7      dbatools\r\n",
                    "output_type": "stream"
                },
                {
                    "name": "stdout",
                    "text": "Function        Export-DbaLinkedServer                             1.1.7      dbatools\r\n",
                    "output_type": "stream"
                },
                {
                    "name": "stdout",
                    "text": "Function        Export-DbaLogin                                    1.1.7      dbatools\r\n",
                    "output_type": "stream"
                },
                {
                    "name": "stdout",
                    "text": "Function        Export-DbaPfDataCollectorSetTemplate               1.1.7      dbatools\r\n",
                    "output_type": "stream"
                },
                {
                    "name": "stdout",
                    "text": "Function        Export-DbaRegServer                                1.1.7      dbatools\r\n",
                    "output_type": "stream"
                },
                {
                    "name": "stdout",
                    "text": "Function        Export-DbaScript                                   1.1.7      dbatools\r\n",
                    "output_type": "stream"
                },
                {
                    "name": "stdout",
                    "text": "Function        Export-DbaServerRole                               1.1.7      dbatools\r\n",
                    "output_type": "stream"
                },
                {
                    "name": "stdout",
                    "text": "Function        Export-DbaSpConfigure                              1.1.7      dbatools\r\n",
                    "output_type": "stream"
                },
                {
                    "name": "stdout",
                    "text": "Function        Export-DbaSysDbUserObject                          1.1.7      dbatools\r\n",
                    "output_type": "stream"
                },
                {
                    "name": "stdout",
                    "text": "Function        Export-DbatoolsConfig                              1.1.7      dbatools\r\n",
                    "output_type": "stream"
                },
                {
                    "name": "stdout",
                    "text": "Function        Export-DbaUser                                     1.1.7      dbatools\r\n",
                    "output_type": "stream"
                },
                {
                    "name": "stdout",
                    "text": "Function        Export-DbaXECsv                                    1.1.7      dbatools\r\n",
                    "output_type": "stream"
                },
                {
                    "name": "stdout",
                    "text": "Function        Export-DbaXESession                                1.1.7      dbatools\r\n",
                    "output_type": "stream"
                },
                {
                    "name": "stdout",
                    "text": "Function        Export-DbaXESessionTemplate                        1.1.7      dbatools\r\n",
                    "output_type": "stream"
                },
                {
                    "name": "stdout",
                    "text": "Function        Find-DbaAgentJob                                   1.1.7      dbatools\r\n",
                    "output_type": "stream"
                },
                {
                    "name": "stdout",
                    "text": "Function        Find-DbaBackup                                     1.1.7      dbatools\r\n",
                    "output_type": "stream"
                },
                {
                    "name": "stdout",
                    "text": "Function        Find-DbaCommand                                    1.1.7      dbatools\r\n",
                    "output_type": "stream"
                },
                {
                    "name": "stdout",
                    "text": "Function        Find-DbaDatabase                                   1.1.7      dbatools\r\n",
                    "output_type": "stream"
                },
                {
                    "name": "stdout",
                    "text": "Function        Find-DbaDbDisabledIndex                            1.1.7      dbatools\r\n",
                    "output_type": "stream"
                },
                {
                    "name": "stdout",
                    "text": "Function        Find-DbaDbDuplicateIndex                           1.1.7      dbatools\r\n",
                    "output_type": "stream"
                },
                {
                    "name": "stdout",
                    "text": "Function        Find-DbaDbGrowthEvent                              1.1.7      dbatools\r\n",
                    "output_type": "stream"
                },
                {
                    "name": "stdout",
                    "text": "Function        Find-DbaDbUnusedIndex                              1.1.7      dbatools\r\n",
                    "output_type": "stream"
                },
                {
                    "name": "stdout",
                    "text": "Function        Find-DbaInstance                                   1.1.7      dbatools\r\n",
                    "output_type": "stream"
                },
                {
                    "name": "stdout",
                    "text": "Function        Find-DbaLoginInGroup                               1.1.7      dbatools\r\n",
                    "output_type": "stream"
                },
                {
                    "name": "stdout",
                    "text": "Function        Find-DbaOrphanedFile                               1.1.7      dbatools\r\n",
                    "output_type": "stream"
                },
                {
                    "name": "stdout",
                    "text": "Function        Find-DbaSimilarTable                               1.1.7      dbatools\r\n",
                    "output_type": "stream"
                },
                {
                    "name": "stdout",
                    "text": "Function        Find-DbaStoredProcedure                            1.1.7      dbatools\r\n",
                    "output_type": "stream"
                },
                {
                    "name": "stdout",
                    "text": "Function        Find-DbaTrigger                                    1.1.7      dbatools\r\n",
                    "output_type": "stream"
                },
                {
                    "name": "stdout",
                    "text": "Function        Find-DbaUserObject                                 1.1.7      dbatools\r\n",
                    "output_type": "stream"
                },
                {
                    "name": "stdout",
                    "text": "Function        Find-DbaView                                       1.1.7      dbatools\r\n",
                    "output_type": "stream"
                },
                {
                    "name": "stdout",
                    "text": "Function        Format-DbaBackupInformation                        1.1.7      dbatools\r\n",
                    "output_type": "stream"
                },
                {
                    "name": "stdout",
                    "text": "Function        Get-DbaAgBackupHistory                             1.1.7      dbatools\r\n",
                    "output_type": "stream"
                },
                {
                    "name": "stdout",
                    "text": "Function        Get-DbaAgDatabase                                  1.1.7      dbatools\r\n",
                    "output_type": "stream"
                },
                {
                    "name": "stdout",
                    "text": "Function        Get-DbaAgentAlert                                  1.1.7      dbatools\r\n",
                    "output_type": "stream"
                },
                {
                    "name": "stdout",
                    "text": "Function        Get-DbaAgentAlertCategory                          1.1.7      dbatools\r\n",
                    "output_type": "stream"
                },
                {
                    "name": "stdout",
                    "text": "Function        Get-DbaAgentJob                                    1.1.7      dbatools\r\n",
                    "output_type": "stream"
                },
                {
                    "name": "stdout",
                    "text": "Function        Get-DbaAgentJobCategory                            1.1.7      dbatools\r\n",
                    "output_type": "stream"
                },
                {
                    "name": "stdout",
                    "text": "Function        Get-DbaAgentJobHistory                             1.1.7      dbatools\r\n",
                    "output_type": "stream"
                },
                {
                    "name": "stdout",
                    "text": "Function        Get-DbaAgentJobOutputFile                          1.1.7      dbatools\r\n",
                    "output_type": "stream"
                },
                {
                    "name": "stdout",
                    "text": "Function        Get-DbaAgentJobStep                                1.1.7      dbatools\r\n",
                    "output_type": "stream"
                },
                {
                    "name": "stdout",
                    "text": "Function        Get-DbaAgentLog                                    1.1.7      dbatools\r\n",
                    "output_type": "stream"
                },
                {
                    "name": "stdout",
                    "text": "Function        Get-DbaAgentOperator                               1.1.7      dbatools\r\n",
                    "output_type": "stream"
                },
                {
                    "name": "stdout",
                    "text": "Function        Get-DbaAgentProxy                                  1.1.7      dbatools\r\n",
                    "output_type": "stream"
                },
                {
                    "name": "stdout",
                    "text": "Function        Get-DbaAgentSchedule                               1.1.7      dbatools\r\n",
                    "output_type": "stream"
                },
                {
                    "name": "stdout",
                    "text": "Function        Get-DbaAgentServer                                 1.1.7      dbatools\r\n",
                    "output_type": "stream"
                },
                {
                    "name": "stdout",
                    "text": "Function        Get-DbaAgHadr                                      1.1.7      dbatools\r\n",
                    "output_type": "stream"
                },
                {
                    "name": "stdout",
                    "text": "Function        Get-DbaAgListener                                  1.1.7      dbatools\r\n",
                    "output_type": "stream"
                },
                {
                    "name": "stdout",
                    "text": "Function        Get-DbaAgReplica                                   1.1.7      dbatools\r\n",
                    "output_type": "stream"
                },
                {
                    "name": "stdout",
                    "text": "Function        Get-DbaAvailabilityGroup                           1.1.7      dbatools\r\n",
                    "output_type": "stream"
                },
                {
                    "name": "stdout",
                    "text": "Function        Get-DbaAvailableCollation                          1.1.7      dbatools\r\n",
                    "output_type": "stream"
                },
                {
                    "name": "stdout",
                    "text": "Function        Get-DbaBackupDevice                                1.1.7      dbatools\r\n",
                    "output_type": "stream"
                },
                {
                    "name": "stdout",
                    "text": "Function        Get-DbaBackupInformation                           1.1.7      dbatools\r\n",
                    "output_type": "stream"
                },
                {
                    "name": "stdout",
                    "text": "Function        Get-DbaBuild                                       1.1.7      dbatools\r\n",
                    "output_type": "stream"
                },
                {
                    "name": "stdout",
                    "text": "Function        Get-DbaClientAlias                                 1.1.7      dbatools\r\n",
                    "output_type": "stream"
                },
                {
                    "name": "stdout",
                    "text": "Function        Get-DbaClientProtocol                              1.1.7      dbatools\r\n",
                    "output_type": "stream"
                },
                {
                    "name": "stdout",
                    "text": "Function        Get-DbaCmConnection                                1.1.7      dbatools\r\n",
                    "output_type": "stream"
                },
                {
                    "name": "stdout",
                    "text": "Function        Get-DbaCmObject                                    1.1.7      dbatools\r\n",
                    "output_type": "stream"
                },
                {
                    "name": "stdout",
                    "text": "Function        Get-DbaComputerCertificate                         1.1.7      dbatools\r\n",
                    "output_type": "stream"
                },
                {
                    "name": "stdout",
                    "text": "Function        Get-DbaComputerSystem                              1.1.7      dbatools\r\n",
                    "output_type": "stream"
                },
                {
                    "name": "stdout",
                    "text": "Function        Get-DbaConnectedInstance                           1.1.7      dbatools\r\n",
                    "output_type": "stream"
                },
                {
                    "name": "stdout",
                    "text": "Function        Get-DbaConnection                                  1.1.7      dbatools\r\n",
                    "output_type": "stream"
                },
                {
                    "name": "stdout",
                    "text": "Function        Get-DbaCpuRingBuffer                               1.1.7      dbatools\r\n",
                    "output_type": "stream"
                },
                {
                    "name": "stdout",
                    "text": "Function        Get-DbaCpuUsage                                    1.1.7      dbatools\r\n",
                    "output_type": "stream"
                },
                {
                    "name": "stdout",
                    "text": "Function        Get-DbaCredential                                  1.1.7      dbatools\r\n",
                    "output_type": "stream"
                },
                {
                    "name": "stdout",
                    "text": "Function        Get-DbaCustomError                                 1.1.7      dbatools\r\n",
                    "output_type": "stream"
                },
                {
                    "name": "stdout",
                    "text": "Function        Get-DbaDatabase                                    1.1.7      dbatools\r\n",
                    "output_type": "stream"
                },
                {
                    "name": "stdout",
                    "text": "Function        Get-DbaDbAssembly                                  1.1.7      dbatools\r\n",
                    "output_type": "stream"
                },
                {
                    "name": "stdout",
                    "text": "Function        Get-DbaDbAsymmetricKey                             1.1.7      dbatools\r\n",
                    "output_type": "stream"
                },
                {
                    "name": "stdout",
                    "text": "Function        Get-DbaDbBackupHistory                             1.1.7      dbatools\r\n",
                    "output_type": "stream"
                },
                {
                    "name": "stdout",
                    "text": "Function        Get-DbaDbccHelp                                    1.1.7      dbatools\r\n",
                    "output_type": "stream"
                },
                {
                    "name": "stdout",
                    "text": "Function        Get-DbaDbccMemoryStatus                            1.1.7      dbatools\r\n",
                    "output_type": "stream"
                },
                {
                    "name": "stdout",
                    "text": "Function        Get-DbaDbccProcCache                               1.1.7      dbatools\r\n",
                    "output_type": "stream"
                },
                {
                    "name": "stdout",
                    "text": "Function        Get-DbaDbccSessionBuffer                           1.1.7      dbatools\r\n",
                    "output_type": "stream"
                },
                {
                    "name": "stdout",
                    "text": "Function        Get-DbaDbccStatistic                               1.1.7      dbatools\r\n",
                    "output_type": "stream"
                },
                {
                    "name": "stdout",
                    "text": "Function        Get-DbaDbccUserOption                              1.1.7      dbatools\r\n",
                    "output_type": "stream"
                },
                {
                    "name": "stdout",
                    "text": "Function        Get-DbaDbCertificate                               1.1.7      dbatools\r\n",
                    "output_type": "stream"
                },
                {
                    "name": "stdout",
                    "text": "Function        Get-DbaDbCheckConstraint                           1.1.7      dbatools\r\n",
                    "output_type": "stream"
                },
                {
                    "name": "stdout",
                    "text": "Function        Get-DbaDbCompatibility                             1.1.7      dbatools\r\n",
                    "output_type": "stream"
                },
                {
                    "name": "stdout",
                    "text": "Function        Get-DbaDbCompression                               1.1.7      dbatools\r\n",
                    "output_type": "stream"
                },
                {
                    "name": "stdout",
                    "text": "Function        Get-DbaDbDbccOpenTran                              1.1.7      dbatools\r\n",
                    "output_type": "stream"
                },
                {
                    "name": "stdout",
                    "text": "Function        Get-DbaDbDetachedFileInfo                          1.1.7      dbatools\r\n",
                    "output_type": "stream"
                },
                {
                    "name": "stdout",
                    "text": "Function        Get-DbaDbEncryption                                1.1.7      dbatools\r\n",
                    "output_type": "stream"
                },
                {
                    "name": "stdout",
                    "text": "Function        Get-DbaDbExtentDiff                                1.1.7      dbatools\r\n",
                    "output_type": "stream"
                },
                {
                    "name": "stdout",
                    "text": "Function        Get-DbaDbFeatureUsage                              1.1.7      dbatools\r\n",
                    "output_type": "stream"
                },
                {
                    "name": "stdout",
                    "text": "Function        Get-DbaDbFile                                      1.1.7      dbatools\r\n",
                    "output_type": "stream"
                },
                {
                    "name": "stdout",
                    "text": "Function        Get-DbaDbFileGroup                                 1.1.7      dbatools\r\n",
                    "output_type": "stream"
                },
                {
                    "name": "stdout",
                    "text": "Function        Get-DbaDbFileGrowth                                1.1.7      dbatools\r\n",
                    "output_type": "stream"
                },
                {
                    "name": "stdout",
                    "text": "Function        Get-DbaDbFileMapping                               1.1.7      dbatools\r\n",
                    "output_type": "stream"
                },
                {
                    "name": "stdout",
                    "text": "Function        Get-DbaDbForeignKey                                1.1.7      dbatools\r\n",
                    "output_type": "stream"
                },
                {
                    "name": "stdout",
                    "text": "Function        Get-DbaDbIdentity                                  1.1.7      dbatools\r\n",
                    "output_type": "stream"
                },
                {
                    "name": "stdout",
                    "text": "Function        Get-DbaDbLogShipError                              1.1.7      dbatools\r\n",
                    "output_type": "stream"
                },
                {
                    "name": "stdout",
                    "text": "Function        Get-DbaDbLogSpace                                  1.1.7      dbatools\r\n",
                    "output_type": "stream"
                },
                {
                    "name": "stdout",
                    "text": "Function        Get-DbaDbMail                                      1.1.7      dbatools\r\n",
                    "output_type": "stream"
                },
                {
                    "name": "stdout",
                    "text": "Function        Get-DbaDbMailAccount                               1.1.7      dbatools\r\n",
                    "output_type": "stream"
                },
                {
                    "name": "stdout",
                    "text": "Function        Get-DbaDbMailConfig                                1.1.7      dbatools\r\n",
                    "output_type": "stream"
                },
                {
                    "name": "stdout",
                    "text": "Function        Get-DbaDbMailHistory                               1.1.7      dbatools\r\n",
                    "output_type": "stream"
                },
                {
                    "name": "stdout",
                    "text": "Function        Get-DbaDbMailLog                                   1.1.7      dbatools\r\n",
                    "output_type": "stream"
                },
                {
                    "name": "stdout",
                    "text": "Function        Get-DbaDbMailProfile                               1.1.7      dbatools\r\n",
                    "output_type": "stream"
                },
                {
                    "name": "stdout",
                    "text": "Function        Get-DbaDbMailServer                                1.1.7      dbatools\r\n",
                    "output_type": "stream"
                },
                {
                    "name": "stdout",
                    "text": "Function        Get-DbaDbMasterKey                                 1.1.7      dbatools\r\n",
                    "output_type": "stream"
                },
                {
                    "name": "stdout",
                    "text": "Function        Get-DbaDbMemoryUsage                               1.1.7      dbatools\r\n",
                    "output_type": "stream"
                },
                {
                    "name": "stdout",
                    "text": "Function        Get-DbaDbMirror                                    1.1.7      dbatools\r\n",
                    "output_type": "stream"
                },
                {
                    "name": "stdout",
                    "text": "Function        Get-DbaDbMirrorMonitor                             1.1.7      dbatools\r\n",
                    "output_type": "stream"
                },
                {
                    "name": "stdout",
                    "text": "Function        Get-DbaDbObjectTrigger                             1.1.7      dbatools\r\n",
                    "output_type": "stream"
                },
                {
                    "name": "stdout",
                    "text": "Function        Get-DbaDbOrphanUser                                1.1.7      dbatools\r\n",
                    "output_type": "stream"
                },
                {
                    "name": "stdout",
                    "text": "Function        Get-DbaDbPageInfo                                  1.1.7      dbatools\r\n",
                    "output_type": "stream"
                },
                {
                    "name": "stdout",
                    "text": "Function        Get-DbaDbPartitionFunction                         1.1.7      dbatools\r\n",
                    "output_type": "stream"
                },
                {
                    "name": "stdout",
                    "text": "Function        Get-DbaDbPartitionScheme                           1.1.7      dbatools\r\n",
                    "output_type": "stream"
                },
                {
                    "name": "stdout",
                    "text": "Function        Get-DbaDbQueryStoreOption                          1.1.7      dbatools\r\n",
                    "output_type": "stream"
                },
                {
                    "name": "stdout",
                    "text": "Function        Get-DbaDbRecoveryModel                             1.1.7      dbatools\r\n",
                    "output_type": "stream"
                },
                {
                    "name": "stdout",
                    "text": "Function        Get-DbaDbRestoreHistory                            1.1.7      dbatools\r\n",
                    "output_type": "stream"
                },
                {
                    "name": "stdout",
                    "text": "Function        Get-DbaDbRole                                      1.1.7      dbatools\r\n",
                    "output_type": "stream"
                },
                {
                    "name": "stdout",
                    "text": "Function        Get-DbaDbRoleMember                                1.1.7      dbatools\r\n",
                    "output_type": "stream"
                },
                {
                    "name": "stdout",
                    "text": "Function        Get-DbaDbSchema                                    1.1.7      dbatools\r\n",
                    "output_type": "stream"
                },
                {
                    "name": "stdout",
                    "text": "Function        Get-DbaDbSequence                                  1.1.7      dbatools\r\n",
                    "output_type": "stream"
                },
                {
                    "name": "stdout",
                    "text": "Function        Get-DbaDbServiceBrokerService                      1.1.7      dbatools\r\n",
                    "output_type": "stream"
                },
                {
                    "name": "stdout",
                    "text": "Function        Get-DbaDbSharePoint                                1.1.7      dbatools\r\n",
                    "output_type": "stream"
                },
                {
                    "name": "stdout",
                    "text": "Function        Get-DbaDbSnapshot                                  1.1.7      dbatools\r\n",
                    "output_type": "stream"
                },
                {
                    "name": "stdout",
                    "text": "Function        Get-DbaDbSpace                                     1.1.7      dbatools\r\n",
                    "output_type": "stream"
                },
                {
                    "name": "stdout",
                    "text": "Function        Get-DbaDbState                                     1.1.7      dbatools\r\n",
                    "output_type": "stream"
                },
                {
                    "name": "stdout",
                    "text": "Function        Get-DbaDbStoredProcedure                           1.1.7      dbatools\r\n",
                    "output_type": "stream"
                },
                {
                    "name": "stdout",
                    "text": "Function        Get-DbaDbSynonym                                   1.1.7      dbatools\r\n",
                    "output_type": "stream"
                },
                {
                    "name": "stdout",
                    "text": "Function        Get-DbaDbTable                                     1.1.7      dbatools\r\n",
                    "output_type": "stream"
                },
                {
                    "name": "stdout",
                    "text": "Function        Get-DbaDbTrigger                                   1.1.7      dbatools\r\n",
                    "output_type": "stream"
                },
                {
                    "name": "stdout",
                    "text": "Function        Get-DbaDbUdf                                       1.1.7      dbatools\r\n",
                    "output_type": "stream"
                },
                {
                    "name": "stdout",
                    "text": "Function        Get-DbaDbUser                                      1.1.7      dbatools\r\n",
                    "output_type": "stream"
                },
                {
                    "name": "stdout",
                    "text": "Function        Get-DbaDbUserDefinedTableType                      1.1.7      dbatools\r\n",
                    "output_type": "stream"
                },
                {
                    "name": "stdout",
                    "text": "Function        Get-DbaDbView                                      1.1.7      dbatools\r\n",
                    "output_type": "stream"
                },
                {
                    "name": "stdout",
                    "text": "Function        Get-DbaDbVirtualLogFile                            1.1.7      dbatools\r\n",
                    "output_type": "stream"
                },
                {
                    "name": "stdout",
                    "text": "Function        Get-DbaDefaultPath                                 1.1.7      dbatools\r\n",
                    "output_type": "stream"
                },
                {
                    "name": "stdout",
                    "text": "Function        Get-DbaDependency                                  1.1.7      dbatools\r\n",
                    "output_type": "stream"
                },
                {
                    "name": "stdout",
                    "text": "Function        Get-DbaDeprecatedFeature                           1.1.7      dbatools\r\n",
                    "output_type": "stream"
                },
                {
                    "name": "stdout",
                    "text": "Function        Get-DbaDiskSpace                                   1.1.7      dbatools\r\n",
                    "output_type": "stream"
                },
                {
                    "name": "stdout",
                    "text": "Function        Get-DbaDump                                        1.1.7      dbatools\r\n",
                    "output_type": "stream"
                },
                {
                    "name": "stdout",
                    "text": "Function        Get-DbaEndpoint                                    1.1.7      dbatools\r\n",
                    "output_type": "stream"
                },
                {
                    "name": "stdout",
                    "text": "Function        Get-DbaErrorLog                                    1.1.7      dbatools\r\n",
                    "output_type": "stream"
                },
                {
                    "name": "stdout",
                    "text": "Function        Get-DbaErrorLogConfig                              1.1.7      dbatools\r\n",
                    "output_type": "stream"
                },
                {
                    "name": "stdout",
                    "text": "Function        Get-DbaEstimatedCompletionTime                     1.1.7      dbatools\r\n",
                    "output_type": "stream"
                },
                {
                    "name": "stdout",
                    "text": "Function        Get-DbaExecutionPlan                               1.1.7      dbatools\r\n",
                    "output_type": "stream"
                },
                {
                    "name": "stdout",
                    "text": "Function        Get-DbaExtendedProperty                            1.1.7      dbatools\r\n",
                    "output_type": "stream"
                },
                {
                    "name": "stdout",
                    "text": "Function        Get-DbaExtendedProtection                          1.1.7      dbatools\r\n",
                    "output_type": "stream"
                },
                {
                    "name": "stdout",
                    "text": "Function        Get-DbaExternalProcess                             1.1.7      dbatools\r\n",
                    "output_type": "stream"
                },
                {
                    "name": "stdout",
                    "text": "Function        Get-DbaFeature                                     1.1.7      dbatools\r\n",
                    "output_type": "stream"
                },
                {
                    "name": "stdout",
                    "text": "Function        Get-DbaFile                                        1.1.7      dbatools\r\n",
                    "output_type": "stream"
                },
                {
                    "name": "stdout",
                    "text": "Function        Get-DbaFilestream                                  1.1.7      dbatools\r\n",
                    "output_type": "stream"
                },
                {
                    "name": "stdout",
                    "text": "Function        Get-DbaFirewallRule                                1.1.7      dbatools\r\n",
                    "output_type": "stream"
                },
                {
                    "name": "stdout",
                    "text": "Function        Get-DbaForceNetworkEncryption                      1.1.7      dbatools\r\n",
                    "output_type": "stream"
                },
                {
                    "name": "stdout",
                    "text": "Function        Get-DbaHelpIndex                                   1.1.7      dbatools\r\n",
                    "output_type": "stream"
                },
                {
                    "name": "stdout",
                    "text": "Function        Get-DbaHideInstance                                1.1.7      dbatools\r\n",
                    "output_type": "stream"
                },
                {
                    "name": "stdout",
                    "text": "Function        Get-DbaInstalledPatch                              1.1.7      dbatools\r\n",
                    "output_type": "stream"
                },
                {
                    "name": "stdout",
                    "text": "Function        Get-DbaInstanceAudit                               1.1.7      dbatools\r\n",
                    "output_type": "stream"
                },
                {
                    "name": "stdout",
                    "text": "Function        Get-DbaInstanceAuditSpecification                  1.1.7      dbatools\r\n",
                    "output_type": "stream"
                },
                {
                    "name": "stdout",
                    "text": "Function        Get-DbaInstanceInstallDate                         1.1.7      dbatools\r\n",
                    "output_type": "stream"
                },
                {
                    "name": "stdout",
                    "text": "Function        Get-DbaInstanceProperty                            1.1.7      dbatools\r\n",
                    "output_type": "stream"
                },
                {
                    "name": "stdout",
                    "text": "Function        Get-DbaInstanceProtocol                            1.1.7      dbatools\r\n",
                    "output_type": "stream"
                },
                {
                    "name": "stdout",
                    "text": "Function        Get-DbaInstanceTrigger                             1.1.7      dbatools\r\n",
                    "output_type": "stream"
                },
                {
                    "name": "stdout",
                    "text": "Function        Get-DbaInstanceUserOption                          1.1.7      dbatools\r\n",
                    "output_type": "stream"
                },
                {
                    "name": "stdout",
                    "text": "Function        Get-DbaIoLatency                                   1.1.7      dbatools\r\n",
                    "output_type": "stream"
                },
                {
                    "name": "stdout",
                    "text": "Function        Get-DbaKbUpdate                                    1.1.7      dbatools\r\n",
                    "output_type": "stream"
                },
                {
                    "name": "stdout",
                    "text": "Function        Get-DbaLastBackup                                  1.1.7      dbatools\r\n",
                    "output_type": "stream"
                },
                {
                    "name": "stdout",
                    "text": "Function        Get-DbaLastGoodCheckDb                             1.1.7      dbatools\r\n",
                    "output_type": "stream"
                },
                {
                    "name": "stdout",
                    "text": "Function        Get-DbaLatchStatistic                              1.1.7      dbatools\r\n",
                    "output_type": "stream"
                },
                {
                    "name": "stdout",
                    "text": "Function        Get-DbaLinkedServer                                1.1.7      dbatools\r\n",
                    "output_type": "stream"
                },
                {
                    "name": "stdout",
                    "text": "Function        Get-DbaLocaleSetting                               1.1.7      dbatools\r\n",
                    "output_type": "stream"
                },
                {
                    "name": "stdout",
                    "text": "Function        Get-DbaLogin                                       1.1.7      dbatools\r\n",
                    "output_type": "stream"
                },
                {
                    "name": "stdout",
                    "text": "Function        Get-DbaMaintenanceSolutionLog                      1.1.7      dbatools\r\n",
                    "output_type": "stream"
                },
                {
                    "name": "stdout",
                    "text": "Function        Get-DbaManagementObject                            1.1.7      dbatools\r\n",
                    "output_type": "stream"
                },
                {
                    "name": "stdout",
                    "text": "Function        Get-DbaMaxMemory                                   1.1.7      dbatools\r\n",
                    "output_type": "stream"
                },
                {
                    "name": "stdout",
                    "text": "Function        Get-DbaMemoryCondition                             1.1.7      dbatools\r\n",
                    "output_type": "stream"
                },
                {
                    "name": "stdout",
                    "text": "Function        Get-DbaMemoryUsage                                 1.1.7      dbatools\r\n",
                    "output_type": "stream"
                },
                {
                    "name": "stdout",
                    "text": "Function        Get-DbaModule                                      1.1.7      dbatools\r\n",
                    "output_type": "stream"
                },
                {
                    "name": "stdout",
                    "text": "Function        Get-DbaMsdtc                                       1.1.7      dbatools\r\n",
                    "output_type": "stream"
                },
                {
                    "name": "stdout",
                    "text": "Function        Get-DbaNetworkActivity                             1.1.7      dbatools\r\n",
                    "output_type": "stream"
                },
                {
                    "name": "stdout",
                    "text": "Function        Get-DbaNetworkCertificate                          1.1.7      dbatools\r\n",
                    "output_type": "stream"
                },
                {
                    "name": "stdout",
                    "text": "Function        Get-DbaNetworkConfiguration                        1.1.7      dbatools\r\n",
                    "output_type": "stream"
                },
                {
                    "name": "stdout",
                    "text": "Function        Get-DbaOleDbProvider                               1.1.7      dbatools\r\n",
                    "output_type": "stream"
                },
                {
                    "name": "stdout",
                    "text": "Function        Get-DbaOpenTransaction                             1.1.7      dbatools\r\n",
                    "output_type": "stream"
                },
                {
                    "name": "stdout",
                    "text": "Function        Get-DbaOperatingSystem                             1.1.7      dbatools\r\n",
                    "output_type": "stream"
                },
                {
                    "name": "stdout",
                    "text": "Function        Get-DbaPageFileSetting                             1.1.7      dbatools\r\n",
                    "output_type": "stream"
                },
                {
                    "name": "stdout",
                    "text": "Function        Get-DbaPermission                                  1.1.7      dbatools\r\n",
                    "output_type": "stream"
                },
                {
                    "name": "stdout",
                    "text": "Function        Get-DbaPfAvailableCounter                          1.1.7      dbatools\r\n",
                    "output_type": "stream"
                },
                {
                    "name": "stdout",
                    "text": "Function        Get-DbaPfDataCollector                             1.1.7      dbatools\r\n",
                    "output_type": "stream"
                },
                {
                    "name": "stdout",
                    "text": "Function        Get-DbaPfDataCollectorCounter                      1.1.7      dbatools\r\n",
                    "output_type": "stream"
                },
                {
                    "name": "stdout",
                    "text": "Function        Get-DbaPfDataCollectorCounterSample                1.1.7      dbatools\r\n",
                    "output_type": "stream"
                },
                {
                    "name": "stdout",
                    "text": "Function        Get-DbaPfDataCollectorSet                          1.1.7      dbatools\r\n",
                    "output_type": "stream"
                },
                {
                    "name": "stdout",
                    "text": "Function        Get-DbaPfDataCollectorSetTemplate                  1.1.7      dbatools\r\n",
                    "output_type": "stream"
                },
                {
                    "name": "stdout",
                    "text": "Function        Get-DbaPlanCache                                   1.1.7      dbatools\r\n",
                    "output_type": "stream"
                },
                {
                    "name": "stdout",
                    "text": "Function        Get-DbaPowerPlan                                   1.1.7      dbatools\r\n",
                    "output_type": "stream"
                },
                {
                    "name": "stdout",
                    "text": "Function        Get-DbaPrivilege                                   1.1.7      dbatools\r\n",
                    "output_type": "stream"
                },
                {
                    "name": "stdout",
                    "text": "Function        Get-DbaProcess                                     1.1.7      dbatools\r\n",
                    "output_type": "stream"
                },
                {
                    "name": "stdout",
                    "text": "Function        Get-DbaProductKey                                  1.1.7      dbatools\r\n",
                    "output_type": "stream"
                },
                {
                    "name": "stdout",
                    "text": "Function        Get-DbaQueryExecutionTime                          1.1.7      dbatools\r\n",
                    "output_type": "stream"
                },
                {
                    "name": "stdout",
                    "text": "Function        Get-DbaRandomizedDataset                           1.1.7      dbatools\r\n",
                    "output_type": "stream"
                },
                {
                    "name": "stdout",
                    "text": "Function        Get-DbaRandomizedDatasetTemplate                   1.1.7      dbatools\r\n",
                    "output_type": "stream"
                },
                {
                    "name": "stdout",
                    "text": "Function        Get-DbaRandomizedType                              1.1.7      dbatools\r\n",
                    "output_type": "stream"
                },
                {
                    "name": "stdout",
                    "text": "Function        Get-DbaRandomizedValue                             1.1.7      dbatools\r\n",
                    "output_type": "stream"
                },
                {
                    "name": "stdout",
                    "text": "Function        Get-DbaRegistryRoot                                1.1.7      dbatools\r\n",
                    "output_type": "stream"
                },
                {
                    "name": "stdout",
                    "text": "Function        Get-DbaRegServer                                   1.1.7      dbatools\r\n",
                    "output_type": "stream"
                },
                {
                    "name": "stdout",
                    "text": "Function        Get-DbaRegServerGroup                              1.1.7      dbatools\r\n",
                    "output_type": "stream"
                },
                {
                    "name": "stdout",
                    "text": "Function        Get-DbaRegServerStore                              1.1.7      dbatools\r\n",
                    "output_type": "stream"
                },
                {
                    "name": "stdout",
                    "text": "Function        Get-DbaResourceGovernor                            1.1.7      dbatools\r\n",
                    "output_type": "stream"
                },
                {
                    "name": "stdout",
                    "text": "Function        Get-DbaRgClassifierFunction                        1.1.7      dbatools\r\n",
                    "output_type": "stream"
                },
                {
                    "name": "stdout",
                    "text": "Function        Get-DbaRgResourcePool                              1.1.7      dbatools\r\n",
                    "output_type": "stream"
                },
                {
                    "name": "stdout",
                    "text": "Function        Get-DbaRgWorkloadGroup                             1.1.7      dbatools\r\n",
                    "output_type": "stream"
                },
                {
                    "name": "stdout",
                    "text": "Function        Get-DbaRunningJob                                  1.1.7      dbatools\r\n",
                    "output_type": "stream"
                },
                {
                    "name": "stdout",
                    "text": "Function        Get-DbaSchemaChangeHistory                         1.1.7      dbatools\r\n",
                    "output_type": "stream"
                },
                {
                    "name": "stdout",
                    "text": "Function        Get-DbaServerRole                                  1.1.7      dbatools\r\n",
                    "output_type": "stream"
                },
                {
                    "name": "stdout",
                    "text": "Function        Get-DbaServerRoleMember                            1.1.7      dbatools\r\n",
                    "output_type": "stream"
                },
                {
                    "name": "stdout",
                    "text": "Function        Get-DbaService                                     1.1.7      dbatools\r\n",
                    "output_type": "stream"
                },
                {
                    "name": "stdout",
                    "text": "Function        Get-DbaSpConfigure                                 1.1.7      dbatools\r\n",
                    "output_type": "stream"
                },
                {
                    "name": "stdout",
                    "text": "Function        Get-DbaSpinLockStatistic                           1.1.7      dbatools\r\n",
                    "output_type": "stream"
                },
                {
                    "name": "stdout",
                    "text": "Function        Get-DbaSpn                                         1.1.7      dbatools\r\n",
                    "output_type": "stream"
                },
                {
                    "name": "stdout",
                    "text": "Function        Get-DbaSsisExecutionHistory                        1.1.7      dbatools\r\n",
                    "output_type": "stream"
                },
                {
                    "name": "stdout",
                    "text": "Function        Get-DbaStartupParameter                            1.1.7      dbatools\r\n",
                    "output_type": "stream"
                },
                {
                    "name": "stdout",
                    "text": "Function        Get-DbaStartupProcedure                            1.1.7      dbatools\r\n",
                    "output_type": "stream"
                },
                {
                    "name": "stdout",
                    "text": "Function        Get-DbaSuspectPage                                 1.1.7      dbatools\r\n",
                    "output_type": "stream"
                },
                {
                    "name": "stdout",
                    "text": "Function        Get-DbaTcpPort                                     1.1.7      dbatools\r\n",
                    "output_type": "stream"
                },
                {
                    "name": "stdout",
                    "text": "Function        Get-DbaTempdbUsage                                 1.1.7      dbatools\r\n",
                    "output_type": "stream"
                },
                {
                    "name": "stdout",
                    "text": "Function        Get-DbatoolsChangeLog                              1.1.7      dbatools\r\n",
                    "output_type": "stream"
                },
                {
                    "name": "stdout",
                    "text": "Function        Get-DbatoolsConfig                                 1.1.7      dbatools\r\n",
                    "output_type": "stream"
                },
                {
                    "name": "stdout",
                    "text": "Function        Get-DbatoolsConfigValue                            1.1.7      dbatools\r\n",
                    "output_type": "stream"
                },
                {
                    "name": "stdout",
                    "text": "Function        Get-DbatoolsError                                  1.1.7      dbatools\r\n",
                    "output_type": "stream"
                },
                {
                    "name": "stdout",
                    "text": "Function        Get-DbatoolsLog                                    1.1.7      dbatools\r\n",
                    "output_type": "stream"
                },
                {
                    "name": "stdout",
                    "text": "Function        Get-DbatoolsPath                                   1.1.7      dbatools\r\n",
                    "output_type": "stream"
                },
                {
                    "name": "stdout",
                    "text": "Function        Get-DbaTopResourceUsage                            1.1.7      dbatools\r\n",
                    "output_type": "stream"
                },
                {
                    "name": "stdout",
                    "text": "Function        Get-DbaTrace                                       1.1.7      dbatools\r\n",
                    "output_type": "stream"
                },
                {
                    "name": "stdout",
                    "text": "Function        Get-DbaTraceFlag                                   1.1.7      dbatools\r\n",
                    "output_type": "stream"
                },
                {
                    "name": "stdout",
                    "text": "Function        Get-DbaUptime                                      1.1.7      dbatools\r\n",
                    "output_type": "stream"
                },
                {
                    "name": "stdout",
                    "text": "Function        Get-DbaUserPermission                              1.1.7      dbatools\r\n",
                    "output_type": "stream"
                },
                {
                    "name": "stdout",
                    "text": "Function        Get-DbaWaitingTask                                 1.1.7      dbatools\r\n",
                    "output_type": "stream"
                },
                {
                    "name": "stdout",
                    "text": "Function        Get-DbaWaitResource                                1.1.7      dbatools\r\n",
                    "output_type": "stream"
                },
                {
                    "name": "stdout",
                    "text": "Function        Get-DbaWaitStatistic                               1.1.7      dbatools\r\n",
                    "output_type": "stream"
                },
                {
                    "name": "stdout",
                    "text": "Function        Get-DbaWindowsLog                                  1.1.7      dbatools\r\n",
                    "output_type": "stream"
                },
                {
                    "name": "stdout",
                    "text": "Function        Get-DbaWsfcAvailableDisk                           1.1.7      dbatools\r\n",
                    "output_type": "stream"
                },
                {
                    "name": "stdout",
                    "text": "Function        Get-DbaWsfcCluster                                 1.1.7      dbatools\r\n",
                    "output_type": "stream"
                },
                {
                    "name": "stdout",
                    "text": "Function        Get-DbaWsfcDisk                                    1.1.7      dbatools\r\n",
                    "output_type": "stream"
                },
                {
                    "name": "stdout",
                    "text": "Function        Get-DbaWsfcNetwork                                 1.1.7      dbatools\r\n",
                    "output_type": "stream"
                },
                {
                    "name": "stdout",
                    "text": "Function        Get-DbaWsfcNetworkInterface                        1.1.7      dbatools\r\n",
                    "output_type": "stream"
                },
                {
                    "name": "stdout",
                    "text": "Function        Get-DbaWsfcNode                                    1.1.7      dbatools\r\n",
                    "output_type": "stream"
                },
                {
                    "name": "stdout",
                    "text": "Function        Get-DbaWsfcResource                                1.1.7      dbatools\r\n",
                    "output_type": "stream"
                },
                {
                    "name": "stdout",
                    "text": "Function        Get-DbaWsfcResourceType                            1.1.7      dbatools\r\n",
                    "output_type": "stream"
                },
                {
                    "name": "stdout",
                    "text": "Function        Get-DbaWsfcRole                                    1.1.7      dbatools\r\n",
                    "output_type": "stream"
                },
                {
                    "name": "stdout",
                    "text": "Function        Get-DbaWsfcSharedVolume                            1.1.7      dbatools\r\n",
                    "output_type": "stream"
                },
                {
                    "name": "stdout",
                    "text": "Function        Get-DbaXEObject                                    1.1.7      dbatools\r\n",
                    "output_type": "stream"
                },
                {
                    "name": "stdout",
                    "text": "Function        Get-DbaXESession                                   1.1.7      dbatools\r\n",
                    "output_type": "stream"
                },
                {
                    "name": "stdout",
                    "text": "Function        Get-DbaXESessionTarget                             1.1.7      dbatools\r\n",
                    "output_type": "stream"
                },
                {
                    "name": "stdout",
                    "text": "Function        Get-DbaXESessionTargetFile                         1.1.7      dbatools\r\n",
                    "output_type": "stream"
                },
                {
                    "name": "stdout",
                    "text": "Function        Get-DbaXESessionTemplate                           1.1.7      dbatools\r\n",
                    "output_type": "stream"
                },
                {
                    "name": "stdout",
                    "text": "Function        Get-DbaXESmartTarget                               1.1.7      dbatools\r\n",
                    "output_type": "stream"
                },
                {
                    "name": "stdout",
                    "text": "Function        Get-DbaXEStore                                     1.1.7      dbatools\r\n",
                    "output_type": "stream"
                },
                {
                    "name": "stdout",
                    "text": "Function        Grant-DbaAgPermission                              1.1.7      dbatools\r\n",
                    "output_type": "stream"
                },
                {
                    "name": "stdout",
                    "text": "Function        Import-DbaCsv                                      1.1.7      dbatools\r\n",
                    "output_type": "stream"
                },
                {
                    "name": "stdout",
                    "text": "Function        Import-DbaPfDataCollectorSetTemplate               1.1.7      dbatools\r\n",
                    "output_type": "stream"
                },
                {
                    "name": "stdout",
                    "text": "Function        Import-DbaRegServer                                1.1.7      dbatools\r\n",
                    "output_type": "stream"
                },
                {
                    "name": "stdout",
                    "text": "Function        Import-DbaSpConfigure                              1.1.7      dbatools\r\n",
                    "output_type": "stream"
                },
                {
                    "name": "stdout",
                    "text": "Function        Import-DbatoolsConfig                              1.1.7      dbatools\r\n",
                    "output_type": "stream"
                },
                {
                    "name": "stdout",
                    "text": "Function        Import-DbaXESessionTemplate                        1.1.7      dbatools\r\n",
                    "output_type": "stream"
                },
                {
                    "name": "stdout",
                    "text": "Function        Install-DbaDarlingData                             1.1.7      dbatools\r\n",
                    "output_type": "stream"
                },
                {
                    "name": "stdout",
                    "text": "Function        Install-DbaFirstResponderKit                       1.1.7      dbatools\r\n",
                    "output_type": "stream"
                },
                {
                    "name": "stdout",
                    "text": "Function        Install-DbaInstance                                1.1.7      dbatools\r\n",
                    "output_type": "stream"
                },
                {
                    "name": "stdout",
                    "text": "Function        Install-DbaMaintenanceSolution                     1.1.7      dbatools\r\n",
                    "output_type": "stream"
                },
                {
                    "name": "stdout",
                    "text": "Function        Install-DbaMultiTool                               1.1.7      dbatools\r\n",
                    "output_type": "stream"
                },
                {
                    "name": "stdout",
                    "text": "Function        Install-DbaSqlWatch                                1.1.7      dbatools\r\n",
                    "output_type": "stream"
                },
                {
                    "name": "stdout",
                    "text": "Function        Install-DbatoolsWatchUpdate                        1.1.7      dbatools\r\n",
                    "output_type": "stream"
                },
                {
                    "name": "stdout",
                    "text": "Function        Install-DbaWhoIsActive                             1.1.7      dbatools\r\n",
                    "output_type": "stream"
                },
                {
                    "name": "stdout",
                    "text": "Function        Invoke-DbaAdvancedInstall                          1.1.7      dbatools\r\n",
                    "output_type": "stream"
                },
                {
                    "name": "stdout",
                    "text": "Function        Invoke-DbaAdvancedRestore                          1.1.7      dbatools\r\n",
                    "output_type": "stream"
                },
                {
                    "name": "stdout",
                    "text": "Function        Invoke-DbaAdvancedUpdate                           1.1.7      dbatools\r\n",
                    "output_type": "stream"
                },
                {
                    "name": "stdout",
                    "text": "Function        Invoke-DbaAgFailover                               1.1.7      dbatools\r\n",
                    "output_type": "stream"
                },
                {
                    "name": "stdout",
                    "text": "Function        Invoke-DbaBalanceDataFiles                         1.1.7      dbatools\r\n",
                    "output_type": "stream"
                },
                {
                    "name": "stdout",
                    "text": "Function        Invoke-DbaCycleErrorLog                            1.1.7      dbatools\r\n",
                    "output_type": "stream"
                },
                {
                    "name": "stdout",
                    "text": "Function        Invoke-DbaDbccDropCleanBuffer                      1.1.7      dbatools\r\n",
                    "output_type": "stream"
                },
                {
                    "name": "stdout",
                    "text": "Function        Invoke-DbaDbccFreeCache                            1.1.7      dbatools\r\n",
                    "output_type": "stream"
                },
                {
                    "name": "stdout",
                    "text": "Function        Invoke-DbaDbClone                                  1.1.7      dbatools\r\n",
                    "output_type": "stream"
                },
                {
                    "name": "stdout",
                    "text": "Function        Invoke-DbaDbDataGenerator                          1.1.7      dbatools\r\n",
                    "output_type": "stream"
                },
                {
                    "name": "stdout",
                    "text": "Function        Invoke-DbaDbDataMasking                            1.1.7      dbatools\r\n",
                    "output_type": "stream"
                },
                {
                    "name": "stdout",
                    "text": "Function        Invoke-DbaDbDbccCheckConstraint                    1.1.7      dbatools\r\n",
                    "output_type": "stream"
                },
                {
                    "name": "stdout",
                    "text": "Function        Invoke-DbaDbDbccCleanTable                         1.1.7      dbatools\r\n",
                    "output_type": "stream"
                },
                {
                    "name": "stdout",
                    "text": "Function        Invoke-DbaDbDbccUpdateUsage                        1.1.7      dbatools\r\n",
                    "output_type": "stream"
                },
                {
                    "name": "stdout",
                    "text": "Function        Invoke-DbaDbDecryptObject                          1.1.7      dbatools\r\n",
                    "output_type": "stream"
                },
                {
                    "name": "stdout",
                    "text": "Function        Invoke-DbaDbLogShipping                            1.1.7      dbatools\r\n",
                    "output_type": "stream"
                },
                {
                    "name": "stdout",
                    "text": "Function        Invoke-DbaDbLogShipRecovery                        1.1.7      dbatools\r\n",
                    "output_type": "stream"
                },
                {
                    "name": "stdout",
                    "text": "Function        Invoke-DbaDbMirrorFailover                         1.1.7      dbatools\r\n",
                    "output_type": "stream"
                },
                {
                    "name": "stdout",
                    "text": "Function        Invoke-DbaDbMirroring                              1.1.7      dbatools\r\n",
                    "output_type": "stream"
                },
                {
                    "name": "stdout",
                    "text": "Function        Invoke-DbaDbPiiScan                                1.1.7      dbatools\r\n",
                    "output_type": "stream"
                },
                {
                    "name": "stdout",
                    "text": "Function        Invoke-DbaDbShrink                                 1.1.7      dbatools\r\n",
                    "output_type": "stream"
                },
                {
                    "name": "stdout",
                    "text": "Function        Invoke-DbaDbTransfer                               1.1.7      dbatools\r\n",
                    "output_type": "stream"
                },
                {
                    "name": "stdout",
                    "text": "Function        Invoke-DbaDbUpgrade                                1.1.7      dbatools\r\n",
                    "output_type": "stream"
                },
                {
                    "name": "stdout",
                    "text": "Function        Invoke-DbaDiagnosticQuery                          1.1.7      dbatools\r\n",
                    "output_type": "stream"
                },
                {
                    "name": "stdout",
                    "text": "Function        Invoke-DbaPfRelog                                  1.1.7      dbatools\r\n",
                    "output_type": "stream"
                },
                {
                    "name": "stdout",
                    "text": "Function        Invoke-DbaQuery                                    1.1.7      dbatools\r\n",
                    "output_type": "stream"
                },
                {
                    "name": "stdout",
                    "text": "Function        Invoke-DbatoolsFormatter                           1.1.7      dbatools\r\n",
                    "output_type": "stream"
                },
                {
                    "name": "stdout",
                    "text": "Function        Invoke-DbatoolsRenameHelper                        1.1.7      dbatools\r\n",
                    "output_type": "stream"
                },
                {
                    "name": "stdout",
                    "text": "Function        Invoke-DbaWhoIsActive                              1.1.7      dbatools\r\n",
                    "output_type": "stream"
                },
                {
                    "name": "stdout",
                    "text": "Function        Invoke-DbaXEReplay                                 1.1.7      dbatools\r\n",
                    "output_type": "stream"
                },
                {
                    "name": "stdout",
                    "text": "Function        Join-DbaAvailabilityGroup                          1.1.7      dbatools\r\n",
                    "output_type": "stream"
                },
                {
                    "name": "stdout",
                    "text": "Function        Join-DbaPath                                       1.1.7      dbatools\r\n",
                    "output_type": "stream"
                },
                {
                    "name": "stdout",
                    "text": "Function        Measure-DbaBackupThroughput                        1.1.7      dbatools\r\n",
                    "output_type": "stream"
                },
                {
                    "name": "stdout",
                    "text": "Function        Measure-DbaDbVirtualLogFile                        1.1.7      dbatools\r\n",
                    "output_type": "stream"
                },
                {
                    "name": "stdout",
                    "text": "Function        Measure-DbaDiskSpaceRequirement                    1.1.7      dbatools\r\n",
                    "output_type": "stream"
                },
                {
                    "name": "stdout",
                    "text": "Function        Measure-DbatoolsImport                             1.1.7      dbatools\r\n",
                    "output_type": "stream"
                },
                {
                    "name": "stdout",
                    "text": "Function        Mount-DbaDatabase                                  1.1.7      dbatools\r\n",
                    "output_type": "stream"
                },
                {
                    "name": "stdout",
                    "text": "Function        Move-DbaDbFile                                     1.1.7      dbatools\r\n",
                    "output_type": "stream"
                },
                {
                    "name": "stdout",
                    "text": "Function        Move-DbaRegServer                                  1.1.7      dbatools\r\n",
                    "output_type": "stream"
                },
                {
                    "name": "stdout",
                    "text": "Function        Move-DbaRegServerGroup                             1.1.7      dbatools\r\n",
                    "output_type": "stream"
                },
                {
                    "name": "stdout",
                    "text": "Function        New-DbaAgentAlertCategory                          1.1.7      dbatools\r\n",
                    "output_type": "stream"
                },
                {
                    "name": "stdout",
                    "text": "Function        New-DbaAgentJob                                    1.1.7      dbatools\r\n",
                    "output_type": "stream"
                },
                {
                    "name": "stdout",
                    "text": "Function        New-DbaAgentJobCategory                            1.1.7      dbatools\r\n",
                    "output_type": "stream"
                },
                {
                    "name": "stdout",
                    "text": "Function        New-DbaAgentJobStep                                1.1.7      dbatools\r\n",
                    "output_type": "stream"
                },
                {
                    "name": "stdout",
                    "text": "Function        New-DbaAgentOperator                               1.1.7      dbatools\r\n",
                    "output_type": "stream"
                },
                {
                    "name": "stdout",
                    "text": "Function        New-DbaAgentProxy                                  1.1.7      dbatools\r\n",
                    "output_type": "stream"
                },
                {
                    "name": "stdout",
                    "text": "Function        New-DbaAgentSchedule                               1.1.7      dbatools\r\n",
                    "output_type": "stream"
                },
                {
                    "name": "stdout",
                    "text": "Function        New-DbaAvailabilityGroup                           1.1.7      dbatools\r\n",
                    "output_type": "stream"
                },
                {
                    "name": "stdout",
                    "text": "Function        New-DbaAzAccessToken                               1.1.7      dbatools\r\n",
                    "output_type": "stream"
                },
                {
                    "name": "stdout",
                    "text": "Function        New-DbaClientAlias                                 1.1.7      dbatools\r\n",
                    "output_type": "stream"
                },
                {
                    "name": "stdout",
                    "text": "Function        New-DbaCmConnection                                1.1.7      dbatools\r\n",
                    "output_type": "stream"
                },
                {
                    "name": "stdout",
                    "text": "Function        New-DbaComputerCertificate                         1.1.7      dbatools\r\n",
                    "output_type": "stream"
                },
                {
                    "name": "stdout",
                    "text": "Function        New-DbaComputerCertificateSigningRequest           1.1.7      dbatools\r\n",
                    "output_type": "stream"
                },
                {
                    "name": "stdout",
                    "text": "Function        New-DbaConnectionString                            1.1.7      dbatools\r\n",
                    "output_type": "stream"
                },
                {
                    "name": "stdout",
                    "text": "Function        New-DbaConnectionStringBuilder                     1.1.7      dbatools\r\n",
                    "output_type": "stream"
                },
                {
                    "name": "stdout",
                    "text": "Function        New-DbaCredential                                  1.1.7      dbatools\r\n",
                    "output_type": "stream"
                },
                {
                    "name": "stdout",
                    "text": "Function        New-DbaCustomError                                 1.1.7      dbatools\r\n",
                    "output_type": "stream"
                },
                {
                    "name": "stdout",
                    "text": "Function        New-DbaDacOption                                   1.1.7      dbatools\r\n",
                    "output_type": "stream"
                },
                {
                    "name": "stdout",
                    "text": "Function        New-DbaDacProfile                                  1.1.7      dbatools\r\n",
                    "output_type": "stream"
                },
                {
                    "name": "stdout",
                    "text": "Function        New-DbaDatabase                                    1.1.7      dbatools\r\n",
                    "output_type": "stream"
                },
                {
                    "name": "stdout",
                    "text": "Function        New-DbaDbAsymmetricKey                             1.1.7      dbatools\r\n",
                    "output_type": "stream"
                },
                {
                    "name": "stdout",
                    "text": "Function        New-DbaDbCertificate                               1.1.7      dbatools\r\n",
                    "output_type": "stream"
                },
                {
                    "name": "stdout",
                    "text": "Function        New-DbaDbDataGeneratorConfig                       1.1.7      dbatools\r\n",
                    "output_type": "stream"
                },
                {
                    "name": "stdout",
                    "text": "Function        New-DbaDbFileGroup                                 1.1.7      dbatools\r\n",
                    "output_type": "stream"
                },
                {
                    "name": "stdout",
                    "text": "Function        New-DbaDbMailAccount                               1.1.7      dbatools\r\n",
                    "output_type": "stream"
                },
                {
                    "name": "stdout",
                    "text": "Function        New-DbaDbMailProfile                               1.1.7      dbatools\r\n",
                    "output_type": "stream"
                },
                {
                    "name": "stdout",
                    "text": "Function        New-DbaDbMaskingConfig                             1.1.7      dbatools\r\n",
                    "output_type": "stream"
                },
                {
                    "name": "stdout",
                    "text": "Function        New-DbaDbMasterKey                                 1.1.7      dbatools\r\n",
                    "output_type": "stream"
                },
                {
                    "name": "stdout",
                    "text": "Function        New-DbaDbRole                                      1.1.7      dbatools\r\n",
                    "output_type": "stream"
                },
                {
                    "name": "stdout",
                    "text": "Function        New-DbaDbSchema                                    1.1.7      dbatools\r\n",
                    "output_type": "stream"
                },
                {
                    "name": "stdout",
                    "text": "Function        New-DbaDbSequence                                  1.1.7      dbatools\r\n",
                    "output_type": "stream"
                },
                {
                    "name": "stdout",
                    "text": "Function        New-DbaDbSnapshot                                  1.1.7      dbatools\r\n",
                    "output_type": "stream"
                },
                {
                    "name": "stdout",
                    "text": "Function        New-DbaDbSynonym                                   1.1.7      dbatools\r\n",
                    "output_type": "stream"
                },
                {
                    "name": "stdout",
                    "text": "Function        New-DbaDbTable                                     1.1.7      dbatools\r\n",
                    "output_type": "stream"
                },
                {
                    "name": "stdout",
                    "text": "Function        New-DbaDbTransfer                                  1.1.7      dbatools\r\n",
                    "output_type": "stream"
                },
                {
                    "name": "stdout",
                    "text": "Function        New-DbaDbUser                                      1.1.7      dbatools\r\n",
                    "output_type": "stream"
                },
                {
                    "name": "stdout",
                    "text": "Function        New-DbaDiagnosticAdsNotebook                       1.1.7      dbatools\r\n",
                    "output_type": "stream"
                },
                {
                    "name": "stdout",
                    "text": "Function        New-DbaDirectory                                   1.1.7      dbatools\r\n",
                    "output_type": "stream"
                },
                {
                    "name": "stdout",
                    "text": "Function        New-DbaEndpoint                                    1.1.7      dbatools\r\n",
                    "output_type": "stream"
                },
                {
                    "name": "stdout",
                    "text": "Function        New-DbaFirewallRule                                1.1.7      dbatools\r\n",
                    "output_type": "stream"
                },
                {
                    "name": "stdout",
                    "text": "Function        New-DbaLogin                                       1.1.7      dbatools\r\n",
                    "output_type": "stream"
                },
                {
                    "name": "stdout",
                    "text": "Function        New-DbaScriptingOption                             1.1.7      dbatools\r\n",
                    "output_type": "stream"
                },
                {
                    "name": "stdout",
                    "text": "Function        New-DbaServerRole                                  1.1.7      dbatools\r\n",
                    "output_type": "stream"
                },
                {
                    "name": "stdout",
                    "text": "Function        New-DbaServiceMasterKey                            1.1.7      dbatools\r\n",
                    "output_type": "stream"
                },
                {
                    "name": "stdout",
                    "text": "Function        New-DbaSqlParameter                                1.1.7      dbatools\r\n",
                    "output_type": "stream"
                },
                {
                    "name": "stdout",
                    "text": "Function        New-DbatoolsSupportPackage                         1.1.7      dbatools\r\n",
                    "output_type": "stream"
                },
                {
                    "name": "stdout",
                    "text": "Function        New-DbaXESession                                   1.1.7      dbatools\r\n",
                    "output_type": "stream"
                },
                {
                    "name": "stdout",
                    "text": "Function        New-DbaXESmartCsvWriter                            1.1.7      dbatools\r\n",
                    "output_type": "stream"
                },
                {
                    "name": "stdout",
                    "text": "Function        New-DbaXESmartEmail                                1.1.7      dbatools\r\n",
                    "output_type": "stream"
                },
                {
                    "name": "stdout",
                    "text": "Function        New-DbaXESmartQueryExec                            1.1.7      dbatools\r\n",
                    "output_type": "stream"
                },
                {
                    "name": "stdout",
                    "text": "Function        New-DbaXESmartReplay                               1.1.7      dbatools\r\n",
                    "output_type": "stream"
                },
                {
                    "name": "stdout",
                    "text": "Function        New-DbaXESmartTableWriter                          1.1.7      dbatools\r\n",
                    "output_type": "stream"
                },
                {
                    "name": "stdout",
                    "text": "Function        Publish-DbaDacPackage                              1.1.7      dbatools\r\n",
                    "output_type": "stream"
                },
                {
                    "name": "stdout",
                    "text": "Function        Read-DbaAuditFile                                  1.1.7      dbatools\r\n",
                    "output_type": "stream"
                },
                {
                    "name": "stdout",
                    "text": "Function        Read-DbaBackupHeader                               1.1.7      dbatools\r\n",
                    "output_type": "stream"
                },
                {
                    "name": "stdout",
                    "text": "Function        Read-DbaTraceFile                                  1.1.7      dbatools\r\n",
                    "output_type": "stream"
                },
                {
                    "name": "stdout",
                    "text": "Function        Read-DbaTransactionLog                             1.1.7      dbatools\r\n",
                    "output_type": "stream"
                },
                {
                    "name": "stdout",
                    "text": "Function        Read-DbaXEFile                                     1.1.7      dbatools\r\n",
                    "output_type": "stream"
                },
                {
                    "name": "stdout",
                    "text": "Function        Register-DbatoolsConfig                            1.1.7      dbatools\r\n",
                    "output_type": "stream"
                },
                {
                    "name": "stdout",
                    "text": "Function        Remove-DbaAgDatabase                               1.1.7      dbatools\r\n",
                    "output_type": "stream"
                },
                {
                    "name": "stdout",
                    "text": "Function        Remove-DbaAgentAlertCategory                       1.1.7      dbatools\r\n",
                    "output_type": "stream"
                },
                {
                    "name": "stdout",
                    "text": "Function        Remove-DbaAgentJob                                 1.1.7      dbatools\r\n",
                    "output_type": "stream"
                },
                {
                    "name": "stdout",
                    "text": "Function        Remove-DbaAgentJobCategory                         1.1.7      dbatools\r\n",
                    "output_type": "stream"
                },
                {
                    "name": "stdout",
                    "text": "Function        Remove-DbaAgentJobStep                             1.1.7      dbatools\r\n",
                    "output_type": "stream"
                },
                {
                    "name": "stdout",
                    "text": "Function        Remove-DbaAgentOperator                            1.1.7      dbatools\r\n",
                    "output_type": "stream"
                },
                {
                    "name": "stdout",
                    "text": "Function        Remove-DbaAgentSchedule                            1.1.7      dbatools\r\n",
                    "output_type": "stream"
                },
                {
                    "name": "stdout",
                    "text": "Function        Remove-DbaAgListener                               1.1.7      dbatools\r\n",
                    "output_type": "stream"
                },
                {
                    "name": "stdout",
                    "text": "Function        Remove-DbaAgReplica                                1.1.7      dbatools\r\n",
                    "output_type": "stream"
                },
                {
                    "name": "stdout",
                    "text": "Function        Remove-DbaAvailabilityGroup                        1.1.7      dbatools\r\n",
                    "output_type": "stream"
                },
                {
                    "name": "stdout",
                    "text": "Function        Remove-DbaBackup                                   1.1.7      dbatools\r\n",
                    "output_type": "stream"
                },
                {
                    "name": "stdout",
                    "text": "Function        Remove-DbaClientAlias                              1.1.7      dbatools\r\n",
                    "output_type": "stream"
                },
                {
                    "name": "stdout",
                    "text": "Function        Remove-DbaCmConnection                             1.1.7      dbatools\r\n",
                    "output_type": "stream"
                },
                {
                    "name": "stdout",
                    "text": "Function        Remove-DbaComputerCertificate                      1.1.7      dbatools\r\n",
                    "output_type": "stream"
                },
                {
                    "name": "stdout",
                    "text": "Function        Remove-DbaCustomError                              1.1.7      dbatools\r\n",
                    "output_type": "stream"
                },
                {
                    "name": "stdout",
                    "text": "Function        Remove-DbaDatabase                                 1.1.7      dbatools\r\n",
                    "output_type": "stream"
                },
                {
                    "name": "stdout",
                    "text": "Function        Remove-DbaDatabaseSafely                           1.1.7      dbatools\r\n",
                    "output_type": "stream"
                },
                {
                    "name": "stdout",
                    "text": "Function        Remove-DbaDbAsymmetricKey                          1.1.7      dbatools\r\n",
                    "output_type": "stream"
                },
                {
                    "name": "stdout",
                    "text": "Function        Remove-DbaDbBackupRestoreHistory                   1.1.7      dbatools\r\n",
                    "output_type": "stream"
                },
                {
                    "name": "stdout",
                    "text": "Function        Remove-DbaDbCertificate                            1.1.7      dbatools\r\n",
                    "output_type": "stream"
                },
                {
                    "name": "stdout",
                    "text": "Function        Remove-DbaDbData                                   1.1.7      dbatools\r\n",
                    "output_type": "stream"
                },
                {
                    "name": "stdout",
                    "text": "Function        Remove-DbaDbFileGroup                              1.1.7      dbatools\r\n",
                    "output_type": "stream"
                },
                {
                    "name": "stdout",
                    "text": "Function        Remove-DbaDbLogShipping                            1.1.7      dbatools\r\n",
                    "output_type": "stream"
                },
                {
                    "name": "stdout",
                    "text": "Function        Remove-DbaDbMasterKey                              1.1.7      dbatools\r\n",
                    "output_type": "stream"
                },
                {
                    "name": "stdout",
                    "text": "Function        Remove-DbaDbMirror                                 1.1.7      dbatools\r\n",
                    "output_type": "stream"
                },
                {
                    "name": "stdout",
                    "text": "Function        Remove-DbaDbMirrorMonitor                          1.1.7      dbatools\r\n",
                    "output_type": "stream"
                },
                {
                    "name": "stdout",
                    "text": "Function        Remove-DbaDbOrphanUser                             1.1.7      dbatools\r\n",
                    "output_type": "stream"
                },
                {
                    "name": "stdout",
                    "text": "Function        Remove-DbaDbRole                                   1.1.7      dbatools\r\n",
                    "output_type": "stream"
                },
                {
                    "name": "stdout",
                    "text": "Function        Remove-DbaDbRoleMember                             1.1.7      dbatools\r\n",
                    "output_type": "stream"
                },
                {
                    "name": "stdout",
                    "text": "Function        Remove-DbaDbSchema                                 1.1.7      dbatools\r\n",
                    "output_type": "stream"
                },
                {
                    "name": "stdout",
                    "text": "Function        Remove-DbaDbSequence                               1.1.7      dbatools\r\n",
                    "output_type": "stream"
                },
                {
                    "name": "stdout",
                    "text": "Function        Remove-DbaDbSnapshot                               1.1.7      dbatools\r\n",
                    "output_type": "stream"
                },
                {
                    "name": "stdout",
                    "text": "Function        Remove-DbaDbSynonym                                1.1.7      dbatools\r\n",
                    "output_type": "stream"
                },
                {
                    "name": "stdout",
                    "text": "Function        Remove-DbaDbTableData                              1.1.7      dbatools\r\n",
                    "output_type": "stream"
                },
                {
                    "name": "stdout",
                    "text": "Function        Remove-DbaDbUser                                   1.1.7      dbatools\r\n",
                    "output_type": "stream"
                },
                {
                    "name": "stdout",
                    "text": "Function        Remove-DbaDbView                                   1.1.7      dbatools\r\n",
                    "output_type": "stream"
                },
                {
                    "name": "stdout",
                    "text": "Function        Remove-DbaEndpoint                                 1.1.7      dbatools\r\n",
                    "output_type": "stream"
                },
                {
                    "name": "stdout",
                    "text": "Function        Remove-DbaExtendedProperty                         1.1.7      dbatools\r\n",
                    "output_type": "stream"
                },
                {
                    "name": "stdout",
                    "text": "Function        Remove-DbaFirewallRule                             1.1.7      dbatools\r\n",
                    "output_type": "stream"
                },
                {
                    "name": "stdout",
                    "text": "Function        Remove-DbaLinkedServer                             1.1.7      dbatools\r\n",
                    "output_type": "stream"
                },
                {
                    "name": "stdout",
                    "text": "Function        Remove-DbaLogin                                    1.1.7      dbatools\r\n",
                    "output_type": "stream"
                },
                {
                    "name": "stdout",
                    "text": "Function        Remove-DbaNetworkCertificate                       1.1.7      dbatools\r\n",
                    "output_type": "stream"
                },
                {
                    "name": "stdout",
                    "text": "Function        Remove-DbaPfDataCollectorCounter                   1.1.7      dbatools\r\n",
                    "output_type": "stream"
                },
                {
                    "name": "stdout",
                    "text": "Function        Remove-DbaPfDataCollectorSet                       1.1.7      dbatools\r\n",
                    "output_type": "stream"
                },
                {
                    "name": "stdout",
                    "text": "Function        Remove-DbaRegServer                                1.1.7      dbatools\r\n",
                    "output_type": "stream"
                },
                {
                    "name": "stdout",
                    "text": "Function        Remove-DbaRegServerGroup                           1.1.7      dbatools\r\n",
                    "output_type": "stream"
                },
                {
                    "name": "stdout",
                    "text": "Function        Remove-DbaServerRole                               1.1.7      dbatools\r\n",
                    "output_type": "stream"
                },
                {
                    "name": "stdout",
                    "text": "Function        Remove-DbaSpn                                      1.1.7      dbatools\r\n",
                    "output_type": "stream"
                },
                {
                    "name": "stdout",
                    "text": "Function        Remove-DbaTrace                                    1.1.7      dbatools\r\n",
                    "output_type": "stream"
                },
                {
                    "name": "stdout",
                    "text": "Function        Remove-DbaXESession                                1.1.7      dbatools\r\n",
                    "output_type": "stream"
                },
                {
                    "name": "stdout",
                    "text": "Function        Remove-DbaXESmartTarget                            1.1.7      dbatools\r\n",
                    "output_type": "stream"
                },
                {
                    "name": "stdout",
                    "text": "Function        Rename-DbaDatabase                                 1.1.7      dbatools\r\n",
                    "output_type": "stream"
                },
                {
                    "name": "stdout",
                    "text": "Function        Rename-DbaLogin                                    1.1.7      dbatools\r\n",
                    "output_type": "stream"
                },
                {
                    "name": "stdout",
                    "text": "Function        Repair-DbaDbMirror                                 1.1.7      dbatools\r\n",
                    "output_type": "stream"
                },
                {
                    "name": "stdout",
                    "text": "Function        Repair-DbaDbOrphanUser                             1.1.7      dbatools\r\n",
                    "output_type": "stream"
                },
                {
                    "name": "stdout",
                    "text": "Function        Repair-DbaInstanceName                             1.1.7      dbatools\r\n",
                    "output_type": "stream"
                },
                {
                    "name": "stdout",
                    "text": "Function        Reset-DbaAdmin                                     1.1.7      dbatools\r\n",
                    "output_type": "stream"
                },
                {
                    "name": "stdout",
                    "text": "Function        Reset-DbatoolsConfig                               1.1.7      dbatools\r\n",
                    "output_type": "stream"
                },
                {
                    "name": "stdout",
                    "text": "Function        Resolve-DbaNetworkName                             1.1.7      dbatools\r\n",
                    "output_type": "stream"
                },
                {
                    "name": "stdout",
                    "text": "Function        Resolve-DbaPath                                    1.1.7      dbatools\r\n",
                    "output_type": "stream"
                },
                {
                    "name": "stdout",
                    "text": "Function        Restart-DbaService                                 1.1.7      dbatools\r\n",
                    "output_type": "stream"
                },
                {
                    "name": "stdout",
                    "text": "Function        Restore-DbaDatabase                                1.1.7      dbatools\r\n",
                    "output_type": "stream"
                },
                {
                    "name": "stdout",
                    "text": "Function        Restore-DbaDbCertificate                           1.1.7      dbatools\r\n",
                    "output_type": "stream"
                },
                {
                    "name": "stdout",
                    "text": "Function        Restore-DbaDbSnapshot                              1.1.7      dbatools\r\n",
                    "output_type": "stream"
                },
                {
                    "name": "stdout",
                    "text": "Function        Resume-DbaAgDbDataMovement                         1.1.7      dbatools\r\n",
                    "output_type": "stream"
                },
                {
                    "name": "stdout",
                    "text": "Function        Revoke-DbaAgPermission                             1.1.7      dbatools\r\n",
                    "output_type": "stream"
                },
                {
                    "name": "stdout",
                    "text": "Function        Save-DbaDiagnosticQueryScript                      1.1.7      dbatools\r\n",
                    "output_type": "stream"
                },
                {
                    "name": "stdout",
                    "text": "Function        Save-DbaKbUpdate                                   1.1.7      dbatools\r\n",
                    "output_type": "stream"
                },
                {
                    "name": "stdout",
                    "text": "Function        Select-DbaBackupInformation                        1.1.7      dbatools\r\n",
                    "output_type": "stream"
                },
                {
                    "name": "stdout",
                    "text": "Function        Select-DbaDbSequenceNextValue                      1.1.7      dbatools\r\n",
                    "output_type": "stream"
                },
                {
                    "name": "stdout",
                    "text": "Function        Set-DbaAgentAlert                                  1.1.7      dbatools\r\n",
                    "output_type": "stream"
                },
                {
                    "name": "stdout",
                    "text": "Function        Set-DbaAgentJob                                    1.1.7      dbatools\r\n",
                    "output_type": "stream"
                },
                {
                    "name": "stdout",
                    "text": "Function        Set-DbaAgentJobCategory                            1.1.7      dbatools\r\n",
                    "output_type": "stream"
                },
                {
                    "name": "stdout",
                    "text": "Function        Set-DbaAgentJobOutputFile                          1.1.7      dbatools\r\n",
                    "output_type": "stream"
                },
                {
                    "name": "stdout",
                    "text": "Function        Set-DbaAgentJobOwner                               1.1.7      dbatools\r\n",
                    "output_type": "stream"
                },
                {
                    "name": "stdout",
                    "text": "Function        Set-DbaAgentJobStep                                1.1.7      dbatools\r\n",
                    "output_type": "stream"
                },
                {
                    "name": "stdout",
                    "text": "Function        Set-DbaAgentOperator                               1.1.7      dbatools\r\n",
                    "output_type": "stream"
                },
                {
                    "name": "stdout",
                    "text": "Function        Set-DbaAgentSchedule                               1.1.7      dbatools\r\n",
                    "output_type": "stream"
                },
                {
                    "name": "stdout",
                    "text": "Function        Set-DbaAgentServer                                 1.1.7      dbatools\r\n",
                    "output_type": "stream"
                },
                {
                    "name": "stdout",
                    "text": "Function        Set-DbaAgListener                                  1.1.7      dbatools\r\n",
                    "output_type": "stream"
                },
                {
                    "name": "stdout",
                    "text": "Function        Set-DbaAgReplica                                   1.1.7      dbatools\r\n",
                    "output_type": "stream"
                },
                {
                    "name": "stdout",
                    "text": "Function        Set-DbaAvailabilityGroup                           1.1.7      dbatools\r\n",
                    "output_type": "stream"
                },
                {
                    "name": "stdout",
                    "text": "Function        Set-DbaCmConnection                                1.1.7      dbatools\r\n",
                    "output_type": "stream"
                },
                {
                    "name": "stdout",
                    "text": "Function        Set-DbaDbCompatibility                             1.1.7      dbatools\r\n",
                    "output_type": "stream"
                },
                {
                    "name": "stdout",
                    "text": "Function        Set-DbaDbCompression                               1.1.7      dbatools\r\n",
                    "output_type": "stream"
                },
                {
                    "name": "stdout",
                    "text": "Function        Set-DbaDbFileGroup                                 1.1.7      dbatools\r\n",
                    "output_type": "stream"
                },
                {
                    "name": "stdout",
                    "text": "Function        Set-DbaDbFileGrowth                                1.1.7      dbatools\r\n",
                    "output_type": "stream"
                },
                {
                    "name": "stdout",
                    "text": "Function        Set-DbaDbIdentity                                  1.1.7      dbatools\r\n",
                    "output_type": "stream"
                },
                {
                    "name": "stdout",
                    "text": "Function        Set-DbaDbMirror                                    1.1.7      dbatools\r\n",
                    "output_type": "stream"
                },
                {
                    "name": "stdout",
                    "text": "Function        Set-DbaDbOwner                                     1.1.7      dbatools\r\n",
                    "output_type": "stream"
                },
                {
                    "name": "stdout",
                    "text": "Function        Set-DbaDbQueryStoreOption                          1.1.7      dbatools\r\n",
                    "output_type": "stream"
                },
                {
                    "name": "stdout",
                    "text": "Function        Set-DbaDbRecoveryModel                             1.1.7      dbatools\r\n",
                    "output_type": "stream"
                },
                {
                    "name": "stdout",
                    "text": "Function        Set-DbaDbSchema                                    1.1.7      dbatools\r\n",
                    "output_type": "stream"
                },
                {
                    "name": "stdout",
                    "text": "Function        Set-DbaDbSequence                                  1.1.7      dbatools\r\n",
                    "output_type": "stream"
                },
                {
                    "name": "stdout",
                    "text": "Function        Set-DbaDbState                                     1.1.7      dbatools\r\n",
                    "output_type": "stream"
                },
                {
                    "name": "stdout",
                    "text": "Function        Set-DbaDefaultPath                                 1.1.7      dbatools\r\n",
                    "output_type": "stream"
                },
                {
                    "name": "stdout",
                    "text": "Function        Set-DbaEndpoint                                    1.1.7      dbatools\r\n",
                    "output_type": "stream"
                },
                {
                    "name": "stdout",
                    "text": "Function        Set-DbaErrorLogConfig                              1.1.7      dbatools\r\n",
                    "output_type": "stream"
                },
                {
                    "name": "stdout",
                    "text": "Function        Set-DbaExtendedProperty                            1.1.7      dbatools\r\n",
                    "output_type": "stream"
                },
                {
                    "name": "stdout",
                    "text": "Function        Set-DbaExtendedProtection                          1.1.7      dbatools\r\n",
                    "output_type": "stream"
                },
                {
                    "name": "stdout",
                    "text": "Function        Set-DbaLogin                                       1.1.7      dbatools\r\n",
                    "output_type": "stream"
                },
                {
                    "name": "stdout",
                    "text": "Function        Set-DbaMaxDop                                      1.1.7      dbatools\r\n",
                    "output_type": "stream"
                },
                {
                    "name": "stdout",
                    "text": "Function        Set-DbaMaxMemory                                   1.1.7      dbatools\r\n",
                    "output_type": "stream"
                },
                {
                    "name": "stdout",
                    "text": "Function        Set-DbaNetworkCertificate                          1.1.7      dbatools\r\n",
                    "output_type": "stream"
                },
                {
                    "name": "stdout",
                    "text": "Function        Set-DbaNetworkConfiguration                        1.1.7      dbatools\r\n",
                    "output_type": "stream"
                },
                {
                    "name": "stdout",
                    "text": "Function        Set-DbaPowerPlan                                   1.1.7      dbatools\r\n",
                    "output_type": "stream"
                },
                {
                    "name": "stdout",
                    "text": "Function        Set-DbaPrivilege                                   1.1.7      dbatools\r\n",
                    "output_type": "stream"
                },
                {
                    "name": "stdout",
                    "text": "Function        Set-DbaSpConfigure                                 1.1.7      dbatools\r\n",
                    "output_type": "stream"
                },
                {
                    "name": "stdout",
                    "text": "Function        Set-DbaSpn                                         1.1.7      dbatools\r\n",
                    "output_type": "stream"
                },
                {
                    "name": "stdout",
                    "text": "Function        Set-DbaStartupParameter                            1.1.7      dbatools\r\n",
                    "output_type": "stream"
                },
                {
                    "name": "stdout",
                    "text": "Function        Set-DbaTcpPort                                     1.1.7      dbatools\r\n",
                    "output_type": "stream"
                },
                {
                    "name": "stdout",
                    "text": "Function        Set-DbaTempDbConfig                                1.1.7      dbatools\r\n",
                    "output_type": "stream"
                },
                {
                    "name": "stdout",
                    "text": "Function        Set-DbatoolsPath                                   1.1.7      dbatools\r\n",
                    "output_type": "stream"
                },
                {
                    "name": "stdout",
                    "text": "Function        Show-DbaDbList                                     1.1.7      dbatools\r\n",
                    "output_type": "stream"
                },
                {
                    "name": "stdout",
                    "text": "Function        Show-DbaInstanceFileSystem                         1.1.7      dbatools\r\n",
                    "output_type": "stream"
                },
                {
                    "name": "stdout",
                    "text": "Function        Start-DbaAgentJob                                  1.1.7      dbatools\r\n",
                    "output_type": "stream"
                },
                {
                    "name": "stdout",
                    "text": "Function        Start-DbaEndpoint                                  1.1.7      dbatools\r\n",
                    "output_type": "stream"
                },
                {
                    "name": "stdout",
                    "text": "Function        Start-DbaMigration                                 1.1.7      dbatools\r\n",
                    "output_type": "stream"
                },
                {
                    "name": "stdout",
                    "text": "Function        Start-DbaPfDataCollectorSet                        1.1.7      dbatools\r\n",
                    "output_type": "stream"
                },
                {
                    "name": "stdout",
                    "text": "Function        Start-DbaService                                   1.1.7      dbatools\r\n",
                    "output_type": "stream"
                },
                {
                    "name": "stdout",
                    "text": "Function        Start-DbaTrace                                     1.1.7      dbatools\r\n",
                    "output_type": "stream"
                },
                {
                    "name": "stdout",
                    "text": "Function        Start-DbaXESession                                 1.1.7      dbatools\r\n",
                    "output_type": "stream"
                },
                {
                    "name": "stdout",
                    "text": "Function        Start-DbaXESmartTarget                             1.1.7      dbatools\r\n",
                    "output_type": "stream"
                },
                {
                    "name": "stdout",
                    "text": "Function        Stop-DbaAgentJob                                   1.1.7      dbatools\r\n",
                    "output_type": "stream"
                },
                {
                    "name": "stdout",
                    "text": "Function        Stop-DbaEndpoint                                   1.1.7      dbatools\r\n",
                    "output_type": "stream"
                },
                {
                    "name": "stdout",
                    "text": "Function        Stop-DbaExternalProcess                            1.1.7      dbatools\r\n",
                    "output_type": "stream"
                },
                {
                    "name": "stdout",
                    "text": "Function        Stop-DbaPfDataCollectorSet                         1.1.7      dbatools\r\n",
                    "output_type": "stream"
                },
                {
                    "name": "stdout",
                    "text": "Function        Stop-DbaProcess                                    1.1.7      dbatools\r\n",
                    "output_type": "stream"
                },
                {
                    "name": "stdout",
                    "text": "Function        Stop-DbaService                                    1.1.7      dbatools\r\n",
                    "output_type": "stream"
                },
                {
                    "name": "stdout",
                    "text": "Function        Stop-DbaTrace                                      1.1.7      dbatools\r\n",
                    "output_type": "stream"
                },
                {
                    "name": "stdout",
                    "text": "Function        Stop-DbaXESession                                  1.1.7      dbatools\r\n",
                    "output_type": "stream"
                },
                {
                    "name": "stdout",
                    "text": "Function        Stop-DbaXESmartTarget                              1.1.7      dbatools\r\n",
                    "output_type": "stream"
                },
                {
                    "name": "stdout",
                    "text": "Function        Suspend-DbaAgDbDataMovement                        1.1.7      dbatools\r\n",
                    "output_type": "stream"
                },
                {
                    "name": "stdout",
                    "text": "Function        Sync-DbaAvailabilityGroup                          1.1.7      dbatools\r\n",
                    "output_type": "stream"
                },
                {
                    "name": "stdout",
                    "text": "Function        Sync-DbaLoginPermission                            1.1.7      dbatools\r\n",
                    "output_type": "stream"
                },
                {
                    "name": "stdout",
                    "text": "Function        Test-DbaAgentJobOwner                              1.1.7      dbatools\r\n",
                    "output_type": "stream"
                },
                {
                    "name": "stdout",
                    "text": "Function        Test-DbaAvailabilityGroup                          1.1.7      dbatools\r\n",
                    "output_type": "stream"
                },
                {
                    "name": "stdout",
                    "text": "Function        Test-DbaBackupInformation                          1.1.7      dbatools\r\n",
                    "output_type": "stream"
                },
                {
                    "name": "stdout",
                    "text": "Function        Test-DbaBuild                                      1.1.7      dbatools\r\n",
                    "output_type": "stream"
                },
                {
                    "name": "stdout",
                    "text": "Function        Test-DbaCmConnection                               1.1.7      dbatools\r\n",
                    "output_type": "stream"
                },
                {
                    "name": "stdout",
                    "text": "Function        Test-DbaComputerCertificateExpiration              1.1.7      dbatools\r\n",
                    "output_type": "stream"
                },
                {
                    "name": "stdout",
                    "text": "Function        Test-DbaConnection                                 1.1.7      dbatools\r\n",
                    "output_type": "stream"
                },
                {
                    "name": "stdout",
                    "text": "Function        Test-DbaConnectionAuthScheme                       1.1.7      dbatools\r\n",
                    "output_type": "stream"
                },
                {
                    "name": "stdout",
                    "text": "Function        Test-DbaDbCollation                                1.1.7      dbatools\r\n",
                    "output_type": "stream"
                },
                {
                    "name": "stdout",
                    "text": "Function        Test-DbaDbCompatibility                            1.1.7      dbatools\r\n",
                    "output_type": "stream"
                },
                {
                    "name": "stdout",
                    "text": "Function        Test-DbaDbCompression                              1.1.7      dbatools\r\n",
                    "output_type": "stream"
                },
                {
                    "name": "stdout",
                    "text": "Function        Test-DbaDbDataGeneratorConfig                      1.1.7      dbatools\r\n",
                    "output_type": "stream"
                },
                {
                    "name": "stdout",
                    "text": "Function        Test-DbaDbDataMaskingConfig                        1.1.7      dbatools\r\n",
                    "output_type": "stream"
                },
                {
                    "name": "stdout",
                    "text": "Function        Test-DbaDbLogShipStatus                            1.1.7      dbatools\r\n",
                    "output_type": "stream"
                },
                {
                    "name": "stdout",
                    "text": "Function        Test-DbaDbOwner                                    1.1.7      dbatools\r\n",
                    "output_type": "stream"
                },
                {
                    "name": "stdout",
                    "text": "Function        Test-DbaDbQueryStore                               1.1.7      dbatools\r\n",
                    "output_type": "stream"
                },
                {
                    "name": "stdout",
                    "text": "Function        Test-DbaDbRecoveryModel                            1.1.7      dbatools\r\n",
                    "output_type": "stream"
                },
                {
                    "name": "stdout",
                    "text": "Function        Test-DbaDeprecatedFeature                          1.1.7      dbatools\r\n",
                    "output_type": "stream"
                },
                {
                    "name": "stdout",
                    "text": "Function        Test-DbaDiskAlignment                              1.1.7      dbatools\r\n",
                    "output_type": "stream"
                },
                {
                    "name": "stdout",
                    "text": "Function        Test-DbaDiskAllocation                             1.1.7      dbatools\r\n",
                    "output_type": "stream"
                },
                {
                    "name": "stdout",
                    "text": "Function        Test-DbaDiskSpeed                                  1.1.7      dbatools\r\n",
                    "output_type": "stream"
                },
                {
                    "name": "stdout",
                    "text": "Function        Test-DbaEndpoint                                   1.1.7      dbatools\r\n",
                    "output_type": "stream"
                },
                {
                    "name": "stdout",
                    "text": "Function        Test-DbaIdentityUsage                              1.1.7      dbatools\r\n",
                    "output_type": "stream"
                },
                {
                    "name": "stdout",
                    "text": "Function        Test-DbaInstanceName                               1.1.7      dbatools\r\n",
                    "output_type": "stream"
                },
                {
                    "name": "stdout",
                    "text": "Function        Test-DbaLastBackup                                 1.1.7      dbatools\r\n",
                    "output_type": "stream"
                },
                {
                    "name": "stdout",
                    "text": "Function        Test-DbaLinkedServerConnection                     1.1.7      dbatools\r\n",
                    "output_type": "stream"
                },
                {
                    "name": "stdout",
                    "text": "Function        Test-DbaLoginPassword                              1.1.7      dbatools\r\n",
                    "output_type": "stream"
                },
                {
                    "name": "stdout",
                    "text": "Function        Test-DbaManagementObject                           1.1.7      dbatools\r\n",
                    "output_type": "stream"
                },
                {
                    "name": "stdout",
                    "text": "Function        Test-DbaMaxDop                                     1.1.7      dbatools\r\n",
                    "output_type": "stream"
                },
                {
                    "name": "stdout",
                    "text": "Function        Test-DbaMaxMemory                                  1.1.7      dbatools\r\n",
                    "output_type": "stream"
                },
                {
                    "name": "stdout",
                    "text": "Function        Test-DbaMigrationConstraint                        1.1.7      dbatools\r\n",
                    "output_type": "stream"
                },
                {
                    "name": "stdout",
                    "text": "Function        Test-DbaNetworkLatency                             1.1.7      dbatools\r\n",
                    "output_type": "stream"
                },
                {
                    "name": "stdout",
                    "text": "Function        Test-DbaOptimizeForAdHoc                           1.1.7      dbatools\r\n",
                    "output_type": "stream"
                },
                {
                    "name": "stdout",
                    "text": "Function        Test-DbaPath                                       1.1.7      dbatools\r\n",
                    "output_type": "stream"
                },
                {
                    "name": "stdout",
                    "text": "Function        Test-DbaPowerPlan                                  1.1.7      dbatools\r\n",
                    "output_type": "stream"
                },
                {
                    "name": "stdout",
                    "text": "Function        Test-DbaSpn                                        1.1.7      dbatools\r\n",
                    "output_type": "stream"
                },
                {
                    "name": "stdout",
                    "text": "Function        Test-DbaTempDbConfig                               1.1.7      dbatools\r\n",
                    "output_type": "stream"
                },
                {
                    "name": "stdout",
                    "text": "Function        Test-DbaWindowsLogin                               1.1.7      dbatools\r\n",
                    "output_type": "stream"
                },
                {
                    "name": "stdout",
                    "text": "Function        Uninstall-DbaSqlWatch                              1.1.7      dbatools\r\n",
                    "output_type": "stream"
                },
                {
                    "name": "stdout",
                    "text": "Function        Uninstall-DbatoolsWatchUpdate                      1.1.7      dbatools\r\n",
                    "output_type": "stream"
                },
                {
                    "name": "stdout",
                    "text": "Function        Unregister-DbatoolsConfig                          1.1.7      dbatools\r\n",
                    "output_type": "stream"
                },
                {
                    "name": "stdout",
                    "text": "Function        Update-DbaBuildReference                           1.1.7      dbatools\r\n",
                    "output_type": "stream"
                },
                {
                    "name": "stdout",
                    "text": "Function        Update-DbaInstance                                 1.1.7      dbatools\r\n",
                    "output_type": "stream"
                },
                {
                    "name": "stdout",
                    "text": "Function        Update-DbaServiceAccount                           1.1.7      dbatools\r\n",
                    "output_type": "stream"
                },
                {
                    "name": "stdout",
                    "text": "Function        Update-Dbatools                                    1.1.7      dbatools\r\n",
                    "output_type": "stream"
                },
                {
                    "name": "stdout",
                    "text": "Function        Watch-DbaDbLogin                                   1.1.7      dbatools\r\n",
                    "output_type": "stream"
                },
                {
                    "name": "stdout",
                    "text": "Function        Watch-DbatoolsUpdate                               1.1.7      dbatools\r\n",
                    "output_type": "stream"
                },
                {
                    "name": "stdout",
                    "text": "Function        Watch-DbaXESession                                 1.1.7      dbatools\r\n",
                    "output_type": "stream"
                },
                {
                    "name": "stdout",
                    "text": "Function        Write-DbaDbTableData                               1.1.7      dbatools\r\n",
                    "output_type": "stream"
                },
                {
                    "name": "stdout",
                    "text": "Cmdlet          Select-DbaObject                                   1.1.7      dbatools\r\n",
                    "output_type": "stream"
                },
                {
                    "name": "stdout",
                    "text": "Cmdlet          Set-DbatoolsConfig                                 1.1.7      dbatools\r\n",
                    "output_type": "stream"
                },
                {
                    "name": "stdout",
                    "text": "\r\n",
                    "output_type": "stream"
                }
            ],
            "execution_count": 2
        },
        {
            "cell_type": "code",
            "source": [
                "## How many commands?\n",
                "(Get-Command -Module dbatools -CommandType Function ).Count"
            ],
            "metadata": {
                "azdata_cell_guid": "0c674263-5c7d-4ebc-9718-1f18922635a4"
            },
            "outputs": [
                {
                    "name": "stdout",
                    "text": "622\r\n",
                    "output_type": "stream"
                }
            ],
            "execution_count": 3
        },
        {
            "cell_type": "markdown",
            "source": [
                "## How do we find commands ?\n",
                "\n",
                "With that many commands even Chrissy can't remember them all !\n",
                "\n",
                "So there is a command to find commands"
            ],
            "metadata": {
                "azdata_cell_guid": "9373b8e2-d16b-4e15-b119-f8aa36585f61"
            }
        },
        {
            "cell_type": "code",
            "source": [
                "Find-DbaCommand -Tag Backup"
            ],
            "metadata": {
                "azdata_cell_guid": "e80e58a9-2e60-4048-bb32-62dbd60702e7"
            },
            "outputs": [
                {
                    "name": "stdout",
                    "text": "\r\n",
                    "output_type": "stream"
                },
                {
                    "name": "stdout",
                    "text": "CommandName                 Synopsis\r\n",
                    "output_type": "stream"
                },
                {
                    "name": "stdout",
                    "text": "-----------                 --------\r\n",
                    "output_type": "stream"
                },
                {
                    "name": "stdout",
                    "text": "Backup-DbaDatabase          Backup one or more SQL Server databases from a single SQL Server SqlIn…\r\n",
                    "output_type": "stream"
                },
                {
                    "name": "stdout",
                    "text": "Copy-DbaBackupDevice        Copies backup devices one by one. Copies both SQL code and the backup …\r\n",
                    "output_type": "stream"
                },
                {
                    "name": "stdout",
                    "text": "Copy-DbaDatabase            Migrates SQL Server databases from one SQL Server to another.\r\n",
                    "output_type": "stream"
                },
                {
                    "name": "stdout",
                    "text": "Expand-DbaDbLogFile         This command will help you to automatically grow your transaction log …\r\n",
                    "output_type": "stream"
                },
                {
                    "name": "stdout",
                    "text": "Export-DbaDbTableData       Exports data from tables\r\n",
                    "output_type": "stream"
                },
                {
                    "name": "stdout",
                    "text": "Export-DbaScript            Exports scripts from SQL Management Objects (SMO)\r\n",
                    "output_type": "stream"
                },
                {
                    "name": "stdout",
                    "text": "Find-DbaBackup              Finds SQL Server backups on disk.\r\n",
                    "output_type": "stream"
                },
                {
                    "name": "stdout",
                    "text": "Format-DbaBackupInformation Transforms the data in a dbatools BackupHistory object for a restore\r\n",
                    "output_type": "stream"
                },
                {
                    "name": "stdout",
                    "text": "Get-DbaAgBackupHistory      Returns backup history details for databases on a SQL Server Availabil…\r\n",
                    "output_type": "stream"
                },
                {
                    "name": "stdout",
                    "text": "Get-DbaBackupDevice         Gets SQL Backup Device information for each instance(s) of SQL Server.\r\n",
                    "output_type": "stream"
                },
                {
                    "name": "stdout",
                    "text": "Get-DbaBackupInformation    Scan backup files and creates a set, compatible with Restore-DbaDataba…\r\n",
                    "output_type": "stream"
                },
                {
                    "name": "stdout",
                    "text": "Get-DbaDbBackupHistory      Returns backup history details for databases on a SQL Server.\r\n",
                    "output_type": "stream"
                },
                {
                    "name": "stdout",
                    "text": "Get-DbaDbExtentDiff         What percentage of a database has changed since the last full backup\r\n",
                    "output_type": "stream"
                },
                {
                    "name": "stdout",
                    "text": "Get-DbaDbRestoreHistory     Returns restore history details for databases on a SQL Server.\r\n",
                    "output_type": "stream"
                },
                {
                    "name": "stdout",
                    "text": "Get-DbaLastBackup           Get date/time for last known backups of databases.\r\n",
                    "output_type": "stream"
                },
                {
                    "name": "stdout",
                    "text": "Get-DbaSchemaChangeHistory  Gets DDL changes logged in the system trace.\r\n",
                    "output_type": "stream"
                },
                {
                    "name": "stdout",
                    "text": "Invoke-DbaAdvancedRestore   Allows the restore of modified BackupHistory Objects…\r\n",
                    "output_type": "stream"
                },
                {
                    "name": "stdout",
                    "text": "Measure-DbaBackupThroughput Determines how quickly SQL Server is backing up databases to media.\r\n",
                    "output_type": "stream"
                },
                {
                    "name": "stdout",
                    "text": "New-DbaScriptingOption      Creates a new Microsoft.SqlServer.Management.Smo.ScriptingOptions obje…\r\n",
                    "output_type": "stream"
                },
                {
                    "name": "stdout",
                    "text": "Read-DbaBackupHeader        Reads and displays detailed information about a SQL Server backup.\r\n",
                    "output_type": "stream"
                },
                {
                    "name": "stdout",
                    "text": "Remove-DbaBackup            Removes SQL Server backups from disk.\r\n",
                    "output_type": "stream"
                },
                {
                    "name": "stdout",
                    "text": "Restore-DbaDatabase         Restores a SQL Server Database from a set of backup files\r\n",
                    "output_type": "stream"
                },
                {
                    "name": "stdout",
                    "text": "Restore-DbaDbSnapshot       Restores databases from snapshots\r\n",
                    "output_type": "stream"
                },
                {
                    "name": "stdout",
                    "text": "Select-DbaBackupInformation Select a subset of backups from a dbatools backup history object\r\n",
                    "output_type": "stream"
                },
                {
                    "name": "stdout",
                    "text": "Test-DbaBackupInformation   Tests a dbatools backup history object is correct for restoring\r\n",
                    "output_type": "stream"
                },
                {
                    "name": "stdout",
                    "text": "Test-DbaDbRecoveryModel     Find if database is really a specific recovery model or not.\r\n",
                    "output_type": "stream"
                },
                {
                    "name": "stdout",
                    "text": "Test-DbaLastBackup          Quickly and easily tests the last set of full backups for a server.\r\n",
                    "output_type": "stream"
                },
                {
                    "name": "stdout",
                    "text": "\r\n",
                    "output_type": "stream"
                }
            ],
            "execution_count": 4
        },
        {
            "cell_type": "code",
            "source": [
                "Find-DbaCommand -Tag Restore"
            ],
            "metadata": {
                "azdata_cell_guid": "983a8d9f-7666-41b2-8255-3e914a9972d3"
            },
            "outputs": [
                {
                    "name": "stdout",
                    "text": "\r\n",
                    "output_type": "stream"
                },
                {
                    "name": "stdout",
                    "text": "CommandName                 Synopsis\r\n",
                    "output_type": "stream"
                },
                {
                    "name": "stdout",
                    "text": "-----------                 --------\r\n",
                    "output_type": "stream"
                },
                {
                    "name": "stdout",
                    "text": "Backup-DbaDatabase          Backup one or more SQL Server databases from a single SQL Server SqlIn…\r\n",
                    "output_type": "stream"
                },
                {
                    "name": "stdout",
                    "text": "Copy-DbaDatabase            Migrates SQL Server databases from one SQL Server to another.\r\n",
                    "output_type": "stream"
                },
                {
                    "name": "stdout",
                    "text": "Format-DbaBackupInformation Transforms the data in a dbatools BackupHistory object for a restore\r\n",
                    "output_type": "stream"
                },
                {
                    "name": "stdout",
                    "text": "Get-DbaBackupInformation    Scan backup files and creates a set, compatible with Restore-DbaDataba…\r\n",
                    "output_type": "stream"
                },
                {
                    "name": "stdout",
                    "text": "Get-DbaDbRestoreHistory     Returns restore history details for databases on a SQL Server.\r\n",
                    "output_type": "stream"
                },
                {
                    "name": "stdout",
                    "text": "Invoke-DbaAdvancedRestore   Allows the restore of modified BackupHistory Objects…\r\n",
                    "output_type": "stream"
                },
                {
                    "name": "stdout",
                    "text": "New-DbaDbSnapshot           Creates database snapshots\r\n",
                    "output_type": "stream"
                },
                {
                    "name": "stdout",
                    "text": "Read-DbaBackupHeader        Reads and displays detailed information about a SQL Server backup.\r\n",
                    "output_type": "stream"
                },
                {
                    "name": "stdout",
                    "text": "Restore-DbaDatabase         Restores a SQL Server Database from a set of backup files\r\n",
                    "output_type": "stream"
                },
                {
                    "name": "stdout",
                    "text": "Restore-DbaDbSnapshot       Restores databases from snapshots\r\n",
                    "output_type": "stream"
                },
                {
                    "name": "stdout",
                    "text": "Select-DbaBackupInformation Select a subset of backups from a dbatools backup history object\r\n",
                    "output_type": "stream"
                },
                {
                    "name": "stdout",
                    "text": "Test-DbaBackupInformation   Tests a dbatools backup history object is correct for restoring\r\n",
                    "output_type": "stream"
                },
                {
                    "name": "stdout",
                    "text": "Test-DbaLastBackup          Quickly and easily tests the last set of full backups for a server.\r\n",
                    "output_type": "stream"
                },
                {
                    "name": "stdout",
                    "text": "\r\n",
                    "output_type": "stream"
                }
            ],
            "execution_count": 5
        },
        {
            "cell_type": "code",
            "source": [
                "Find-DbaCommand -Tag Migration"
            ],
            "metadata": {
                "azdata_cell_guid": "352839bb-0f45-44f8-8596-18bf8cbb7f46"
            },
            "outputs": [
                {
                    "name": "stdout",
                    "text": "\r\n",
                    "output_type": "stream"
                },
                {
                    "name": "stdout",
                    "text": "CommandName                        Synopsis\r\n",
                    "output_type": "stream"
                },
                {
                    "name": "stdout",
                    "text": "-----------                        --------\r\n",
                    "output_type": "stream"
                },
                {
                    "name": "stdout",
                    "text": "Backup-DbaDbCertificate            Exports database certificates from SQL Server using SMO.\r\n",
                    "output_type": "stream"
                },
                {
                    "name": "stdout",
                    "text": "Copy-DbaAgentAlert                 Copy-DbaAgentAlert migrates alerts from one SQL Server to anoth…\r\n",
                    "output_type": "stream"
                },
                {
                    "name": "stdout",
                    "text": "Copy-DbaAgentJob                   Copy-DbaAgentJob migrates jobs from one SQL Server to another.\r\n",
                    "output_type": "stream"
                },
                {
                    "name": "stdout",
                    "text": "Copy-DbaAgentJobCategory           Copy-DbaAgentJobCategory migrates SQL Agent categories from one…\r\n",
                    "output_type": "stream"
                },
                {
                    "name": "stdout",
                    "text": "Copy-DbaAgentOperator              Copy-DbaAgentOperator migrates operators from one SQL Server to…\r\n",
                    "output_type": "stream"
                },
                {
                    "name": "stdout",
                    "text": "Copy-DbaAgentProxy                 Copy-DbaAgentProxy migrates proxy accounts from one SQL Server …\r\n",
                    "output_type": "stream"
                },
                {
                    "name": "stdout",
                    "text": "Copy-DbaAgentSchedule              Copy-DbaAgentSchedule migrates shared job schedules from one SQ…\r\n",
                    "output_type": "stream"
                },
                {
                    "name": "stdout",
                    "text": "Copy-DbaAgentServer                Copy SQL Server Agent from one server to another.\r\n",
                    "output_type": "stream"
                },
                {
                    "name": "stdout",
                    "text": "Copy-DbaBackupDevice               Copies backup devices one by one. Copies both SQL code and the …\r\n",
                    "output_type": "stream"
                },
                {
                    "name": "stdout",
                    "text": "Copy-DbaCredential                 Copy-DbaCredential migrates SQL Server Credentials from one SQL…\r\n",
                    "output_type": "stream"
                },
                {
                    "name": "stdout",
                    "text": "Copy-DbaCustomError                Copy-DbaCustomError migrates custom errors (user defined messag…\r\n",
                    "output_type": "stream"
                },
                {
                    "name": "stdout",
                    "text": "Copy-DbaDatabase                   Migrates SQL Server databases from one SQL Server to another.\r\n",
                    "output_type": "stream"
                },
                {
                    "name": "stdout",
                    "text": "Copy-DbaDataCollector              Migrates user SQL Data Collector collection sets. SQL Data Coll…\r\n",
                    "output_type": "stream"
                },
                {
                    "name": "stdout",
                    "text": "Copy-DbaDbAssembly                 Copy-DbaDbAssembly migrates assemblies from one SQL Server to a…\r\n",
                    "output_type": "stream"
                },
                {
                    "name": "stdout",
                    "text": "Copy-DbaDbMail                     Migrates Mail Profiles, Accounts, Mail Servers and Mail Server …\r\n",
                    "output_type": "stream"
                },
                {
                    "name": "stdout",
                    "text": "Copy-DbaDbTableData                Copies data between SQL Server tables.\r\n",
                    "output_type": "stream"
                },
                {
                    "name": "stdout",
                    "text": "Copy-DbaDbViewData                 Copies data from a SQL Server view to a table.\r\n",
                    "output_type": "stream"
                },
                {
                    "name": "stdout",
                    "text": "Copy-DbaEndpoint                   Copy-DbaEndpoint migrates server endpoints from one SQL Server …\r\n",
                    "output_type": "stream"
                },
                {
                    "name": "stdout",
                    "text": "Copy-DbaInstanceAudit              Copy-DbaInstanceAudit migrates server audits from one SQL Serve…\r\n",
                    "output_type": "stream"
                },
                {
                    "name": "stdout",
                    "text": "Copy-DbaInstanceAuditSpecification Copy-DbaInstanceAuditSpecification migrates server audit specif…\r\n",
                    "output_type": "stream"
                },
                {
                    "name": "stdout",
                    "text": "Copy-DbaInstanceTrigger            Copy-DbaInstanceTrigger migrates server triggers from one SQL S…\r\n",
                    "output_type": "stream"
                },
                {
                    "name": "stdout",
                    "text": "Copy-DbaLinkedServer               Copy-DbaLinkedServer migrates Linked Servers from one SQL Serve…\r\n",
                    "output_type": "stream"
                },
                {
                    "name": "stdout",
                    "text": "Copy-DbaLogin                      Migrates logins from source to destination SQL Servers. Support…\r\n",
                    "output_type": "stream"
                },
                {
                    "name": "stdout",
                    "text": "Copy-DbaPolicyManagement           Migrates SQL Policy Based Management Objects, including both po…\r\n",
                    "output_type": "stream"
                },
                {
                    "name": "stdout",
                    "text": "Copy-DbaRegServer                  Migrates SQL Server Central Management groups and server instan…\r\n",
                    "output_type": "stream"
                },
                {
                    "name": "stdout",
                    "text": "Copy-DbaResourceGovernor           Migrates Resource Pools\r\n",
                    "output_type": "stream"
                },
                {
                    "name": "stdout",
                    "text": "Copy-DbaSpConfigure                Copy-DbaSpConfigure migrates configuration values from one SQL …\r\n",
                    "output_type": "stream"
                },
                {
                    "name": "stdout",
                    "text": "Copy-DbaStartupProcedure           Copy-DbaStartupProcedure migrates startup procedures (user defi…\r\n",
                    "output_type": "stream"
                },
                {
                    "name": "stdout",
                    "text": "Copy-DbaSysDbUserObject            Imports all user objects found in source SQL Server's master, m…\r\n",
                    "output_type": "stream"
                },
                {
                    "name": "stdout",
                    "text": "Copy-DbaXESession                  Migrates SQL Extended Event Sessions except the two default ses…\r\n",
                    "output_type": "stream"
                },
                {
                    "name": "stdout",
                    "text": "Export-DbaDacPackage               Exports a dacpac from a server.\r\n",
                    "output_type": "stream"
                },
                {
                    "name": "stdout",
                    "text": "Export-DbaDbTableData              Exports data from tables\r\n",
                    "output_type": "stream"
                },
                {
                    "name": "stdout",
                    "text": "Export-DbaScript                   Exports scripts from SQL Management Objects (SMO)\r\n",
                    "output_type": "stream"
                },
                {
                    "name": "stdout",
                    "text": "Get-DbaDbSchema                    Finds the database schema SMO object(s) based on the given filt…\r\n",
                    "output_type": "stream"
                },
                {
                    "name": "stdout",
                    "text": "Get-DbaRgClassifierFunction        Gets the Resource Governor custom classifier Function\r\n",
                    "output_type": "stream"
                },
                {
                    "name": "stdout",
                    "text": "Get-DbaSchemaChangeHistory         Gets DDL changes logged in the system trace.\r\n",
                    "output_type": "stream"
                },
                {
                    "name": "stdout",
                    "text": "Get-DbaSsisExecutionHistory        Get-DbaSsisHistory Retreives SSIS project and package execution…\r\n",
                    "output_type": "stream"
                },
                {
                    "name": "stdout",
                    "text": "Import-DbaCsv                      Efficiently imports very large (and small) CSV files into SQL S…\r\n",
                    "output_type": "stream"
                },
                {
                    "name": "stdout",
                    "text": "Invoke-DbaDbTransfer               Invokes database transfer using a transfer object that clones o…\r\n",
                    "output_type": "stream"
                },
                {
                    "name": "stdout",
                    "text": "New-DbaDacOption                   Creates a new Microsoft.SqlServer.Dac.DacExtractOptions/DacExpo…\r\n",
                    "output_type": "stream"
                },
                {
                    "name": "stdout",
                    "text": "New-DbaDbFileGroup                 Creates a new empty filegroup.\r\n",
                    "output_type": "stream"
                },
                {
                    "name": "stdout",
                    "text": "New-DbaDbSchema                    Creates a new database schema and assigns an owner.\r\n",
                    "output_type": "stream"
                },
                {
                    "name": "stdout",
                    "text": "New-DbaDbTransfer                  Creates a transfer object to clone objects from one database to…\r\n",
                    "output_type": "stream"
                },
                {
                    "name": "stdout",
                    "text": "New-DbaScriptingOption             Creates a new Microsoft.SqlServer.Management.Smo.ScriptingOptio…\r\n",
                    "output_type": "stream"
                },
                {
                    "name": "stdout",
                    "text": "Publish-DbaDacPackage              The Publish-DbaDacPackage command takes a dacpac or bacpac and …\r\n",
                    "output_type": "stream"
                },
                {
                    "name": "stdout",
                    "text": "Remove-DbaDbFileGroup              Removes the specified filegroup(s).\r\n",
                    "output_type": "stream"
                },
                {
                    "name": "stdout",
                    "text": "Remove-DbaDbSchema                 Drops one or more schemas from the specified database(s).\r\n",
                    "output_type": "stream"
                },
                {
                    "name": "stdout",
                    "text": "Restore-DbaDbCertificate           Imports certificates from .cer files using SMO.\r\n",
                    "output_type": "stream"
                },
                {
                    "name": "stdout",
                    "text": "Set-DbaDbFileGroup                 Sets the options for a filegroup.\r\n",
                    "output_type": "stream"
                },
                {
                    "name": "stdout",
                    "text": "Set-DbaDbSchema                    Updates the owner for one or more schemas.\r\n",
                    "output_type": "stream"
                },
                {
                    "name": "stdout",
                    "text": "Start-DbaMigration                 Migrates SQL Server *ALL* databases, logins, database mail prof…\r\n",
                    "output_type": "stream"
                },
                {
                    "name": "stdout",
                    "text": "Sync-DbaLoginPermission            Copies SQL login permissions from one server to another.\r\n",
                    "output_type": "stream"
                },
                {
                    "name": "stdout",
                    "text": "Test-DbaMigrationConstraint        Show if you can migrate the database(s) between the servers.\r\n",
                    "output_type": "stream"
                },
                {
                    "name": "stdout",
                    "text": "\r\n",
                    "output_type": "stream"
                }
            ],
            "execution_count": 6
        },
        {
            "cell_type": "code",
            "source": [
                "Find-DbaCommand -Tag Agent"
            ],
            "metadata": {
                "azdata_cell_guid": "b074e028-7872-4cf6-b89d-0822760a897a"
            },
            "outputs": [],
            "execution_count": null
        },
        {
            "cell_type": "code",
            "source": [
                "Find-DbaCommand -Pattern User "
            ],
            "metadata": {
                "azdata_cell_guid": "7196cfef-4f9c-4aab-9ae4-45779205f4d1"
            },
            "outputs": [],
            "execution_count": null
        },
        {
            "cell_type": "code",
            "source": [
                "Find-DbaCommand -Pattern linked"
            ],
            "metadata": {
                "azdata_cell_guid": "c06460e7-12b5-4c19-a26e-f7aab540dd9c"
            },
            "outputs": [],
            "execution_count": null
        },
        {
            "cell_type": "markdown",
            "source": [
                "## You can also use native PowerShell \n",
                "\n",
                "This can be used with any module"
            ],
            "metadata": {
                "azdata_cell_guid": "23e63ec8-b5be-4260-a71a-c2c8e23efb9d"
            }
        },
        {
            "cell_type": "code",
            "source": [
                "Get-Command -Module dbatools -Name *linked*"
            ],
            "metadata": {
                "azdata_cell_guid": "84d6ffe1-2a6d-47bf-8358-bd52c5cf2a1c"
            },
            "outputs": [],
            "execution_count": null
        },
        {
            "cell_type": "markdown",
            "source": [
                "# How to use commands ?\n",
                "\n",
                "**ALWAYS ALWAYS ALWAYS use `Get-Help`**"
            ],
            "metadata": {
                "azdata_cell_guid": "8dc7d4ec-8021-4b19-a58c-8b3b1ee91acc"
            }
        },
        {
            "cell_type": "code",
            "source": [
                "Get-Help Test-DbaLinkedServerConnection -Full"
            ],
            "metadata": {
                "azdata_cell_guid": "046a7638-acb4-4d01-a2fc-e051e90f451f"
            },
            "outputs": [
                {
                    "name": "stdout",
                    "text": "\r\n",
                    "output_type": "stream"
                },
                {
                    "name": "stdout",
                    "text": "NAME\r\n",
                    "output_type": "stream"
                },
                {
                    "name": "stdout",
                    "text": "    Test-DbaLinkedServerConnection\r\n",
                    "output_type": "stream"
                },
                {
                    "name": "stdout",
                    "text": "    \r\n",
                    "output_type": "stream"
                },
                {
                    "name": "stdout",
                    "text": "SYNOPSIS\r\n",
                    "output_type": "stream"
                },
                {
                    "name": "stdout",
                    "text": "    Test all linked servers from the sql servers passed\r\n",
                    "output_type": "stream"
                },
                {
                    "name": "stdout",
                    "text": "    \r\n",
                    "output_type": "stream"
                },
                {
                    "name": "stdout",
                    "text": "    \r\n",
                    "output_type": "stream"
                },
                {
                    "name": "stdout",
                    "text": "SYNTAX\r\n",
                    "output_type": "stream"
                },
                {
                    "name": "stdout",
                    "text": "    Test-DbaLinkedServerConnection [-SqlInstance] \r\n",
                    "output_type": "stream"
                },
                {
                    "name": "stdout",
                    "text": "    <Sqlcollaborative.Dbatools.Parameter.DbaInstanceParameter[]> [[-SqlCredential] <Pscredential>] \r\n",
                    "output_type": "stream"
                },
                {
                    "name": "stdout",
                    "text": "    [-EnableException <Switch>] [<CommonParameters>]\r\n",
                    "output_type": "stream"
                },
                {
                    "name": "stdout",
                    "text": "    \r\n",
                    "output_type": "stream"
                },
                {
                    "name": "stdout",
                    "text": "    \r\n",
                    "output_type": "stream"
                },
                {
                    "name": "stdout",
                    "text": "DESCRIPTION\r\n",
                    "output_type": "stream"
                },
                {
                    "name": "stdout",
                    "text": "    Test each linked server on the instance\r\n",
                    "output_type": "stream"
                },
                {
                    "name": "stdout",
                    "text": "    \r\n",
                    "output_type": "stream"
                },
                {
                    "name": "stdout",
                    "text": "\r\n",
                    "output_type": "stream"
                },
                {
                    "name": "stdout",
                    "text": "PARAMETERS\r\n",
                    "output_type": "stream"
                },
                {
                    "name": "stdout",
                    "text": "    -EnableException [<Switch>]\r\n",
                    "output_type": "stream"
                },
                {
                    "name": "stdout",
                    "text": "        By default, when something goes wrong we try to catch it, interpret it and give you a \r\n",
                    "output_type": "stream"
                },
                {
                    "name": "stdout",
                    "text": "        friendly warning message.\r\n",
                    "output_type": "stream"
                },
                {
                    "name": "stdout",
                    "text": "        \r\n",
                    "output_type": "stream"
                },
                {
                    "name": "stdout",
                    "text": "        This avoids overwhelming you with \"sea of red\" exceptions, but is inconvenient because it \r\n",
                    "output_type": "stream"
                },
                {
                    "name": "stdout",
                    "text": "        basically disables advanced scripting.\r\n",
                    "output_type": "stream"
                },
                {
                    "name": "stdout",
                    "text": "        Using this switch turns this \"nice by default\" feature off and enables you to catch \r\n",
                    "output_type": "stream"
                },
                {
                    "name": "stdout",
                    "text": "        exceptions with your own try/catch.\r\n",
                    "output_type": "stream"
                },
                {
                    "name": "stdout",
                    "text": "        \r\n",
                    "output_type": "stream"
                },
                {
                    "name": "stdout",
                    "text": "        Required?                    false\r\n",
                    "output_type": "stream"
                },
                {
                    "name": "stdout",
                    "text": "        Position?                    named\r\n",
                    "output_type": "stream"
                },
                {
                    "name": "stdout",
                    "text": "        Default value                \r\n",
                    "output_type": "stream"
                },
                {
                    "name": "stdout",
                    "text": "        Accept pipeline input?       False\r\n",
                    "output_type": "stream"
                },
                {
                    "name": "stdout",
                    "text": "        Accept wildcard characters?  false\r\n",
                    "output_type": "stream"
                },
                {
                    "name": "stdout",
                    "text": "        \r\n",
                    "output_type": "stream"
                },
                {
                    "name": "stdout",
                    "text": "    -SqlCredential [<Pscredential>]\r\n",
                    "output_type": "stream"
                },
                {
                    "name": "stdout",
                    "text": "        Login to the target instance using alternative credentials. Accepts PowerShell credentials \r\n",
                    "output_type": "stream"
                },
                {
                    "name": "stdout",
                    "text": "        (Get-Credential).\r\n",
                    "output_type": "stream"
                },
                {
                    "name": "stdout",
                    "text": "        \r\n",
                    "output_type": "stream"
                },
                {
                    "name": "stdout",
                    "text": "        Windows Authentication, SQL Server Authentication, Active Directory - Password, and Active \r\n",
                    "output_type": "stream"
                },
                {
                    "name": "stdout",
                    "text": "        Directory - Integrated are all supported.\r\n",
                    "output_type": "stream"
                },
                {
                    "name": "stdout",
                    "text": "        \r\n",
                    "output_type": "stream"
                },
                {
                    "name": "stdout",
                    "text": "        For MFA support, please use Connect-DbaInstance.\r\n",
                    "output_type": "stream"
                },
                {
                    "name": "stdout",
                    "text": "        \r\n",
                    "output_type": "stream"
                },
                {
                    "name": "stdout",
                    "text": "        Required?                    false\r\n",
                    "output_type": "stream"
                },
                {
                    "name": "stdout",
                    "text": "        Position?                    named\r\n",
                    "output_type": "stream"
                },
                {
                    "name": "stdout",
                    "text": "        Default value                \r\n",
                    "output_type": "stream"
                },
                {
                    "name": "stdout",
                    "text": "        Accept pipeline input?       False\r\n",
                    "output_type": "stream"
                },
                {
                    "name": "stdout",
                    "text": "        Accept wildcard characters?  false\r\n",
                    "output_type": "stream"
                },
                {
                    "name": "stdout",
                    "text": "        \r\n",
                    "output_type": "stream"
                },
                {
                    "name": "stdout",
                    "text": "    -SqlInstance [<Sqlcollaborative.Dbatools.Parameter.DbaInstanceParameter[]>]\r\n",
                    "output_type": "stream"
                },
                {
                    "name": "stdout",
                    "text": "        The target SQL Server instance or instances.\r\n",
                    "output_type": "stream"
                },
                {
                    "name": "stdout",
                    "text": "        \r\n",
                    "output_type": "stream"
                },
                {
                    "name": "stdout",
                    "text": "        Required?                    false\r\n",
                    "output_type": "stream"
                },
                {
                    "name": "stdout",
                    "text": "        Position?                    named\r\n",
                    "output_type": "stream"
                },
                {
                    "name": "stdout",
                    "text": "        Default value                \r\n",
                    "output_type": "stream"
                },
                {
                    "name": "stdout",
                    "text": "        Accept pipeline input?       False\r\n",
                    "output_type": "stream"
                },
                {
                    "name": "stdout",
                    "text": "        Accept wildcard characters?  false\r\n",
                    "output_type": "stream"
                },
                {
                    "name": "stdout",
                    "text": "        \r\n",
                    "output_type": "stream"
                },
                {
                    "name": "stdout",
                    "text": "    <CommonParameters>\r\n",
                    "output_type": "stream"
                },
                {
                    "name": "stdout",
                    "text": "        This cmdlet supports the common parameters: Verbose, Debug,\r\n",
                    "output_type": "stream"
                },
                {
                    "name": "stdout",
                    "text": "        ErrorAction, ErrorVariable, WarningAction, WarningVariable,\r\n",
                    "output_type": "stream"
                },
                {
                    "name": "stdout",
                    "text": "        OutBuffer, PipelineVariable, and OutVariable. For more information, see\r\n",
                    "output_type": "stream"
                },
                {
                    "name": "stdout",
                    "text": "        about_CommonParameters (https://go.microsoft.com/fwlink/?LinkID=113216). \r\n",
                    "output_type": "stream"
                },
                {
                    "name": "stdout",
                    "text": "    \r\n",
                    "output_type": "stream"
                },
                {
                    "name": "stdout",
                    "text": "INPUTS\r\n",
                    "output_type": "stream"
                },
                {
                    "name": "stdout",
                    "text": "    \r\n",
                    "output_type": "stream"
                },
                {
                    "name": "stdout",
                    "text": "OUTPUTS\r\n",
                    "output_type": "stream"
                },
                {
                    "name": "stdout",
                    "text": "    \r\n",
                    "output_type": "stream"
                },
                {
                    "name": "stdout",
                    "text": "NOTES\r\n",
                    "output_type": "stream"
                },
                {
                    "name": "stdout",
                    "text": "    \r\n",
                    "output_type": "stream"
                },
                {
                    "name": "stdout",
                    "text": "    \r\n",
                    "output_type": "stream"
                },
                {
                    "name": "stdout",
                    "text": "        Tags: LinkedServer\r\n",
                    "output_type": "stream"
                },
                {
                    "name": "stdout",
                    "text": "        Author: Thomas LaRock ( https://thomaslarock.com )\r\n",
                    "output_type": "stream"
                },
                {
                    "name": "stdout",
                    "text": "        \r\n",
                    "output_type": "stream"
                },
                {
                    "name": "stdout",
                    "text": "        Website: https://dbatools.io\r\n",
                    "output_type": "stream"
                },
                {
                    "name": "stdout",
                    "text": "        Copyright: (c) 2018 by dbatools, licensed under MIT\r\n",
                    "output_type": "stream"
                },
                {
                    "name": "stdout",
                    "text": "        License: MIT https://opensource.org/licenses/MIT\r\n",
                    "output_type": "stream"
                },
                {
                    "name": "stdout",
                    "text": "    \r\n",
                    "output_type": "stream"
                },
                {
                    "name": "stdout",
                    "text": "    -------------------------- EXAMPLE 1 --------------------------\r\n",
                    "output_type": "stream"
                },
                {
                    "name": "stdout",
                    "text": "    \r\n",
                    "output_type": "stream"
                },
                {
                    "name": "stdout",
                    "text": "     PS C:\\> Test-DbaLinkedServerConnection -SqlInstance DEV01\r\n",
                    "output_type": "stream"
                },
                {
                    "name": "stdout",
                    "text": "    \r\n",
                    "output_type": "stream"
                },
                {
                    "name": "stdout",
                    "text": "    Test all Linked Servers for the SQL Server instance DEV01\r\n",
                    "output_type": "stream"
                },
                {
                    "name": "stdout",
                    "text": "    -------------------------- EXAMPLE 2 --------------------------\r\n",
                    "output_type": "stream"
                },
                {
                    "name": "stdout",
                    "text": "    \r\n",
                    "output_type": "stream"
                },
                {
                    "name": "stdout",
                    "text": "     PS C:\\> Test-DbaLinkedServerConnection -SqlInstance sql2016 | Out-File C:\\temp\\results.txt\r\n",
                    "output_type": "stream"
                },
                {
                    "name": "stdout",
                    "text": "    \r\n",
                    "output_type": "stream"
                },
                {
                    "name": "stdout",
                    "text": "    Test all Linked Servers for the SQL Server instance sql2016 and output results to file\r\n",
                    "output_type": "stream"
                },
                {
                    "name": "stdout",
                    "text": "    -------------------------- EXAMPLE 3 --------------------------\r\n",
                    "output_type": "stream"
                },
                {
                    "name": "stdout",
                    "text": "    \r\n",
                    "output_type": "stream"
                },
                {
                    "name": "stdout",
                    "text": "     PS C:\\> Test-DbaLinkedServerConnection -SqlInstance sql2016, sql2014, sql2012\r\n",
                    "output_type": "stream"
                },
                {
                    "name": "stdout",
                    "text": "    \r\n",
                    "output_type": "stream"
                },
                {
                    "name": "stdout",
                    "text": "    Test all Linked Servers for the SQL Server instances sql2016, sql2014 and sql2012\r\n",
                    "output_type": "stream"
                },
                {
                    "name": "stdout",
                    "text": "    -------------------------- EXAMPLE 4 --------------------------\r\n",
                    "output_type": "stream"
                },
                {
                    "name": "stdout",
                    "text": "    \r\n",
                    "output_type": "stream"
                },
                {
                    "name": "stdout",
                    "text": "     PS C:\\> $servers = \"sql2016\",\"sql2014\",\"sql2012\"\r\n",
                    "output_type": "stream"
                },
                {
                    "name": "stdout",
                    "text": "    \r\n",
                    "output_type": "stream"
                },
                {
                    "name": "stdout",
                    "text": "    PS C:\\> $servers | Test-DbaLinkedServerConnection -SqlCredential sqladmin\r\n",
                    "output_type": "stream"
                },
                {
                    "name": "stdout",
                    "text": "    \r\n",
                    "output_type": "stream"
                },
                {
                    "name": "stdout",
                    "text": "    Test all Linked Servers for the SQL Server instances sql2016, sql2014 and sql2012 using SQL \r\n",
                    "output_type": "stream"
                },
                {
                    "name": "stdout",
                    "text": "    login credentials\r\n",
                    "output_type": "stream"
                },
                {
                    "name": "stdout",
                    "text": "    -------------------------- EXAMPLE 5 --------------------------\r\n",
                    "output_type": "stream"
                },
                {
                    "name": "stdout",
                    "text": "    \r\n",
                    "output_type": "stream"
                },
                {
                    "name": "stdout",
                    "text": "     PS C:\\> $servers = \"sql2016\",\"sql2014\",\"sql2012\"\r\n",
                    "output_type": "stream"
                },
                {
                    "name": "stdout",
                    "text": "    \r\n",
                    "output_type": "stream"
                },
                {
                    "name": "stdout",
                    "text": "    PS C:\\> $servers | Get-DbaLinkedServer | Test-DbaLinkedServerConnection\r\n",
                    "output_type": "stream"
                },
                {
                    "name": "stdout",
                    "text": "    \r\n",
                    "output_type": "stream"
                },
                {
                    "name": "stdout",
                    "text": "    Test all Linked Servers for the SQL Server instances sql2016, sql2014 and sql2012\r\n",
                    "output_type": "stream"
                },
                {
                    "name": "stdout",
                    "text": "    \r\n",
                    "output_type": "stream"
                },
                {
                    "name": "stdout",
                    "text": "RELATED LINKS\r\n",
                    "output_type": "stream"
                },
                {
                    "name": "stdout",
                    "text": "    https://dbatools.io/Test-DbaLinkedServerConnection\r\n",
                    "output_type": "stream"
                },
                {
                    "name": "stdout",
                    "text": "\r\n",
                    "output_type": "stream"
                },
                {
                    "name": "stdout",
                    "text": "\r\n",
                    "output_type": "stream"
                }
            ],
            "execution_count": 7
        },
        {
            "cell_type": "code",
            "source": [
                "## Here a neat trick which you can use in PowerShell or pwsh but not in a notebook!\n",
                "## When PowerShell opens - right click to paste the command\n",
                "#      Find-DbaCommand -Pattern linked | Out-GridView -PassThru | Get-Help -Full \n",
                "\"Find-DbaCommand -Pattern linked | Out-GridView -PassThru | Get-Help -Full \" | clip\n",
                "# If you have PowerShell 7\n",
                "# Start-Process 'C:\\Program Files\\PowerShell\\7-preview\\pwsh.exe'\n",
                "\n",
                "# if you dont have PowerShell 7 then you can uncomment (remove the #) from the line below and comment (add a # to the beginning) of the line above\n",
                "# Start-Process 'C:\\Windows\\system32\\WindowsPowerShell\\v1.0\\powershell.exe'"
            ],
            "metadata": {
                "azdata_cell_guid": "1112a493-763f-487b-b040-1c9757b03034"
            },
            "outputs": [],
            "execution_count": 5
        },
        {
            "cell_type": "markdown",
            "source": [
                "# Clean Up\n",
                "\n",
                "The 99-CleanUpContainers notebook will remove the containers, files and directory - it will leave the image so you do not have to download it again!"
            ],
            "metadata": {
                "azdata_cell_guid": "57b0d390-ffdf-4079-8c1d-0f5b96aa501b"
            }
        },
        {
            "cell_type": "code",
            "source": [],
            "metadata": {
                "azdata_cell_guid": "6047cc93-8c20-4755-b6fd-175f3de304e7"
            },
            "outputs": [],
            "execution_count": null
        }
    ]
}