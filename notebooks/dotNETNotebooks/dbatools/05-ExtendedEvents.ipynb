{
    "metadata": {
        "kernelspec": {
            "name": ".net-powershell",
            "display_name": ".NET (PowerShell)",
            "language": "PowerShell"
        },
        "language_info": {
            "name": "PowerShell",
            "version": "7.0",
            "mimetype": "text/x-powershell",
            "file_extension": ".ps1",
            "pygments_lexer": "powershell"
        }
    },
    "nbformat_minor": 2,
    "nbformat": 4,
    "cells": [
        {
            "cell_type": "markdown",
            "source": [
                "# Extended Events\n",
                "\n",
                "***You will need to have followed the steps in the 00-CreateContainers notebook to use this notebook***\n",
                "\n",
                "We have written a book which will give you a brilliant introduction to dbatools. It's called dbatools in a Month of Lunches and you can find it at https://beard.media/book\n",
                "\n",
                "dbatools is **awesome** with Extended Events\n",
                "\n",
                "First we will set up the variables and connections to the containers"
            ],
            "metadata": {
                "azdata_cell_guid": "9c43d446-2f34-4531-81f4-14dfc2b75e04"
            }
        },
        {
            "cell_type": "code",
            "source": [
                "$FolderPath = $Env:USERPROFILE + '\\Documents\\dbatoolsdemo'\n",
                "$SqlInstances = 'localhost,15592', 'localhost,15593'\n",
                "$SqlCredential = Import-Clixml -Path $FolderPath\\sqladmin.cred\n",
                "Write-Output \" Creating connection to the containers\"\n",
                "try {\n",
                "    $SQL1 = Connect-DbaInstance -SqlInstance $SqlInstances[0] -SqlCredential $SqlCredential \n",
                "    $SQL2 = Connect-DbaInstance -SqlInstance $SqlInstances[1] -SqlCredential $SqlCredential\n",
                "    Write-Output \"We have a connection to the containers\"\n",
                "\n",
                "}\n",
                "catch {\n",
                "    Write-Output \"You haven't got a connection to the containers - Either they are still upgrading in which case try again in 30 seconds or the containers have not come up correctly\"\n",
                "    Write-Output \"Make sure the containers are running - the code is below in a block for you\"\n",
                "    Write-Output \"docker ps -a\"\n",
                "    Write-Output \"If they are read the logs - the code is below in a block for you\"\n",
                "    Write-Output \"docker logs dbatools_SQL2019_1\"\n",
                "    Write-Output \"docker logs dbatools_SQL2019-1_1\"\n",
                "}\n",
                "# Run this first to make sure output width does not mess with output - Update output buffer size to prevent clipping in Visual Studio output window.\n",
                "if( $Host -and $Host.UI -and $Host.UI.RawUI ) {\n",
                "    $rawUI = $Host.UI.RawUI\n",
                "    $oldSize = $rawUI.BufferSize\n",
                "    $typeName = $oldSize.GetType( ).FullName\n",
                "    $newSize = New-Object $typeName (500, $oldSize.Height)\n",
                "    $rawUI.BufferSize = $newSize\n",
                "  }"
            ],
            "metadata": {
                "jupyter": {
                    "source_hidden": true
                },
                "azdata_cell_guid": "11e3a60c-9794-4b99-bfa9-6ba69917cd6a",
                "tags": [
                    "hide_input"
                ]
            },
            "outputs": [
                {
                    "name": "stdout",
                    "text": " Creating connection to the containers\r\n",
                    "output_type": "stream"
                },
                {
                    "name": "stdout",
                    "text": "We have a connection to the containers\r\n",
                    "output_type": "stream"
                }
            ],
            "execution_count": 6
        },
        {
            "cell_type": "markdown",
            "source": [
                "## Listing Extended Events\n",
                "\n",
                "Which Extended Event sessions do we have on our instances ?\n",
                "\n",
                "This will give you \n",
                "\n",
                "- The name of the session\n",
                "- If it is running\n",
                "- When it started\n",
                "- If it will start on server startup (Autostart = True)\n",
                "- The targets\n",
                "- The target filename\n",
                "- The events"
            ],
            "metadata": {
                "azdata_cell_guid": "eebbd5a5-18cc-4f0c-a783-d449c72e41b7"
            }
        },
        {
            "cell_type": "code",
            "source": [
                "Get-DbaXESession -SqlInstance $SQL1"
            ],
            "metadata": {
                "azdata_cell_guid": "2551b135-4642-4cfe-915f-3ce0da8b161e"
            },
            "outputs": [],
            "execution_count": null
        },
        {
            "cell_type": "markdown",
            "source": [
                "## Starting and stopping Extended Events Sessions\n",
                "\n",
                "It is no surprise that you can start and stop extended events sessions easily with dbatools. We like to make command names easy to remember!\n",
                "\n",
                "`Start-DbaXeSession`  \n",
                "`Stop-DbaXeSession`\n",
                "\n",
                "The following session is running - Yep we can check a session with `Get-DbaXeSession` - Look at the status to see if it is running"
            ],
            "metadata": {
                "azdata_cell_guid": "86db28f7-349a-4937-a804-83d0b61c3890"
            }
        },
        {
            "cell_type": "code",
            "source": [
                "Get-DbaXESession -SqlInstance $SQL1 -Session 'system_health'"
            ],
            "metadata": {
                "azdata_cell_guid": "be7012f7-f1fa-4038-aae4-f360df009460"
            },
            "outputs": [],
            "execution_count": null
        },
        {
            "cell_type": "markdown",
            "source": [
                "We can stop it\n"
            ],
            "metadata": {
                "azdata_cell_guid": "589b14fc-2ea4-4efc-b837-ba3a89fbca11"
            }
        },
        {
            "cell_type": "code",
            "source": [
                "Stop-DbaXESession  -SqlInstance $SQL1 -Session 'system_health'"
            ],
            "metadata": {
                "azdata_cell_guid": "b57da909-8e95-4806-ac81-e38b7f74c669"
            },
            "outputs": [],
            "execution_count": null
        },
        {
            "cell_type": "markdown",
            "source": [
                "and start it again\n"
            ],
            "metadata": {
                "azdata_cell_guid": "aeeb0be0-0d7e-468e-a5f3-db9eac9cb658"
            }
        },
        {
            "cell_type": "code",
            "source": [
                "Start-DbaXESession  -SqlInstance $SQL1 -Session 'system_health'"
            ],
            "metadata": {
                "azdata_cell_guid": "3ab9ba68-79f8-4cc1-a01b-f24d73b43365"
            },
            "outputs": [],
            "execution_count": null
        },
        {
            "cell_type": "markdown",
            "source": [
                "Lets add a new session"
            ],
            "metadata": {
                "azdata_cell_guid": "dcc0ba5f-941a-4352-a27b-d522c428179a"
            },
            "attachments": {}
        },
        {
            "cell_type": "code",
            "source": [
                " ## When PowerShell opens - right click to paste the command\r\n",
                "# \r\n",
                "## the password is dbatools.IO\r\n",
                "\" Import-DbaXESessionTemplate -SqlInstance 'localhost,15592' -SqlCredential sqladmin -Template 'Blocked Process Report'\" | clip\r\n",
                "\r\n",
                "Start-Process 'C:\\Windows\\system32\\WindowsPowerShell\\v1.0\\powershell.exe'"
            ],
            "metadata": {
                "azdata_cell_guid": "965dc92e-8a63-44c7-89e5-d10c7b5ef21b"
            },
            "outputs": [],
            "execution_count": 12
        },
        {
            "cell_type": "code",
            "source": [
                "Start-DbaXESession  -SqlInstance $SQL1 -Session 'Blocked Process Report'"
            ],
            "metadata": {
                "azdata_cell_guid": "49f16d3c-633c-45e8-8402-c4793c52e90b"
            },
            "outputs": [
                {
                    "output_type": "stream",
                    "name": "stdout",
                    "text": "\r\n"
                },
                {
                    "output_type": "stream",
                    "name": "stdout",
                    "text": "ComputerName : localhost\r\n"
                },
                {
                    "output_type": "stream",
                    "name": "stdout",
                    "text": "InstanceName : MSSQLSERVER\r\n"
                },
                {
                    "output_type": "stream",
                    "name": "stdout",
                    "text": "SqlInstance  : beardsql01\r\n"
                },
                {
                    "output_type": "stream",
                    "name": "stdout",
                    "text": "Name         : Blocked Process Report\r\n"
                },
                {
                    "output_type": "stream",
                    "name": "stdout",
                    "text": "Status       : Running\r\n"
                },
                {
                    "output_type": "stream",
                    "name": "stdout",
                    "text": "StartTime    : 06/08/2021 11:28:40\r\n"
                },
                {
                    "output_type": "stream",
                    "name": "stdout",
                    "text": "AutoStart    : False\r\n"
                },
                {
                    "output_type": "stream",
                    "name": "stdout",
                    "text": "State        : Existing\r\n"
                },
                {
                    "output_type": "stream",
                    "name": "stdout",
                    "text": "Targets      : {package0.event_file}\r\n"
                },
                {
                    "output_type": "stream",
                    "name": "stdout",
                    "text": "TargetFile   : {/var/opt/mssql/log/Blocked Process Report}\r\n"
                },
                {
                    "output_type": "stream",
                    "name": "stdout",
                    "text": "Events       : {sqlserver.blocked_process_report}\r\n"
                },
                {
                    "output_type": "stream",
                    "name": "stdout",
                    "text": "MaxMemory    : 8192\r\n"
                },
                {
                    "output_type": "stream",
                    "name": "stdout",
                    "text": "MaxEventSize : 0\r\n"
                },
                {
                    "output_type": "stream",
                    "name": "stdout",
                    "text": "\r\n"
                },
                {
                    "output_type": "stream",
                    "name": "stdout",
                    "text": "\r\n"
                }
            ],
            "execution_count": 13
        },
        {
            "cell_type": "markdown",
            "source": [
                "We can watch the live data - Lets create a different process to watch the Blocked Process Session.\n",
                "\n",
                "This code will open a Windows PowerShell session, right click to paste the code and it will prompt for a password which is `dbatools.IO` You will need to have installed dbatools in Windows PowerShell prior to this.\n",
                "Leave that running and move to the next step"
            ],
            "metadata": {
                "azdata_cell_guid": "5dc88c99-494d-46ba-9fcb-432abd259e5f"
            }
        },
        {
            "cell_type": "code",
            "source": [
                "Set-DbaSpConfigure -SqlInstance $sql1 -Name 'show advanced options' -Value 1\r\n",
                "Set-DbaSpConfigure -SqlInstance $sql1 -Name 'BlockedProcessThreshold' -Value 5\r\n",
                "Set-DbaSpConfigure -SqlInstance $sql1 -Name 'show advanced options' -Value 0\r\n",
                ""
            ],
            "metadata": {
                "azdata_cell_guid": "57db7c86-5ed9-4555-a8dc-8d47f12f918a"
            },
            "outputs": [
                {
                    "name": "stdout",
                    "text": "\r\n",
                    "output_type": "stream"
                },
                {
                    "name": "stdout",
                    "text": "ComputerName  : localhost\r\n",
                    "output_type": "stream"
                },
                {
                    "name": "stdout",
                    "text": "InstanceName  : MSSQLSERVER\r\n",
                    "output_type": "stream"
                },
                {
                    "name": "stdout",
                    "text": "SqlInstance   : beardsql01\r\n",
                    "output_type": "stream"
                },
                {
                    "name": "stdout",
                    "text": "ConfigName    : ShowAdvancedOptions\r\n",
                    "output_type": "stream"
                },
                {
                    "name": "stdout",
                    "text": "PreviousValue : 0\r\n",
                    "output_type": "stream"
                },
                {
                    "name": "stdout",
                    "text": "NewValue      : 1\r\n",
                    "output_type": "stream"
                },
                {
                    "name": "stdout",
                    "text": "\r\n",
                    "output_type": "stream"
                },
                {
                    "name": "stdout",
                    "text": "\u001b[93mWARNING: [12:42:37][Set-DbaSpConfigure] Value to set is the same as the existing value. No work being performed.\u001b[0m\r\n",
                    "output_type": "stream"
                },
                {
                    "name": "stdout",
                    "text": "ComputerName  : localhost\r\n",
                    "output_type": "stream"
                },
                {
                    "name": "stdout",
                    "text": "InstanceName  : MSSQLSERVER\r\n",
                    "output_type": "stream"
                },
                {
                    "name": "stdout",
                    "text": "SqlInstance   : beardsql01\r\n",
                    "output_type": "stream"
                },
                {
                    "name": "stdout",
                    "text": "ConfigName    : ShowAdvancedOptions\r\n",
                    "output_type": "stream"
                },
                {
                    "name": "stdout",
                    "text": "PreviousValue : 1\r\n",
                    "output_type": "stream"
                },
                {
                    "name": "stdout",
                    "text": "NewValue      : 0\r\n",
                    "output_type": "stream"
                },
                {
                    "name": "stdout",
                    "text": "\r\n",
                    "output_type": "stream"
                },
                {
                    "name": "stdout",
                    "text": "\r\n",
                    "output_type": "stream"
                }
            ],
            "execution_count": 3
        },
        {
            "cell_type": "code",
            "source": [
                "## When PowerShell opens - right click to paste the command\n",
                "#  \n",
                "@\"\n",
                "## the password is dbatools.IO\n",
                "Get-DbaXESession -SqlInstance 'localhost,15592' -SqlCredential sqladmin -Session 'Blocked Process Report' | Watch-DbaXESession  \n",
                "\"@ | clip\n",
                "\n",
                "# \n",
                "Start-Process 'C:\\Windows\\system32\\WindowsPowerShell\\v1.0\\powershell.exe'"
            ],
            "metadata": {
                "azdata_cell_guid": "71fb829b-157e-46a7-bbf8-26760a94c851"
            },
            "outputs": [],
            "execution_count": 2
        },
        {
            "cell_type": "markdown",
            "source": [
                "This code will create some blocked processes, once you have run it you can look at the Windows PowerShell window and see the details, close the window when you are done!"
            ],
            "metadata": {
                "azdata_cell_guid": "fa33747f-5c8d-40b7-b2fd-5694847163ce"
            }
        },
        {
            "cell_type": "code",
            "source": [
                "$query1 = \"\n",
                "BEGIN TRANSACTION\n",
                "  SELECT * FROM [dbo].[authors] WITH (TABLOCKX, HOLDLOCK)\n",
                "    WAITFOR DELAY '00:00:30' -- 30 seconds\n",
                "ROLLBACK TRANSACTION\n",
                "\"\n",
                "$query2 = \"SELECT TOP 1 * FROM [dbo].[authors]\" \n",
                "$Queries = $query1, $query2, $query2 , $query2, $query2, $query2, $query2, $query2, $query2, $query2, $query2, $query2, $query2, $query2\n",
                "$FolderPath = $Env:USERPROFILE + '\\Documents\\dbatoolsdemo'\n",
                "$Queries |ForEach-Object -Parallel  {\n",
                "$Credential = Import-Clixml -Path $Using:FolderPath\\sqladmin.cred\n",
                "Invoke-DbaQuery -SqlInstance 'localhost,15592' -SqlCredential $Credential -Database pubs -Query $psitem \n",
                "}"
            ],
            "metadata": {
                "azdata_cell_guid": "6765c9f2-7f80-47e7-8a9e-3624ecaf8251"
            },
            "outputs": [],
            "execution_count": null
        },
        {
            "cell_type": "markdown",
            "source": [
                "Thats really cool, you can see the data flying by on the screen  \n",
                "  \n",
                "![dbatools](.\\images\\blockedprocessXE.png )  \n",
                "\n",
                "But what about if you would like to read the data\n",
                "\n",
                "There is no need to learn the XML shredding :-)\n",
                "\n",
                "We can read the file.\n",
                "\n",
                "First we need to know where the file is"
            ],
            "metadata": {
                "azdata_cell_guid": "13d36020-278f-45a3-927a-5c5a4eb1d9b9"
            }
        },
        {
            "cell_type": "code",
            "source": [
                "Get-DbaXESessionTarget -SqlInstance $SQL1 -Session 'Blocked Process Report'"
            ],
            "metadata": {
                "azdata_cell_guid": "4ef07c28-56f0-4349-80b0-1206ac94992e"
            },
            "outputs": [
                {
                    "name": "stdout",
                    "text": "\r\n",
                    "output_type": "stream"
                },
                {
                    "name": "stdout",
                    "text": "ComputerName  : localhost\r\n",
                    "output_type": "stream"
                },
                {
                    "name": "stdout",
                    "text": "InstanceName  : MSSQLSERVER\r\n",
                    "output_type": "stream"
                },
                {
                    "name": "stdout",
                    "text": "SqlInstance   : beardsql01\r\n",
                    "output_type": "stream"
                },
                {
                    "name": "stdout",
                    "text": "Session       : Blocked Process Report\r\n",
                    "output_type": "stream"
                },
                {
                    "name": "stdout",
                    "text": "SessionStatus : Running\r\n",
                    "output_type": "stream"
                },
                {
                    "name": "stdout",
                    "text": "Name          : package0.event_file\r\n",
                    "output_type": "stream"
                },
                {
                    "name": "stdout",
                    "text": "ID            : 2\r\n",
                    "output_type": "stream"
                },
                {
                    "name": "stdout",
                    "text": "Field         : {filename, increment, is_indexed_file_target, lazy_create_blob…}\r\n",
                    "output_type": "stream"
                },
                {
                    "name": "stdout",
                    "text": "PackageName   : package0\r\n",
                    "output_type": "stream"
                },
                {
                    "name": "stdout",
                    "text": "File          : {/var/opt/mssql/log\\Blocked Process Report}\r\n",
                    "output_type": "stream"
                },
                {
                    "name": "stdout",
                    "text": "Description   : Use the event_file target to save the event data to an XEL file, which can be archived and used for later analysis and review. You can merge multiple XEL files to view the combined data from separate event sessions.\r\n",
                    "output_type": "stream"
                },
                {
                    "name": "stdout",
                    "text": "ScriptName    : package0.event_file\r\n",
                    "output_type": "stream"
                },
                {
                    "name": "stdout",
                    "text": "\r\n",
                    "output_type": "stream"
                },
                {
                    "name": "stdout",
                    "text": "\r\n",
                    "output_type": "stream"
                }
            ],
            "execution_count": 7
        },
        {
            "cell_type": "markdown",
            "source": [
                "If we weren't using containers you could use `Get-DbaXeSessionTargetFile` and if you were on Windows and had access to the admin UNC share, you could do\n",
                "\n",
                "`Get-DbaXESession -SqlInstance $SQL1 -Session 'Blocked Process Report' | Read-DbaXEFile`\n",
                "\n",
                "But we arent so lucky. Lets copy the files to the directory we have mounted for our containers (I copy all the files because after 5 minutes of trying to only copy the xel files with bash I gave up)"
            ],
            "metadata": {
                "azdata_cell_guid": "d68d6e9b-cfcb-4e6b-88ec-a8327516129f"
            }
        },
        {
            "cell_type": "code",
            "source": [
                "docker exec -i beardsql01 cp -R /var/opt/mssql/log/ /var/opt/mssql/backups/"
            ],
            "metadata": {
                "azdata_cell_guid": "a4e4925a-5c14-47b1-a1cd-f02ea36fa574"
            },
            "outputs": [],
            "execution_count": 9
        },
        {
            "cell_type": "markdown",
            "source": [
                "With the files moved to a place we can access them, we can read the files with one line of code. It won't work in the notebook but the code below will open a Windows PowerShell session and the you can right click to paste the command and read the data. `CTRL + C ` will stop it and you can just close the PowerShell session when it is done"
            ],
            "metadata": {
                "azdata_cell_guid": "4f1e8868-98df-425c-812f-663120ef0d57"
            }
        },
        {
            "cell_type": "code",
            "source": [
                "## When PowerShell opens - right click to paste the command\n",
                "#     \n",
                "\"Get-ChildItem $FolderPath\\log\\Block* | Read-DbaXEFile\" | clip\n",
                "\n",
                "Start-Process 'C:\\Windows\\system32\\WindowsPowerShell\\v1.0\\powershell.exe'"
            ],
            "metadata": {
                "azdata_cell_guid": "881b411c-7c1c-4073-b7ad-e967e9c60837"
            },
            "outputs": [],
            "execution_count": 10
        },
        {
            "cell_type": "markdown",
            "source": [
                "But we are using PowerShell which means we have all of the tools available to us :-)\n",
                "\n",
                "How about if we want the XE event data in a CSV file ?\n",
                "\n",
                "Again we need to open a PowerShell session and right click and when it is done, close it and come back here"
            ],
            "metadata": {
                "azdata_cell_guid": "15f19180-e1d8-4d88-b17e-51330a69e62d"
            }
        },
        {
            "cell_type": "code",
            "source": [
                "## When PowerShell opens - right click to paste the command\n",
                "#     \n",
                "\"Get-ChildItem $FolderPath\\log\\Block* | Read-DbaXEFile | Export-Csv -Path $FolderPath\\BlockedProcess.csv -NoClobber\" | clip\n",
                "\n",
                "Start-Process 'C:\\Windows\\system32\\WindowsPowerShell\\v1.0\\powershell.exe'"
            ],
            "metadata": {
                "azdata_cell_guid": "75d50400-fdd1-450e-b9b1-d99a49653e60"
            },
            "outputs": [],
            "execution_count": 11
        },
        {
            "cell_type": "markdown",
            "source": [
                "Now we can read the CSV file\n"
            ],
            "metadata": {
                "azdata_cell_guid": "b99c93ec-769c-4c1b-8ac7-c2b3974bd6f0"
            }
        },
        {
            "cell_type": "code",
            "source": [
                "$BlockedProcesses = Import-Csv $FolderPath\\BlockedProcess.csv \n",
                "$BlockedProcesses | Select -First 1"
            ],
            "metadata": {
                "azdata_cell_guid": "6e211c74-1549-4af2-8e21-933ec360a505"
            },
            "outputs": [
                {
                    "name": "stdout",
                    "text": "\r\n",
                    "output_type": "stream"
                },
                {
                    "name": "stdout",
                    "text": "name                : blocked_process_report\r\n",
                    "output_type": "stream"
                },
                {
                    "name": "stdout",
                    "text": "timestamp           : 06/08/2021 11:41:50 +00:00\r\n",
                    "output_type": "stream"
                },
                {
                    "name": "stdout",
                    "text": "duration            : 8128000\r\n",
                    "output_type": "stream"
                },
                {
                    "name": "stdout",
                    "text": "database_id         : 5\r\n",
                    "output_type": "stream"
                },
                {
                    "name": "stdout",
                    "text": "object_id           : 581577110\r\n",
                    "output_type": "stream"
                },
                {
                    "name": "stdout",
                    "text": "index_id            : 0\r\n",
                    "output_type": "stream"
                },
                {
                    "name": "stdout",
                    "text": "lock_mode           : IS\r\n",
                    "output_type": "stream"
                },
                {
                    "name": "stdout",
                    "text": "transaction_id      : 114848\r\n",
                    "output_type": "stream"
                },
                {
                    "name": "stdout",
                    "text": "resource_owner_type : LOCK\r\n",
                    "output_type": "stream"
                },
                {
                    "name": "stdout",
                    "text": "blocked_process     : <blocked-process-report monitorLoop=\"330\">\r\n",
                    "output_type": "stream"
                },
                {
                    "name": "stdout",
                    "text": "                       <blocked-process>\r\n",
                    "output_type": "stream"
                },
                {
                    "name": "stdout",
                    "text": "                        <process id=\"processa8b647088\" taskpriority=\"0\" logused=\"0\" waitresource=\"OBJECT: 5:581577110:4 \" waittime=\"8128\" ownerId=\"114848\" transactionname=\"SELECT\" lasttranstarted=\"2021-08-06T11:41:42.017\" XDES=\"0x195c1e4eb8\" lockMode=\"IS\" schedulerid=\"5\" kpid=\"972\" status=\"suspended\" spid=\"106\" sbid=\"0\" ecid=\"0\" priority=\"0\" trancount=\"0\" lastbatchstarted=\"2021-08-06T11:41:41.020\" lastbatchcompleted=\"2021-08-06T11:41:41.020\" lastattention=\"2021-08-06T11:41:41.017\" \r\n",
                    "output_type": "stream"
                },
                {
                    "name": "stdout",
                    "text": "                      clientapp=\"dbatools PowerShell module - dbatools.io\" hostname=\"BEARD-DESKTOP\" hostpid=\"34072\" loginname=\"sqladmin\" isolationlevel=\"read committed (2)\" xactid=\"114848\" currentdb=\"5\" currentdbname=\"pubs\" lockTimeout=\"4294967295\" clientoption1=\"671088672\" clientoption2=\"128056\">\r\n",
                    "output_type": "stream"
                },
                {
                    "name": "stdout",
                    "text": "                         <executionStack>\r\n",
                    "output_type": "stream"
                },
                {
                    "name": "stdout",
                    "text": "                          <frame line=\"1\" stmtstart=\"50\" stmtend=\"118\" sqlhandle=\"0x0200000063af712cea55c1869648af9320db665bd95ed8420000000000000000000000000000000000000000\"/>\r\n",
                    "output_type": "stream"
                },
                {
                    "name": "stdout",
                    "text": "                         </executionStack>\r\n",
                    "output_type": "stream"
                },
                {
                    "name": "stdout",
                    "text": "                         <inputbuf>\r\n",
                    "output_type": "stream"
                },
                {
                    "name": "stdout",
                    "text": "                      WAITFOR DELAY &apos;00:00:01&apos;;SELECT TOP 1 * FROM [dbo].[authors]   </inputbuf>\r\n",
                    "output_type": "stream"
                },
                {
                    "name": "stdout",
                    "text": "                        </process>\r\n",
                    "output_type": "stream"
                },
                {
                    "name": "stdout",
                    "text": "                       </blocked-process>\r\n",
                    "output_type": "stream"
                },
                {
                    "name": "stdout",
                    "text": "                       <blocking-process>\r\n",
                    "output_type": "stream"
                },
                {
                    "name": "stdout",
                    "text": "                        <process status=\"suspended\" waittime=\"9114\" spid=\"108\" sbid=\"0\" ecid=\"0\" priority=\"0\" trancount=\"1\" lastbatchstarted=\"2021-08-06T11:41:41.033\" lastbatchcompleted=\"2021-08-06T11:41:41.033\" lastattention=\"2021-08-06T11:41:41.030\" clientapp=\"dbatools PowerShell module - dbatools.io\" hostname=\"BEARD-DESKTOP\" hostpid=\"34072\" loginname=\"sqladmin\" isolationlevel=\"read committed (2)\" xactid=\"114831\" currentdb=\"5\" currentdbname=\"pubs\" lockTimeout=\"4294967295\" \r\n",
                    "output_type": "stream"
                },
                {
                    "name": "stdout",
                    "text": "                      clientoption1=\"671088672\" clientoption2=\"128056\">\r\n",
                    "output_type": "stream"
                },
                {
                    "name": "stdout",
                    "text": "                         <executionStack>\r\n",
                    "output_type": "stream"
                },
                {
                    "name": "stdout",
                    "text": "                          <frame line=\"4\" stmtstart=\"162\" stmtend=\"238\" sqlhandle=\"0x020000000dd61d0004676fc789fb17167e77d298f9dec9a00000000000000000000000000000000000000000\"/>\r\n",
                    "output_type": "stream"
                },
                {
                    "name": "stdout",
                    "text": "                         </executionStack>\r\n",
                    "output_type": "stream"
                },
                {
                    "name": "stdout",
                    "text": "                         <inputbuf>\r\n",
                    "output_type": "stream"
                },
                {
                    "name": "stdout",
                    "text": "                      \r\n",
                    "output_type": "stream"
                },
                {
                    "name": "stdout",
                    "text": "                      BEGIN TRANSACTION\r\n",
                    "output_type": "stream"
                },
                {
                    "name": "stdout",
                    "text": "                        SELECT * FROM [dbo].[authors] WITH (TABLOCKX, HOLDLOCK)\r\n",
                    "output_type": "stream"
                },
                {
                    "name": "stdout",
                    "text": "                          WAITFOR DELAY &apos;00:00:59&apos; -- 30 seconds\r\n",
                    "output_type": "stream"
                },
                {
                    "name": "stdout",
                    "text": "                      ROLLBACK TRANSACTION\r\n",
                    "output_type": "stream"
                },
                {
                    "name": "stdout",
                    "text": "                         </inputbuf>\r\n",
                    "output_type": "stream"
                },
                {
                    "name": "stdout",
                    "text": "                        </process>\r\n",
                    "output_type": "stream"
                },
                {
                    "name": "stdout",
                    "text": "                       </blocking-process>\r\n",
                    "output_type": "stream"
                },
                {
                    "name": "stdout",
                    "text": "                      </blocked-process-report>\r\n",
                    "output_type": "stream"
                },
                {
                    "name": "stdout",
                    "text": "                      \r\n",
                    "output_type": "stream"
                },
                {
                    "name": "stdout",
                    "text": "database_name       : pubs\r\n",
                    "output_type": "stream"
                },
                {
                    "name": "stdout",
                    "text": "\r\n",
                    "output_type": "stream"
                },
                {
                    "name": "stdout",
                    "text": "\r\n",
                    "output_type": "stream"
                }
            ],
            "execution_count": 12
        },
        {
            "cell_type": "markdown",
            "source": [
                "We could even put them in a database using \n",
                "\n",
                "`$BlockedProcesses | Write-DbaDataTable -SqlInstance $SQL1 -Database tempdb -Table BlockedProcess -AutoCreateTable`\n",
                "\n",
                "or an Excel File with ImportExcel, Email, Word Document, back to XML, into Azure etc etc"
            ],
            "metadata": {
                "azdata_cell_guid": "238224ef-be64-4990-9b45-496f9c84fde9"
            }
        },
        {
            "cell_type": "markdown",
            "source": [
                "# New Extended Events\n",
                "\n",
                "OK thats all very well and good, I can see, start, stop, watch, read the files with dbatools but I want to create a new one. dbatools has you covered.\n",
                "\n",
                "We have templates built in from Microsoft and Community members like Erin Stellato, Jes Borland, Ola Hallengren and more (Thank you all very much for this )"
            ],
            "metadata": {
                "azdata_cell_guid": "dc56ee81-c03a-4229-b3b3-8aeebab3f3db"
            }
        },
        {
            "cell_type": "code",
            "source": [
                "Get-DbaXESessionTemplate  | Select Category, Compatibility , Name, Source"
            ],
            "metadata": {
                "azdata_cell_guid": "75c39f15-7307-408c-a6bb-95a3f7034b79"
            },
            "outputs": [
                {
                    "name": "stdout",
                    "text": "\r\n",
                    "output_type": "stream"
                },
                {
                    "name": "stdout",
                    "text": "Category                 Compatibility Name                           Source\r\n",
                    "output_type": "stream"
                },
                {
                    "name": "stdout",
                    "text": "--------                 ------------- ----                           ------\r\n",
                    "output_type": "stream"
                },
                {
                    "name": "stdout",
                    "text": "Everyday Extended Events 2012          15 Second IO Error             Jes Borland\r\n",
                    "output_type": "stream"
                },
                {
                    "name": "stdout",
                    "text": "System Monitoring        2012          Activity Detail Tracking       Microsoft\r\n",
                    "output_type": "stream"
                },
                {
                    "name": "stdout",
                    "text": "System Monitoring        2014          Activity Tracking              Microsoft\r\n",
                    "output_type": "stream"
                },
                {
                    "name": "stdout",
                    "text": "System Monitoring        2014          AlwaysOn Health Enhanced       Jonathan Kehayias\r\n",
                    "output_type": "stream"
                },
                {
                    "name": "stdout",
                    "text": "System Monitoring        2012          Blocked Process Report         Erin Stellato\r\n",
                    "output_type": "stream"
                },
                {
                    "name": "stdout",
                    "text": "System Monitoring        2012          Connection Detail Tracking     Microsoft\r\n",
                    "output_type": "stream"
                },
                {
                    "name": "stdout",
                    "text": "System Monitoring        2012          Connection Tracking            Microsoft\r\n",
                    "output_type": "stream"
                },
                {
                    "name": "stdout",
                    "text": "Locks and Blocks         2012          Count Query Locks              Microsoft\r\n",
                    "output_type": "stream"
                },
                {
                    "name": "stdout",
                    "text": "Everyday Extended Events 2012          Database File I/O              Jes Borland\r\n",
                    "output_type": "stream"
                },
                {
                    "name": "stdout",
                    "text": "Performance Store        2012          Database Health 2012           Ola Hallengren\r\n",
                    "output_type": "stream"
                },
                {
                    "name": "stdout",
                    "text": "Performance Store        2014          Database Health 2014           Ola Hallengren\r\n",
                    "output_type": "stream"
                },
                {
                    "name": "stdout",
                    "text": "Performance Store        2016          Database Health 2016 and Above Ola Hallengren\r\n",
                    "output_type": "stream"
                },
                {
                    "name": "stdout",
                    "text": "Everyday Extended Events 2014          Deadlock Graphs                Jes Borland\r\n",
                    "output_type": "stream"
                },
                {
                    "name": "stdout",
                    "text": "System Monitoring        2012          Default Profiler Trace         Chrissy LeMaire\r\n",
                    "output_type": "stream"
                },
                {
                    "name": "stdout",
                    "text": "Features                 2012          Deprecated Feature Usage       Christian Gräfe\r\n",
                    "output_type": "stream"
                },
                {
                    "name": "stdout",
                    "text": "Query Execution          2012          Failing Queries                Sander Stad\r\n",
                    "output_type": "stream"
                },
                {
                    "name": "stdout",
                    "text": "Everyday Extended Events 2012          Function Executions            Jes Borland\r\n",
                    "output_type": "stream"
                },
                {
                    "name": "stdout",
                    "text": "Everyday Extended Events 2012          Index Page Splits              Jes Borland\r\n",
                    "output_type": "stream"
                },
                {
                    "name": "stdout",
                    "text": "System Monitoring        2012          Log File IO Detail Tracking    Microsoft\r\n",
                    "output_type": "stream"
                },
                {
                    "name": "stdout",
                    "text": "System Monitoring        2012          Log File IO Tracking           Microsoft\r\n",
                    "output_type": "stream"
                },
                {
                    "name": "stdout",
                    "text": "System Monitoring        2012          Login Tracker                  Chrissy LeMaire\r\n",
                    "output_type": "stream"
                },
                {
                    "name": "stdout",
                    "text": "Query Execution          2012          Long Running Queries           Peter Schott\r\n",
                    "output_type": "stream"
                },
                {
                    "name": "stdout",
                    "text": "Performance Store        2012          Overly Complex Queries         Pétur Grétarsson\r\n",
                    "output_type": "stream"
                },
                {
                    "name": "stdout",
                    "text": "Profiler Equivalents     2012          Profiler SP Counts             Microsoft\r\n",
                    "output_type": "stream"
                },
                {
                    "name": "stdout",
                    "text": "Profiler Equivalents     2012          Profiler Standard              Microsoft\r\n",
                    "output_type": "stream"
                },
                {
                    "name": "stdout",
                    "text": "Profiler Equivalents     2012          Profiler TSQL Duration         Microsoft\r\n",
                    "output_type": "stream"
                },
                {
                    "name": "stdout",
                    "text": "Profiler Equivalents     2012          Profiler TSQL Locks            Microsoft\r\n",
                    "output_type": "stream"
                },
                {
                    "name": "stdout",
                    "text": "Profiler Equivalents     2012          Profiler TSQL Replay           Microsoft\r\n",
                    "output_type": "stream"
                },
                {
                    "name": "stdout",
                    "text": "Profiler Equivalents     2012          Profiler TSQL SPs              Microsoft\r\n",
                    "output_type": "stream"
                },
                {
                    "name": "stdout",
                    "text": "Profiler Equivalents     2012          Profiler TSQL                  Microsoft\r\n",
                    "output_type": "stream"
                },
                {
                    "name": "stdout",
                    "text": "Profiler Equivalents     2012          Profiler Tuning                Microsoft\r\n",
                    "output_type": "stream"
                },
                {
                    "name": "stdout",
                    "text": "Everyday Extended Events 2012          Queries and Resources          Jes Borland\r\n",
                    "output_type": "stream"
                },
                {
                    "name": "stdout",
                    "text": "Query Execution          2012          Query Batch Detail Sampling    Microsoft\r\n",
                    "output_type": "stream"
                },
                {
                    "name": "stdout",
                    "text": "Query Execution          2012          Query Batch Sampling           Microsoft\r\n",
                    "output_type": "stream"
                },
                {
                    "name": "stdout",
                    "text": "Query Execution          2012          Query Batch Tracking           Microsoft\r\n",
                    "output_type": "stream"
                },
                {
                    "name": "stdout",
                    "text": "Query Execution          2012          Query Detail Sampling          Microsoft\r\n",
                    "output_type": "stream"
                },
                {
                    "name": "stdout",
                    "text": "Query Execution          2012          Query Detail Tracking          Microsoft\r\n",
                    "output_type": "stream"
                },
                {
                    "name": "stdout",
                    "text": "Query Execution          2012          Query Timeouts                 Christian Gräfe\r\n",
                    "output_type": "stream"
                },
                {
                    "name": "stdout",
                    "text": "Query Execution          2012          Query Wait Statistics Detail   Microsoft\r\n",
                    "output_type": "stream"
                },
                {
                    "name": "stdout",
                    "text": "Everyday Extended Events 2014          Query Wait Statistics          Jes Borland\r\n",
                    "output_type": "stream"
                },
                {
                    "name": "stdout",
                    "text": "Everyday Extended Events 2012          Stored Procedure Parameters    Jes Borland\r\n",
                    "output_type": "stream"
                },
                {
                    "name": "stdout",
                    "text": "\r\n",
                    "output_type": "stream"
                }
            ],
            "execution_count": 13
        },
        {
            "cell_type": "markdown",
            "source": [
                "You can see exactly what it will do"
            ],
            "metadata": {
                "azdata_cell_guid": "fca4cc90-67b1-4cfa-90b1-72a3809e3f43"
            }
        },
        {
            "cell_type": "code",
            "source": [
                "Get-DbaXESessionTemplate -Template 'Blocked Process Report'"
            ],
            "metadata": {
                "azdata_cell_guid": "13dbe882-e173-4d7d-90ae-5218e4e83f20"
            },
            "outputs": [
                {
                    "name": "stdout",
                    "text": "\r\n",
                    "output_type": "stream"
                },
                {
                    "name": "stdout",
                    "text": "Category      : System Monitoring\r\n",
                    "output_type": "stream"
                },
                {
                    "name": "stdout",
                    "text": "Compatibility : 2012\r\n",
                    "output_type": "stream"
                },
                {
                    "name": "stdout",
                    "text": "Description   : Captures the blocked process report. In order to capture a blocked process report, you must have the blocked process threshold system configuration option enabled (To capture blocking processes, configure blocked threshold (Set-DbaSpConfigure -SqlInstance sql2017 -ConfigName BlockedProcessThreshold -Value 5). \r\n",
                    "output_type": "stream"
                },
                {
                    "name": "stdout",
                    "text": "Name          : Blocked Process Report\r\n",
                    "output_type": "stream"
                },
                {
                    "name": "stdout",
                    "text": "Source        : Erin Stellato\r\n",
                    "output_type": "stream"
                },
                {
                    "name": "stdout",
                    "text": "\r\n",
                    "output_type": "stream"
                },
                {
                    "name": "stdout",
                    "text": "\r\n",
                    "output_type": "stream"
                }
            ],
            "execution_count": 14
        },
        {
            "cell_type": "markdown",
            "source": [
                "So you can pick a ready made session and add it to your instance easily. Again, notebooks dont like the XE.dlls for some reason so we have to open a Windows PowerShell Session"
            ],
            "metadata": {
                "azdata_cell_guid": "a09effab-24d0-4c05-943d-8b3e2daadbae"
            }
        },
        {
            "cell_type": "code",
            "source": [
                " ## When PowerShell opens - right click to paste the command\n",
                "# \n",
                "## the password is dbatools.IO\n",
                "\" Import-DbaXESessionTemplate -SqlInstance 'localhost,15592' -SqlCredential sqladmin -Template 'Index Page Splits'\" | clip\n",
                "\n",
                "Start-Process 'C:\\Windows\\system32\\WindowsPowerShell\\v1.0\\powershell.exe'"
            ],
            "metadata": {
                "azdata_cell_guid": "426d29ad-e02d-4838-9c24-047846406ab1"
            },
            "outputs": [],
            "execution_count": null
        },
        {
            "cell_type": "markdown",
            "source": [
                "If we look at the instance for that session"
            ],
            "metadata": {
                "azdata_cell_guid": "fe837248-5690-4d4a-b5ad-15076399d43d"
            }
        },
        {
            "cell_type": "code",
            "source": [
                "Get-DbaXESession -SqlInstance $SQL1 -Session 'Index Page Splits'"
            ],
            "metadata": {
                "azdata_cell_guid": "f7e00afc-54d5-406b-99b7-9ca881edf0ba"
            },
            "outputs": [],
            "execution_count": null
        },
        {
            "cell_type": "code",
            "source": [
                "Get-DbaTrace -SqlInstance $sql1 # | Out-GridView -PassThru | ConvertTo-DbaXESession -Name 'Test' | Start-DbaXESession"
            ],
            "metadata": {
                "azdata_cell_guid": "edfb7296-24ad-41df-8356-c7ddb0448df2"
            },
            "outputs": [],
            "execution_count": null
        },
        {
            "cell_type": "markdown",
            "source": [
                "There is so much more that dbatools can do with Extended Events take a look at Chrissy and Gianluca's presentation from SQL Bits\n",
                "\n",
                "Video - https://sqlbits.com/Sessions/Event17/Simplifying_XEvents_Management_with_dbatools  \n",
                "Code - https://github.com/sqlcollaborative/community-presentations/tree/master/chrissy-lemaire-gianluca-sartori/bits-xevents"
            ],
            "metadata": {
                "azdata_cell_guid": "789a20b3-332e-46f2-8b26-e1aa38222495"
            }
        },
        {
            "cell_type": "markdown",
            "source": [
                "# Clean Up\n",
                "\n",
                "The 99-CleanUpContainers notebook will remove the containers, files and directory - it will leave the image so you do not have to download it again!"
            ],
            "metadata": {
                "azdata_cell_guid": "9123ed03-df78-43d0-90ae-ca5ed227050f"
            }
        },
        {
            "cell_type": "code",
            "source": [],
            "metadata": {
                "azdata_cell_guid": "5dc9bb7b-17d1-40a0-9289-7f6ad11f675f"
            },
            "outputs": [],
            "execution_count": null
        }
    ]
}