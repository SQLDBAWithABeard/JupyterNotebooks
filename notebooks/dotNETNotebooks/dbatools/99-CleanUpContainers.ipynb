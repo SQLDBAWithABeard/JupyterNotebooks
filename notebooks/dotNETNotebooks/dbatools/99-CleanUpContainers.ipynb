{
    "metadata": {
        "kernelspec": {
            "name": ".net-powershell",
            "display_name": ".NET (PowerShell)",
            "language": "PowerShell"
        },
        "language_info": {
            "name": "PowerShell",
            "version": "7.0",
            "mimetype": "text/x-powershell",
            "file_extension": ".ps1",
            "pygments_lexer": "powershell"
        }
    },
    "nbformat_minor": 2,
    "nbformat": 4,
    "cells": [
        {
            "cell_type": "markdown",
            "source": [
                "# Cleaning up the containers and directories and files\n",
                "\n",
                "The code below will clean up the files that have been created and remove the docker containers but not the image so that you can run this notebook again without having to download the image again"
            ],
            "metadata": {
                "azdata_cell_guid": "bf39922e-c732-4c24-8630-1694d703c50e"
            }
        },
        {
            "cell_type": "code",
            "source": [
                "$FolderPath = $Env:USERPROFILE + '\\Documents\\dbatoolsdemo'\n",
                "Write-Output \"Removing containers\"\n",
                "\n",
                "    $NotebookDir = Read-Host \"Please enter path to the notebook. Azure Data Studio doesnt know where it is\"\n",
                "    Set-Location $NotebookDir\n",
                "    docker-compose down \n",
                "\n",
                "\n",
                "Write-Output \"Removing directories and files\"\n",
                "Remove-Item $FolderPath -Recurse -Force\n",
                "Write-Output \"Removed everything\"\n",
                ""
            ],
            "metadata": {
                "azdata_cell_guid": "45750e3c-b1a5-430f-b79c-d85430564841"
            },
            "outputs": [
                {
                    "name": "stdout",
                    "text": "Removing containers\r\n",
                    "output_type": "stream"
                },
                {
                    "name": "stdout",
                    "text": "Stopping beardsql01 ... \r\n",
                    "output_type": "stream"
                },
                {
                    "name": "stdout",
                    "text": "\r\n",
                    "output_type": "stream"
                },
                {
                    "name": "stdout",
                    "text": "Stopping beardsql02 ... \r\n",
                    "output_type": "stream"
                },
                {
                    "name": "stdout",
                    "text": "\r\n",
                    "output_type": "stream"
                },
                {
                    "name": "stdout",
                    "text": "\u001b[2A\u001b[2K\r\n",
                    "output_type": "stream"
                },
                {
                    "name": "stdout",
                    "text": "Stopping beardsql01 ... \u001b[32mdone\u001b[0m\r\n",
                    "output_type": "stream"
                },
                {
                    "name": "stdout",
                    "text": "\u001b[2B\u001b[1A\u001b[2K\r\n",
                    "output_type": "stream"
                },
                {
                    "name": "stdout",
                    "text": "Stopping beardsql02 ... \u001b[32mdone\u001b[0m\r\n",
                    "output_type": "stream"
                },
                {
                    "name": "stdout",
                    "text": "\u001b[1BRemoving beardsql01 ... \r\n",
                    "output_type": "stream"
                },
                {
                    "name": "stdout",
                    "text": "\r\n",
                    "output_type": "stream"
                },
                {
                    "name": "stdout",
                    "text": "Removing beardsql02 ... \r\n",
                    "output_type": "stream"
                },
                {
                    "name": "stdout",
                    "text": "\r\n",
                    "output_type": "stream"
                },
                {
                    "name": "stdout",
                    "text": "\u001b[1A\u001b[2K\r\n",
                    "output_type": "stream"
                },
                {
                    "name": "stdout",
                    "text": "Removing beardsql02 ... \u001b[32mdone\u001b[0m\r\n",
                    "output_type": "stream"
                },
                {
                    "name": "stdout",
                    "text": "\u001b[1B\u001b[2A\u001b[2K\r\n",
                    "output_type": "stream"
                },
                {
                    "name": "stdout",
                    "text": "Removing beardsql01 ... \u001b[32mdone\u001b[0m\r\n",
                    "output_type": "stream"
                },
                {
                    "name": "stdout",
                    "text": "\u001b[2BRemoving network dbatools_BeardsMagicNetwork\r\n",
                    "output_type": "stream"
                },
                {
                    "name": "stdout",
                    "text": "Removing directories and files\r\n",
                    "output_type": "stream"
                },
                {
                    "name": "stdout",
                    "text": "Removed everything\r\n",
                    "output_type": "stream"
                }
            ],
            "execution_count": 1
        },
        {
            "cell_type": "code",
            "source": [
                "docker ps -a"
            ],
            "metadata": {
                "azdata_cell_guid": "06243d1c-1e53-4a2a-9cae-47c6934eb20c"
            },
            "outputs": [
                {
                    "name": "stdout",
                    "text": "CONTAINER ID        IMAGE               COMMAND             CREATED             STATUS              PORTS               NAMES\r\n",
                    "output_type": "stream"
                }
            ],
            "execution_count": 2
        },
        {
            "cell_type": "code",
            "source": [],
            "metadata": {
                "azdata_cell_guid": "996a4a76-17b3-4e4f-8fdb-fa560b21f238"
            },
            "outputs": [],
            "execution_count": null
        },
        {
            "cell_type": "code",
            "source": [],
            "metadata": {
                "azdata_cell_guid": "5fca1884-f586-49fa-a314-65c111e7cdb3"
            },
            "outputs": [],
            "execution_count": null
        }
    ]
}