{
  "metadata": {
    "kernelspec": {
      "name": ".net-powershell",
      "display_name": ".NET (PowerShell)",
      "language": "PowerShell"
    },
    "language_info": {
      "name": "PowerShell",
      "mimetype": "text/x-powershell",
      "file_extension": ".ps1",
      "version": "7.0",
      "pygments_lexer": "powershell"
    }
  },
  "nbformat_minor": 2,
  "nbformat": 4,
  "cells": [
    {
      "cell_type": "markdown",
      "source": [
        "# Cleaning up the containers and directories and files\n",
        "\n",
        "The code below will clean up the files that have been created and remove the docker containers but not the image so that you can run the notebooks again without having to download the image again"
      ],
      "metadata": {
        "azdata_cell_guid": "bf39922e-c732-4c24-8630-1694d703c50e"
      },
      "attachments": {}
    },
    {
      "cell_type": "code",
      "source": [
        "$FolderPath = $Env:USERPROFILE + '\\Documents\\dbatoolsdemo'\n",
        "Write-Output \"Removing containers\"\n",
        "\n",
        "    $NotebookDir = Read-Host \"Please enter path to the notebook. Azure Data Studio doesnt know where it is\"\n",
        "    Set-Location $NotebookDir\n",
        "    docker-compose down \n",
        "\n",
        "\n",
        "Write-Output \"Removing directories and files\"\n",
        "Remove-Item $FolderPath -Recurse -Force\n",
        "Write-Output \"Removed everything\"\n",
        ""
      ],
      "metadata": {
        "azdata_cell_guid": "45750e3c-b1a5-430f-b79c-d85430564841"
      },
      "outputs": [],
      "execution_count": null
    },
    {
      "cell_type": "code",
      "source": [
        "docker ps -a"
      ],
      "metadata": {
        "azdata_cell_guid": "06243d1c-1e53-4a2a-9cae-47c6934eb20c"
      },
      "outputs": [],
      "execution_count": null
    }
  ]
}
